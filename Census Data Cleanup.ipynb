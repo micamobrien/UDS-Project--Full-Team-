{
 "cells": [
  {
   "cell_type": "markdown",
   "id": "3f829622",
   "metadata": {},
   "source": [
    "# Creating a Working Dataset for Clustering"
   ]
  },
  {
   "cell_type": "markdown",
   "id": "19892e04",
   "metadata": {},
   "source": [
    "In this notebook, I prepare and refine the dataset I will use for clustering. I clean and merge the Urban Displacement Project's SCAG region dataset to LA Times neighborhood boundary data, isoalte our 6 neighborhods of interest (Westlake, Koreatown, Pico-Union, Downtown, Echo Park, and Silver Lake), and match census tracts with census data. I calculate percent change in household size, income, rent, percent of population with bachelor's degree and above, and percent of white population using census data, which are indicators used by the City of LA to determine displacement risk in this dataset:https://geohub.lacity.org/maps/70ed646893f642ddbca858c381471fa2. We update the City of LA's displacement risk indicators, looking at percent change between 2010 and 2020. "
   ]
  },
  {
   "cell_type": "markdown",
   "id": "313cdaff",
   "metadata": {},
   "source": [
    "## Merging Neighborhood Indicators and Neighborhood Boundary Data"
   ]
  },
  {
   "cell_type": "markdown",
   "id": "6b49d72c",
   "metadata": {},
   "source": [
    "First, I read in the Urban Displacement project gentrification typology data and merge it with LA neighborhood boundary data. This allows me to contextualize each census tract within a neighborhood. We start with 4553 census tracts across the SCAG region. After matching with the neighborhood boundary data, we are left with 1992 census tracts within the City of LA. "
   ]
  },
  {
   "cell_type": "code",
   "execution_count": 1276,
   "id": "f963f50e",
   "metadata": {},
   "outputs": [
    {
     "data": {
      "text/html": [
       "<div>\n",
       "<style scoped>\n",
       "    .dataframe tbody tr th:only-of-type {\n",
       "        vertical-align: middle;\n",
       "    }\n",
       "\n",
       "    .dataframe tbody tr th {\n",
       "        vertical-align: top;\n",
       "    }\n",
       "\n",
       "    .dataframe thead th {\n",
       "        text-align: right;\n",
       "    }\n",
       "</style>\n",
       "<table border=\"1\" class=\"dataframe\">\n",
       "  <thead>\n",
       "    <tr style=\"text-align: right;\">\n",
       "      <th></th>\n",
       "      <th>GEOID</th>\n",
       "      <th>Typology</th>\n",
       "      <th>geometry</th>\n",
       "    </tr>\n",
       "  </thead>\n",
       "  <tbody>\n",
       "    <tr>\n",
       "      <th>0</th>\n",
       "      <td>6.037129e+09</td>\n",
       "      <td>Stable Moderate/Mixed Income</td>\n",
       "      <td>MULTIPOLYGON (((-118.44870 34.16486, -118.4399...</td>\n",
       "    </tr>\n",
       "    <tr>\n",
       "      <th>1</th>\n",
       "      <td>6.037132e+09</td>\n",
       "      <td>Stable Moderate/Mixed Income</td>\n",
       "      <td>MULTIPOLYGON (((-118.55355 34.22046, -118.5461...</td>\n",
       "    </tr>\n",
       "    <tr>\n",
       "      <th>2</th>\n",
       "      <td>6.037134e+09</td>\n",
       "      <td>At Risk of Becoming Exclusive</td>\n",
       "      <td>MULTIPOLYGON (((-118.57103 34.21559, -118.5710...</td>\n",
       "    </tr>\n",
       "    <tr>\n",
       "      <th>3</th>\n",
       "      <td>6.037134e+09</td>\n",
       "      <td>Advanced Gentrification</td>\n",
       "      <td>MULTIPOLYGON (((-118.60590 34.21966, -118.6058...</td>\n",
       "    </tr>\n",
       "    <tr>\n",
       "      <th>4</th>\n",
       "      <td>6.037242e+09</td>\n",
       "      <td>Low-Income/Susceptible to Displacement</td>\n",
       "      <td>MULTIPOLYGON (((-118.25364 33.94328, -118.2491...</td>\n",
       "    </tr>\n",
       "    <tr>\n",
       "      <th>...</th>\n",
       "      <td>...</td>\n",
       "      <td>...</td>\n",
       "      <td>...</td>\n",
       "    </tr>\n",
       "    <tr>\n",
       "      <th>4548</th>\n",
       "      <td>6.037920e+09</td>\n",
       "      <td>At Risk of Becoming Exclusive</td>\n",
       "      <td>MULTIPOLYGON (((-118.47445 34.43330, -118.4683...</td>\n",
       "    </tr>\n",
       "    <tr>\n",
       "      <th>4549</th>\n",
       "      <td>6.037542e+09</td>\n",
       "      <td>Low-Income/Susceptible to Displacement</td>\n",
       "      <td>MULTIPOLYGON (((-118.19843 33.91057, -118.1987...</td>\n",
       "    </tr>\n",
       "    <tr>\n",
       "      <th>4550</th>\n",
       "      <td>6.111004e+09</td>\n",
       "      <td>Ongoing Displacement</td>\n",
       "      <td>MULTIPOLYGON (((-119.20831 34.18122, -119.2045...</td>\n",
       "    </tr>\n",
       "    <tr>\n",
       "      <th>4551</th>\n",
       "      <td>6.065045e+09</td>\n",
       "      <td>Low-Income/Susceptible to Displacement</td>\n",
       "      <td>MULTIPOLYGON (((-116.49298 33.81588, -116.4928...</td>\n",
       "    </tr>\n",
       "    <tr>\n",
       "      <th>4552</th>\n",
       "      <td>6.037124e+09</td>\n",
       "      <td>At Risk of Becoming Exclusive</td>\n",
       "      <td>MULTIPOLYGON (((-118.41408 34.17662, -118.4137...</td>\n",
       "    </tr>\n",
       "  </tbody>\n",
       "</table>\n",
       "<p>4553 rows × 3 columns</p>\n",
       "</div>"
      ],
      "text/plain": [
       "             GEOID                                Typology  \\\n",
       "0     6.037129e+09            Stable Moderate/Mixed Income   \n",
       "1     6.037132e+09            Stable Moderate/Mixed Income   \n",
       "2     6.037134e+09           At Risk of Becoming Exclusive   \n",
       "3     6.037134e+09                 Advanced Gentrification   \n",
       "4     6.037242e+09  Low-Income/Susceptible to Displacement   \n",
       "...            ...                                     ...   \n",
       "4548  6.037920e+09           At Risk of Becoming Exclusive   \n",
       "4549  6.037542e+09  Low-Income/Susceptible to Displacement   \n",
       "4550  6.111004e+09                    Ongoing Displacement   \n",
       "4551  6.065045e+09  Low-Income/Susceptible to Displacement   \n",
       "4552  6.037124e+09           At Risk of Becoming Exclusive   \n",
       "\n",
       "                                               geometry  \n",
       "0     MULTIPOLYGON (((-118.44870 34.16486, -118.4399...  \n",
       "1     MULTIPOLYGON (((-118.55355 34.22046, -118.5461...  \n",
       "2     MULTIPOLYGON (((-118.57103 34.21559, -118.5710...  \n",
       "3     MULTIPOLYGON (((-118.60590 34.21966, -118.6058...  \n",
       "4     MULTIPOLYGON (((-118.25364 33.94328, -118.2491...  \n",
       "...                                                 ...  \n",
       "4548  MULTIPOLYGON (((-118.47445 34.43330, -118.4683...  \n",
       "4549  MULTIPOLYGON (((-118.19843 33.91057, -118.1987...  \n",
       "4550  MULTIPOLYGON (((-119.20831 34.18122, -119.2045...  \n",
       "4551  MULTIPOLYGON (((-116.49298 33.81588, -116.4928...  \n",
       "4552  MULTIPOLYGON (((-118.41408 34.17662, -118.4137...  \n",
       "\n",
       "[4553 rows x 3 columns]"
      ]
     },
     "execution_count": 1276,
     "metadata": {},
     "output_type": "execute_result"
    }
   ],
   "source": [
    "import pandas as pd\n",
    "import geopandas as gpd\n",
    "\n",
    "df = gpd.read_file('Data/scag-Copy1.gpkg')\n",
    "df"
   ]
  },
  {
   "cell_type": "code",
   "execution_count": 1277,
   "id": "9be73e1e",
   "metadata": {},
   "outputs": [
    {
     "data": {
      "text/plain": [
       "(4553, 3)"
      ]
     },
     "execution_count": 1277,
     "metadata": {},
     "output_type": "execute_result"
    }
   ],
   "source": [
    "df.shape"
   ]
  },
  {
   "cell_type": "code",
   "execution_count": 1278,
   "id": "4412a19f",
   "metadata": {},
   "outputs": [
    {
     "data": {
      "text/plain": [
       "geopandas.geodataframe.GeoDataFrame"
      ]
     },
     "execution_count": 1278,
     "metadata": {},
     "output_type": "execute_result"
    }
   ],
   "source": [
    "type(df)"
   ]
  },
  {
   "cell_type": "code",
   "execution_count": 1279,
   "id": "352cf747",
   "metadata": {},
   "outputs": [],
   "source": [
    "neighborhoods = gpd.read_file('Data/LA_Times_Neighborhood_Boundaries (1)-Copy1.geojson')"
   ]
  },
  {
   "cell_type": "code",
   "execution_count": 1280,
   "id": "12b21648",
   "metadata": {},
   "outputs": [
    {
     "data": {
      "text/html": [
       "<div>\n",
       "<style scoped>\n",
       "    .dataframe tbody tr th:only-of-type {\n",
       "        vertical-align: middle;\n",
       "    }\n",
       "\n",
       "    .dataframe tbody tr th {\n",
       "        vertical-align: top;\n",
       "    }\n",
       "\n",
       "    .dataframe thead th {\n",
       "        text-align: right;\n",
       "    }\n",
       "</style>\n",
       "<table border=\"1\" class=\"dataframe\">\n",
       "  <thead>\n",
       "    <tr style=\"text-align: right;\">\n",
       "      <th></th>\n",
       "      <th>OBJECTID</th>\n",
       "      <th>name</th>\n",
       "      <th>geometry</th>\n",
       "      <th>index_right</th>\n",
       "      <th>GEOID</th>\n",
       "      <th>Typology</th>\n",
       "    </tr>\n",
       "  </thead>\n",
       "  <tbody>\n",
       "    <tr>\n",
       "      <th>0</th>\n",
       "      <td>1</td>\n",
       "      <td>Adams-Normandie</td>\n",
       "      <td>POLYGON ((-118.30069 34.03731, -118.30388 34.0...</td>\n",
       "      <td>692</td>\n",
       "      <td>6.037222e+09</td>\n",
       "      <td>High Student Population</td>\n",
       "    </tr>\n",
       "    <tr>\n",
       "      <th>31</th>\n",
       "      <td>32</td>\n",
       "      <td>Exposition Park</td>\n",
       "      <td>POLYGON ((-118.29155 34.01837, -118.28294 34.0...</td>\n",
       "      <td>692</td>\n",
       "      <td>6.037222e+09</td>\n",
       "      <td>High Student Population</td>\n",
       "    </tr>\n",
       "    <tr>\n",
       "      <th>93</th>\n",
       "      <td>94</td>\n",
       "      <td>University Park</td>\n",
       "      <td>POLYGON ((-118.27986 34.01848, -118.28294 34.0...</td>\n",
       "      <td>692</td>\n",
       "      <td>6.037222e+09</td>\n",
       "      <td>High Student Population</td>\n",
       "    </tr>\n",
       "    <tr>\n",
       "      <th>0</th>\n",
       "      <td>1</td>\n",
       "      <td>Adams-Normandie</td>\n",
       "      <td>POLYGON ((-118.30069 34.03731, -118.30388 34.0...</td>\n",
       "      <td>4033</td>\n",
       "      <td>6.037222e+09</td>\n",
       "      <td>Early/Ongoing Gentrification</td>\n",
       "    </tr>\n",
       "    <tr>\n",
       "      <th>0</th>\n",
       "      <td>1</td>\n",
       "      <td>Adams-Normandie</td>\n",
       "      <td>POLYGON ((-118.30069 34.03731, -118.30388 34.0...</td>\n",
       "      <td>81</td>\n",
       "      <td>6.037222e+09</td>\n",
       "      <td>Advanced Gentrification</td>\n",
       "    </tr>\n",
       "    <tr>\n",
       "      <th>...</th>\n",
       "      <td>...</td>\n",
       "      <td>...</td>\n",
       "      <td>...</td>\n",
       "      <td>...</td>\n",
       "      <td>...</td>\n",
       "      <td>...</td>\n",
       "    </tr>\n",
       "    <tr>\n",
       "      <th>112</th>\n",
       "      <td>113</td>\n",
       "      <td>Woodland Hills</td>\n",
       "      <td>POLYGON ((-118.57240 34.18668, -118.57161 34.1...</td>\n",
       "      <td>4256</td>\n",
       "      <td>6.037138e+09</td>\n",
       "      <td>Stable/Advanced Exclusive</td>\n",
       "    </tr>\n",
       "    <tr>\n",
       "      <th>112</th>\n",
       "      <td>113</td>\n",
       "      <td>Woodland Hills</td>\n",
       "      <td>POLYGON ((-118.57240 34.18668, -118.57161 34.1...</td>\n",
       "      <td>1331</td>\n",
       "      <td>6.037137e+09</td>\n",
       "      <td>Stable Moderate/Mixed Income</td>\n",
       "    </tr>\n",
       "    <tr>\n",
       "      <th>112</th>\n",
       "      <td>113</td>\n",
       "      <td>Woodland Hills</td>\n",
       "      <td>POLYGON ((-118.57240 34.18668, -118.57161 34.1...</td>\n",
       "      <td>669</td>\n",
       "      <td>6.037137e+09</td>\n",
       "      <td>Stable/Advanced Exclusive</td>\n",
       "    </tr>\n",
       "    <tr>\n",
       "      <th>112</th>\n",
       "      <td>113</td>\n",
       "      <td>Woodland Hills</td>\n",
       "      <td>POLYGON ((-118.57240 34.18668, -118.57161 34.1...</td>\n",
       "      <td>33</td>\n",
       "      <td>6.037137e+09</td>\n",
       "      <td>At Risk of Becoming Exclusive</td>\n",
       "    </tr>\n",
       "    <tr>\n",
       "      <th>112</th>\n",
       "      <td>113</td>\n",
       "      <td>Woodland Hills</td>\n",
       "      <td>POLYGON ((-118.57240 34.18668, -118.57161 34.1...</td>\n",
       "      <td>4255</td>\n",
       "      <td>6.037135e+09</td>\n",
       "      <td>Becoming Exclusive</td>\n",
       "    </tr>\n",
       "  </tbody>\n",
       "</table>\n",
       "<p>1992 rows × 6 columns</p>\n",
       "</div>"
      ],
      "text/plain": [
       "     OBJECTID             name  \\\n",
       "0           1  Adams-Normandie   \n",
       "31         32  Exposition Park   \n",
       "93         94  University Park   \n",
       "0           1  Adams-Normandie   \n",
       "0           1  Adams-Normandie   \n",
       "..        ...              ...   \n",
       "112       113   Woodland Hills   \n",
       "112       113   Woodland Hills   \n",
       "112       113   Woodland Hills   \n",
       "112       113   Woodland Hills   \n",
       "112       113   Woodland Hills   \n",
       "\n",
       "                                              geometry  index_right  \\\n",
       "0    POLYGON ((-118.30069 34.03731, -118.30388 34.0...          692   \n",
       "31   POLYGON ((-118.29155 34.01837, -118.28294 34.0...          692   \n",
       "93   POLYGON ((-118.27986 34.01848, -118.28294 34.0...          692   \n",
       "0    POLYGON ((-118.30069 34.03731, -118.30388 34.0...         4033   \n",
       "0    POLYGON ((-118.30069 34.03731, -118.30388 34.0...           81   \n",
       "..                                                 ...          ...   \n",
       "112  POLYGON ((-118.57240 34.18668, -118.57161 34.1...         4256   \n",
       "112  POLYGON ((-118.57240 34.18668, -118.57161 34.1...         1331   \n",
       "112  POLYGON ((-118.57240 34.18668, -118.57161 34.1...          669   \n",
       "112  POLYGON ((-118.57240 34.18668, -118.57161 34.1...           33   \n",
       "112  POLYGON ((-118.57240 34.18668, -118.57161 34.1...         4255   \n",
       "\n",
       "            GEOID                       Typology  \n",
       "0    6.037222e+09        High Student Population  \n",
       "31   6.037222e+09        High Student Population  \n",
       "93   6.037222e+09        High Student Population  \n",
       "0    6.037222e+09   Early/Ongoing Gentrification  \n",
       "0    6.037222e+09        Advanced Gentrification  \n",
       "..            ...                            ...  \n",
       "112  6.037138e+09      Stable/Advanced Exclusive  \n",
       "112  6.037137e+09   Stable Moderate/Mixed Income  \n",
       "112  6.037137e+09      Stable/Advanced Exclusive  \n",
       "112  6.037137e+09  At Risk of Becoming Exclusive  \n",
       "112  6.037135e+09             Becoming Exclusive  \n",
       "\n",
       "[1992 rows x 6 columns]"
      ]
     },
     "execution_count": 1280,
     "metadata": {},
     "output_type": "execute_result"
    }
   ],
   "source": [
    "join = gpd.sjoin(neighborhoods, df)\n",
    "join"
   ]
  },
  {
   "cell_type": "code",
   "execution_count": 1281,
   "id": "05f6cc52",
   "metadata": {},
   "outputs": [
    {
     "data": {
      "text/plain": [
       "(1992, 6)"
      ]
     },
     "execution_count": 1281,
     "metadata": {},
     "output_type": "execute_result"
    }
   ],
   "source": [
    "join.shape"
   ]
  },
  {
   "cell_type": "markdown",
   "id": "58e9e701",
   "metadata": {},
   "source": [
    "Next, I filter the data for the 6 neighborhoods of interest: Westlake, Downtown, Echo Park, Silver Lake, Koreatown, and Pico-Union. I then reappend the 6 datasets together. "
   ]
  },
  {
   "cell_type": "code",
   "execution_count": 1282,
   "id": "91d770da",
   "metadata": {},
   "outputs": [
    {
     "data": {
      "text/plain": [
       "(40, 6)"
      ]
     },
     "execution_count": 1282,
     "metadata": {},
     "output_type": "execute_result"
    }
   ],
   "source": [
    "Westlake = join.loc[join['name'] == 'Westlake']\n",
    "Westlake.shape"
   ]
  },
  {
   "cell_type": "code",
   "execution_count": 1283,
   "id": "95d45549",
   "metadata": {},
   "outputs": [
    {
     "data": {
      "text/html": [
       "<div>\n",
       "<style scoped>\n",
       "    .dataframe tbody tr th:only-of-type {\n",
       "        vertical-align: middle;\n",
       "    }\n",
       "\n",
       "    .dataframe tbody tr th {\n",
       "        vertical-align: top;\n",
       "    }\n",
       "\n",
       "    .dataframe thead th {\n",
       "        text-align: right;\n",
       "    }\n",
       "</style>\n",
       "<table border=\"1\" class=\"dataframe\">\n",
       "  <thead>\n",
       "    <tr style=\"text-align: right;\">\n",
       "      <th></th>\n",
       "      <th>OBJECTID</th>\n",
       "      <th>name</th>\n",
       "      <th>geometry</th>\n",
       "      <th>GEOID</th>\n",
       "      <th>Typology</th>\n",
       "    </tr>\n",
       "  </thead>\n",
       "  <tbody>\n",
       "    <tr>\n",
       "      <th>106</th>\n",
       "      <td>107</td>\n",
       "      <td>Westlake</td>\n",
       "      <td>POLYGON ((-118.25908 34.05389, -118.25984 34.0...</td>\n",
       "      <td>6.037208e+09</td>\n",
       "      <td>Advanced Gentrification</td>\n",
       "    </tr>\n",
       "    <tr>\n",
       "      <th>106</th>\n",
       "      <td>107</td>\n",
       "      <td>Westlake</td>\n",
       "      <td>POLYGON ((-118.25908 34.05389, -118.25984 34.0...</td>\n",
       "      <td>6.037210e+09</td>\n",
       "      <td>Advanced Gentrification</td>\n",
       "    </tr>\n",
       "    <tr>\n",
       "      <th>106</th>\n",
       "      <td>107</td>\n",
       "      <td>Westlake</td>\n",
       "      <td>POLYGON ((-118.25908 34.05389, -118.25984 34.0...</td>\n",
       "      <td>6.037209e+09</td>\n",
       "      <td>Early/Ongoing Gentrification</td>\n",
       "    </tr>\n",
       "    <tr>\n",
       "      <th>106</th>\n",
       "      <td>107</td>\n",
       "      <td>Westlake</td>\n",
       "      <td>POLYGON ((-118.25908 34.05389, -118.25984 34.0...</td>\n",
       "      <td>6.037209e+09</td>\n",
       "      <td>Early/Ongoing Gentrification</td>\n",
       "    </tr>\n",
       "    <tr>\n",
       "      <th>106</th>\n",
       "      <td>107</td>\n",
       "      <td>Westlake</td>\n",
       "      <td>POLYGON ((-118.25908 34.05389, -118.25984 34.0...</td>\n",
       "      <td>6.037208e+09</td>\n",
       "      <td>Low-Income/Susceptible to Displacement</td>\n",
       "    </tr>\n",
       "    <tr>\n",
       "      <th>106</th>\n",
       "      <td>107</td>\n",
       "      <td>Westlake</td>\n",
       "      <td>POLYGON ((-118.25908 34.05389, -118.25984 34.0...</td>\n",
       "      <td>6.037211e+09</td>\n",
       "      <td>Early/Ongoing Gentrification</td>\n",
       "    </tr>\n",
       "    <tr>\n",
       "      <th>106</th>\n",
       "      <td>107</td>\n",
       "      <td>Westlake</td>\n",
       "      <td>POLYGON ((-118.25908 34.05389, -118.25984 34.0...</td>\n",
       "      <td>6.037193e+09</td>\n",
       "      <td>Early/Ongoing Gentrification</td>\n",
       "    </tr>\n",
       "    <tr>\n",
       "      <th>106</th>\n",
       "      <td>107</td>\n",
       "      <td>Westlake</td>\n",
       "      <td>POLYGON ((-118.25908 34.05389, -118.25984 34.0...</td>\n",
       "      <td>6.037208e+09</td>\n",
       "      <td>At Risk of Gentrification</td>\n",
       "    </tr>\n",
       "    <tr>\n",
       "      <th>106</th>\n",
       "      <td>107</td>\n",
       "      <td>Westlake</td>\n",
       "      <td>POLYGON ((-118.25908 34.05389, -118.25984 34.0...</td>\n",
       "      <td>6.037208e+09</td>\n",
       "      <td>Ongoing Displacement</td>\n",
       "    </tr>\n",
       "    <tr>\n",
       "      <th>106</th>\n",
       "      <td>107</td>\n",
       "      <td>Westlake</td>\n",
       "      <td>POLYGON ((-118.25908 34.05389, -118.25984 34.0...</td>\n",
       "      <td>6.037196e+09</td>\n",
       "      <td>Early/Ongoing Gentrification</td>\n",
       "    </tr>\n",
       "    <tr>\n",
       "      <th>106</th>\n",
       "      <td>107</td>\n",
       "      <td>Westlake</td>\n",
       "      <td>POLYGON ((-118.25908 34.05389, -118.25984 34.0...</td>\n",
       "      <td>6.037196e+09</td>\n",
       "      <td>Advanced Gentrification</td>\n",
       "    </tr>\n",
       "    <tr>\n",
       "      <th>106</th>\n",
       "      <td>107</td>\n",
       "      <td>Westlake</td>\n",
       "      <td>POLYGON ((-118.25908 34.05389, -118.25984 34.0...</td>\n",
       "      <td>6.037213e+09</td>\n",
       "      <td>Early/Ongoing Gentrification</td>\n",
       "    </tr>\n",
       "    <tr>\n",
       "      <th>106</th>\n",
       "      <td>107</td>\n",
       "      <td>Westlake</td>\n",
       "      <td>POLYGON ((-118.25908 34.05389, -118.25984 34.0...</td>\n",
       "      <td>6.037213e+09</td>\n",
       "      <td>Low-Income/Susceptible to Displacement</td>\n",
       "    </tr>\n",
       "    <tr>\n",
       "      <th>106</th>\n",
       "      <td>107</td>\n",
       "      <td>Westlake</td>\n",
       "      <td>POLYGON ((-118.25908 34.05389, -118.25984 34.0...</td>\n",
       "      <td>6.037212e+09</td>\n",
       "      <td>Early/Ongoing Gentrification</td>\n",
       "    </tr>\n",
       "    <tr>\n",
       "      <th>106</th>\n",
       "      <td>107</td>\n",
       "      <td>Westlake</td>\n",
       "      <td>POLYGON ((-118.25908 34.05389, -118.25984 34.0...</td>\n",
       "      <td>6.037212e+09</td>\n",
       "      <td>Advanced Gentrification</td>\n",
       "    </tr>\n",
       "    <tr>\n",
       "      <th>106</th>\n",
       "      <td>107</td>\n",
       "      <td>Westlake</td>\n",
       "      <td>POLYGON ((-118.25908 34.05389, -118.25984 34.0...</td>\n",
       "      <td>6.037212e+09</td>\n",
       "      <td>Low-Income/Susceptible to Displacement</td>\n",
       "    </tr>\n",
       "    <tr>\n",
       "      <th>106</th>\n",
       "      <td>107</td>\n",
       "      <td>Westlake</td>\n",
       "      <td>POLYGON ((-118.25908 34.05389, -118.25984 34.0...</td>\n",
       "      <td>6.037211e+09</td>\n",
       "      <td>Low-Income/Susceptible to Displacement</td>\n",
       "    </tr>\n",
       "    <tr>\n",
       "      <th>106</th>\n",
       "      <td>107</td>\n",
       "      <td>Westlake</td>\n",
       "      <td>POLYGON ((-118.25908 34.05389, -118.25984 34.0...</td>\n",
       "      <td>6.037210e+09</td>\n",
       "      <td>At Risk of Gentrification</td>\n",
       "    </tr>\n",
       "    <tr>\n",
       "      <th>106</th>\n",
       "      <td>107</td>\n",
       "      <td>Westlake</td>\n",
       "      <td>POLYGON ((-118.25908 34.05389, -118.25984 34.0...</td>\n",
       "      <td>6.037210e+09</td>\n",
       "      <td>At Risk of Gentrification</td>\n",
       "    </tr>\n",
       "    <tr>\n",
       "      <th>106</th>\n",
       "      <td>107</td>\n",
       "      <td>Westlake</td>\n",
       "      <td>POLYGON ((-118.25908 34.05389, -118.25984 34.0...</td>\n",
       "      <td>6.037196e+09</td>\n",
       "      <td>Early/Ongoing Gentrification</td>\n",
       "    </tr>\n",
       "    <tr>\n",
       "      <th>106</th>\n",
       "      <td>107</td>\n",
       "      <td>Westlake</td>\n",
       "      <td>POLYGON ((-118.25908 34.05389, -118.25984 34.0...</td>\n",
       "      <td>6.037209e+09</td>\n",
       "      <td>At Risk of Gentrification</td>\n",
       "    </tr>\n",
       "    <tr>\n",
       "      <th>106</th>\n",
       "      <td>107</td>\n",
       "      <td>Westlake</td>\n",
       "      <td>POLYGON ((-118.25908 34.05389, -118.25984 34.0...</td>\n",
       "      <td>6.037209e+09</td>\n",
       "      <td>At Risk of Gentrification</td>\n",
       "    </tr>\n",
       "    <tr>\n",
       "      <th>106</th>\n",
       "      <td>107</td>\n",
       "      <td>Westlake</td>\n",
       "      <td>POLYGON ((-118.25908 34.05389, -118.25984 34.0...</td>\n",
       "      <td>6.037209e+09</td>\n",
       "      <td>Low-Income/Susceptible to Displacement</td>\n",
       "    </tr>\n",
       "    <tr>\n",
       "      <th>106</th>\n",
       "      <td>107</td>\n",
       "      <td>Westlake</td>\n",
       "      <td>POLYGON ((-118.25908 34.05389, -118.25984 34.0...</td>\n",
       "      <td>6.037209e+09</td>\n",
       "      <td>Low-Income/Susceptible to Displacement</td>\n",
       "    </tr>\n",
       "    <tr>\n",
       "      <th>106</th>\n",
       "      <td>107</td>\n",
       "      <td>Westlake</td>\n",
       "      <td>POLYGON ((-118.25908 34.05389, -118.25984 34.0...</td>\n",
       "      <td>6.037209e+09</td>\n",
       "      <td>At Risk of Gentrification</td>\n",
       "    </tr>\n",
       "    <tr>\n",
       "      <th>106</th>\n",
       "      <td>107</td>\n",
       "      <td>Westlake</td>\n",
       "      <td>POLYGON ((-118.25908 34.05389, -118.25984 34.0...</td>\n",
       "      <td>6.037209e+09</td>\n",
       "      <td>At Risk of Gentrification</td>\n",
       "    </tr>\n",
       "    <tr>\n",
       "      <th>106</th>\n",
       "      <td>107</td>\n",
       "      <td>Westlake</td>\n",
       "      <td>POLYGON ((-118.25908 34.05389, -118.25984 34.0...</td>\n",
       "      <td>6.037209e+09</td>\n",
       "      <td>Early/Ongoing Gentrification</td>\n",
       "    </tr>\n",
       "    <tr>\n",
       "      <th>106</th>\n",
       "      <td>107</td>\n",
       "      <td>Westlake</td>\n",
       "      <td>POLYGON ((-118.25908 34.05389, -118.25984 34.0...</td>\n",
       "      <td>6.037209e+09</td>\n",
       "      <td>Advanced Gentrification</td>\n",
       "    </tr>\n",
       "    <tr>\n",
       "      <th>106</th>\n",
       "      <td>107</td>\n",
       "      <td>Westlake</td>\n",
       "      <td>POLYGON ((-118.25908 34.05389, -118.25984 34.0...</td>\n",
       "      <td>6.037209e+09</td>\n",
       "      <td>At Risk of Gentrification</td>\n",
       "    </tr>\n",
       "    <tr>\n",
       "      <th>106</th>\n",
       "      <td>107</td>\n",
       "      <td>Westlake</td>\n",
       "      <td>POLYGON ((-118.25908 34.05389, -118.25984 34.0...</td>\n",
       "      <td>6.037209e+09</td>\n",
       "      <td>Early/Ongoing Gentrification</td>\n",
       "    </tr>\n",
       "    <tr>\n",
       "      <th>106</th>\n",
       "      <td>107</td>\n",
       "      <td>Westlake</td>\n",
       "      <td>POLYGON ((-118.25908 34.05389, -118.25984 34.0...</td>\n",
       "      <td>6.037209e+09</td>\n",
       "      <td>Early/Ongoing Gentrification</td>\n",
       "    </tr>\n",
       "    <tr>\n",
       "      <th>106</th>\n",
       "      <td>107</td>\n",
       "      <td>Westlake</td>\n",
       "      <td>POLYGON ((-118.25908 34.05389, -118.25984 34.0...</td>\n",
       "      <td>6.037208e+09</td>\n",
       "      <td>Ongoing Displacement</td>\n",
       "    </tr>\n",
       "    <tr>\n",
       "      <th>106</th>\n",
       "      <td>107</td>\n",
       "      <td>Westlake</td>\n",
       "      <td>POLYGON ((-118.25908 34.05389, -118.25984 34.0...</td>\n",
       "      <td>6.037209e+09</td>\n",
       "      <td>At Risk of Gentrification</td>\n",
       "    </tr>\n",
       "    <tr>\n",
       "      <th>106</th>\n",
       "      <td>107</td>\n",
       "      <td>Westlake</td>\n",
       "      <td>POLYGON ((-118.25908 34.05389, -118.25984 34.0...</td>\n",
       "      <td>6.037208e+09</td>\n",
       "      <td>At Risk of Gentrification</td>\n",
       "    </tr>\n",
       "    <tr>\n",
       "      <th>106</th>\n",
       "      <td>107</td>\n",
       "      <td>Westlake</td>\n",
       "      <td>POLYGON ((-118.25908 34.05389, -118.25984 34.0...</td>\n",
       "      <td>6.037209e+09</td>\n",
       "      <td>Advanced Gentrification</td>\n",
       "    </tr>\n",
       "    <tr>\n",
       "      <th>106</th>\n",
       "      <td>107</td>\n",
       "      <td>Westlake</td>\n",
       "      <td>POLYGON ((-118.25908 34.05389, -118.25984 34.0...</td>\n",
       "      <td>6.037209e+09</td>\n",
       "      <td>At Risk of Gentrification</td>\n",
       "    </tr>\n",
       "    <tr>\n",
       "      <th>106</th>\n",
       "      <td>107</td>\n",
       "      <td>Westlake</td>\n",
       "      <td>POLYGON ((-118.25908 34.05389, -118.25984 34.0...</td>\n",
       "      <td>6.037209e+09</td>\n",
       "      <td>Advanced Gentrification</td>\n",
       "    </tr>\n",
       "    <tr>\n",
       "      <th>106</th>\n",
       "      <td>107</td>\n",
       "      <td>Westlake</td>\n",
       "      <td>POLYGON ((-118.25908 34.05389, -118.25984 34.0...</td>\n",
       "      <td>6.037209e+09</td>\n",
       "      <td>Ongoing Displacement</td>\n",
       "    </tr>\n",
       "    <tr>\n",
       "      <th>106</th>\n",
       "      <td>107</td>\n",
       "      <td>Westlake</td>\n",
       "      <td>POLYGON ((-118.25908 34.05389, -118.25984 34.0...</td>\n",
       "      <td>6.037209e+09</td>\n",
       "      <td>Early/Ongoing Gentrification</td>\n",
       "    </tr>\n",
       "    <tr>\n",
       "      <th>106</th>\n",
       "      <td>107</td>\n",
       "      <td>Westlake</td>\n",
       "      <td>POLYGON ((-118.25908 34.05389, -118.25984 34.0...</td>\n",
       "      <td>6.037211e+09</td>\n",
       "      <td>Early/Ongoing Gentrification</td>\n",
       "    </tr>\n",
       "  </tbody>\n",
       "</table>\n",
       "</div>"
      ],
      "text/plain": [
       "     OBJECTID      name                                           geometry  \\\n",
       "106       107  Westlake  POLYGON ((-118.25908 34.05389, -118.25984 34.0...   \n",
       "106       107  Westlake  POLYGON ((-118.25908 34.05389, -118.25984 34.0...   \n",
       "106       107  Westlake  POLYGON ((-118.25908 34.05389, -118.25984 34.0...   \n",
       "106       107  Westlake  POLYGON ((-118.25908 34.05389, -118.25984 34.0...   \n",
       "106       107  Westlake  POLYGON ((-118.25908 34.05389, -118.25984 34.0...   \n",
       "106       107  Westlake  POLYGON ((-118.25908 34.05389, -118.25984 34.0...   \n",
       "106       107  Westlake  POLYGON ((-118.25908 34.05389, -118.25984 34.0...   \n",
       "106       107  Westlake  POLYGON ((-118.25908 34.05389, -118.25984 34.0...   \n",
       "106       107  Westlake  POLYGON ((-118.25908 34.05389, -118.25984 34.0...   \n",
       "106       107  Westlake  POLYGON ((-118.25908 34.05389, -118.25984 34.0...   \n",
       "106       107  Westlake  POLYGON ((-118.25908 34.05389, -118.25984 34.0...   \n",
       "106       107  Westlake  POLYGON ((-118.25908 34.05389, -118.25984 34.0...   \n",
       "106       107  Westlake  POLYGON ((-118.25908 34.05389, -118.25984 34.0...   \n",
       "106       107  Westlake  POLYGON ((-118.25908 34.05389, -118.25984 34.0...   \n",
       "106       107  Westlake  POLYGON ((-118.25908 34.05389, -118.25984 34.0...   \n",
       "106       107  Westlake  POLYGON ((-118.25908 34.05389, -118.25984 34.0...   \n",
       "106       107  Westlake  POLYGON ((-118.25908 34.05389, -118.25984 34.0...   \n",
       "106       107  Westlake  POLYGON ((-118.25908 34.05389, -118.25984 34.0...   \n",
       "106       107  Westlake  POLYGON ((-118.25908 34.05389, -118.25984 34.0...   \n",
       "106       107  Westlake  POLYGON ((-118.25908 34.05389, -118.25984 34.0...   \n",
       "106       107  Westlake  POLYGON ((-118.25908 34.05389, -118.25984 34.0...   \n",
       "106       107  Westlake  POLYGON ((-118.25908 34.05389, -118.25984 34.0...   \n",
       "106       107  Westlake  POLYGON ((-118.25908 34.05389, -118.25984 34.0...   \n",
       "106       107  Westlake  POLYGON ((-118.25908 34.05389, -118.25984 34.0...   \n",
       "106       107  Westlake  POLYGON ((-118.25908 34.05389, -118.25984 34.0...   \n",
       "106       107  Westlake  POLYGON ((-118.25908 34.05389, -118.25984 34.0...   \n",
       "106       107  Westlake  POLYGON ((-118.25908 34.05389, -118.25984 34.0...   \n",
       "106       107  Westlake  POLYGON ((-118.25908 34.05389, -118.25984 34.0...   \n",
       "106       107  Westlake  POLYGON ((-118.25908 34.05389, -118.25984 34.0...   \n",
       "106       107  Westlake  POLYGON ((-118.25908 34.05389, -118.25984 34.0...   \n",
       "106       107  Westlake  POLYGON ((-118.25908 34.05389, -118.25984 34.0...   \n",
       "106       107  Westlake  POLYGON ((-118.25908 34.05389, -118.25984 34.0...   \n",
       "106       107  Westlake  POLYGON ((-118.25908 34.05389, -118.25984 34.0...   \n",
       "106       107  Westlake  POLYGON ((-118.25908 34.05389, -118.25984 34.0...   \n",
       "106       107  Westlake  POLYGON ((-118.25908 34.05389, -118.25984 34.0...   \n",
       "106       107  Westlake  POLYGON ((-118.25908 34.05389, -118.25984 34.0...   \n",
       "106       107  Westlake  POLYGON ((-118.25908 34.05389, -118.25984 34.0...   \n",
       "106       107  Westlake  POLYGON ((-118.25908 34.05389, -118.25984 34.0...   \n",
       "106       107  Westlake  POLYGON ((-118.25908 34.05389, -118.25984 34.0...   \n",
       "106       107  Westlake  POLYGON ((-118.25908 34.05389, -118.25984 34.0...   \n",
       "\n",
       "            GEOID                                Typology  \n",
       "106  6.037208e+09                 Advanced Gentrification  \n",
       "106  6.037210e+09                 Advanced Gentrification  \n",
       "106  6.037209e+09            Early/Ongoing Gentrification  \n",
       "106  6.037209e+09            Early/Ongoing Gentrification  \n",
       "106  6.037208e+09  Low-Income/Susceptible to Displacement  \n",
       "106  6.037211e+09            Early/Ongoing Gentrification  \n",
       "106  6.037193e+09            Early/Ongoing Gentrification  \n",
       "106  6.037208e+09               At Risk of Gentrification  \n",
       "106  6.037208e+09                    Ongoing Displacement  \n",
       "106  6.037196e+09            Early/Ongoing Gentrification  \n",
       "106  6.037196e+09                 Advanced Gentrification  \n",
       "106  6.037213e+09            Early/Ongoing Gentrification  \n",
       "106  6.037213e+09  Low-Income/Susceptible to Displacement  \n",
       "106  6.037212e+09            Early/Ongoing Gentrification  \n",
       "106  6.037212e+09                 Advanced Gentrification  \n",
       "106  6.037212e+09  Low-Income/Susceptible to Displacement  \n",
       "106  6.037211e+09  Low-Income/Susceptible to Displacement  \n",
       "106  6.037210e+09               At Risk of Gentrification  \n",
       "106  6.037210e+09               At Risk of Gentrification  \n",
       "106  6.037196e+09            Early/Ongoing Gentrification  \n",
       "106  6.037209e+09               At Risk of Gentrification  \n",
       "106  6.037209e+09               At Risk of Gentrification  \n",
       "106  6.037209e+09  Low-Income/Susceptible to Displacement  \n",
       "106  6.037209e+09  Low-Income/Susceptible to Displacement  \n",
       "106  6.037209e+09               At Risk of Gentrification  \n",
       "106  6.037209e+09               At Risk of Gentrification  \n",
       "106  6.037209e+09            Early/Ongoing Gentrification  \n",
       "106  6.037209e+09                 Advanced Gentrification  \n",
       "106  6.037209e+09               At Risk of Gentrification  \n",
       "106  6.037209e+09            Early/Ongoing Gentrification  \n",
       "106  6.037209e+09            Early/Ongoing Gentrification  \n",
       "106  6.037208e+09                    Ongoing Displacement  \n",
       "106  6.037209e+09               At Risk of Gentrification  \n",
       "106  6.037208e+09               At Risk of Gentrification  \n",
       "106  6.037209e+09                 Advanced Gentrification  \n",
       "106  6.037209e+09               At Risk of Gentrification  \n",
       "106  6.037209e+09                 Advanced Gentrification  \n",
       "106  6.037209e+09                    Ongoing Displacement  \n",
       "106  6.037209e+09            Early/Ongoing Gentrification  \n",
       "106  6.037211e+09            Early/Ongoing Gentrification  "
      ]
     },
     "execution_count": 1283,
     "metadata": {},
     "output_type": "execute_result"
    }
   ],
   "source": [
    "Westlake = Westlake.drop(['index_right'], axis=1)\n",
    "Westlake"
   ]
  },
  {
   "cell_type": "code",
   "execution_count": 1284,
   "id": "8183b592",
   "metadata": {},
   "outputs": [
    {
     "data": {
      "text/plain": [
       "(24, 6)"
      ]
     },
     "execution_count": 1284,
     "metadata": {},
     "output_type": "execute_result"
    }
   ],
   "source": [
    "Downtown = join.loc[join['name'] == 'Downtown']\n",
    "Downtown.shape"
   ]
  },
  {
   "cell_type": "code",
   "execution_count": 1285,
   "id": "3d8f0af6",
   "metadata": {},
   "outputs": [],
   "source": [
    "Downtown = Downtown.drop(['index_right'], axis=1)"
   ]
  },
  {
   "cell_type": "code",
   "execution_count": 1286,
   "id": "92f4a997",
   "metadata": {},
   "outputs": [
    {
     "data": {
      "text/plain": [
       "(17, 6)"
      ]
     },
     "execution_count": 1286,
     "metadata": {},
     "output_type": "execute_result"
    }
   ],
   "source": [
    "Echo_Park = join.loc[join['name'] == 'Echo Park']\n",
    "Echo_Park.shape"
   ]
  },
  {
   "cell_type": "code",
   "execution_count": 1287,
   "id": "a1032827",
   "metadata": {},
   "outputs": [],
   "source": [
    "Echo_Park = Echo_Park.drop(['index_right'], axis=1)"
   ]
  },
  {
   "cell_type": "code",
   "execution_count": 1288,
   "id": "4c380002",
   "metadata": {},
   "outputs": [
    {
     "data": {
      "text/plain": [
       "(26, 6)"
      ]
     },
     "execution_count": 1288,
     "metadata": {},
     "output_type": "execute_result"
    }
   ],
   "source": [
    "Silver_Lake = join.loc[join['name'] == 'Silver Lake']\n",
    "Silver_Lake.shape"
   ]
  },
  {
   "cell_type": "code",
   "execution_count": 1289,
   "id": "ddb4d0d4",
   "metadata": {},
   "outputs": [],
   "source": [
    "Silver_Lake = Silver_Lake.drop(['index_right'], axis=1)"
   ]
  },
  {
   "cell_type": "code",
   "execution_count": 1290,
   "id": "441f45e3",
   "metadata": {},
   "outputs": [
    {
     "data": {
      "text/plain": [
       "(46, 6)"
      ]
     },
     "execution_count": 1290,
     "metadata": {},
     "output_type": "execute_result"
    }
   ],
   "source": [
    "Koreatown = join.loc[join['name'] == 'Koreatown']\n",
    "Koreatown.shape"
   ]
  },
  {
   "cell_type": "code",
   "execution_count": 1291,
   "id": "1ac55130",
   "metadata": {},
   "outputs": [],
   "source": [
    "Koreatown = Koreatown.drop(['index_right'], axis=1)"
   ]
  },
  {
   "cell_type": "code",
   "execution_count": 1292,
   "id": "32b3861f",
   "metadata": {},
   "outputs": [
    {
     "data": {
      "text/plain": [
       "(23, 6)"
      ]
     },
     "execution_count": 1292,
     "metadata": {},
     "output_type": "execute_result"
    }
   ],
   "source": [
    "Pico_Union = join.loc[join['name'] == 'Pico-Union']\n",
    "Pico_Union.shape"
   ]
  },
  {
   "cell_type": "code",
   "execution_count": 1293,
   "id": "7fecca62",
   "metadata": {},
   "outputs": [],
   "source": [
    "Pico_Union = Pico_Union.drop(['index_right'], axis=1)"
   ]
  },
  {
   "cell_type": "code",
   "execution_count": 1294,
   "id": "aed8bcfe",
   "metadata": {},
   "outputs": [
    {
     "name": "stderr",
     "output_type": "stream",
     "text": [
      "/var/folders/bs/d9h__8tn0rb0h3qzd8bn64380000gn/T/ipykernel_16310/1328928621.py:1: FutureWarning: The frame.append method is deprecated and will be removed from pandas in a future version. Use pandas.concat instead.\n",
      "  join1 = Westlake.append(Downtown, ignore_index=True)\n"
     ]
    },
    {
     "data": {
      "text/html": [
       "<div>\n",
       "<style scoped>\n",
       "    .dataframe tbody tr th:only-of-type {\n",
       "        vertical-align: middle;\n",
       "    }\n",
       "\n",
       "    .dataframe tbody tr th {\n",
       "        vertical-align: top;\n",
       "    }\n",
       "\n",
       "    .dataframe thead th {\n",
       "        text-align: right;\n",
       "    }\n",
       "</style>\n",
       "<table border=\"1\" class=\"dataframe\">\n",
       "  <thead>\n",
       "    <tr style=\"text-align: right;\">\n",
       "      <th></th>\n",
       "      <th>OBJECTID</th>\n",
       "      <th>name</th>\n",
       "      <th>geometry</th>\n",
       "      <th>GEOID</th>\n",
       "      <th>Typology</th>\n",
       "    </tr>\n",
       "  </thead>\n",
       "  <tbody>\n",
       "    <tr>\n",
       "      <th>0</th>\n",
       "      <td>107</td>\n",
       "      <td>Westlake</td>\n",
       "      <td>POLYGON ((-118.25908 34.05389, -118.25984 34.0...</td>\n",
       "      <td>6.037208e+09</td>\n",
       "      <td>Advanced Gentrification</td>\n",
       "    </tr>\n",
       "    <tr>\n",
       "      <th>1</th>\n",
       "      <td>107</td>\n",
       "      <td>Westlake</td>\n",
       "      <td>POLYGON ((-118.25908 34.05389, -118.25984 34.0...</td>\n",
       "      <td>6.037210e+09</td>\n",
       "      <td>Advanced Gentrification</td>\n",
       "    </tr>\n",
       "    <tr>\n",
       "      <th>2</th>\n",
       "      <td>107</td>\n",
       "      <td>Westlake</td>\n",
       "      <td>POLYGON ((-118.25908 34.05389, -118.25984 34.0...</td>\n",
       "      <td>6.037209e+09</td>\n",
       "      <td>Early/Ongoing Gentrification</td>\n",
       "    </tr>\n",
       "    <tr>\n",
       "      <th>3</th>\n",
       "      <td>107</td>\n",
       "      <td>Westlake</td>\n",
       "      <td>POLYGON ((-118.25908 34.05389, -118.25984 34.0...</td>\n",
       "      <td>6.037209e+09</td>\n",
       "      <td>Early/Ongoing Gentrification</td>\n",
       "    </tr>\n",
       "    <tr>\n",
       "      <th>4</th>\n",
       "      <td>107</td>\n",
       "      <td>Westlake</td>\n",
       "      <td>POLYGON ((-118.25908 34.05389, -118.25984 34.0...</td>\n",
       "      <td>6.037208e+09</td>\n",
       "      <td>Low-Income/Susceptible to Displacement</td>\n",
       "    </tr>\n",
       "    <tr>\n",
       "      <th>...</th>\n",
       "      <td>...</td>\n",
       "      <td>...</td>\n",
       "      <td>...</td>\n",
       "      <td>...</td>\n",
       "      <td>...</td>\n",
       "    </tr>\n",
       "    <tr>\n",
       "      <th>59</th>\n",
       "      <td>24</td>\n",
       "      <td>Downtown</td>\n",
       "      <td>POLYGON ((-118.24450 34.06131, -118.24376 34.0...</td>\n",
       "      <td>6.037208e+09</td>\n",
       "      <td>At Risk of Gentrification</td>\n",
       "    </tr>\n",
       "    <tr>\n",
       "      <th>60</th>\n",
       "      <td>24</td>\n",
       "      <td>Downtown</td>\n",
       "      <td>POLYGON ((-118.24450 34.06131, -118.24376 34.0...</td>\n",
       "      <td>6.037209e+09</td>\n",
       "      <td>Early/Ongoing Gentrification</td>\n",
       "    </tr>\n",
       "    <tr>\n",
       "      <th>61</th>\n",
       "      <td>24</td>\n",
       "      <td>Downtown</td>\n",
       "      <td>POLYGON ((-118.24450 34.06131, -118.24376 34.0...</td>\n",
       "      <td>6.037208e+09</td>\n",
       "      <td>Advanced Gentrification</td>\n",
       "    </tr>\n",
       "    <tr>\n",
       "      <th>62</th>\n",
       "      <td>24</td>\n",
       "      <td>Downtown</td>\n",
       "      <td>POLYGON ((-118.24450 34.06131, -118.24376 34.0...</td>\n",
       "      <td>6.037207e+09</td>\n",
       "      <td>Unavailable or Unreliable Data</td>\n",
       "    </tr>\n",
       "    <tr>\n",
       "      <th>63</th>\n",
       "      <td>24</td>\n",
       "      <td>Downtown</td>\n",
       "      <td>POLYGON ((-118.24450 34.06131, -118.24376 34.0...</td>\n",
       "      <td>6.037208e+09</td>\n",
       "      <td>Low-Income/Susceptible to Displacement</td>\n",
       "    </tr>\n",
       "  </tbody>\n",
       "</table>\n",
       "<p>64 rows × 5 columns</p>\n",
       "</div>"
      ],
      "text/plain": [
       "    OBJECTID      name                                           geometry  \\\n",
       "0        107  Westlake  POLYGON ((-118.25908 34.05389, -118.25984 34.0...   \n",
       "1        107  Westlake  POLYGON ((-118.25908 34.05389, -118.25984 34.0...   \n",
       "2        107  Westlake  POLYGON ((-118.25908 34.05389, -118.25984 34.0...   \n",
       "3        107  Westlake  POLYGON ((-118.25908 34.05389, -118.25984 34.0...   \n",
       "4        107  Westlake  POLYGON ((-118.25908 34.05389, -118.25984 34.0...   \n",
       "..       ...       ...                                                ...   \n",
       "59        24  Downtown  POLYGON ((-118.24450 34.06131, -118.24376 34.0...   \n",
       "60        24  Downtown  POLYGON ((-118.24450 34.06131, -118.24376 34.0...   \n",
       "61        24  Downtown  POLYGON ((-118.24450 34.06131, -118.24376 34.0...   \n",
       "62        24  Downtown  POLYGON ((-118.24450 34.06131, -118.24376 34.0...   \n",
       "63        24  Downtown  POLYGON ((-118.24450 34.06131, -118.24376 34.0...   \n",
       "\n",
       "           GEOID                                Typology  \n",
       "0   6.037208e+09                 Advanced Gentrification  \n",
       "1   6.037210e+09                 Advanced Gentrification  \n",
       "2   6.037209e+09            Early/Ongoing Gentrification  \n",
       "3   6.037209e+09            Early/Ongoing Gentrification  \n",
       "4   6.037208e+09  Low-Income/Susceptible to Displacement  \n",
       "..           ...                                     ...  \n",
       "59  6.037208e+09               At Risk of Gentrification  \n",
       "60  6.037209e+09            Early/Ongoing Gentrification  \n",
       "61  6.037208e+09                 Advanced Gentrification  \n",
       "62  6.037207e+09          Unavailable or Unreliable Data  \n",
       "63  6.037208e+09  Low-Income/Susceptible to Displacement  \n",
       "\n",
       "[64 rows x 5 columns]"
      ]
     },
     "execution_count": 1294,
     "metadata": {},
     "output_type": "execute_result"
    }
   ],
   "source": [
    "join1 = Westlake.append(Downtown, ignore_index=True)\n",
    "join1"
   ]
  },
  {
   "cell_type": "code",
   "execution_count": 1295,
   "id": "b88220b3",
   "metadata": {},
   "outputs": [
    {
     "name": "stderr",
     "output_type": "stream",
     "text": [
      "/var/folders/bs/d9h__8tn0rb0h3qzd8bn64380000gn/T/ipykernel_16310/3526225145.py:1: FutureWarning: The frame.append method is deprecated and will be removed from pandas in a future version. Use pandas.concat instead.\n",
      "  join2 = join1.append(Echo_Park, ignore_index=True)\n"
     ]
    }
   ],
   "source": [
    "join2 = join1.append(Echo_Park, ignore_index=True)"
   ]
  },
  {
   "cell_type": "code",
   "execution_count": 1296,
   "id": "8e461c89",
   "metadata": {},
   "outputs": [
    {
     "name": "stderr",
     "output_type": "stream",
     "text": [
      "/var/folders/bs/d9h__8tn0rb0h3qzd8bn64380000gn/T/ipykernel_16310/2150512329.py:1: FutureWarning: The frame.append method is deprecated and will be removed from pandas in a future version. Use pandas.concat instead.\n",
      "  join3 = join2.append(Silver_Lake, ignore_index=True)\n"
     ]
    }
   ],
   "source": [
    "join3 = join2.append(Silver_Lake, ignore_index=True)"
   ]
  },
  {
   "cell_type": "code",
   "execution_count": 1297,
   "id": "a28aa852",
   "metadata": {},
   "outputs": [
    {
     "name": "stderr",
     "output_type": "stream",
     "text": [
      "/var/folders/bs/d9h__8tn0rb0h3qzd8bn64380000gn/T/ipykernel_16310/2650471741.py:1: FutureWarning: The frame.append method is deprecated and will be removed from pandas in a future version. Use pandas.concat instead.\n",
      "  join4 = join3.append(Koreatown, ignore_index=True)\n"
     ]
    }
   ],
   "source": [
    "join4 = join3.append(Koreatown, ignore_index=True)"
   ]
  },
  {
   "cell_type": "code",
   "execution_count": 1298,
   "id": "613b2e35",
   "metadata": {},
   "outputs": [
    {
     "name": "stderr",
     "output_type": "stream",
     "text": [
      "/var/folders/bs/d9h__8tn0rb0h3qzd8bn64380000gn/T/ipykernel_16310/1279122901.py:1: FutureWarning: The frame.append method is deprecated and will be removed from pandas in a future version. Use pandas.concat instead.\n",
      "  final_join = join4.append(Pico_Union, ignore_index=True)\n"
     ]
    },
    {
     "data": {
      "text/html": [
       "<div>\n",
       "<style scoped>\n",
       "    .dataframe tbody tr th:only-of-type {\n",
       "        vertical-align: middle;\n",
       "    }\n",
       "\n",
       "    .dataframe tbody tr th {\n",
       "        vertical-align: top;\n",
       "    }\n",
       "\n",
       "    .dataframe thead th {\n",
       "        text-align: right;\n",
       "    }\n",
       "</style>\n",
       "<table border=\"1\" class=\"dataframe\">\n",
       "  <thead>\n",
       "    <tr style=\"text-align: right;\">\n",
       "      <th></th>\n",
       "      <th>OBJECTID</th>\n",
       "      <th>name</th>\n",
       "      <th>geometry</th>\n",
       "      <th>GEOID</th>\n",
       "      <th>Typology</th>\n",
       "    </tr>\n",
       "  </thead>\n",
       "  <tbody>\n",
       "    <tr>\n",
       "      <th>0</th>\n",
       "      <td>107</td>\n",
       "      <td>Westlake</td>\n",
       "      <td>POLYGON ((-118.25908 34.05389, -118.25984 34.0...</td>\n",
       "      <td>6.037208e+09</td>\n",
       "      <td>Advanced Gentrification</td>\n",
       "    </tr>\n",
       "    <tr>\n",
       "      <th>1</th>\n",
       "      <td>107</td>\n",
       "      <td>Westlake</td>\n",
       "      <td>POLYGON ((-118.25908 34.05389, -118.25984 34.0...</td>\n",
       "      <td>6.037210e+09</td>\n",
       "      <td>Advanced Gentrification</td>\n",
       "    </tr>\n",
       "    <tr>\n",
       "      <th>2</th>\n",
       "      <td>107</td>\n",
       "      <td>Westlake</td>\n",
       "      <td>POLYGON ((-118.25908 34.05389, -118.25984 34.0...</td>\n",
       "      <td>6.037209e+09</td>\n",
       "      <td>Early/Ongoing Gentrification</td>\n",
       "    </tr>\n",
       "    <tr>\n",
       "      <th>3</th>\n",
       "      <td>107</td>\n",
       "      <td>Westlake</td>\n",
       "      <td>POLYGON ((-118.25908 34.05389, -118.25984 34.0...</td>\n",
       "      <td>6.037209e+09</td>\n",
       "      <td>Early/Ongoing Gentrification</td>\n",
       "    </tr>\n",
       "    <tr>\n",
       "      <th>4</th>\n",
       "      <td>107</td>\n",
       "      <td>Westlake</td>\n",
       "      <td>POLYGON ((-118.25908 34.05389, -118.25984 34.0...</td>\n",
       "      <td>6.037208e+09</td>\n",
       "      <td>Low-Income/Susceptible to Displacement</td>\n",
       "    </tr>\n",
       "    <tr>\n",
       "      <th>...</th>\n",
       "      <td>...</td>\n",
       "      <td>...</td>\n",
       "      <td>...</td>\n",
       "      <td>...</td>\n",
       "      <td>...</td>\n",
       "    </tr>\n",
       "    <tr>\n",
       "      <th>171</th>\n",
       "      <td>74</td>\n",
       "      <td>Pico-Union</td>\n",
       "      <td>POLYGON ((-118.28146 34.05250, -118.28094 34.0...</td>\n",
       "      <td>6.037221e+09</td>\n",
       "      <td>At Risk of Gentrification</td>\n",
       "    </tr>\n",
       "    <tr>\n",
       "      <th>172</th>\n",
       "      <td>74</td>\n",
       "      <td>Pico-Union</td>\n",
       "      <td>POLYGON ((-118.28146 34.05250, -118.28094 34.0...</td>\n",
       "      <td>6.037210e+09</td>\n",
       "      <td>Advanced Gentrification</td>\n",
       "    </tr>\n",
       "    <tr>\n",
       "      <th>173</th>\n",
       "      <td>74</td>\n",
       "      <td>Pico-Union</td>\n",
       "      <td>POLYGON ((-118.28146 34.05250, -118.28094 34.0...</td>\n",
       "      <td>6.037210e+09</td>\n",
       "      <td>At Risk of Gentrification</td>\n",
       "    </tr>\n",
       "    <tr>\n",
       "      <th>174</th>\n",
       "      <td>74</td>\n",
       "      <td>Pico-Union</td>\n",
       "      <td>POLYGON ((-118.28146 34.05250, -118.28094 34.0...</td>\n",
       "      <td>6.037210e+09</td>\n",
       "      <td>At Risk of Gentrification</td>\n",
       "    </tr>\n",
       "    <tr>\n",
       "      <th>175</th>\n",
       "      <td>74</td>\n",
       "      <td>Pico-Union</td>\n",
       "      <td>POLYGON ((-118.28146 34.05250, -118.28094 34.0...</td>\n",
       "      <td>6.037210e+09</td>\n",
       "      <td>At Risk of Gentrification</td>\n",
       "    </tr>\n",
       "  </tbody>\n",
       "</table>\n",
       "<p>176 rows × 5 columns</p>\n",
       "</div>"
      ],
      "text/plain": [
       "     OBJECTID        name                                           geometry  \\\n",
       "0         107    Westlake  POLYGON ((-118.25908 34.05389, -118.25984 34.0...   \n",
       "1         107    Westlake  POLYGON ((-118.25908 34.05389, -118.25984 34.0...   \n",
       "2         107    Westlake  POLYGON ((-118.25908 34.05389, -118.25984 34.0...   \n",
       "3         107    Westlake  POLYGON ((-118.25908 34.05389, -118.25984 34.0...   \n",
       "4         107    Westlake  POLYGON ((-118.25908 34.05389, -118.25984 34.0...   \n",
       "..        ...         ...                                                ...   \n",
       "171        74  Pico-Union  POLYGON ((-118.28146 34.05250, -118.28094 34.0...   \n",
       "172        74  Pico-Union  POLYGON ((-118.28146 34.05250, -118.28094 34.0...   \n",
       "173        74  Pico-Union  POLYGON ((-118.28146 34.05250, -118.28094 34.0...   \n",
       "174        74  Pico-Union  POLYGON ((-118.28146 34.05250, -118.28094 34.0...   \n",
       "175        74  Pico-Union  POLYGON ((-118.28146 34.05250, -118.28094 34.0...   \n",
       "\n",
       "            GEOID                                Typology  \n",
       "0    6.037208e+09                 Advanced Gentrification  \n",
       "1    6.037210e+09                 Advanced Gentrification  \n",
       "2    6.037209e+09            Early/Ongoing Gentrification  \n",
       "3    6.037209e+09            Early/Ongoing Gentrification  \n",
       "4    6.037208e+09  Low-Income/Susceptible to Displacement  \n",
       "..            ...                                     ...  \n",
       "171  6.037221e+09               At Risk of Gentrification  \n",
       "172  6.037210e+09                 Advanced Gentrification  \n",
       "173  6.037210e+09               At Risk of Gentrification  \n",
       "174  6.037210e+09               At Risk of Gentrification  \n",
       "175  6.037210e+09               At Risk of Gentrification  \n",
       "\n",
       "[176 rows x 5 columns]"
      ]
     },
     "execution_count": 1298,
     "metadata": {},
     "output_type": "execute_result"
    }
   ],
   "source": [
    "final_join = join4.append(Pico_Union, ignore_index=True)\n",
    "final_join"
   ]
  },
  {
   "cell_type": "markdown",
   "id": "36bc16b6",
   "metadata": {},
   "source": [
    "After isolating the 6 neighborhoods of interest, we are left with 176 census tracts. "
   ]
  },
  {
   "cell_type": "markdown",
   "id": "793750bf",
   "metadata": {},
   "source": [
    "## Census Data - Household Size"
   ]
  },
  {
   "cell_type": "markdown",
   "id": "e0069400",
   "metadata": {},
   "source": [
    "Next, I turn to the census data.I begin by reading in and cleaning household size data for all census tracts in LA from 2010.  "
   ]
  },
  {
   "cell_type": "code",
   "execution_count": 1299,
   "id": "d5a45ad2",
   "metadata": {},
   "outputs": [
    {
     "data": {
      "text/html": [
       "<div>\n",
       "<style scoped>\n",
       "    .dataframe tbody tr th:only-of-type {\n",
       "        vertical-align: middle;\n",
       "    }\n",
       "\n",
       "    .dataframe tbody tr th {\n",
       "        vertical-align: top;\n",
       "    }\n",
       "\n",
       "    .dataframe thead th {\n",
       "        text-align: right;\n",
       "    }\n",
       "</style>\n",
       "<table border=\"1\" class=\"dataframe\">\n",
       "  <thead>\n",
       "    <tr style=\"text-align: right;\">\n",
       "      <th></th>\n",
       "      <th>GEO_ID</th>\n",
       "      <th>B25010_001E</th>\n",
       "      <th>B25010_001M</th>\n",
       "      <th>B25010_002E</th>\n",
       "      <th>B25010_002M</th>\n",
       "      <th>B25010_003E</th>\n",
       "      <th>B25010_003M</th>\n",
       "      <th>NAME</th>\n",
       "    </tr>\n",
       "  </thead>\n",
       "  <tbody>\n",
       "    <tr>\n",
       "      <th>0</th>\n",
       "      <td>id</td>\n",
       "      <td>Estimate!!Total</td>\n",
       "      <td>Margin of Error!!Total</td>\n",
       "      <td>Estimate!!Total!!Owner occupied</td>\n",
       "      <td>Margin of Error!!Total!!Owner occupied</td>\n",
       "      <td>Estimate!!Total!!Renter occupied</td>\n",
       "      <td>Margin of Error!!Total!!Renter occupied</td>\n",
       "      <td>Geographic Area Name</td>\n",
       "    </tr>\n",
       "    <tr>\n",
       "      <th>1</th>\n",
       "      <td>1400000US06037101110</td>\n",
       "      <td>2.94</td>\n",
       "      <td>0.21</td>\n",
       "      <td>3.15</td>\n",
       "      <td>0.37</td>\n",
       "      <td>2.75</td>\n",
       "      <td>0.29</td>\n",
       "      <td>Census Tract 1011.10, Los Angeles County, Cali...</td>\n",
       "    </tr>\n",
       "    <tr>\n",
       "      <th>2</th>\n",
       "      <td>1400000US06037101122</td>\n",
       "      <td>2.81</td>\n",
       "      <td>0.22</td>\n",
       "      <td>2.90</td>\n",
       "      <td>0.24</td>\n",
       "      <td>2.14</td>\n",
       "      <td>0.74</td>\n",
       "      <td>Census Tract 1011.22, Los Angeles County, Cali...</td>\n",
       "    </tr>\n",
       "    <tr>\n",
       "      <th>3</th>\n",
       "      <td>1400000US06037101210</td>\n",
       "      <td>3.04</td>\n",
       "      <td>0.21</td>\n",
       "      <td>3.57</td>\n",
       "      <td>0.68</td>\n",
       "      <td>2.92</td>\n",
       "      <td>0.23</td>\n",
       "      <td>Census Tract 1012.10, Los Angeles County, Cali...</td>\n",
       "    </tr>\n",
       "    <tr>\n",
       "      <th>4</th>\n",
       "      <td>1400000US06037101220</td>\n",
       "      <td>2.72</td>\n",
       "      <td>0.22</td>\n",
       "      <td>3.21</td>\n",
       "      <td>0.55</td>\n",
       "      <td>2.40</td>\n",
       "      <td>0.33</td>\n",
       "      <td>Census Tract 1012.20, Los Angeles County, Cali...</td>\n",
       "    </tr>\n",
       "    <tr>\n",
       "      <th>...</th>\n",
       "      <td>...</td>\n",
       "      <td>...</td>\n",
       "      <td>...</td>\n",
       "      <td>...</td>\n",
       "      <td>...</td>\n",
       "      <td>...</td>\n",
       "      <td>...</td>\n",
       "      <td>...</td>\n",
       "    </tr>\n",
       "    <tr>\n",
       "      <th>2342</th>\n",
       "      <td>1400000US06037980031</td>\n",
       "      <td>-</td>\n",
       "      <td>**</td>\n",
       "      <td>-</td>\n",
       "      <td>**</td>\n",
       "      <td>-</td>\n",
       "      <td>**</td>\n",
       "      <td>Census Tract 9800.31, Los Angeles County, Cali...</td>\n",
       "    </tr>\n",
       "    <tr>\n",
       "      <th>2343</th>\n",
       "      <td>1400000US06037980033</td>\n",
       "      <td>-</td>\n",
       "      <td>**</td>\n",
       "      <td>-</td>\n",
       "      <td>**</td>\n",
       "      <td>-</td>\n",
       "      <td>**</td>\n",
       "      <td>Census Tract 9800.33, Los Angeles County, Cali...</td>\n",
       "    </tr>\n",
       "    <tr>\n",
       "      <th>2344</th>\n",
       "      <td>1400000US06037990100</td>\n",
       "      <td>-</td>\n",
       "      <td>**</td>\n",
       "      <td>-</td>\n",
       "      <td>**</td>\n",
       "      <td>-</td>\n",
       "      <td>**</td>\n",
       "      <td>Census Tract 9901, Los Angeles County, California</td>\n",
       "    </tr>\n",
       "    <tr>\n",
       "      <th>2345</th>\n",
       "      <td>1400000US06037990200</td>\n",
       "      <td>-</td>\n",
       "      <td>**</td>\n",
       "      <td>-</td>\n",
       "      <td>**</td>\n",
       "      <td>-</td>\n",
       "      <td>**</td>\n",
       "      <td>Census Tract 9902, Los Angeles County, California</td>\n",
       "    </tr>\n",
       "    <tr>\n",
       "      <th>2346</th>\n",
       "      <td>1400000US06037990300</td>\n",
       "      <td>-</td>\n",
       "      <td>**</td>\n",
       "      <td>-</td>\n",
       "      <td>**</td>\n",
       "      <td>-</td>\n",
       "      <td>**</td>\n",
       "      <td>Census Tract 9903, Los Angeles County, California</td>\n",
       "    </tr>\n",
       "  </tbody>\n",
       "</table>\n",
       "<p>2347 rows × 8 columns</p>\n",
       "</div>"
      ],
      "text/plain": [
       "                    GEO_ID      B25010_001E             B25010_001M  \\\n",
       "0                       id  Estimate!!Total  Margin of Error!!Total   \n",
       "1     1400000US06037101110             2.94                    0.21   \n",
       "2     1400000US06037101122             2.81                    0.22   \n",
       "3     1400000US06037101210             3.04                    0.21   \n",
       "4     1400000US06037101220             2.72                    0.22   \n",
       "...                    ...              ...                     ...   \n",
       "2342  1400000US06037980031                -                      **   \n",
       "2343  1400000US06037980033                -                      **   \n",
       "2344  1400000US06037990100                -                      **   \n",
       "2345  1400000US06037990200                -                      **   \n",
       "2346  1400000US06037990300                -                      **   \n",
       "\n",
       "                          B25010_002E                             B25010_002M  \\\n",
       "0     Estimate!!Total!!Owner occupied  Margin of Error!!Total!!Owner occupied   \n",
       "1                                3.15                                    0.37   \n",
       "2                                2.90                                    0.24   \n",
       "3                                3.57                                    0.68   \n",
       "4                                3.21                                    0.55   \n",
       "...                               ...                                     ...   \n",
       "2342                                -                                      **   \n",
       "2343                                -                                      **   \n",
       "2344                                -                                      **   \n",
       "2345                                -                                      **   \n",
       "2346                                -                                      **   \n",
       "\n",
       "                           B25010_003E  \\\n",
       "0     Estimate!!Total!!Renter occupied   \n",
       "1                                 2.75   \n",
       "2                                 2.14   \n",
       "3                                 2.92   \n",
       "4                                 2.40   \n",
       "...                                ...   \n",
       "2342                                 -   \n",
       "2343                                 -   \n",
       "2344                                 -   \n",
       "2345                                 -   \n",
       "2346                                 -   \n",
       "\n",
       "                                  B25010_003M  \\\n",
       "0     Margin of Error!!Total!!Renter occupied   \n",
       "1                                        0.29   \n",
       "2                                        0.74   \n",
       "3                                        0.23   \n",
       "4                                        0.33   \n",
       "...                                       ...   \n",
       "2342                                       **   \n",
       "2343                                       **   \n",
       "2344                                       **   \n",
       "2345                                       **   \n",
       "2346                                       **   \n",
       "\n",
       "                                                   NAME  \n",
       "0                                  Geographic Area Name  \n",
       "1     Census Tract 1011.10, Los Angeles County, Cali...  \n",
       "2     Census Tract 1011.22, Los Angeles County, Cali...  \n",
       "3     Census Tract 1012.10, Los Angeles County, Cali...  \n",
       "4     Census Tract 1012.20, Los Angeles County, Cali...  \n",
       "...                                                 ...  \n",
       "2342  Census Tract 9800.31, Los Angeles County, Cali...  \n",
       "2343  Census Tract 9800.33, Los Angeles County, Cali...  \n",
       "2344  Census Tract 9901, Los Angeles County, California  \n",
       "2345  Census Tract 9902, Los Angeles County, California  \n",
       "2346  Census Tract 9903, Los Angeles County, California  \n",
       "\n",
       "[2347 rows x 8 columns]"
      ]
     },
     "execution_count": 1299,
     "metadata": {},
     "output_type": "execute_result"
    }
   ],
   "source": [
    "hh_size_2_2010 = pd.read_csv('Data/ACSDT5Y2010.B25010_data_with_overlays_2022-05-27T173947.csv')\n",
    "hh_size_2_2010"
   ]
  },
  {
   "cell_type": "code",
   "execution_count": 1300,
   "id": "7b53fe3b",
   "metadata": {},
   "outputs": [],
   "source": [
    "hh_size_2_2010 = hh_size_2_2010.rename(columns={\"B25010_001E\": \"Total_hhsize_2010\", \n",
    "                                            \"B25010_002E\": \"owner_occupied_hh_2010\", \n",
    "                                            \"B25010_003E\": \"renter_occupied_hh_2010\"})"
   ]
  },
  {
   "cell_type": "code",
   "execution_count": 1301,
   "id": "ca823f7e",
   "metadata": {},
   "outputs": [],
   "source": [
    "hh_size_2_2010 = hh_size_2_2010.drop(columns=['B25010_001M', 'B25010_002M', 'B25010_003M'])"
   ]
  },
  {
   "cell_type": "code",
   "execution_count": 1302,
   "id": "6f178535",
   "metadata": {},
   "outputs": [],
   "source": [
    "hh_size_2_2010.drop(index=hh_size_2_2010.index[0], \n",
    "        axis=0, \n",
    "        inplace=True)"
   ]
  },
  {
   "cell_type": "code",
   "execution_count": 1303,
   "id": "bd514279",
   "metadata": {},
   "outputs": [],
   "source": [
    "hh_size_2_2010['GEOID'] = hh_size_2_2010.GEO_ID.str.split('US0', 1, expand = True).get(1)\n",
    "hh_size_2_2010['GEOID'] = hh_size_2_2010.GEOID.str.replace('NA','0').astype(float)"
   ]
  },
  {
   "cell_type": "code",
   "execution_count": 1304,
   "id": "daa46002",
   "metadata": {},
   "outputs": [],
   "source": [
    "hh_size_2_2010['Total_hhsize_2010'] = hh_size_2_2010[\"Total_hhsize_2010\"].str.replace(\"-\",\"NaN\")\n",
    "hh_size_2_2010['owner_occupied_hh_2010'] = hh_size_2_2010[\"owner_occupied_hh_2010\"].str.replace(\"-\",\"NaN\")\n",
    "hh_size_2_2010['renter_occupied_hh_2010'] = hh_size_2_2010[\"renter_occupied_hh_2010\"].str.replace(\"-\",\"NaN\")"
   ]
  },
  {
   "cell_type": "code",
   "execution_count": 1305,
   "id": "bea7a8bd",
   "metadata": {},
   "outputs": [],
   "source": [
    "hh_size_2_2010['Total_hhsize_2010'] = hh_size_2_2010.Total_hhsize_2010.astype(float)\n",
    "hh_size_2_2010['owner_occupied_hh_2010'] = hh_size_2_2010.owner_occupied_hh_2010.astype(float)\n",
    "hh_size_2_2010['renter_occupied_hh_2010'] = hh_size_2_2010.renter_occupied_hh_2010.astype(float)"
   ]
  },
  {
   "cell_type": "markdown",
   "id": "ae9912ae",
   "metadata": {},
   "source": [
    "I then do the same process with the 2020 data. "
   ]
  },
  {
   "cell_type": "code",
   "execution_count": 1306,
   "id": "1e0ec59f",
   "metadata": {},
   "outputs": [
    {
     "data": {
      "text/html": [
       "<div>\n",
       "<style scoped>\n",
       "    .dataframe tbody tr th:only-of-type {\n",
       "        vertical-align: middle;\n",
       "    }\n",
       "\n",
       "    .dataframe tbody tr th {\n",
       "        vertical-align: top;\n",
       "    }\n",
       "\n",
       "    .dataframe thead th {\n",
       "        text-align: right;\n",
       "    }\n",
       "</style>\n",
       "<table border=\"1\" class=\"dataframe\">\n",
       "  <thead>\n",
       "    <tr style=\"text-align: right;\">\n",
       "      <th></th>\n",
       "      <th>B25010_001E</th>\n",
       "      <th>B25010_001M</th>\n",
       "      <th>B25010_002E</th>\n",
       "      <th>B25010_002M</th>\n",
       "      <th>B25010_003E</th>\n",
       "      <th>B25010_003M</th>\n",
       "      <th>GEO_ID</th>\n",
       "      <th>NAME</th>\n",
       "    </tr>\n",
       "  </thead>\n",
       "  <tbody>\n",
       "    <tr>\n",
       "      <th>0</th>\n",
       "      <td>Estimate!!Average household size --!!Total:</td>\n",
       "      <td>Margin of Error!!Average household size --!!To...</td>\n",
       "      <td>Estimate!!Average household size --!!Total:!!O...</td>\n",
       "      <td>Margin of Error!!Average household size --!!To...</td>\n",
       "      <td>Estimate!!Average household size --!!Total:!!R...</td>\n",
       "      <td>Margin of Error!!Average household size --!!To...</td>\n",
       "      <td>id</td>\n",
       "      <td>Geographic Area Name</td>\n",
       "    </tr>\n",
       "    <tr>\n",
       "      <th>1</th>\n",
       "      <td>2.54</td>\n",
       "      <td>0.21</td>\n",
       "      <td>2.56</td>\n",
       "      <td>0.28</td>\n",
       "      <td>2.52</td>\n",
       "      <td>0.37</td>\n",
       "      <td>1400000US06037101110</td>\n",
       "      <td>Census Tract 1011.10, Los Angeles County, Cali...</td>\n",
       "    </tr>\n",
       "    <tr>\n",
       "      <th>2</th>\n",
       "      <td>3.07</td>\n",
       "      <td>0.46</td>\n",
       "      <td>2.94</td>\n",
       "      <td>0.26</td>\n",
       "      <td>3.45</td>\n",
       "      <td>1.68</td>\n",
       "      <td>1400000US06037101122</td>\n",
       "      <td>Census Tract 1011.22, Los Angeles County, Cali...</td>\n",
       "    </tr>\n",
       "    <tr>\n",
       "      <th>3</th>\n",
       "      <td>2.64</td>\n",
       "      <td>0.32</td>\n",
       "      <td>2.90</td>\n",
       "      <td>0.70</td>\n",
       "      <td>2.45</td>\n",
       "      <td>0.28</td>\n",
       "      <td>1400000US06037101220</td>\n",
       "      <td>Census Tract 1012.20, Los Angeles County, Cali...</td>\n",
       "    </tr>\n",
       "    <tr>\n",
       "      <th>4</th>\n",
       "      <td>2.46</td>\n",
       "      <td>0.35</td>\n",
       "      <td>2.26</td>\n",
       "      <td>0.90</td>\n",
       "      <td>2.52</td>\n",
       "      <td>0.37</td>\n",
       "      <td>1400000US06037101221</td>\n",
       "      <td>Census Tract 1012.21, Los Angeles County, Cali...</td>\n",
       "    </tr>\n",
       "    <tr>\n",
       "      <th>...</th>\n",
       "      <td>...</td>\n",
       "      <td>...</td>\n",
       "      <td>...</td>\n",
       "      <td>...</td>\n",
       "      <td>...</td>\n",
       "      <td>...</td>\n",
       "      <td>...</td>\n",
       "      <td>...</td>\n",
       "    </tr>\n",
       "    <tr>\n",
       "      <th>2494</th>\n",
       "      <td>-</td>\n",
       "      <td>**</td>\n",
       "      <td>-</td>\n",
       "      <td>**</td>\n",
       "      <td>-</td>\n",
       "      <td>**</td>\n",
       "      <td>1400000US06037980038</td>\n",
       "      <td>Census Tract 9800.38, Los Angeles County, Cali...</td>\n",
       "    </tr>\n",
       "    <tr>\n",
       "      <th>2495</th>\n",
       "      <td>-</td>\n",
       "      <td>**</td>\n",
       "      <td>-</td>\n",
       "      <td>**</td>\n",
       "      <td>-</td>\n",
       "      <td>**</td>\n",
       "      <td>1400000US06037980039</td>\n",
       "      <td>Census Tract 9800.39, Los Angeles County, Cali...</td>\n",
       "    </tr>\n",
       "    <tr>\n",
       "      <th>2496</th>\n",
       "      <td>-</td>\n",
       "      <td>**</td>\n",
       "      <td>-</td>\n",
       "      <td>**</td>\n",
       "      <td>-</td>\n",
       "      <td>**</td>\n",
       "      <td>1400000US06037990100</td>\n",
       "      <td>Census Tract 9901, Los Angeles County, California</td>\n",
       "    </tr>\n",
       "    <tr>\n",
       "      <th>2497</th>\n",
       "      <td>-</td>\n",
       "      <td>**</td>\n",
       "      <td>-</td>\n",
       "      <td>**</td>\n",
       "      <td>-</td>\n",
       "      <td>**</td>\n",
       "      <td>1400000US06037990200</td>\n",
       "      <td>Census Tract 9902, Los Angeles County, California</td>\n",
       "    </tr>\n",
       "    <tr>\n",
       "      <th>2498</th>\n",
       "      <td>-</td>\n",
       "      <td>**</td>\n",
       "      <td>-</td>\n",
       "      <td>**</td>\n",
       "      <td>-</td>\n",
       "      <td>**</td>\n",
       "      <td>1400000US06037990300</td>\n",
       "      <td>Census Tract 9903, Los Angeles County, California</td>\n",
       "    </tr>\n",
       "  </tbody>\n",
       "</table>\n",
       "<p>2499 rows × 8 columns</p>\n",
       "</div>"
      ],
      "text/plain": [
       "                                      B25010_001E  \\\n",
       "0     Estimate!!Average household size --!!Total:   \n",
       "1                                            2.54   \n",
       "2                                            3.07   \n",
       "3                                            2.64   \n",
       "4                                            2.46   \n",
       "...                                           ...   \n",
       "2494                                            -   \n",
       "2495                                            -   \n",
       "2496                                            -   \n",
       "2497                                            -   \n",
       "2498                                            -   \n",
       "\n",
       "                                            B25010_001M  \\\n",
       "0     Margin of Error!!Average household size --!!To...   \n",
       "1                                                  0.21   \n",
       "2                                                  0.46   \n",
       "3                                                  0.32   \n",
       "4                                                  0.35   \n",
       "...                                                 ...   \n",
       "2494                                                 **   \n",
       "2495                                                 **   \n",
       "2496                                                 **   \n",
       "2497                                                 **   \n",
       "2498                                                 **   \n",
       "\n",
       "                                            B25010_002E  \\\n",
       "0     Estimate!!Average household size --!!Total:!!O...   \n",
       "1                                                  2.56   \n",
       "2                                                  2.94   \n",
       "3                                                  2.90   \n",
       "4                                                  2.26   \n",
       "...                                                 ...   \n",
       "2494                                                  -   \n",
       "2495                                                  -   \n",
       "2496                                                  -   \n",
       "2497                                                  -   \n",
       "2498                                                  -   \n",
       "\n",
       "                                            B25010_002M  \\\n",
       "0     Margin of Error!!Average household size --!!To...   \n",
       "1                                                  0.28   \n",
       "2                                                  0.26   \n",
       "3                                                  0.70   \n",
       "4                                                  0.90   \n",
       "...                                                 ...   \n",
       "2494                                                 **   \n",
       "2495                                                 **   \n",
       "2496                                                 **   \n",
       "2497                                                 **   \n",
       "2498                                                 **   \n",
       "\n",
       "                                            B25010_003E  \\\n",
       "0     Estimate!!Average household size --!!Total:!!R...   \n",
       "1                                                  2.52   \n",
       "2                                                  3.45   \n",
       "3                                                  2.45   \n",
       "4                                                  2.52   \n",
       "...                                                 ...   \n",
       "2494                                                  -   \n",
       "2495                                                  -   \n",
       "2496                                                  -   \n",
       "2497                                                  -   \n",
       "2498                                                  -   \n",
       "\n",
       "                                            B25010_003M                GEO_ID  \\\n",
       "0     Margin of Error!!Average household size --!!To...                    id   \n",
       "1                                                  0.37  1400000US06037101110   \n",
       "2                                                  1.68  1400000US06037101122   \n",
       "3                                                  0.28  1400000US06037101220   \n",
       "4                                                  0.37  1400000US06037101221   \n",
       "...                                                 ...                   ...   \n",
       "2494                                                 **  1400000US06037980038   \n",
       "2495                                                 **  1400000US06037980039   \n",
       "2496                                                 **  1400000US06037990100   \n",
       "2497                                                 **  1400000US06037990200   \n",
       "2498                                                 **  1400000US06037990300   \n",
       "\n",
       "                                                   NAME  \n",
       "0                                  Geographic Area Name  \n",
       "1     Census Tract 1011.10, Los Angeles County, Cali...  \n",
       "2     Census Tract 1011.22, Los Angeles County, Cali...  \n",
       "3     Census Tract 1012.20, Los Angeles County, Cali...  \n",
       "4     Census Tract 1012.21, Los Angeles County, Cali...  \n",
       "...                                                 ...  \n",
       "2494  Census Tract 9800.38, Los Angeles County, Cali...  \n",
       "2495  Census Tract 9800.39, Los Angeles County, Cali...  \n",
       "2496  Census Tract 9901, Los Angeles County, California  \n",
       "2497  Census Tract 9902, Los Angeles County, California  \n",
       "2498  Census Tract 9903, Los Angeles County, California  \n",
       "\n",
       "[2499 rows x 8 columns]"
      ]
     },
     "execution_count": 1306,
     "metadata": {},
     "output_type": "execute_result"
    }
   ],
   "source": [
    "hh_size_2_2020 = pd.read_csv('Data/ACSDT5Y2020.B25010_data_with_overlays_2022-05-29T230437.csv')\n",
    "hh_size_2_2020"
   ]
  },
  {
   "cell_type": "code",
   "execution_count": 1307,
   "id": "26f9556c",
   "metadata": {},
   "outputs": [],
   "source": [
    "hh_size_2_2020 = hh_size_2_2020.rename(columns={\"B25010_001E\": \"Total_hhsize\", \n",
    "                                            \"B25010_002E\": \"owner_occupied_hh\", \n",
    "                                            \"B25010_003E\": \"renter_occupied_hh\"})"
   ]
  },
  {
   "cell_type": "code",
   "execution_count": 1308,
   "id": "5cddb2cb",
   "metadata": {},
   "outputs": [],
   "source": [
    "hh_size_2_2020 = hh_size_2_2020.drop(columns=['B25010_001M', 'B25010_002M', 'B25010_003M'])"
   ]
  },
  {
   "cell_type": "code",
   "execution_count": 1309,
   "id": "b8a809c9",
   "metadata": {},
   "outputs": [],
   "source": [
    "hh_size_2_2020.drop(index=hh_size_2_2020.index[0], \n",
    "        axis=0, \n",
    "        inplace=True)"
   ]
  },
  {
   "cell_type": "code",
   "execution_count": 1310,
   "id": "43ddb8a4",
   "metadata": {},
   "outputs": [],
   "source": [
    "hh_size_2_2020['GEOID'] = hh_size_2_2020.GEO_ID.str.split('US0', 1, expand = True).get(1)\n",
    "hh_size_2_2020['GEOID'] = hh_size_2_2020.GEOID.str.replace('NA','0').astype(float)"
   ]
  },
  {
   "cell_type": "code",
   "execution_count": 1311,
   "id": "0db234b3",
   "metadata": {},
   "outputs": [],
   "source": [
    "hh_size_2_2020['Total_hhsize'] = hh_size_2_2020[\"Total_hhsize\"].str.replace(\"-\",\"NaN\")\n",
    "hh_size_2_2020['owner_occupied_hh'] = hh_size_2_2020[\"owner_occupied_hh\"].str.replace(\"-\",\"NaN\")\n",
    "hh_size_2_2020['renter_occupied_hh'] = hh_size_2_2020[\"renter_occupied_hh\"].str.replace(\"-\",\"NaN\")"
   ]
  },
  {
   "cell_type": "code",
   "execution_count": 1312,
   "id": "ae06e79b",
   "metadata": {},
   "outputs": [],
   "source": [
    "hh_size_2_2020['Total_hhsize'] = hh_size_2_2020.Total_hhsize.astype(float)\n",
    "hh_size_2_2020['owner_occupied_hh'] = hh_size_2_2020.owner_occupied_hh.astype(float)\n",
    "hh_size_2_2020['renter_occupied_hh'] = hh_size_2_2020.renter_occupied_hh.astype(float)"
   ]
  },
  {
   "cell_type": "markdown",
   "id": "73af337c",
   "metadata": {},
   "source": [
    "I merge the 2010, and then the 2020, household size data to my base dataset from above (which includes the census tracts, neighborhoods, and typologies for our neighborhoods of interest). All 176 census tracts from the base dataset match with the household size data. I do some final cleanup and then calculate percent change across the 2 years. "
   ]
  },
  {
   "cell_type": "code",
   "execution_count": 1313,
   "id": "7bcf7d5e",
   "metadata": {},
   "outputs": [],
   "source": [
    "final_join_hh_size = final_join.merge(\n",
    "    hh_size_2_2010, \n",
    "    on=[\"GEOID\"], \n",
    "    how=\"left\",\n",
    "    indicator=True,\n",
    ")"
   ]
  },
  {
   "cell_type": "code",
   "execution_count": 1314,
   "id": "1657df78",
   "metadata": {},
   "outputs": [],
   "source": [
    "final_join_hh_size.query(\"_merge != 'both'\")\n",
    "final_join_hh_size = final_join_hh_size.rename(columns={\"_merge\": \"_merge1\"})"
   ]
  },
  {
   "cell_type": "code",
   "execution_count": 1315,
   "id": "60295982",
   "metadata": {},
   "outputs": [
    {
     "data": {
      "text/html": [
       "<div>\n",
       "<style scoped>\n",
       "    .dataframe tbody tr th:only-of-type {\n",
       "        vertical-align: middle;\n",
       "    }\n",
       "\n",
       "    .dataframe tbody tr th {\n",
       "        vertical-align: top;\n",
       "    }\n",
       "\n",
       "    .dataframe thead th {\n",
       "        text-align: right;\n",
       "    }\n",
       "</style>\n",
       "<table border=\"1\" class=\"dataframe\">\n",
       "  <thead>\n",
       "    <tr style=\"text-align: right;\">\n",
       "      <th></th>\n",
       "      <th>OBJECTID</th>\n",
       "      <th>name</th>\n",
       "      <th>geometry</th>\n",
       "      <th>GEOID</th>\n",
       "      <th>Typology</th>\n",
       "      <th>GEO_ID_x</th>\n",
       "      <th>Total_hhsize_2010</th>\n",
       "      <th>owner_occupied_hh_2010</th>\n",
       "      <th>renter_occupied_hh_2010</th>\n",
       "      <th>NAME_x</th>\n",
       "      <th>_merge1</th>\n",
       "      <th>Total_hhsize</th>\n",
       "      <th>owner_occupied_hh</th>\n",
       "      <th>renter_occupied_hh</th>\n",
       "      <th>GEO_ID_y</th>\n",
       "      <th>NAME_y</th>\n",
       "      <th>_merge</th>\n",
       "    </tr>\n",
       "  </thead>\n",
       "  <tbody>\n",
       "    <tr>\n",
       "      <th>0</th>\n",
       "      <td>107</td>\n",
       "      <td>Westlake</td>\n",
       "      <td>POLYGON ((-118.25908 34.05389, -118.25984 34.0...</td>\n",
       "      <td>6.037208e+09</td>\n",
       "      <td>Advanced Gentrification</td>\n",
       "      <td>1400000US06037207710</td>\n",
       "      <td>1.49</td>\n",
       "      <td>1.48</td>\n",
       "      <td>1.49</td>\n",
       "      <td>Census Tract 2077.10, Los Angeles County, Cali...</td>\n",
       "      <td>both</td>\n",
       "      <td>NaN</td>\n",
       "      <td>NaN</td>\n",
       "      <td>NaN</td>\n",
       "      <td>NaN</td>\n",
       "      <td>NaN</td>\n",
       "      <td>left_only</td>\n",
       "    </tr>\n",
       "    <tr>\n",
       "      <th>1</th>\n",
       "      <td>107</td>\n",
       "      <td>Westlake</td>\n",
       "      <td>POLYGON ((-118.25908 34.05389, -118.25984 34.0...</td>\n",
       "      <td>6.037210e+09</td>\n",
       "      <td>Advanced Gentrification</td>\n",
       "      <td>1400000US06037210010</td>\n",
       "      <td>2.99</td>\n",
       "      <td>3.20</td>\n",
       "      <td>2.97</td>\n",
       "      <td>Census Tract 2100.10, Los Angeles County, Cali...</td>\n",
       "      <td>both</td>\n",
       "      <td>2.72</td>\n",
       "      <td>2.77</td>\n",
       "      <td>2.72</td>\n",
       "      <td>1400000US06037210010</td>\n",
       "      <td>Census Tract 2100.10, Los Angeles County, Cali...</td>\n",
       "      <td>both</td>\n",
       "    </tr>\n",
       "    <tr>\n",
       "      <th>2</th>\n",
       "      <td>107</td>\n",
       "      <td>Westlake</td>\n",
       "      <td>POLYGON ((-118.25908 34.05389, -118.25984 34.0...</td>\n",
       "      <td>6.037209e+09</td>\n",
       "      <td>Early/Ongoing Gentrification</td>\n",
       "      <td>1400000US06037209300</td>\n",
       "      <td>2.73</td>\n",
       "      <td>4.47</td>\n",
       "      <td>2.68</td>\n",
       "      <td>Census Tract 2093, Los Angeles County, California</td>\n",
       "      <td>both</td>\n",
       "      <td>2.35</td>\n",
       "      <td>2.30</td>\n",
       "      <td>2.35</td>\n",
       "      <td>1400000US06037209300</td>\n",
       "      <td>Census Tract 2093, Los Angeles County, California</td>\n",
       "      <td>both</td>\n",
       "    </tr>\n",
       "    <tr>\n",
       "      <th>3</th>\n",
       "      <td>107</td>\n",
       "      <td>Westlake</td>\n",
       "      <td>POLYGON ((-118.25908 34.05389, -118.25984 34.0...</td>\n",
       "      <td>6.037209e+09</td>\n",
       "      <td>Early/Ongoing Gentrification</td>\n",
       "      <td>1400000US06037209200</td>\n",
       "      <td>2.05</td>\n",
       "      <td>NaN</td>\n",
       "      <td>2.10</td>\n",
       "      <td>Census Tract 2092, Los Angeles County, California</td>\n",
       "      <td>both</td>\n",
       "      <td>NaN</td>\n",
       "      <td>NaN</td>\n",
       "      <td>NaN</td>\n",
       "      <td>NaN</td>\n",
       "      <td>NaN</td>\n",
       "      <td>left_only</td>\n",
       "    </tr>\n",
       "    <tr>\n",
       "      <th>4</th>\n",
       "      <td>107</td>\n",
       "      <td>Westlake</td>\n",
       "      <td>POLYGON ((-118.25908 34.05389, -118.25984 34.0...</td>\n",
       "      <td>6.037208e+09</td>\n",
       "      <td>Low-Income/Susceptible to Displacement</td>\n",
       "      <td>1400000US06037208000</td>\n",
       "      <td>3.03</td>\n",
       "      <td>2.63</td>\n",
       "      <td>3.06</td>\n",
       "      <td>Census Tract 2080, Los Angeles County, California</td>\n",
       "      <td>both</td>\n",
       "      <td>NaN</td>\n",
       "      <td>NaN</td>\n",
       "      <td>NaN</td>\n",
       "      <td>NaN</td>\n",
       "      <td>NaN</td>\n",
       "      <td>left_only</td>\n",
       "    </tr>\n",
       "    <tr>\n",
       "      <th>...</th>\n",
       "      <td>...</td>\n",
       "      <td>...</td>\n",
       "      <td>...</td>\n",
       "      <td>...</td>\n",
       "      <td>...</td>\n",
       "      <td>...</td>\n",
       "      <td>...</td>\n",
       "      <td>...</td>\n",
       "      <td>...</td>\n",
       "      <td>...</td>\n",
       "      <td>...</td>\n",
       "      <td>...</td>\n",
       "      <td>...</td>\n",
       "      <td>...</td>\n",
       "      <td>...</td>\n",
       "      <td>...</td>\n",
       "      <td>...</td>\n",
       "    </tr>\n",
       "    <tr>\n",
       "      <th>171</th>\n",
       "      <td>74</td>\n",
       "      <td>Pico-Union</td>\n",
       "      <td>POLYGON ((-118.28146 34.05250, -118.28094 34.0...</td>\n",
       "      <td>6.037221e+09</td>\n",
       "      <td>At Risk of Gentrification</td>\n",
       "      <td>1400000US06037221110</td>\n",
       "      <td>3.01</td>\n",
       "      <td>2.96</td>\n",
       "      <td>3.01</td>\n",
       "      <td>Census Tract 2211.10, Los Angeles County, Cali...</td>\n",
       "      <td>both</td>\n",
       "      <td>3.30</td>\n",
       "      <td>2.16</td>\n",
       "      <td>3.47</td>\n",
       "      <td>1400000US06037221110</td>\n",
       "      <td>Census Tract 2211.10, Los Angeles County, Cali...</td>\n",
       "      <td>both</td>\n",
       "    </tr>\n",
       "    <tr>\n",
       "      <th>172</th>\n",
       "      <td>74</td>\n",
       "      <td>Pico-Union</td>\n",
       "      <td>POLYGON ((-118.28146 34.05250, -118.28094 34.0...</td>\n",
       "      <td>6.037210e+09</td>\n",
       "      <td>Advanced Gentrification</td>\n",
       "      <td>1400000US06037209820</td>\n",
       "      <td>4.06</td>\n",
       "      <td>5.26</td>\n",
       "      <td>3.78</td>\n",
       "      <td>Census Tract 2098.20, Los Angeles County, Cali...</td>\n",
       "      <td>both</td>\n",
       "      <td>3.61</td>\n",
       "      <td>4.53</td>\n",
       "      <td>3.43</td>\n",
       "      <td>1400000US06037209820</td>\n",
       "      <td>Census Tract 2098.20, Los Angeles County, Cali...</td>\n",
       "      <td>both</td>\n",
       "    </tr>\n",
       "    <tr>\n",
       "      <th>173</th>\n",
       "      <td>74</td>\n",
       "      <td>Pico-Union</td>\n",
       "      <td>POLYGON ((-118.28146 34.05250, -118.28094 34.0...</td>\n",
       "      <td>6.037210e+09</td>\n",
       "      <td>At Risk of Gentrification</td>\n",
       "      <td>1400000US06037209810</td>\n",
       "      <td>2.53</td>\n",
       "      <td>2.09</td>\n",
       "      <td>2.54</td>\n",
       "      <td>Census Tract 2098.10, Los Angeles County, Cali...</td>\n",
       "      <td>both</td>\n",
       "      <td>2.86</td>\n",
       "      <td>2.20</td>\n",
       "      <td>2.87</td>\n",
       "      <td>1400000US06037209810</td>\n",
       "      <td>Census Tract 2098.10, Los Angeles County, Cali...</td>\n",
       "      <td>both</td>\n",
       "    </tr>\n",
       "    <tr>\n",
       "      <th>174</th>\n",
       "      <td>74</td>\n",
       "      <td>Pico-Union</td>\n",
       "      <td>POLYGON ((-118.28146 34.05250, -118.28094 34.0...</td>\n",
       "      <td>6.037210e+09</td>\n",
       "      <td>At Risk of Gentrification</td>\n",
       "      <td>1400000US06037209520</td>\n",
       "      <td>3.28</td>\n",
       "      <td>5.11</td>\n",
       "      <td>3.09</td>\n",
       "      <td>Census Tract 2095.20, Los Angeles County, Cali...</td>\n",
       "      <td>both</td>\n",
       "      <td>3.03</td>\n",
       "      <td>4.33</td>\n",
       "      <td>3.02</td>\n",
       "      <td>1400000US06037209520</td>\n",
       "      <td>Census Tract 2095.20, Los Angeles County, Cali...</td>\n",
       "      <td>both</td>\n",
       "    </tr>\n",
       "    <tr>\n",
       "      <th>175</th>\n",
       "      <td>74</td>\n",
       "      <td>Pico-Union</td>\n",
       "      <td>POLYGON ((-118.28146 34.05250, -118.28094 34.0...</td>\n",
       "      <td>6.037210e+09</td>\n",
       "      <td>At Risk of Gentrification</td>\n",
       "      <td>1400000US06037209510</td>\n",
       "      <td>2.81</td>\n",
       "      <td>NaN</td>\n",
       "      <td>2.81</td>\n",
       "      <td>Census Tract 2095.10, Los Angeles County, Cali...</td>\n",
       "      <td>both</td>\n",
       "      <td>3.00</td>\n",
       "      <td>1.88</td>\n",
       "      <td>3.01</td>\n",
       "      <td>1400000US06037209510</td>\n",
       "      <td>Census Tract 2095.10, Los Angeles County, Cali...</td>\n",
       "      <td>both</td>\n",
       "    </tr>\n",
       "  </tbody>\n",
       "</table>\n",
       "<p>176 rows × 17 columns</p>\n",
       "</div>"
      ],
      "text/plain": [
       "     OBJECTID        name                                           geometry  \\\n",
       "0         107    Westlake  POLYGON ((-118.25908 34.05389, -118.25984 34.0...   \n",
       "1         107    Westlake  POLYGON ((-118.25908 34.05389, -118.25984 34.0...   \n",
       "2         107    Westlake  POLYGON ((-118.25908 34.05389, -118.25984 34.0...   \n",
       "3         107    Westlake  POLYGON ((-118.25908 34.05389, -118.25984 34.0...   \n",
       "4         107    Westlake  POLYGON ((-118.25908 34.05389, -118.25984 34.0...   \n",
       "..        ...         ...                                                ...   \n",
       "171        74  Pico-Union  POLYGON ((-118.28146 34.05250, -118.28094 34.0...   \n",
       "172        74  Pico-Union  POLYGON ((-118.28146 34.05250, -118.28094 34.0...   \n",
       "173        74  Pico-Union  POLYGON ((-118.28146 34.05250, -118.28094 34.0...   \n",
       "174        74  Pico-Union  POLYGON ((-118.28146 34.05250, -118.28094 34.0...   \n",
       "175        74  Pico-Union  POLYGON ((-118.28146 34.05250, -118.28094 34.0...   \n",
       "\n",
       "            GEOID                                Typology  \\\n",
       "0    6.037208e+09                 Advanced Gentrification   \n",
       "1    6.037210e+09                 Advanced Gentrification   \n",
       "2    6.037209e+09            Early/Ongoing Gentrification   \n",
       "3    6.037209e+09            Early/Ongoing Gentrification   \n",
       "4    6.037208e+09  Low-Income/Susceptible to Displacement   \n",
       "..            ...                                     ...   \n",
       "171  6.037221e+09               At Risk of Gentrification   \n",
       "172  6.037210e+09                 Advanced Gentrification   \n",
       "173  6.037210e+09               At Risk of Gentrification   \n",
       "174  6.037210e+09               At Risk of Gentrification   \n",
       "175  6.037210e+09               At Risk of Gentrification   \n",
       "\n",
       "                 GEO_ID_x  Total_hhsize_2010  owner_occupied_hh_2010  \\\n",
       "0    1400000US06037207710               1.49                    1.48   \n",
       "1    1400000US06037210010               2.99                    3.20   \n",
       "2    1400000US06037209300               2.73                    4.47   \n",
       "3    1400000US06037209200               2.05                     NaN   \n",
       "4    1400000US06037208000               3.03                    2.63   \n",
       "..                    ...                ...                     ...   \n",
       "171  1400000US06037221110               3.01                    2.96   \n",
       "172  1400000US06037209820               4.06                    5.26   \n",
       "173  1400000US06037209810               2.53                    2.09   \n",
       "174  1400000US06037209520               3.28                    5.11   \n",
       "175  1400000US06037209510               2.81                     NaN   \n",
       "\n",
       "     renter_occupied_hh_2010  \\\n",
       "0                       1.49   \n",
       "1                       2.97   \n",
       "2                       2.68   \n",
       "3                       2.10   \n",
       "4                       3.06   \n",
       "..                       ...   \n",
       "171                     3.01   \n",
       "172                     3.78   \n",
       "173                     2.54   \n",
       "174                     3.09   \n",
       "175                     2.81   \n",
       "\n",
       "                                                NAME_x _merge1  Total_hhsize  \\\n",
       "0    Census Tract 2077.10, Los Angeles County, Cali...    both           NaN   \n",
       "1    Census Tract 2100.10, Los Angeles County, Cali...    both          2.72   \n",
       "2    Census Tract 2093, Los Angeles County, California    both          2.35   \n",
       "3    Census Tract 2092, Los Angeles County, California    both           NaN   \n",
       "4    Census Tract 2080, Los Angeles County, California    both           NaN   \n",
       "..                                                 ...     ...           ...   \n",
       "171  Census Tract 2211.10, Los Angeles County, Cali...    both          3.30   \n",
       "172  Census Tract 2098.20, Los Angeles County, Cali...    both          3.61   \n",
       "173  Census Tract 2098.10, Los Angeles County, Cali...    both          2.86   \n",
       "174  Census Tract 2095.20, Los Angeles County, Cali...    both          3.03   \n",
       "175  Census Tract 2095.10, Los Angeles County, Cali...    both          3.00   \n",
       "\n",
       "     owner_occupied_hh  renter_occupied_hh              GEO_ID_y  \\\n",
       "0                  NaN                 NaN                   NaN   \n",
       "1                 2.77                2.72  1400000US06037210010   \n",
       "2                 2.30                2.35  1400000US06037209300   \n",
       "3                  NaN                 NaN                   NaN   \n",
       "4                  NaN                 NaN                   NaN   \n",
       "..                 ...                 ...                   ...   \n",
       "171               2.16                3.47  1400000US06037221110   \n",
       "172               4.53                3.43  1400000US06037209820   \n",
       "173               2.20                2.87  1400000US06037209810   \n",
       "174               4.33                3.02  1400000US06037209520   \n",
       "175               1.88                3.01  1400000US06037209510   \n",
       "\n",
       "                                                NAME_y     _merge  \n",
       "0                                                  NaN  left_only  \n",
       "1    Census Tract 2100.10, Los Angeles County, Cali...       both  \n",
       "2    Census Tract 2093, Los Angeles County, California       both  \n",
       "3                                                  NaN  left_only  \n",
       "4                                                  NaN  left_only  \n",
       "..                                                 ...        ...  \n",
       "171  Census Tract 2211.10, Los Angeles County, Cali...       both  \n",
       "172  Census Tract 2098.20, Los Angeles County, Cali...       both  \n",
       "173  Census Tract 2098.10, Los Angeles County, Cali...       both  \n",
       "174  Census Tract 2095.20, Los Angeles County, Cali...       both  \n",
       "175  Census Tract 2095.10, Los Angeles County, Cali...       both  \n",
       "\n",
       "[176 rows x 17 columns]"
      ]
     },
     "execution_count": 1315,
     "metadata": {},
     "output_type": "execute_result"
    }
   ],
   "source": [
    "final_join_hh_size = final_join_hh_size.merge(\n",
    "    hh_size_2_2020, \n",
    "    on=[\"GEOID\"], \n",
    "    how=\"left\",\n",
    "    indicator=True,\n",
    ")\n",
    "final_join_hh_size"
   ]
  },
  {
   "cell_type": "code",
   "execution_count": 1316,
   "id": "334f8ffa",
   "metadata": {},
   "outputs": [],
   "source": [
    "final_join_hh_size.query(\"_merge != 'both'\")\n",
    "final_join_hh_size = final_join_hh_size.rename(columns={\"_merge\": \"_merge2\"})"
   ]
  },
  {
   "cell_type": "code",
   "execution_count": 1317,
   "id": "4103ae7f",
   "metadata": {},
   "outputs": [
    {
     "data": {
      "text/plain": [
       "Index(['OBJECTID', 'name', 'geometry', 'GEOID', 'Typology', 'GEO_ID_x',\n",
       "       'Total_hhsize_2010', 'owner_occupied_hh_2010',\n",
       "       'renter_occupied_hh_2010', 'NAME_x', '_merge1', 'Total_hhsize',\n",
       "       'owner_occupied_hh', 'renter_occupied_hh', 'GEO_ID_y', 'NAME_y',\n",
       "       '_merge2'],\n",
       "      dtype='object')"
      ]
     },
     "execution_count": 1317,
     "metadata": {},
     "output_type": "execute_result"
    }
   ],
   "source": [
    "final_join_hh_size.columns"
   ]
  },
  {
   "cell_type": "code",
   "execution_count": 1318,
   "id": "068a487f",
   "metadata": {},
   "outputs": [],
   "source": [
    "final_join_hh_size = final_join_hh_size.dropna(subset=['Total_hhsize_2010', 'owner_occupied_hh_2010', 'renter_occupied_hh_2010', 'Total_hhsize', 'owner_occupied_hh', 'renter_occupied_hh'])"
   ]
  },
  {
   "cell_type": "code",
   "execution_count": 1319,
   "id": "e7ced310",
   "metadata": {},
   "outputs": [],
   "source": [
    "final_join_hh_size['Total_hh_percent_change'] = (final_join_hh_size['Total_hhsize']-final_join_hh_size['Total_hhsize_2010'])/final_join_hh_size['Total_hhsize_2010']\n",
    "final_join_hh_size['owner_occupied_percent_change'] = (final_join_hh_size['owner_occupied_hh']-final_join_hh_size['owner_occupied_hh_2010'])/final_join_hh_size['owner_occupied_hh_2010']\n",
    "final_join_hh_size['renter_occupied_percent_change'] = (final_join_hh_size['renter_occupied_hh']-final_join_hh_size['renter_occupied_hh_2010'])/final_join_hh_size['renter_occupied_hh_2010']"
   ]
  },
  {
   "cell_type": "markdown",
   "id": "d4c6cfd5",
   "metadata": {},
   "source": [
    "I calculate summary statistics to observe high level trends. Overall, household size went down (by about 5%) over the 10 year period. Renter household size saw a larger percent decrease than owner households, which makes sense given that renter turnover is predictably higher than owner turnover. I am intrigued by the positive mean for owner occupied percent change. Perhaps there is variation across our neighborhoods of interest which is driving the discrepancy between the mean and median. "
   ]
  },
  {
   "cell_type": "code",
   "execution_count": 1320,
   "id": "f1d2721f",
   "metadata": {},
   "outputs": [
    {
     "data": {
      "text/plain": [
       "-0.05445347419914042"
      ]
     },
     "execution_count": 1320,
     "metadata": {},
     "output_type": "execute_result"
    }
   ],
   "source": [
    "final_join_hh_size['Total_hh_percent_change'].mean()"
   ]
  },
  {
   "cell_type": "code",
   "execution_count": 1321,
   "id": "6428a1d2",
   "metadata": {},
   "outputs": [
    {
     "data": {
      "text/plain": [
       "-0.05839416058394165"
      ]
     },
     "execution_count": 1321,
     "metadata": {},
     "output_type": "execute_result"
    }
   ],
   "source": [
    "final_join_hh_size['Total_hh_percent_change'].median()"
   ]
  },
  {
   "cell_type": "code",
   "execution_count": 1322,
   "id": "c7171f62",
   "metadata": {},
   "outputs": [
    {
     "data": {
      "text/plain": [
       "0.018548706599183777"
      ]
     },
     "execution_count": 1322,
     "metadata": {},
     "output_type": "execute_result"
    }
   ],
   "source": [
    "final_join_hh_size['owner_occupied_percent_change'].mean()"
   ]
  },
  {
   "cell_type": "code",
   "execution_count": 1323,
   "id": "d993987f",
   "metadata": {},
   "outputs": [
    {
     "data": {
      "text/plain": [
       "-0.06116207951070342"
      ]
     },
     "execution_count": 1323,
     "metadata": {},
     "output_type": "execute_result"
    }
   ],
   "source": [
    "final_join_hh_size['owner_occupied_percent_change'].median()"
   ]
  },
  {
   "cell_type": "code",
   "execution_count": 1324,
   "id": "73cb84d8",
   "metadata": {},
   "outputs": [
    {
     "data": {
      "text/plain": [
       "-0.060211608638048655"
      ]
     },
     "execution_count": 1324,
     "metadata": {},
     "output_type": "execute_result"
    }
   ],
   "source": [
    "final_join_hh_size['renter_occupied_percent_change'].mean()"
   ]
  },
  {
   "cell_type": "code",
   "execution_count": 1325,
   "id": "05ac8575",
   "metadata": {},
   "outputs": [
    {
     "data": {
      "text/plain": [
       "-0.06484641638225254"
      ]
     },
     "execution_count": 1325,
     "metadata": {},
     "output_type": "execute_result"
    }
   ],
   "source": [
    "final_join_hh_size['renter_occupied_percent_change'].median()"
   ]
  },
  {
   "cell_type": "markdown",
   "id": "30a76893",
   "metadata": {},
   "source": [
    "I initally worked with a census dataset that did not provide a total average household size by census tract so calculated it by hand. We do not end up using these data in our final analyses but wanted to keep them here for reference. "
   ]
  },
  {
   "cell_type": "code",
   "execution_count": 1326,
   "id": "c610db1e",
   "metadata": {},
   "outputs": [],
   "source": [
    "#hh_size_2020 = gpd.read_file('acs2020_5yr_B11016_14000US06037212701.geojson')\n",
    "#hh_size_2020.head()"
   ]
  },
  {
   "cell_type": "code",
   "execution_count": 1327,
   "id": "9ea2d34b",
   "metadata": {},
   "outputs": [],
   "source": [
    "#hh_size_2020 = hh_size_2020.rename(columns={\"B11016001\": \"Total\", \"B11016002\": \"Family_hh_total\", \n",
    " #                                           \"B11016003\": \"2_pp_hh\", \"B11016004\":\"3_pp_hh\", \"B11016005\": \"4_pp_hh\",\"B11016006\":\"5_pp_hh\", \"B11016007\":\"6_pp_hh\", \"B11016008\":\"7plus_pp_hh\",\"B11016009\":\"Nonfamily_hh_total\", \"B11016010\":\"1_pp_hhnf\", \"B11016011\":\n",
    "  #                                         \"2_pp_hhnf\", \"B11016012\":\"3_pp_hhnf\", \"B11016013\":\"4_pp_hhnf\", \"B11016014\":\n",
    "   #                                        \"5_pp_hhnf\", \"B11016015\":\"6_pp_hhnf\", \"B11016016\":\"7plus_pp_hhnf\"})"
   ]
  },
  {
   "cell_type": "code",
   "execution_count": 1328,
   "id": "dee08fc5",
   "metadata": {},
   "outputs": [],
   "source": [
    "#hh_size_2020 = hh_size_2020.drop(columns=['B11016001, Error', 'B11016002, Error', 'B11016003, Error', 'B11016004, Error', 'B11016005, Error', 'B11016006, Error', 'B11016007, Error', 'B11016008, Error', 'B11016009, Error', 'B11016010, Error', 'B11016011, Error', 'B11016012, Error', 'B11016013, Error', 'B11016014, Error', 'B11016015, Error', 'B11016016, Error'])"
   ]
  },
  {
   "cell_type": "code",
   "execution_count": 1329,
   "id": "818ba780",
   "metadata": {},
   "outputs": [],
   "source": [
    "#hh_size_2020['Family_hh_total_percent'] = hh_size_2020['Family_hh_total']/hh_size_2020['Total']\n",
    "#hh_size_2020['2_pp_hh_percent'] = hh_size_2020['2_pp_hh']/hh_size_2020['Family_hh_total']\n",
    "#hh_size_2020['3_pp_hh_percent'] = hh_size_2020['3_pp_hh']/hh_size_2020['Family_hh_total']\n",
    "#hh_size_2020['4_pp_hh_percent'] = hh_size_2020['4_pp_hh']/hh_size_2020['Family_hh_total']\n",
    "#hh_size_2020['5_pp_hh_percent'] = hh_size_2020['5_pp_hh']/hh_size_2020['Family_hh_total']\n",
    "#hh_size_2020['6_pp_hh_percent'] = hh_size_2020['6_pp_hh']/hh_size_2020['Family_hh_total']\n",
    "#hh_size_2020['7plus_pp_hh_percent'] = hh_size_2020['7plus_pp_hh']/hh_size_2020['Family_hh_total']\n",
    "#hh_size_2020['Nonfamily_hh_total_percent'] = hh_size_2020['Nonfamily_hh_total']/hh_size_2020['Total']\n",
    "#hh_size_2020['1_pp_hhnf_percent'] = hh_size_2020['1_pp_hhnf']/hh_size_2020['Nonfamily_hh_total']\n",
    "#hh_size_2020['2_pp_hhnf_percent'] = hh_size_2020['2_pp_hhnf']/hh_size_2020['Nonfamily_hh_total']\n",
    "#hh_size_2020['3_pp_hhnf_percent'] = hh_size_2020['3_pp_hhnf']/hh_size_2020['Nonfamily_hh_total']\n",
    "#hh_size_2020['4_pp_hhnf_percent'] = hh_size_2020['4_pp_hhnf']/hh_size_2020['Nonfamily_hh_total']\n",
    "#hh_size_2020['5_pp_hhnf_percent'] = hh_size_2020['5_pp_hhnf']/hh_size_2020['Nonfamily_hh_total']\n",
    "#hh_size_2020['6_pp_hhnf_percent'] = hh_size_2020['6_pp_hhnf']/hh_size_2020['Nonfamily_hh_total']\n",
    "#hh_size_2020['7plus_pp_hhnf_percent'] = hh_size_2020['7plus_pp_hhnf']/hh_size_2020['Nonfamily_hh_total']\n",
    "#hh_size_2020.head()"
   ]
  },
  {
   "cell_type": "code",
   "execution_count": 1330,
   "id": "01809cd8",
   "metadata": {},
   "outputs": [],
   "source": [
    "#hh_size_2020['avg_size_family'] = ((2*hh_size_2020['2_pp_hh_percent'])+\n",
    " #                                  (3*hh_size_2020['3_pp_hh_percent'])+\n",
    "  #                                 (4*hh_size_2020['4_pp_hh_percent'])+\n",
    "   #                                (5*hh_size_2020['5_pp_hh_percent'])+\n",
    "    #                               (6*hh_size_2020['6_pp_hh_percent'])+\n",
    "     #                              (7*hh_size_2020['7plus_pp_hh_percent']))"
   ]
  },
  {
   "cell_type": "code",
   "execution_count": 1331,
   "id": "08b69dca",
   "metadata": {},
   "outputs": [],
   "source": [
    "#hh_size_2020['avg_size_nonfamily'] = ((1*hh_size_2020['1_pp_hhnf_percent'])+(2*hh_size_2020['2_pp_hhnf_percent'])+(3*hh_size_2020['3_pp_hhnf_percent'])+(4*hh_size_2020['4_pp_hhnf_percent'])+(5*hh_size_2020['5_pp_hhnf_percent'])+(6*hh_size_2020['6_pp_hhnf_percent'])+(7*hh_size_2020['7plus_pp_hhnf_percent']))"
   ]
  },
  {
   "cell_type": "code",
   "execution_count": 1332,
   "id": "0f960395",
   "metadata": {},
   "outputs": [],
   "source": [
    "#hh_size_2020.head()"
   ]
  },
  {
   "cell_type": "code",
   "execution_count": 1333,
   "id": "41e3091c",
   "metadata": {},
   "outputs": [],
   "source": [
    "#hh_size_2010 = pd.read_csv('ACSDT5YSPT2010.B11016_data_with_overlays_2022-05-08T201304.csv')\n",
    "#hh_size_2010.drop(index=hh_size_2010.index[0], \n",
    " #       axis=0, \n",
    "  #      inplace=True)\n",
    "#hh_size_2010"
   ]
  },
  {
   "cell_type": "code",
   "execution_count": 1334,
   "id": "c8fdafa3",
   "metadata": {},
   "outputs": [],
   "source": [
    "#hh_size_2010 = hh_size_2010.rename(columns={\"GEO_ID\":\"geoid\", \"B11016_001E\": \"Total_2010\", \"B11016_002E\": \"Family_hh_total_2010\", \n",
    " #                                           \"B11016_003E\": \"two_pp_hh_2010\", \"B11016_004E\":\"three_pp_hh_2010\", \"B11016_005E\": \"four_pp_hh_2010\",\"B11016_006E\":\"five_pp_hh_2010\", \"B11016_007E\":\"six_pp_hh_2010\", \"B11016_008E\":\"sevenplus_pp_hh_2010\",\"B11016_009E\":\"Nonfamily_hh_total_2010\", \"B11016_010E\":\"one_pp_hhnf_2010\", \"B11016_011E\":\n",
    "  #                                         \"two_pp_hhnf_2010\", \"B11016_012E\":\"three_pp_hhnf_2010\", \"B11016_013E\":\"four_pp_hhnf_2010\", \"B11016_014E\":\n",
    "   #                                        \"five_pp_hhnf_2010\", \"B11016_015E\":\"six_pp_hhnf_2010\", \"B11016_016E\":\"sevenplus_pp_hhnf_2010\"})"
   ]
  },
  {
   "cell_type": "code",
   "execution_count": 1335,
   "id": "7f8c4c5c",
   "metadata": {},
   "outputs": [],
   "source": [
    "#hh_size_2010"
   ]
  },
  {
   "cell_type": "code",
   "execution_count": 1336,
   "id": "7476a86e",
   "metadata": {},
   "outputs": [],
   "source": [
    "#hh_size_2010 = hh_size_2010.drop(columns=['POPGROUP', 'B11016_001M', 'B11016_002M', 'B11016_003M', 'B11016_004M', 'B11016_005M', 'B11016_006M', 'B11016_007M', 'B11016_008M', 'B11016_009M', 'B11016_010M', 'B11016_011M', 'B11016_012M', 'B11016_013M', 'B11016_014M', 'B11016_015M', 'B11016_016M'])"
   ]
  },
  {
   "cell_type": "code",
   "execution_count": 1337,
   "id": "9034dcd4",
   "metadata": {},
   "outputs": [],
   "source": [
    "#hh_size_2010['Family_hh_total_2010'] = hh_size_2010.Family_hh_total_2010.astype(float)"
   ]
  },
  {
   "cell_type": "code",
   "execution_count": 1338,
   "id": "77eea263",
   "metadata": {},
   "outputs": [],
   "source": [
    "#hh_size_2010['Total_2010'] = hh_size_2010.Total_2010.astype(float)\n",
    "#hh_size_2010['Family_hh_total_2010'] = hh_size_2010.Family_hh_total_2010.astype(float)\n",
    "#hh_size_2010['two_pp_hh_2010'] = hh_size_2010.two_pp_hh_2010.astype(float)\n",
    "#hh_size_2010['three_pp_hh_2010'] = hh_size_2010.three_pp_hh_2010.astype(float)\n",
    "#hh_size_2010['four_pp_hh_2010'] = hh_size_2010.four_pp_hh_2010.astype(float)\n",
    "#hh_size_2010['five_pp_hh_2010'] = hh_size_2010.five_pp_hh_2010.astype(float)\n",
    "#hh_size_2010['six_pp_hh_2010'] = hh_size_2010.six_pp_hh_2010.astype(float)\n",
    "#hh_size_2010['sevenplus_pp_hh_2010'] = hh_size_2010.sevenplus_pp_hh_2010.astype(float)\n",
    "#hh_size_2010['Nonfamily_hh_total_2010'] = hh_size_2010.Nonfamily_hh_total_2010.astype(float)\n",
    "#hh_size_2010['one_pp_hhnf_2010'] = hh_size_2010.one_pp_hhnf_2010.astype(float)\n",
    "#hh_size_2010['two_pp_hhnf_2010'] = hh_size_2010.two_pp_hhnf_2010.astype(float)\n",
    "#hh_size_2010['three_pp_hhnf_2010'] = hh_size_2010.three_pp_hhnf_2010.astype(float)\n",
    "#hh_size_2010['four_pp_hhnf_2010'] = hh_size_2010.four_pp_hhnf_2010.astype(float)\n",
    "#hh_size_2010['five_pp_hhnf_2010'] = hh_size_2010.five_pp_hhnf_2010.astype(float)\n",
    "#hh_size_2010['six_pp_hhnf_2010'] = hh_size_2010.six_pp_hhnf_2010.astype(float)\n",
    "#hh_size_2010['sevenplus_pp_hhnf_2010'] = hh_size_2010.sevenplus_pp_hhnf_2010.astype(float)"
   ]
  },
  {
   "cell_type": "code",
   "execution_count": 1339,
   "id": "20e7aa12",
   "metadata": {},
   "outputs": [],
   "source": [
    "#hh_size_2010['Family_hh_total_2010_percent'] = hh_size_2010['Family_hh_total_2010']/hh_size_2010['Total_2010']\n",
    "#hh_size_2010['two_pp_hh_2010_percent'] = hh_size_2010['two_pp_hh_2010']/hh_size_2010['Family_hh_total_2010']\n",
    "#hh_size_2010['three_pp_hh_2010_percent'] = hh_size_2010['three_pp_hh_2010']/hh_size_2010['Family_hh_total_2010']\n",
    "#hh_size_2010['four_pp_hh_2010_percent'] = hh_size_2010['four_pp_hh_2010']/hh_size_2010['Family_hh_total_2010']\n",
    "#hh_size_2010['five_pp_hh_2010_percent'] = hh_size_2010['five_pp_hh_2010']/hh_size_2010['Family_hh_total_2010']\n",
    "#hh_size_2010['six_pp_hh_2010_percent'] = hh_size_2010['six_pp_hh_2010']/hh_size_2010['Family_hh_total_2010']\n",
    "#hh_size_2010['sevenplus_pp_hh_2010_percent'] = hh_size_2010['sevenplus_pp_hh_2010']/hh_size_2010['Family_hh_total_2010']\n",
    "#hh_size_2010['Nonfamily_hh_total_2010_percent'] = hh_size_2010['Nonfamily_hh_total_2010']/hh_size_2020['Total']\n",
    "#hh_size_2010['one_pp_hhnf_2010_percent'] = hh_size_2010['one_pp_hhnf_2010']/hh_size_2010['Nonfamily_hh_total_2010']\n",
    "#hh_size_2010['two_pp_hhnf_2010_percent'] = hh_size_2010['two_pp_hhnf_2010']/hh_size_2010['Nonfamily_hh_total_2010']\n",
    "#hh_size_2010['three_pp_hhnf_2010_percent'] = hh_size_2010['three_pp_hhnf_2010']/hh_size_2010['Nonfamily_hh_total_2010']\n",
    "#hh_size_2010['four_pp_hhnf_2010_percent'] = hh_size_2010['four_pp_hhnf_2010']/hh_size_2010['Nonfamily_hh_total_2010']\n",
    "#hh_size_2010['five_pp_hhnf_2010_percent'] = hh_size_2010['five_pp_hhnf_2010']/hh_size_2010['Nonfamily_hh_total_2010']\n",
    "#hh_size_2010['six_pp_hhnf_2010_percent'] = hh_size_2010['six_pp_hhnf_2010']/hh_size_2010['Nonfamily_hh_total_2010']\n",
    "#hh_size_2010['sevenplus_pp_hhnf_2010_percent'] = hh_size_2010['sevenplus_pp_hhnf_2010']/hh_size_2010['Nonfamily_hh_total_2010']\n",
    "#hh_size_2010.head()"
   ]
  },
  {
   "cell_type": "code",
   "execution_count": 1340,
   "id": "3bf201d9",
   "metadata": {},
   "outputs": [],
   "source": [
    "#hh_size_2010['avg_size_family_2010'] = ((2*hh_size_2010['two_pp_hh_2010_percent'])+(3*hh_size_2010['three_pp_hh_2010_percent'])+\n",
    " #                                       (4*hh_size_2010['four_pp_hh_2010_percent'])+(5*hh_size_2010['five_pp_hh_2010_percent'])+(6*hh_size_2010['six_pp_hh_2010_percent'])+(7*hh_size_2010['sevenplus_pp_hh_2010_percent']))"
   ]
  },
  {
   "cell_type": "code",
   "execution_count": 1341,
   "id": "5bd7ad0e",
   "metadata": {},
   "outputs": [],
   "source": [
    "#hh_size_2010['avg_size_nonfamily_2010'] = ((2*hh_size_2010['two_pp_hhnf_2010_percent'])+(3*hh_size_2010['three_pp_hhnf_2010_percent'])+(4*hh_size_2010['four_pp_hhnf_2010_percent'])+(5*hh_size_2010['five_pp_hhnf_2010_percent'])+(6*hh_size_2010['six_pp_hhnf_2010_percent'])+(7*hh_size_2010['sevenplus_pp_hhnf_2010_percent']))"
   ]
  },
  {
   "cell_type": "code",
   "execution_count": 1342,
   "id": "2eb06f01",
   "metadata": {},
   "outputs": [],
   "source": [
    "#hh_size_2020['GEOID'] = hh_size_2020.geoid.str.split('US0', 1, expand = True).get(1)\n",
    "#hh_size_2020['GEOID'] = hh_size_2020.GEOID.str.replace('NA','0').astype(float)"
   ]
  },
  {
   "cell_type": "code",
   "execution_count": 1343,
   "id": "22f72912",
   "metadata": {},
   "outputs": [],
   "source": [
    "#hh_size_2010['GEOID'] = hh_size_2010.geoid.str.split('US0', 1, expand = True).get(1)\n",
    "#hh_size_2010['GEOID'] = hh_size_2010.GEOID.str.replace('NA','0').astype(float)"
   ]
  },
  {
   "cell_type": "code",
   "execution_count": 1344,
   "id": "7314d1b2",
   "metadata": {},
   "outputs": [],
   "source": [
    "#final_join_hh_size = final_join.merge(\n",
    " #   hh_size_2010, \n",
    "  #  on=[\"GEOID\"], \n",
    "   # how=\"left\",\n",
    "    #indicator=True,\n",
    "#)\n",
    "#final_join_hh_size"
   ]
  },
  {
   "cell_type": "code",
   "execution_count": 1345,
   "id": "1c63cdc0",
   "metadata": {},
   "outputs": [],
   "source": [
    "#final_join_hh_size.query(\"_merge != 'both'\")\n",
    "#final_join_hh_size = final_join_hh_size.rename(columns={\"_merge\": \"_merge1\"})"
   ]
  },
  {
   "cell_type": "code",
   "execution_count": 1346,
   "id": "4b3e866b",
   "metadata": {},
   "outputs": [],
   "source": [
    "#final_join_hh_size = final_join_hh_size.merge(\n",
    " #   hh_size_2020, \n",
    "  #  on=[\"GEOID\"], \n",
    "   # how=\"left\",\n",
    "    #indicator=True,\n",
    "#)\n",
    "#final_join_hh_size"
   ]
  },
  {
   "cell_type": "code",
   "execution_count": 1347,
   "id": "76cc69a3",
   "metadata": {},
   "outputs": [],
   "source": [
    "#final_join_hh_size.query(\"_merge != 'both'\")\n",
    "#final_join_hh_size = final_join_hh_size.rename(columns={\"_merge\": \"_merge2\"})"
   ]
  },
  {
   "cell_type": "code",
   "execution_count": 1348,
   "id": "d5dc3421",
   "metadata": {},
   "outputs": [],
   "source": [
    "#final_join_hh_size.columns"
   ]
  },
  {
   "cell_type": "code",
   "execution_count": 1349,
   "id": "2bfb8b8b",
   "metadata": {},
   "outputs": [],
   "source": [
    "#final_join_hh_size = final_join_hh_size.dropna(subset=['avg_size_family', 'avg_size_nonfamily', 'avg_size_family_2010', 'avg_size_nonfamily_2010'])"
   ]
  },
  {
   "cell_type": "code",
   "execution_count": 1350,
   "id": "06b89491",
   "metadata": {},
   "outputs": [],
   "source": [
    "#final_join_hh_size['family_size_percent_change'] = (final_join_hh_size['avg_size_family']-final_join_hh_size['avg_size_family_2010'])/final_join_hh_size['avg_size_family_2010']\n",
    "#final_join_hh_size['nonfamily_size_percent_change'] = (final_join_hh_size['avg_size_nonfamily']-final_join_hh_size['avg_size_nonfamily_2010'])/final_join_hh_size['avg_size_nonfamily_2010']"
   ]
  },
  {
   "cell_type": "code",
   "execution_count": 1351,
   "id": "5c9d5136",
   "metadata": {},
   "outputs": [],
   "source": [
    "#final_join_hh_size['family_size_percent_change'].mean()"
   ]
  },
  {
   "cell_type": "code",
   "execution_count": 1352,
   "id": "248171b9",
   "metadata": {},
   "outputs": [],
   "source": [
    "#final_join_hh_size['family_size_percent_change'].median()"
   ]
  },
  {
   "cell_type": "code",
   "execution_count": 1353,
   "id": "36799017",
   "metadata": {},
   "outputs": [],
   "source": [
    "#final_join_hh_size['nonfamily_size_percent_change'].mean()"
   ]
  },
  {
   "cell_type": "code",
   "execution_count": 1354,
   "id": "926c0c1d",
   "metadata": {},
   "outputs": [],
   "source": [
    "#final_join_hh_size['nonfamily_size_percent_change'].median()"
   ]
  },
  {
   "cell_type": "markdown",
   "id": "f97c50e7",
   "metadata": {},
   "source": [
    "## Census Data - Gross Rent "
   ]
  },
  {
   "cell_type": "markdown",
   "id": "a22a6c99",
   "metadata": {},
   "source": [
    "In this section, I read in and clean gross rent data for all census tracts in LA from 2020. Like with household size, I follow the same process for the 2010 data.   "
   ]
  },
  {
   "cell_type": "code",
   "execution_count": 1355,
   "id": "3b3ae63d",
   "metadata": {},
   "outputs": [
    {
     "data": {
      "text/plain": [
       "Index(['B25064_001E', 'B25064_001M', 'GEO_ID', 'NAME'], dtype='object')"
      ]
     },
     "execution_count": 1355,
     "metadata": {},
     "output_type": "execute_result"
    }
   ],
   "source": [
    "rent_2020 = pd.read_csv('Data/ACSDT5Y2020.B25064_data_with_overlays_2022-05-17T185744.csv')\n",
    "rent_2020.drop(index=rent_2020.index[0], \n",
    "        axis=0, \n",
    "        inplace=True)\n",
    "rent_2020.columns"
   ]
  },
  {
   "cell_type": "code",
   "execution_count": 1356,
   "id": "f44abf9f",
   "metadata": {},
   "outputs": [],
   "source": [
    "rent_2020 = rent_2020.rename(columns={'B25064_001E':'median_gross_rent'})"
   ]
  },
  {
   "cell_type": "code",
   "execution_count": 1357,
   "id": "040beb23",
   "metadata": {},
   "outputs": [],
   "source": [
    "rent_2020 = rent_2020.drop(columns=['B25064_001M'])"
   ]
  },
  {
   "cell_type": "code",
   "execution_count": 1358,
   "id": "4c9da20e",
   "metadata": {},
   "outputs": [],
   "source": [
    "rent_2020 = rent_2020.replace({'3,500+': '3500'})"
   ]
  },
  {
   "cell_type": "code",
   "execution_count": 1359,
   "id": "434df3b3",
   "metadata": {},
   "outputs": [],
   "source": [
    "rent_2020['median_gross_rent'] = rent_2020.median_gross_rent.str.replace('-','NaN').astype(float)"
   ]
  },
  {
   "cell_type": "code",
   "execution_count": 1360,
   "id": "95a47cfc",
   "metadata": {},
   "outputs": [],
   "source": [
    "rent_2020['GEOID'] = rent_2020.GEO_ID.str.split('US0', 1, expand = True).get(1)\n",
    "rent_2020['GEOID'] = rent_2020.GEOID.str.replace('NA','0').astype(float)"
   ]
  },
  {
   "cell_type": "code",
   "execution_count": 1361,
   "id": "77de0719",
   "metadata": {},
   "outputs": [
    {
     "data": {
      "text/plain": [
       "Index(['GEO_ID', 'B25064_001E', 'B25064_001M', 'NAME'], dtype='object')"
      ]
     },
     "execution_count": 1361,
     "metadata": {},
     "output_type": "execute_result"
    }
   ],
   "source": [
    "rent_2010 = pd.read_csv('Data/ACSDT5Y2010.B25064_data_with_overlays_2022-05-17T191055.csv')\n",
    "rent_2010.drop(index=rent_2010.index[0], \n",
    "        axis=0, \n",
    "        inplace=True)\n",
    "rent_2010.columns"
   ]
  },
  {
   "cell_type": "code",
   "execution_count": 1362,
   "id": "54f9cf5a",
   "metadata": {},
   "outputs": [],
   "source": [
    "rent_2010 = rent_2010.rename(columns={'B25064_001E':'median_gross_rent_2010'})"
   ]
  },
  {
   "cell_type": "code",
   "execution_count": 1363,
   "id": "8764e043",
   "metadata": {},
   "outputs": [],
   "source": [
    "rent_2010 = rent_2010.drop(columns=['B25064_001M'])"
   ]
  },
  {
   "cell_type": "code",
   "execution_count": 1364,
   "id": "7579e136",
   "metadata": {},
   "outputs": [],
   "source": [
    "rent_2010 = rent_2010.replace({'2,000+': '2000'})"
   ]
  },
  {
   "cell_type": "code",
   "execution_count": 1365,
   "id": "283a28b4",
   "metadata": {},
   "outputs": [],
   "source": [
    "rent_2010['median_gross_rent_2010'] = rent_2010.median_gross_rent_2010.str.replace('-','NaN').astype(float)"
   ]
  },
  {
   "cell_type": "code",
   "execution_count": 1366,
   "id": "81521daf",
   "metadata": {},
   "outputs": [],
   "source": [
    "rent_2010['GEOID'] = rent_2010.GEO_ID.str.split('US0', 1, expand = True).get(1)\n",
    "rent_2010['GEOID'] = rent_2010.GEOID.str.replace('NA','0').astype(float)"
   ]
  },
  {
   "cell_type": "markdown",
   "id": "94a4aeb9",
   "metadata": {},
   "source": [
    "I merge the 2010, and then the 2020, gross rent data to my base dataset from above (which includes the census tracts, neighborhoods, typologies for our neighborhoods of interest, and household size percent change). Only 133 out of 176 rows match during this merge. I assume this is due to missing data. I move forward with the 133 rows (which remain constant for the future merges) I do some final cleanup and then calculate percent change across the 2 years. "
   ]
  },
  {
   "cell_type": "code",
   "execution_count": 1367,
   "id": "e7bdde51",
   "metadata": {},
   "outputs": [],
   "source": [
    "census_neighborhoods_UDP = final_join_hh_size.merge(\n",
    "    rent_2020, \n",
    "    on=[\"GEOID\"], \n",
    "    how=\"left\",\n",
    "    indicator=True,\n",
    ")"
   ]
  },
  {
   "cell_type": "code",
   "execution_count": 1368,
   "id": "562b7ef2",
   "metadata": {},
   "outputs": [
    {
     "data": {
      "text/plain": [
       "Index(['OBJECTID', 'name', 'geometry', 'GEOID', 'Typology', 'GEO_ID_x',\n",
       "       'Total_hhsize_2010', 'owner_occupied_hh_2010',\n",
       "       'renter_occupied_hh_2010', '_merge1', 'Total_hhsize',\n",
       "       'owner_occupied_hh', 'renter_occupied_hh', 'GEO_ID_y',\n",
       "       'Total_hh_percent_change', 'owner_occupied_percent_change',\n",
       "       'renter_occupied_percent_change', 'median_gross_rent', 'NAME',\n",
       "       '_merge'],\n",
       "      dtype='object')"
      ]
     },
     "execution_count": 1368,
     "metadata": {},
     "output_type": "execute_result"
    }
   ],
   "source": [
    "census_neighborhoods_UDP.query(\"_merge1 != 'both'\")\n",
    "census_neighborhoods_UDP = census_neighborhoods_UDP.drop(columns=['GEO_ID', 'NAME_x', 'NAME_y', '_merge2'])\n",
    "census_neighborhoods_UDP.columns"
   ]
  },
  {
   "cell_type": "code",
   "execution_count": 1369,
   "id": "65bd63d0",
   "metadata": {},
   "outputs": [
    {
     "data": {
      "text/html": [
       "<div>\n",
       "<style scoped>\n",
       "    .dataframe tbody tr th:only-of-type {\n",
       "        vertical-align: middle;\n",
       "    }\n",
       "\n",
       "    .dataframe tbody tr th {\n",
       "        vertical-align: top;\n",
       "    }\n",
       "\n",
       "    .dataframe thead th {\n",
       "        text-align: right;\n",
       "    }\n",
       "</style>\n",
       "<table border=\"1\" class=\"dataframe\">\n",
       "  <thead>\n",
       "    <tr style=\"text-align: right;\">\n",
       "      <th></th>\n",
       "      <th>OBJECTID</th>\n",
       "      <th>name</th>\n",
       "      <th>geometry</th>\n",
       "      <th>GEOID</th>\n",
       "      <th>Typology</th>\n",
       "      <th>GEO_ID_x</th>\n",
       "      <th>Total_hhsize_2010</th>\n",
       "      <th>owner_occupied_hh_2010</th>\n",
       "      <th>renter_occupied_hh_2010</th>\n",
       "      <th>_merge1</th>\n",
       "      <th>...</th>\n",
       "      <th>GEO_ID_y</th>\n",
       "      <th>Total_hh_percent_change</th>\n",
       "      <th>owner_occupied_percent_change</th>\n",
       "      <th>renter_occupied_percent_change</th>\n",
       "      <th>median_gross_rent</th>\n",
       "      <th>NAME_x</th>\n",
       "      <th>_merge</th>\n",
       "      <th>GEO_ID</th>\n",
       "      <th>median_gross_rent_2010</th>\n",
       "      <th>NAME_y</th>\n",
       "    </tr>\n",
       "  </thead>\n",
       "  <tbody>\n",
       "    <tr>\n",
       "      <th>0</th>\n",
       "      <td>107</td>\n",
       "      <td>Westlake</td>\n",
       "      <td>POLYGON ((-118.25908 34.05389, -118.25984 34.0...</td>\n",
       "      <td>6.037210e+09</td>\n",
       "      <td>Advanced Gentrification</td>\n",
       "      <td>1400000US06037210010</td>\n",
       "      <td>2.99</td>\n",
       "      <td>3.20</td>\n",
       "      <td>2.97</td>\n",
       "      <td>both</td>\n",
       "      <td>...</td>\n",
       "      <td>1400000US06037210010</td>\n",
       "      <td>-0.090301</td>\n",
       "      <td>-0.134375</td>\n",
       "      <td>-0.084175</td>\n",
       "      <td>906.0</td>\n",
       "      <td>Census Tract 2100.10, Los Angeles County, Cali...</td>\n",
       "      <td>both</td>\n",
       "      <td>1400000US06037210010</td>\n",
       "      <td>596.0</td>\n",
       "      <td>Census Tract 2100.10, Los Angeles County, Cali...</td>\n",
       "    </tr>\n",
       "    <tr>\n",
       "      <th>1</th>\n",
       "      <td>107</td>\n",
       "      <td>Westlake</td>\n",
       "      <td>POLYGON ((-118.25908 34.05389, -118.25984 34.0...</td>\n",
       "      <td>6.037209e+09</td>\n",
       "      <td>Early/Ongoing Gentrification</td>\n",
       "      <td>1400000US06037209300</td>\n",
       "      <td>2.73</td>\n",
       "      <td>4.47</td>\n",
       "      <td>2.68</td>\n",
       "      <td>both</td>\n",
       "      <td>...</td>\n",
       "      <td>1400000US06037209300</td>\n",
       "      <td>-0.139194</td>\n",
       "      <td>-0.485459</td>\n",
       "      <td>-0.123134</td>\n",
       "      <td>1051.0</td>\n",
       "      <td>Census Tract 2093, Los Angeles County, California</td>\n",
       "      <td>both</td>\n",
       "      <td>1400000US06037209300</td>\n",
       "      <td>827.0</td>\n",
       "      <td>Census Tract 2093, Los Angeles County, California</td>\n",
       "    </tr>\n",
       "    <tr>\n",
       "      <th>2</th>\n",
       "      <td>107</td>\n",
       "      <td>Westlake</td>\n",
       "      <td>POLYGON ((-118.25908 34.05389, -118.25984 34.0...</td>\n",
       "      <td>6.037211e+09</td>\n",
       "      <td>Early/Ongoing Gentrification</td>\n",
       "      <td>1400000US06037211122</td>\n",
       "      <td>2.55</td>\n",
       "      <td>6.60</td>\n",
       "      <td>2.53</td>\n",
       "      <td>both</td>\n",
       "      <td>...</td>\n",
       "      <td>1400000US06037211122</td>\n",
       "      <td>0.003922</td>\n",
       "      <td>-0.431818</td>\n",
       "      <td>0.011858</td>\n",
       "      <td>1587.0</td>\n",
       "      <td>Census Tract 2111.22, Los Angeles County, Cali...</td>\n",
       "      <td>both</td>\n",
       "      <td>1400000US06037211122</td>\n",
       "      <td>1099.0</td>\n",
       "      <td>Census Tract 2111.22, Los Angeles County, Cali...</td>\n",
       "    </tr>\n",
       "    <tr>\n",
       "      <th>3</th>\n",
       "      <td>107</td>\n",
       "      <td>Westlake</td>\n",
       "      <td>POLYGON ((-118.25908 34.05389, -118.25984 34.0...</td>\n",
       "      <td>6.037193e+09</td>\n",
       "      <td>Early/Ongoing Gentrification</td>\n",
       "      <td>1400000US06037192700</td>\n",
       "      <td>2.80</td>\n",
       "      <td>2.60</td>\n",
       "      <td>2.83</td>\n",
       "      <td>both</td>\n",
       "      <td>...</td>\n",
       "      <td>1400000US06037192700</td>\n",
       "      <td>0.060714</td>\n",
       "      <td>0.219231</td>\n",
       "      <td>0.038869</td>\n",
       "      <td>1431.0</td>\n",
       "      <td>Census Tract 1927, Los Angeles County, California</td>\n",
       "      <td>both</td>\n",
       "      <td>1400000US06037192700</td>\n",
       "      <td>906.0</td>\n",
       "      <td>Census Tract 1927, Los Angeles County, California</td>\n",
       "    </tr>\n",
       "    <tr>\n",
       "      <th>4</th>\n",
       "      <td>107</td>\n",
       "      <td>Westlake</td>\n",
       "      <td>POLYGON ((-118.25908 34.05389, -118.25984 34.0...</td>\n",
       "      <td>6.037208e+09</td>\n",
       "      <td>At Risk of Gentrification</td>\n",
       "      <td>1400000US06037208302</td>\n",
       "      <td>2.90</td>\n",
       "      <td>4.32</td>\n",
       "      <td>2.77</td>\n",
       "      <td>both</td>\n",
       "      <td>...</td>\n",
       "      <td>1400000US06037208302</td>\n",
       "      <td>-0.051724</td>\n",
       "      <td>-0.504630</td>\n",
       "      <td>0.028881</td>\n",
       "      <td>971.0</td>\n",
       "      <td>Census Tract 2083.02, Los Angeles County, Cali...</td>\n",
       "      <td>both</td>\n",
       "      <td>1400000US06037208302</td>\n",
       "      <td>713.0</td>\n",
       "      <td>Census Tract 2083.02, Los Angeles County, Cali...</td>\n",
       "    </tr>\n",
       "    <tr>\n",
       "      <th>...</th>\n",
       "      <td>...</td>\n",
       "      <td>...</td>\n",
       "      <td>...</td>\n",
       "      <td>...</td>\n",
       "      <td>...</td>\n",
       "      <td>...</td>\n",
       "      <td>...</td>\n",
       "      <td>...</td>\n",
       "      <td>...</td>\n",
       "      <td>...</td>\n",
       "      <td>...</td>\n",
       "      <td>...</td>\n",
       "      <td>...</td>\n",
       "      <td>...</td>\n",
       "      <td>...</td>\n",
       "      <td>...</td>\n",
       "      <td>...</td>\n",
       "      <td>...</td>\n",
       "      <td>...</td>\n",
       "      <td>...</td>\n",
       "      <td>...</td>\n",
       "    </tr>\n",
       "    <tr>\n",
       "      <th>128</th>\n",
       "      <td>74</td>\n",
       "      <td>Pico-Union</td>\n",
       "      <td>POLYGON ((-118.28146 34.05250, -118.28094 34.0...</td>\n",
       "      <td>6.037221e+09</td>\n",
       "      <td>Low-Income/Susceptible to Displacement</td>\n",
       "      <td>1400000US06037221120</td>\n",
       "      <td>4.55</td>\n",
       "      <td>7.29</td>\n",
       "      <td>4.10</td>\n",
       "      <td>both</td>\n",
       "      <td>...</td>\n",
       "      <td>1400000US06037221120</td>\n",
       "      <td>-0.142857</td>\n",
       "      <td>-0.443073</td>\n",
       "      <td>-0.051220</td>\n",
       "      <td>1152.0</td>\n",
       "      <td>Census Tract 2211.20, Los Angeles County, Cali...</td>\n",
       "      <td>both</td>\n",
       "      <td>1400000US06037221120</td>\n",
       "      <td>967.0</td>\n",
       "      <td>Census Tract 2211.20, Los Angeles County, Cali...</td>\n",
       "    </tr>\n",
       "    <tr>\n",
       "      <th>129</th>\n",
       "      <td>74</td>\n",
       "      <td>Pico-Union</td>\n",
       "      <td>POLYGON ((-118.28146 34.05250, -118.28094 34.0...</td>\n",
       "      <td>6.037221e+09</td>\n",
       "      <td>At Risk of Gentrification</td>\n",
       "      <td>1400000US06037221110</td>\n",
       "      <td>3.01</td>\n",
       "      <td>2.96</td>\n",
       "      <td>3.01</td>\n",
       "      <td>both</td>\n",
       "      <td>...</td>\n",
       "      <td>1400000US06037221110</td>\n",
       "      <td>0.096346</td>\n",
       "      <td>-0.270270</td>\n",
       "      <td>0.152824</td>\n",
       "      <td>994.0</td>\n",
       "      <td>Census Tract 2211.10, Los Angeles County, Cali...</td>\n",
       "      <td>both</td>\n",
       "      <td>1400000US06037221110</td>\n",
       "      <td>658.0</td>\n",
       "      <td>Census Tract 2211.10, Los Angeles County, Cali...</td>\n",
       "    </tr>\n",
       "    <tr>\n",
       "      <th>130</th>\n",
       "      <td>74</td>\n",
       "      <td>Pico-Union</td>\n",
       "      <td>POLYGON ((-118.28146 34.05250, -118.28094 34.0...</td>\n",
       "      <td>6.037210e+09</td>\n",
       "      <td>Advanced Gentrification</td>\n",
       "      <td>1400000US06037209820</td>\n",
       "      <td>4.06</td>\n",
       "      <td>5.26</td>\n",
       "      <td>3.78</td>\n",
       "      <td>both</td>\n",
       "      <td>...</td>\n",
       "      <td>1400000US06037209820</td>\n",
       "      <td>-0.110837</td>\n",
       "      <td>-0.138783</td>\n",
       "      <td>-0.092593</td>\n",
       "      <td>980.0</td>\n",
       "      <td>Census Tract 2098.20, Los Angeles County, Cali...</td>\n",
       "      <td>both</td>\n",
       "      <td>1400000US06037209820</td>\n",
       "      <td>782.0</td>\n",
       "      <td>Census Tract 2098.20, Los Angeles County, Cali...</td>\n",
       "    </tr>\n",
       "    <tr>\n",
       "      <th>131</th>\n",
       "      <td>74</td>\n",
       "      <td>Pico-Union</td>\n",
       "      <td>POLYGON ((-118.28146 34.05250, -118.28094 34.0...</td>\n",
       "      <td>6.037210e+09</td>\n",
       "      <td>At Risk of Gentrification</td>\n",
       "      <td>1400000US06037209810</td>\n",
       "      <td>2.53</td>\n",
       "      <td>2.09</td>\n",
       "      <td>2.54</td>\n",
       "      <td>both</td>\n",
       "      <td>...</td>\n",
       "      <td>1400000US06037209810</td>\n",
       "      <td>0.130435</td>\n",
       "      <td>0.052632</td>\n",
       "      <td>0.129921</td>\n",
       "      <td>900.0</td>\n",
       "      <td>Census Tract 2098.10, Los Angeles County, Cali...</td>\n",
       "      <td>both</td>\n",
       "      <td>1400000US06037209810</td>\n",
       "      <td>617.0</td>\n",
       "      <td>Census Tract 2098.10, Los Angeles County, Cali...</td>\n",
       "    </tr>\n",
       "    <tr>\n",
       "      <th>132</th>\n",
       "      <td>74</td>\n",
       "      <td>Pico-Union</td>\n",
       "      <td>POLYGON ((-118.28146 34.05250, -118.28094 34.0...</td>\n",
       "      <td>6.037210e+09</td>\n",
       "      <td>At Risk of Gentrification</td>\n",
       "      <td>1400000US06037209520</td>\n",
       "      <td>3.28</td>\n",
       "      <td>5.11</td>\n",
       "      <td>3.09</td>\n",
       "      <td>both</td>\n",
       "      <td>...</td>\n",
       "      <td>1400000US06037209520</td>\n",
       "      <td>-0.076220</td>\n",
       "      <td>-0.152642</td>\n",
       "      <td>-0.022654</td>\n",
       "      <td>1018.0</td>\n",
       "      <td>Census Tract 2095.20, Los Angeles County, Cali...</td>\n",
       "      <td>both</td>\n",
       "      <td>1400000US06037209520</td>\n",
       "      <td>780.0</td>\n",
       "      <td>Census Tract 2095.20, Los Angeles County, Cali...</td>\n",
       "    </tr>\n",
       "  </tbody>\n",
       "</table>\n",
       "<p>133 rows × 23 columns</p>\n",
       "</div>"
      ],
      "text/plain": [
       "     OBJECTID        name                                           geometry  \\\n",
       "0         107    Westlake  POLYGON ((-118.25908 34.05389, -118.25984 34.0...   \n",
       "1         107    Westlake  POLYGON ((-118.25908 34.05389, -118.25984 34.0...   \n",
       "2         107    Westlake  POLYGON ((-118.25908 34.05389, -118.25984 34.0...   \n",
       "3         107    Westlake  POLYGON ((-118.25908 34.05389, -118.25984 34.0...   \n",
       "4         107    Westlake  POLYGON ((-118.25908 34.05389, -118.25984 34.0...   \n",
       "..        ...         ...                                                ...   \n",
       "128        74  Pico-Union  POLYGON ((-118.28146 34.05250, -118.28094 34.0...   \n",
       "129        74  Pico-Union  POLYGON ((-118.28146 34.05250, -118.28094 34.0...   \n",
       "130        74  Pico-Union  POLYGON ((-118.28146 34.05250, -118.28094 34.0...   \n",
       "131        74  Pico-Union  POLYGON ((-118.28146 34.05250, -118.28094 34.0...   \n",
       "132        74  Pico-Union  POLYGON ((-118.28146 34.05250, -118.28094 34.0...   \n",
       "\n",
       "            GEOID                                Typology  \\\n",
       "0    6.037210e+09                 Advanced Gentrification   \n",
       "1    6.037209e+09            Early/Ongoing Gentrification   \n",
       "2    6.037211e+09            Early/Ongoing Gentrification   \n",
       "3    6.037193e+09            Early/Ongoing Gentrification   \n",
       "4    6.037208e+09               At Risk of Gentrification   \n",
       "..            ...                                     ...   \n",
       "128  6.037221e+09  Low-Income/Susceptible to Displacement   \n",
       "129  6.037221e+09               At Risk of Gentrification   \n",
       "130  6.037210e+09                 Advanced Gentrification   \n",
       "131  6.037210e+09               At Risk of Gentrification   \n",
       "132  6.037210e+09               At Risk of Gentrification   \n",
       "\n",
       "                 GEO_ID_x  Total_hhsize_2010  owner_occupied_hh_2010  \\\n",
       "0    1400000US06037210010               2.99                    3.20   \n",
       "1    1400000US06037209300               2.73                    4.47   \n",
       "2    1400000US06037211122               2.55                    6.60   \n",
       "3    1400000US06037192700               2.80                    2.60   \n",
       "4    1400000US06037208302               2.90                    4.32   \n",
       "..                    ...                ...                     ...   \n",
       "128  1400000US06037221120               4.55                    7.29   \n",
       "129  1400000US06037221110               3.01                    2.96   \n",
       "130  1400000US06037209820               4.06                    5.26   \n",
       "131  1400000US06037209810               2.53                    2.09   \n",
       "132  1400000US06037209520               3.28                    5.11   \n",
       "\n",
       "     renter_occupied_hh_2010 _merge1  ...              GEO_ID_y  \\\n",
       "0                       2.97    both  ...  1400000US06037210010   \n",
       "1                       2.68    both  ...  1400000US06037209300   \n",
       "2                       2.53    both  ...  1400000US06037211122   \n",
       "3                       2.83    both  ...  1400000US06037192700   \n",
       "4                       2.77    both  ...  1400000US06037208302   \n",
       "..                       ...     ...  ...                   ...   \n",
       "128                     4.10    both  ...  1400000US06037221120   \n",
       "129                     3.01    both  ...  1400000US06037221110   \n",
       "130                     3.78    both  ...  1400000US06037209820   \n",
       "131                     2.54    both  ...  1400000US06037209810   \n",
       "132                     3.09    both  ...  1400000US06037209520   \n",
       "\n",
       "     Total_hh_percent_change  owner_occupied_percent_change  \\\n",
       "0                  -0.090301                      -0.134375   \n",
       "1                  -0.139194                      -0.485459   \n",
       "2                   0.003922                      -0.431818   \n",
       "3                   0.060714                       0.219231   \n",
       "4                  -0.051724                      -0.504630   \n",
       "..                       ...                            ...   \n",
       "128                -0.142857                      -0.443073   \n",
       "129                 0.096346                      -0.270270   \n",
       "130                -0.110837                      -0.138783   \n",
       "131                 0.130435                       0.052632   \n",
       "132                -0.076220                      -0.152642   \n",
       "\n",
       "    renter_occupied_percent_change  median_gross_rent  \\\n",
       "0                        -0.084175              906.0   \n",
       "1                        -0.123134             1051.0   \n",
       "2                         0.011858             1587.0   \n",
       "3                         0.038869             1431.0   \n",
       "4                         0.028881              971.0   \n",
       "..                             ...                ...   \n",
       "128                      -0.051220             1152.0   \n",
       "129                       0.152824              994.0   \n",
       "130                      -0.092593              980.0   \n",
       "131                       0.129921              900.0   \n",
       "132                      -0.022654             1018.0   \n",
       "\n",
       "                                                NAME_x  _merge  \\\n",
       "0    Census Tract 2100.10, Los Angeles County, Cali...    both   \n",
       "1    Census Tract 2093, Los Angeles County, California    both   \n",
       "2    Census Tract 2111.22, Los Angeles County, Cali...    both   \n",
       "3    Census Tract 1927, Los Angeles County, California    both   \n",
       "4    Census Tract 2083.02, Los Angeles County, Cali...    both   \n",
       "..                                                 ...     ...   \n",
       "128  Census Tract 2211.20, Los Angeles County, Cali...    both   \n",
       "129  Census Tract 2211.10, Los Angeles County, Cali...    both   \n",
       "130  Census Tract 2098.20, Los Angeles County, Cali...    both   \n",
       "131  Census Tract 2098.10, Los Angeles County, Cali...    both   \n",
       "132  Census Tract 2095.20, Los Angeles County, Cali...    both   \n",
       "\n",
       "                   GEO_ID median_gross_rent_2010  \\\n",
       "0    1400000US06037210010                  596.0   \n",
       "1    1400000US06037209300                  827.0   \n",
       "2    1400000US06037211122                 1099.0   \n",
       "3    1400000US06037192700                  906.0   \n",
       "4    1400000US06037208302                  713.0   \n",
       "..                    ...                    ...   \n",
       "128  1400000US06037221120                  967.0   \n",
       "129  1400000US06037221110                  658.0   \n",
       "130  1400000US06037209820                  782.0   \n",
       "131  1400000US06037209810                  617.0   \n",
       "132  1400000US06037209520                  780.0   \n",
       "\n",
       "                                                NAME_y  \n",
       "0    Census Tract 2100.10, Los Angeles County, Cali...  \n",
       "1    Census Tract 2093, Los Angeles County, California  \n",
       "2    Census Tract 2111.22, Los Angeles County, Cali...  \n",
       "3    Census Tract 1927, Los Angeles County, California  \n",
       "4    Census Tract 2083.02, Los Angeles County, Cali...  \n",
       "..                                                 ...  \n",
       "128  Census Tract 2211.20, Los Angeles County, Cali...  \n",
       "129  Census Tract 2211.10, Los Angeles County, Cali...  \n",
       "130  Census Tract 2098.20, Los Angeles County, Cali...  \n",
       "131  Census Tract 2098.10, Los Angeles County, Cali...  \n",
       "132  Census Tract 2095.20, Los Angeles County, Cali...  \n",
       "\n",
       "[133 rows x 23 columns]"
      ]
     },
     "execution_count": 1369,
     "metadata": {},
     "output_type": "execute_result"
    }
   ],
   "source": [
    "census_neighborhoods_UDP = census_neighborhoods_UDP.merge(\n",
    "    rent_2010, \n",
    "    on=[\"GEOID\"], \n",
    "    how=\"left\",\n",
    "    #indicator=True,\n",
    ")\n",
    "census_neighborhoods_UDP"
   ]
  },
  {
   "cell_type": "code",
   "execution_count": 1370,
   "id": "89a52499",
   "metadata": {},
   "outputs": [],
   "source": [
    "census_neighborhoods_UDP = census_neighborhoods_UDP.drop(columns=['GEO_ID', 'NAME_y','_merge'])"
   ]
  },
  {
   "cell_type": "code",
   "execution_count": 1371,
   "id": "14694e5a",
   "metadata": {},
   "outputs": [],
   "source": [
    "census_neighborhoods_UDP['rent_percent_change'] = (census_neighborhoods_UDP\n",
    "                                                   ['median_gross_rent']-census_neighborhoods_UDP\n",
    "                                                   ['median_gross_rent_2010'])/census_neighborhoods_UDP['median_gross_rent_2010']\n",
    "\n",
    "\n",
    "\n",
    "\n"
   ]
  },
  {
   "cell_type": "code",
   "execution_count": 1372,
   "id": "3c08df59",
   "metadata": {},
   "outputs": [
    {
     "data": {
      "text/plain": [
       "0      0.520134\n",
       "1      0.270859\n",
       "2      0.444040\n",
       "3      0.579470\n",
       "4      0.361851\n",
       "         ...   \n",
       "128    0.191313\n",
       "129    0.510638\n",
       "130    0.253197\n",
       "131    0.458671\n",
       "132    0.305128\n",
       "Name: rent_percent_change, Length: 133, dtype: float64"
      ]
     },
     "execution_count": 1372,
     "metadata": {},
     "output_type": "execute_result"
    }
   ],
   "source": [
    "census_neighborhoods_UDP.rent_percent_change"
   ]
  },
  {
   "cell_type": "markdown",
   "id": "079247c3",
   "metadata": {},
   "source": [
    "I calculate summary statistics to understand how rents have changed over the 10 year period. Without adjusting for inflation, rents increase by an average of 46%. This is very high. I figured there would be a notable increase, but 46% seems questionably high. In the next section, I adjust for inflation to see if the numbers make more sense."
   ]
  },
  {
   "cell_type": "code",
   "execution_count": 1373,
   "id": "368f75cd",
   "metadata": {},
   "outputs": [
    {
     "data": {
      "text/plain": [
       "0.4628410985455908"
      ]
     },
     "execution_count": 1373,
     "metadata": {},
     "output_type": "execute_result"
    }
   ],
   "source": [
    "census_neighborhoods_UDP['rent_percent_change'].mean()"
   ]
  },
  {
   "cell_type": "code",
   "execution_count": 1374,
   "id": "b33ee3d8",
   "metadata": {},
   "outputs": [
    {
     "data": {
      "text/plain": [
       "0.4258849557522124"
      ]
     },
     "execution_count": 1374,
     "metadata": {},
     "output_type": "execute_result"
    }
   ],
   "source": [
    "census_neighborhoods_UDP['rent_percent_change'].median()"
   ]
  },
  {
   "cell_type": "markdown",
   "id": "cc7f6c28",
   "metadata": {},
   "source": [
    "### Adjusting for inflation"
   ]
  },
  {
   "cell_type": "markdown",
   "id": "1b911a48",
   "metadata": {},
   "source": [
    "To calculate inflation, I divide the median gross rent (2010) by the rental index for January 2010 and then multiply by the rental index for January 2020. I used the CPI for US City average from this website: https://fred.stlouisfed.org/release/tables?rid=10&eid=34483&od=2020-01-01#. I then merge this new column back to my base dataset and recalculate percent change. "
   ]
  },
  {
   "cell_type": "code",
   "execution_count": 1375,
   "id": "936d77b3",
   "metadata": {},
   "outputs": [],
   "source": [
    "rent_2010['median_gross_rent_2010_inflation'] = (rent_2010['median_gross_rent_2010']/248.721)*337.570"
   ]
  },
  {
   "cell_type": "code",
   "execution_count": 1376,
   "id": "9a65366b",
   "metadata": {},
   "outputs": [],
   "source": [
    "rent_2010 = rent_2010.drop(columns={'GEO_ID', 'median_gross_rent_2010', 'NAME'})"
   ]
  },
  {
   "cell_type": "code",
   "execution_count": 1377,
   "id": "22eaf492",
   "metadata": {},
   "outputs": [
    {
     "data": {
      "text/html": [
       "<div>\n",
       "<style scoped>\n",
       "    .dataframe tbody tr th:only-of-type {\n",
       "        vertical-align: middle;\n",
       "    }\n",
       "\n",
       "    .dataframe tbody tr th {\n",
       "        vertical-align: top;\n",
       "    }\n",
       "\n",
       "    .dataframe thead th {\n",
       "        text-align: right;\n",
       "    }\n",
       "</style>\n",
       "<table border=\"1\" class=\"dataframe\">\n",
       "  <thead>\n",
       "    <tr style=\"text-align: right;\">\n",
       "      <th></th>\n",
       "      <th>OBJECTID</th>\n",
       "      <th>name</th>\n",
       "      <th>geometry</th>\n",
       "      <th>GEOID</th>\n",
       "      <th>Typology</th>\n",
       "      <th>GEO_ID_x</th>\n",
       "      <th>Total_hhsize_2010</th>\n",
       "      <th>owner_occupied_hh_2010</th>\n",
       "      <th>renter_occupied_hh_2010</th>\n",
       "      <th>_merge1</th>\n",
       "      <th>...</th>\n",
       "      <th>GEO_ID_y</th>\n",
       "      <th>Total_hh_percent_change</th>\n",
       "      <th>owner_occupied_percent_change</th>\n",
       "      <th>renter_occupied_percent_change</th>\n",
       "      <th>median_gross_rent</th>\n",
       "      <th>NAME_x</th>\n",
       "      <th>median_gross_rent_2010</th>\n",
       "      <th>rent_percent_change</th>\n",
       "      <th>median_gross_rent_2010_inflation</th>\n",
       "      <th>_merge</th>\n",
       "    </tr>\n",
       "  </thead>\n",
       "  <tbody>\n",
       "    <tr>\n",
       "      <th>0</th>\n",
       "      <td>107</td>\n",
       "      <td>Westlake</td>\n",
       "      <td>POLYGON ((-118.25908 34.05389, -118.25984 34.0...</td>\n",
       "      <td>6.037210e+09</td>\n",
       "      <td>Advanced Gentrification</td>\n",
       "      <td>1400000US06037210010</td>\n",
       "      <td>2.99</td>\n",
       "      <td>3.20</td>\n",
       "      <td>2.97</td>\n",
       "      <td>both</td>\n",
       "      <td>...</td>\n",
       "      <td>1400000US06037210010</td>\n",
       "      <td>-0.090301</td>\n",
       "      <td>-0.134375</td>\n",
       "      <td>-0.084175</td>\n",
       "      <td>906.0</td>\n",
       "      <td>Census Tract 2100.10, Los Angeles County, Cali...</td>\n",
       "      <td>596.0</td>\n",
       "      <td>0.520134</td>\n",
       "      <td>808.905239</td>\n",
       "      <td>both</td>\n",
       "    </tr>\n",
       "    <tr>\n",
       "      <th>1</th>\n",
       "      <td>107</td>\n",
       "      <td>Westlake</td>\n",
       "      <td>POLYGON ((-118.25908 34.05389, -118.25984 34.0...</td>\n",
       "      <td>6.037209e+09</td>\n",
       "      <td>Early/Ongoing Gentrification</td>\n",
       "      <td>1400000US06037209300</td>\n",
       "      <td>2.73</td>\n",
       "      <td>4.47</td>\n",
       "      <td>2.68</td>\n",
       "      <td>both</td>\n",
       "      <td>...</td>\n",
       "      <td>1400000US06037209300</td>\n",
       "      <td>-0.139194</td>\n",
       "      <td>-0.485459</td>\n",
       "      <td>-0.123134</td>\n",
       "      <td>1051.0</td>\n",
       "      <td>Census Tract 2093, Los Angeles County, California</td>\n",
       "      <td>827.0</td>\n",
       "      <td>0.270859</td>\n",
       "      <td>1122.423881</td>\n",
       "      <td>both</td>\n",
       "    </tr>\n",
       "    <tr>\n",
       "      <th>2</th>\n",
       "      <td>107</td>\n",
       "      <td>Westlake</td>\n",
       "      <td>POLYGON ((-118.25908 34.05389, -118.25984 34.0...</td>\n",
       "      <td>6.037211e+09</td>\n",
       "      <td>Early/Ongoing Gentrification</td>\n",
       "      <td>1400000US06037211122</td>\n",
       "      <td>2.55</td>\n",
       "      <td>6.60</td>\n",
       "      <td>2.53</td>\n",
       "      <td>both</td>\n",
       "      <td>...</td>\n",
       "      <td>1400000US06037211122</td>\n",
       "      <td>0.003922</td>\n",
       "      <td>-0.431818</td>\n",
       "      <td>0.011858</td>\n",
       "      <td>1587.0</td>\n",
       "      <td>Census Tract 2111.22, Los Angeles County, Cali...</td>\n",
       "      <td>1099.0</td>\n",
       "      <td>0.444040</td>\n",
       "      <td>1491.588688</td>\n",
       "      <td>both</td>\n",
       "    </tr>\n",
       "    <tr>\n",
       "      <th>3</th>\n",
       "      <td>107</td>\n",
       "      <td>Westlake</td>\n",
       "      <td>POLYGON ((-118.25908 34.05389, -118.25984 34.0...</td>\n",
       "      <td>6.037193e+09</td>\n",
       "      <td>Early/Ongoing Gentrification</td>\n",
       "      <td>1400000US06037192700</td>\n",
       "      <td>2.80</td>\n",
       "      <td>2.60</td>\n",
       "      <td>2.83</td>\n",
       "      <td>both</td>\n",
       "      <td>...</td>\n",
       "      <td>1400000US06037192700</td>\n",
       "      <td>0.060714</td>\n",
       "      <td>0.219231</td>\n",
       "      <td>0.038869</td>\n",
       "      <td>1431.0</td>\n",
       "      <td>Census Tract 1927, Los Angeles County, California</td>\n",
       "      <td>906.0</td>\n",
       "      <td>0.579470</td>\n",
       "      <td>1229.644541</td>\n",
       "      <td>both</td>\n",
       "    </tr>\n",
       "    <tr>\n",
       "      <th>4</th>\n",
       "      <td>107</td>\n",
       "      <td>Westlake</td>\n",
       "      <td>POLYGON ((-118.25908 34.05389, -118.25984 34.0...</td>\n",
       "      <td>6.037208e+09</td>\n",
       "      <td>At Risk of Gentrification</td>\n",
       "      <td>1400000US06037208302</td>\n",
       "      <td>2.90</td>\n",
       "      <td>4.32</td>\n",
       "      <td>2.77</td>\n",
       "      <td>both</td>\n",
       "      <td>...</td>\n",
       "      <td>1400000US06037208302</td>\n",
       "      <td>-0.051724</td>\n",
       "      <td>-0.504630</td>\n",
       "      <td>0.028881</td>\n",
       "      <td>971.0</td>\n",
       "      <td>Census Tract 2083.02, Los Angeles County, Cali...</td>\n",
       "      <td>713.0</td>\n",
       "      <td>0.361851</td>\n",
       "      <td>967.700395</td>\n",
       "      <td>both</td>\n",
       "    </tr>\n",
       "    <tr>\n",
       "      <th>...</th>\n",
       "      <td>...</td>\n",
       "      <td>...</td>\n",
       "      <td>...</td>\n",
       "      <td>...</td>\n",
       "      <td>...</td>\n",
       "      <td>...</td>\n",
       "      <td>...</td>\n",
       "      <td>...</td>\n",
       "      <td>...</td>\n",
       "      <td>...</td>\n",
       "      <td>...</td>\n",
       "      <td>...</td>\n",
       "      <td>...</td>\n",
       "      <td>...</td>\n",
       "      <td>...</td>\n",
       "      <td>...</td>\n",
       "      <td>...</td>\n",
       "      <td>...</td>\n",
       "      <td>...</td>\n",
       "      <td>...</td>\n",
       "      <td>...</td>\n",
       "    </tr>\n",
       "    <tr>\n",
       "      <th>128</th>\n",
       "      <td>74</td>\n",
       "      <td>Pico-Union</td>\n",
       "      <td>POLYGON ((-118.28146 34.05250, -118.28094 34.0...</td>\n",
       "      <td>6.037221e+09</td>\n",
       "      <td>Low-Income/Susceptible to Displacement</td>\n",
       "      <td>1400000US06037221120</td>\n",
       "      <td>4.55</td>\n",
       "      <td>7.29</td>\n",
       "      <td>4.10</td>\n",
       "      <td>both</td>\n",
       "      <td>...</td>\n",
       "      <td>1400000US06037221120</td>\n",
       "      <td>-0.142857</td>\n",
       "      <td>-0.443073</td>\n",
       "      <td>-0.051220</td>\n",
       "      <td>1152.0</td>\n",
       "      <td>Census Tract 2211.20, Los Angeles County, Cali...</td>\n",
       "      <td>967.0</td>\n",
       "      <td>0.191313</td>\n",
       "      <td>1312.435178</td>\n",
       "      <td>both</td>\n",
       "    </tr>\n",
       "    <tr>\n",
       "      <th>129</th>\n",
       "      <td>74</td>\n",
       "      <td>Pico-Union</td>\n",
       "      <td>POLYGON ((-118.28146 34.05250, -118.28094 34.0...</td>\n",
       "      <td>6.037221e+09</td>\n",
       "      <td>At Risk of Gentrification</td>\n",
       "      <td>1400000US06037221110</td>\n",
       "      <td>3.01</td>\n",
       "      <td>2.96</td>\n",
       "      <td>3.01</td>\n",
       "      <td>both</td>\n",
       "      <td>...</td>\n",
       "      <td>1400000US06037221110</td>\n",
       "      <td>0.096346</td>\n",
       "      <td>-0.270270</td>\n",
       "      <td>0.152824</td>\n",
       "      <td>994.0</td>\n",
       "      <td>Census Tract 2211.10, Los Angeles County, Cali...</td>\n",
       "      <td>658.0</td>\n",
       "      <td>0.510638</td>\n",
       "      <td>893.053100</td>\n",
       "      <td>both</td>\n",
       "    </tr>\n",
       "    <tr>\n",
       "      <th>130</th>\n",
       "      <td>74</td>\n",
       "      <td>Pico-Union</td>\n",
       "      <td>POLYGON ((-118.28146 34.05250, -118.28094 34.0...</td>\n",
       "      <td>6.037210e+09</td>\n",
       "      <td>Advanced Gentrification</td>\n",
       "      <td>1400000US06037209820</td>\n",
       "      <td>4.06</td>\n",
       "      <td>5.26</td>\n",
       "      <td>3.78</td>\n",
       "      <td>both</td>\n",
       "      <td>...</td>\n",
       "      <td>1400000US06037209820</td>\n",
       "      <td>-0.110837</td>\n",
       "      <td>-0.138783</td>\n",
       "      <td>-0.092593</td>\n",
       "      <td>980.0</td>\n",
       "      <td>Census Tract 2098.20, Los Angeles County, Cali...</td>\n",
       "      <td>782.0</td>\n",
       "      <td>0.253197</td>\n",
       "      <td>1061.348821</td>\n",
       "      <td>both</td>\n",
       "    </tr>\n",
       "    <tr>\n",
       "      <th>131</th>\n",
       "      <td>74</td>\n",
       "      <td>Pico-Union</td>\n",
       "      <td>POLYGON ((-118.28146 34.05250, -118.28094 34.0...</td>\n",
       "      <td>6.037210e+09</td>\n",
       "      <td>At Risk of Gentrification</td>\n",
       "      <td>1400000US06037209810</td>\n",
       "      <td>2.53</td>\n",
       "      <td>2.09</td>\n",
       "      <td>2.54</td>\n",
       "      <td>both</td>\n",
       "      <td>...</td>\n",
       "      <td>1400000US06037209810</td>\n",
       "      <td>0.130435</td>\n",
       "      <td>0.052632</td>\n",
       "      <td>0.129921</td>\n",
       "      <td>900.0</td>\n",
       "      <td>Census Tract 2098.10, Los Angeles County, Cali...</td>\n",
       "      <td>617.0</td>\n",
       "      <td>0.458671</td>\n",
       "      <td>837.406934</td>\n",
       "      <td>both</td>\n",
       "    </tr>\n",
       "    <tr>\n",
       "      <th>132</th>\n",
       "      <td>74</td>\n",
       "      <td>Pico-Union</td>\n",
       "      <td>POLYGON ((-118.28146 34.05250, -118.28094 34.0...</td>\n",
       "      <td>6.037210e+09</td>\n",
       "      <td>At Risk of Gentrification</td>\n",
       "      <td>1400000US06037209520</td>\n",
       "      <td>3.28</td>\n",
       "      <td>5.11</td>\n",
       "      <td>3.09</td>\n",
       "      <td>both</td>\n",
       "      <td>...</td>\n",
       "      <td>1400000US06037209520</td>\n",
       "      <td>-0.076220</td>\n",
       "      <td>-0.152642</td>\n",
       "      <td>-0.022654</td>\n",
       "      <td>1018.0</td>\n",
       "      <td>Census Tract 2095.20, Los Angeles County, Cali...</td>\n",
       "      <td>780.0</td>\n",
       "      <td>0.305128</td>\n",
       "      <td>1058.634373</td>\n",
       "      <td>both</td>\n",
       "    </tr>\n",
       "  </tbody>\n",
       "</table>\n",
       "<p>133 rows × 23 columns</p>\n",
       "</div>"
      ],
      "text/plain": [
       "     OBJECTID        name                                           geometry  \\\n",
       "0         107    Westlake  POLYGON ((-118.25908 34.05389, -118.25984 34.0...   \n",
       "1         107    Westlake  POLYGON ((-118.25908 34.05389, -118.25984 34.0...   \n",
       "2         107    Westlake  POLYGON ((-118.25908 34.05389, -118.25984 34.0...   \n",
       "3         107    Westlake  POLYGON ((-118.25908 34.05389, -118.25984 34.0...   \n",
       "4         107    Westlake  POLYGON ((-118.25908 34.05389, -118.25984 34.0...   \n",
       "..        ...         ...                                                ...   \n",
       "128        74  Pico-Union  POLYGON ((-118.28146 34.05250, -118.28094 34.0...   \n",
       "129        74  Pico-Union  POLYGON ((-118.28146 34.05250, -118.28094 34.0...   \n",
       "130        74  Pico-Union  POLYGON ((-118.28146 34.05250, -118.28094 34.0...   \n",
       "131        74  Pico-Union  POLYGON ((-118.28146 34.05250, -118.28094 34.0...   \n",
       "132        74  Pico-Union  POLYGON ((-118.28146 34.05250, -118.28094 34.0...   \n",
       "\n",
       "            GEOID                                Typology  \\\n",
       "0    6.037210e+09                 Advanced Gentrification   \n",
       "1    6.037209e+09            Early/Ongoing Gentrification   \n",
       "2    6.037211e+09            Early/Ongoing Gentrification   \n",
       "3    6.037193e+09            Early/Ongoing Gentrification   \n",
       "4    6.037208e+09               At Risk of Gentrification   \n",
       "..            ...                                     ...   \n",
       "128  6.037221e+09  Low-Income/Susceptible to Displacement   \n",
       "129  6.037221e+09               At Risk of Gentrification   \n",
       "130  6.037210e+09                 Advanced Gentrification   \n",
       "131  6.037210e+09               At Risk of Gentrification   \n",
       "132  6.037210e+09               At Risk of Gentrification   \n",
       "\n",
       "                 GEO_ID_x  Total_hhsize_2010  owner_occupied_hh_2010  \\\n",
       "0    1400000US06037210010               2.99                    3.20   \n",
       "1    1400000US06037209300               2.73                    4.47   \n",
       "2    1400000US06037211122               2.55                    6.60   \n",
       "3    1400000US06037192700               2.80                    2.60   \n",
       "4    1400000US06037208302               2.90                    4.32   \n",
       "..                    ...                ...                     ...   \n",
       "128  1400000US06037221120               4.55                    7.29   \n",
       "129  1400000US06037221110               3.01                    2.96   \n",
       "130  1400000US06037209820               4.06                    5.26   \n",
       "131  1400000US06037209810               2.53                    2.09   \n",
       "132  1400000US06037209520               3.28                    5.11   \n",
       "\n",
       "     renter_occupied_hh_2010 _merge1  ...              GEO_ID_y  \\\n",
       "0                       2.97    both  ...  1400000US06037210010   \n",
       "1                       2.68    both  ...  1400000US06037209300   \n",
       "2                       2.53    both  ...  1400000US06037211122   \n",
       "3                       2.83    both  ...  1400000US06037192700   \n",
       "4                       2.77    both  ...  1400000US06037208302   \n",
       "..                       ...     ...  ...                   ...   \n",
       "128                     4.10    both  ...  1400000US06037221120   \n",
       "129                     3.01    both  ...  1400000US06037221110   \n",
       "130                     3.78    both  ...  1400000US06037209820   \n",
       "131                     2.54    both  ...  1400000US06037209810   \n",
       "132                     3.09    both  ...  1400000US06037209520   \n",
       "\n",
       "     Total_hh_percent_change  owner_occupied_percent_change  \\\n",
       "0                  -0.090301                      -0.134375   \n",
       "1                  -0.139194                      -0.485459   \n",
       "2                   0.003922                      -0.431818   \n",
       "3                   0.060714                       0.219231   \n",
       "4                  -0.051724                      -0.504630   \n",
       "..                       ...                            ...   \n",
       "128                -0.142857                      -0.443073   \n",
       "129                 0.096346                      -0.270270   \n",
       "130                -0.110837                      -0.138783   \n",
       "131                 0.130435                       0.052632   \n",
       "132                -0.076220                      -0.152642   \n",
       "\n",
       "    renter_occupied_percent_change  median_gross_rent  \\\n",
       "0                        -0.084175              906.0   \n",
       "1                        -0.123134             1051.0   \n",
       "2                         0.011858             1587.0   \n",
       "3                         0.038869             1431.0   \n",
       "4                         0.028881              971.0   \n",
       "..                             ...                ...   \n",
       "128                      -0.051220             1152.0   \n",
       "129                       0.152824              994.0   \n",
       "130                      -0.092593              980.0   \n",
       "131                       0.129921              900.0   \n",
       "132                      -0.022654             1018.0   \n",
       "\n",
       "                                                NAME_x  \\\n",
       "0    Census Tract 2100.10, Los Angeles County, Cali...   \n",
       "1    Census Tract 2093, Los Angeles County, California   \n",
       "2    Census Tract 2111.22, Los Angeles County, Cali...   \n",
       "3    Census Tract 1927, Los Angeles County, California   \n",
       "4    Census Tract 2083.02, Los Angeles County, Cali...   \n",
       "..                                                 ...   \n",
       "128  Census Tract 2211.20, Los Angeles County, Cali...   \n",
       "129  Census Tract 2211.10, Los Angeles County, Cali...   \n",
       "130  Census Tract 2098.20, Los Angeles County, Cali...   \n",
       "131  Census Tract 2098.10, Los Angeles County, Cali...   \n",
       "132  Census Tract 2095.20, Los Angeles County, Cali...   \n",
       "\n",
       "     median_gross_rent_2010  rent_percent_change  \\\n",
       "0                     596.0             0.520134   \n",
       "1                     827.0             0.270859   \n",
       "2                    1099.0             0.444040   \n",
       "3                     906.0             0.579470   \n",
       "4                     713.0             0.361851   \n",
       "..                      ...                  ...   \n",
       "128                   967.0             0.191313   \n",
       "129                   658.0             0.510638   \n",
       "130                   782.0             0.253197   \n",
       "131                   617.0             0.458671   \n",
       "132                   780.0             0.305128   \n",
       "\n",
       "    median_gross_rent_2010_inflation  _merge  \n",
       "0                         808.905239    both  \n",
       "1                        1122.423881    both  \n",
       "2                        1491.588688    both  \n",
       "3                        1229.644541    both  \n",
       "4                         967.700395    both  \n",
       "..                               ...     ...  \n",
       "128                      1312.435178    both  \n",
       "129                       893.053100    both  \n",
       "130                      1061.348821    both  \n",
       "131                       837.406934    both  \n",
       "132                      1058.634373    both  \n",
       "\n",
       "[133 rows x 23 columns]"
      ]
     },
     "execution_count": 1377,
     "metadata": {},
     "output_type": "execute_result"
    }
   ],
   "source": [
    "census_neighborhoods_UDP = census_neighborhoods_UDP.merge(\n",
    "    rent_2010, \n",
    "    on=[\"GEOID\"], \n",
    "    how=\"left\",\n",
    "    indicator=True,\n",
    ")\n",
    "census_neighborhoods_UDP"
   ]
  },
  {
   "cell_type": "code",
   "execution_count": 1378,
   "id": "6bb5ffb5",
   "metadata": {},
   "outputs": [],
   "source": [
    "census_neighborhoods_UDP['rent_percent_change_inflation'] = (census_neighborhoods_UDP['median_gross_rent']-census_neighborhoods_UDP['median_gross_rent_2010_inflation'])/census_neighborhoods_UDP['median_gross_rent_2010_inflation']"
   ]
  },
  {
   "cell_type": "code",
   "execution_count": 1379,
   "id": "70910e9e",
   "metadata": {},
   "outputs": [
    {
     "data": {
      "text/plain": [
       "0      0.120032\n",
       "1     -0.063634\n",
       "2      0.063966\n",
       "3      0.163751\n",
       "4      0.003410\n",
       "         ...   \n",
       "128   -0.122242\n",
       "129    0.113036\n",
       "130   -0.076647\n",
       "131    0.074746\n",
       "132   -0.038384\n",
       "Name: rent_percent_change_inflation, Length: 133, dtype: float64"
      ]
     },
     "execution_count": 1379,
     "metadata": {},
     "output_type": "execute_result"
    }
   ],
   "source": [
    "census_neighborhoods_UDP.rent_percent_change_inflation"
   ]
  },
  {
   "cell_type": "markdown",
   "id": "79cd1aa6",
   "metadata": {},
   "source": [
    "After adjusting for inflation, the percent change in rents makes a lot more sense. Inflation-adjusted rents increased by an average of 8% (as opposed to 46%). "
   ]
  },
  {
   "cell_type": "code",
   "execution_count": 1380,
   "id": "eef8e65a",
   "metadata": {},
   "outputs": [
    {
     "data": {
      "text/plain": [
       "0.07781882534395211"
      ]
     },
     "execution_count": 1380,
     "metadata": {},
     "output_type": "execute_result"
    }
   ],
   "source": [
    "census_neighborhoods_UDP['rent_percent_change_inflation'].mean()"
   ]
  },
  {
   "cell_type": "code",
   "execution_count": 1381,
   "id": "f480fa1b",
   "metadata": {},
   "outputs": [
    {
     "data": {
      "text/plain": [
       "0.050589602392529125"
      ]
     },
     "execution_count": 1381,
     "metadata": {},
     "output_type": "execute_result"
    }
   ],
   "source": [
    "census_neighborhoods_UDP['rent_percent_change_inflation'].median()"
   ]
  },
  {
   "cell_type": "markdown",
   "id": "1d312702",
   "metadata": {},
   "source": [
    "Like with the household size data, I initally worked with a census dataset that did not provide total median gross rents by census tract. I initially calculated average rents by rental amounts. We do not end up using these data in our final analyses but wanted to keep them here for reference. "
   ]
  },
  {
   "cell_type": "code",
   "execution_count": 1382,
   "id": "ec5cc068",
   "metadata": {},
   "outputs": [],
   "source": [
    "#rent_2020 = pd.read_csv('ACSDT5Y2020.B25063_data_with_overlays_2022-04-28T181825.csv')\n",
    "#rent_2020.drop(index=hh_size_2020.index[0], \n",
    " #       axis=0, \n",
    " #       inplace=True)\n",
    "#rent_2020.columns"
   ]
  },
  {
   "cell_type": "code",
   "execution_count": 1383,
   "id": "40f8917d",
   "metadata": {},
   "outputs": [],
   "source": [
    "#rent_2020 = rent_2020.rename(columns={\"B25063_001E\": \"Total\", \"B25063_002E\": \"Total_cash\", \n",
    "#                                            \"B25063_003E\": \"less_than_100\", \"B25063_004E\":\"onehundred_149\", \"B25063_005E\": \"onefifty_199\",\"B25063_006E\":\"twohundred_249\", \"B25063_007E\":\"twofifty_299\", \"B25063_008E\":\"threehundred_349\",\"B25063_009E\":\"threefifty_399\", \"B25063_010E\":\"fourhundred_449\", \"B25063_011E\":\n",
    " #                                          \"fourfifty_499\", \"B25063_012E\":\"fivehundred_549\", \"B25063_013E\":\"fivefifty_599\", \"B25063_014E\":\n",
    "  #                                         \"sixhundred_649\", \"B25063_015E\":\"sixfifty_699\", \"B25063_016E\":\"sevenhundred_749\", \"B25063_017E\":\"sevenfifty_799\",\n",
    "   #                                        \"B25063_018E\":\"eighthundred_899\", \"B25063_019E\":\"ninehundred_999\", \"B25063_020E\":\"onethousand_1249\", \"B25063_021E\":\"onethousandtwofifty_1499\",\n",
    "    #                                       \"B25063_022E\":\"onethousandfive_1999\", \"B25063_023E\":\"twothousand_2499\", \"B25063_024E\":\"twothousandfive_2999\",\n",
    "     #                                      \"B25063_025E\":\"threethousand_3499\", \"B25063_026E\":\"threethousandfiveplus\", \n",
    "      #                                     \"B25063_027E\":\"Total_no_cash\"})"
   ]
  },
  {
   "cell_type": "code",
   "execution_count": 1384,
   "id": "77220f5d",
   "metadata": {},
   "outputs": [],
   "source": [
    "#rent_2020 = rent_2020.drop(columns=['B25063_001M', 'B25063_002M', 'B25063_003M', 'B25063_004M', 'B25063_005M',\n",
    " #                                   'B25063_006M', 'B25063_007M', 'B25063_008M','B25063_009M', 'B25063_010M', 'B25063_011M',\n",
    "  #                                  'B25063_012M', 'B25063_013M', 'B25063_014M', 'B25063_015M', 'B25063_016M', 'B25063_017M',\n",
    "   #                                 'B25063_018M', 'B25063_019M', 'B25063_020M', 'B25063_021M', 'B25063_022M', 'B25063_023M',\n",
    "    #                                'B25063_024M', 'B25063_025M', 'B25063_026M', 'B25063_027M'])"
   ]
  },
  {
   "cell_type": "code",
   "execution_count": 1385,
   "id": "70c18618",
   "metadata": {},
   "outputs": [],
   "source": [
    "#rent_2020['Total'] = rent_2020.Total.astype(float)\n",
    "#rent_2020['Total_cash'] = rent_2020.Total_cash.astype(float)\n",
    "#rent_2020['less_than_100'] = rent_2020.less_than_100.astype(float)\n",
    "#rent_2020['onehundred_149'] = rent_2020.onehundred_149.astype(float)\n",
    "#rent_2020['onefifty_199'] = rent_2020.onefifty_199.astype(float)\n",
    "#rent_2020['twohundred_249'] = rent_2020.twohundred_249.astype(float)\n",
    "#rent_2020['twofifty_299'] = rent_2020.twofifty_299.astype(float)\n",
    "#rent_2020['threehundred_349'] = rent_2020.threehundred_349.astype(float)\n",
    "#rent_2020['threefifty_399'] = rent_2020.threefifty_399.astype(float)\n",
    "#rent_2020['fourhundred_449'] = rent_2020.fourhundred_449.astype(float)\n",
    "#rent_2020['fourfifty_499'] = rent_2020.fourfifty_499.astype(float)\n",
    "#rent_2020['fivehundred_549'] = rent_2020.fivehundred_549.astype(float)\n",
    "#rent_2020['fivefifty_599'] = rent_2020.fivefifty_599.astype(float)\n",
    "#rent_2020['sixhundred_649'] = rent_2020.sixhundred_649.astype(float)\n",
    "#rent_2020['sixfifty_699'] = rent_2020.sixfifty_699.astype(float)\n",
    "#rent_2020['sevenhundred_749'] = rent_2020.sevenhundred_749.astype(float)\n",
    "#rent_2020['sevenfifty_799'] = rent_2020.sevenfifty_799.astype(float)\n",
    "#rent_2020['eighthundred_899'] = rent_2020.eighthundred_899.astype(float)\n",
    "#rent_2020['ninehundred_999'] = rent_2020.ninehundred_999.astype(float)\n",
    "#rent_2020['onethousand_1249'] = rent_2020.onethousand_1249.astype(float)\n",
    "#rent_2020['onethousandtwofifty_1499'] = rent_2020.onethousandtwofifty_1499.astype(float)\n",
    "#rent_2020['onethousandfive_1999'] = rent_2020.onethousandfive_1999.astype(float)\n",
    "#rent_2020['twothousand_2499'] = rent_2020.twothousand_2499.astype(float)\n",
    "#rent_2020['twothousandfive_2999'] = rent_2020.twothousandfive_2999.astype(float)\n",
    "#rent_2020['threethousand_3499'] = rent_2020.threethousand_3499.astype(float)\n",
    "#rent_2020['threethousandfiveplus'] = rent_2020.threethousandfiveplus.astype(float)\n",
    "#rent_2020['Total_no_cash'] = rent_2020.Total_no_cash.astype(float)"
   ]
  },
  {
   "cell_type": "code",
   "execution_count": 1386,
   "id": "8c033442",
   "metadata": {},
   "outputs": [],
   "source": [
    "#rent_2020"
   ]
  },
  {
   "cell_type": "code",
   "execution_count": 1387,
   "id": "a57f27f8",
   "metadata": {},
   "outputs": [],
   "source": [
    "#rent_2020['Total_cash_percent'] = rent_2020['Total_cash']/rent_2020['Total']\n",
    "#rent_2020['less_than_100_percent'] = rent_2020['less_than_100']/rent_2020['Total_cash']\n",
    "#rent_2020['onehundred_149_percent'] = rent_2020['onehundred_149']/rent_2020['Total_cash']\n",
    "#rent_2020['onefifty_199_percent'] = rent_2020['onefifty_199']/rent_2020['Total_cash']\n",
    "#rent_2020['twohundred_249_percent'] = rent_2020['twohundred_249']/rent_2020['Total_cash']\n",
    "#rent_2020['twofifty_299_percent'] = rent_2020['twofifty_299']/rent_2020['Total_cash']\n",
    "#rent_2020['threehundred_349_percent'] = rent_2020['threehundred_349']/rent_2020['Total_cash']\n",
    "#rent_2020['threefifty_399_percent'] = rent_2020['threefifty_399']/rent_2020['Total_cash']\n",
    "#rent_2020['fourhundred_449_percent'] = rent_2020['fourhundred_449']/rent_2020['Total_cash']\n",
    "#rent_2020['fourfifty_499_percent'] = rent_2020['fourfifty_499']/rent_2020['Total_cash']\n",
    "#rent_2020['fivehundred_549_percent'] = rent_2020['fivehundred_549']/rent_2020['Total_cash']\n",
    "#rent_2020['fivefifty_599_percent'] = rent_2020['fivefifty_599']/rent_2020['Total_cash']\n",
    "#rent_2020['sixhundred_649_percent'] = rent_2020['sixhundred_649']/rent_2020['Total_cash']\n",
    "#rent_2020['sixfifty_699_percent'] = rent_2020['sixfifty_699']/rent_2020['Total_cash']\n",
    "#rent_2020['sevenhundred_749_percent'] = rent_2020['sevenhundred_749']/rent_2020['Total_cash']\n",
    "#rent_2020['sevenfifty_799_percent'] = rent_2020['sevenfifty_799']/rent_2020['Total_cash']\n",
    "#rent_2020['eighthundred_899_percent'] = rent_2020['eighthundred_899']/rent_2020['Total_cash']\n",
    "#rent_2020['ninehundred_999_percent'] = rent_2020['ninehundred_999']/rent_2020['Total_cash']\n",
    "#rent_2020['onethousand_1249_percent'] = rent_2020['onethousand_1249']/rent_2020['Total_cash']\n",
    "#rent_2020['onethousandtwofifty_1499_percent'] = rent_2020['onethousandtwofifty_1499']/rent_2020['Total_cash']\n",
    "#rent_2020['onethousandfive_1999_percent'] = rent_2020['onethousandfive_1999']/rent_2020['Total_cash']\n",
    "#rent_2020['twothousand_2499_percent'] = rent_2020['twothousand_2499']/rent_2020['Total_cash']\n",
    "#rent_2020['twothousandfive_2999_percent'] = rent_2020['twothousandfive_2999']/rent_2020['Total_cash']\n",
    "#rent_2020['threethousand_3499_percent'] = rent_2020['threethousand_3499']/rent_2020['Total_cash']\n",
    "#rent_2020['threethousandfiveplus_percent'] = rent_2020['threethousandfiveplus']/rent_2020['Total_cash']\n",
    "#rent_2020['Total_no_cash_percent'] = rent_2020['Total_no_cash']/rent_2020['Total']"
   ]
  },
  {
   "cell_type": "code",
   "execution_count": 1388,
   "id": "9583e957",
   "metadata": {},
   "outputs": [],
   "source": [
    "#rent_2020['avg_rent_2020'] = ((50*rent_2020['less_than_100_percent'])+\n",
    " #                                       (124.5*rent_2020['onehundred_149_percent'])+\n",
    "  #                                      (174.5*rent_2020['onefifty_199_percent'])+\n",
    "   #                                     (224.5*rent_2020['twohundred_249_percent'])+\n",
    "    #                                    (324.5*rent_2020['threehundred_349_percent'])+\n",
    "     #                                   (374.5*rent_2020['threefifty_399_percent'])+\n",
    "      #                                  (424.5*rent_2020['fourhundred_449_percent'])+\n",
    "       #                                 (474.5*rent_2020['fourfifty_499_percent'])+\n",
    "        #                                (524.5*rent_2020['fivehundred_549_percent'])+\n",
    "         #                               (574.5*rent_2020['fivefifty_599_percent'])+\n",
    "          #                              (624.5*rent_2020['sixhundred_649_percent'])+\n",
    "           #                             (674.5*rent_2020['sixfifty_699_percent'])+\n",
    "             #                           (724.5*rent_2020['sevenhundred_749_percent'])+\n",
    "              #                          (774.5*rent_2020['sevenfifty_799_percent'])+\n",
    "               #                         (849.5*rent_2020['eighthundred_899_percent'])+\n",
    "                #                        (949.5*rent_2020['ninehundred_999_percent'])+\n",
    "                 #                       (1124.5*rent_2020['onethousand_1249_percent'])+\n",
    "                  #                      (1374.5*rent_2020['onethousandtwofifty_1499_percent'])+\n",
    "                   #                     (1749.5*rent_2020['onethousandfive_1999_percent'])+\n",
    "                    #                    (2249.5*rent_2020['twothousand_2499_percent'])+\n",
    "                     #                   (2749.5*rent_2020['twothousandfive_2999_percent'])+\n",
    "                      #                  (3249.5*rent_2020['threethousand_3499_percent']))"
   ]
  },
  {
   "cell_type": "code",
   "execution_count": 1389,
   "id": "b5763e59",
   "metadata": {},
   "outputs": [],
   "source": [
    "#rent_2020"
   ]
  },
  {
   "cell_type": "code",
   "execution_count": 1390,
   "id": "6e96e699",
   "metadata": {},
   "outputs": [],
   "source": [
    "#rent_2010 = pd.read_csv('ACSDT5Y2010.B25063_data_with_overlays_2022-05-15T164412.csv')\n",
    "#rent_2010.drop(index=rent_2010.index[0], \n",
    "#        axis=0, \n",
    " #       inplace=True)\n",
    "#rent_2010.columns"
   ]
  },
  {
   "cell_type": "code",
   "execution_count": 1391,
   "id": "c343cbc7",
   "metadata": {},
   "outputs": [],
   "source": [
    "#rent_2010 = rent_2010.rename(columns={\"B25063_001E\": \"Total_2010\", \"B25063_002E\": \"Total_cash_2010\", \n",
    " #                                           \"B25063_003E\": \"less_than_100_2010\", \"B25063_004E\":\"onehundred_149_2010\", \"B25063_005E\": \"onefifty_199_2010\",\"B25063_006E\":\"twohundred_249_2010\", \"B25063_007E\":\"twofifty_299_2010\", \"B25063_008E\":\"threehundred_349_2010\",\"B25063_009E\":\"threefifty_399_2010\", \"B25063_010E\":\"fourhundred_449_2010\", \"B25063_011E\":\n",
    "  #                                         \"fourfifty_499_2010\", \"B25063_012E\":\"fivehundred_549_2010\", \"B25063_013E\":\"fivefifty_599_2010\", \"B25063_014E\":\n",
    "   #                                        \"sixhundred_649_2010\", \"B25063_015E\":\"sixfifty_699_2010\", \"B25063_016E\":\"sevenhundred_749_2010\", \"B25063_017E\":\"sevenfifty_799_2010\",\n",
    "    #                                       \"B25063_018E\":\"eighthundred_899_2010\", \"B25063_019E\":\"ninehundred_999_2010\", \"B25063_020E\":\"onethousand_1249_2010\", \"B25063_021E\":\"onethousandtwofifty_1499_2010\",\n",
    "     #                                      \"B25063_022E\":\"onethousandfive_1999_2010\", \"B25063_023E\":\"twothousandplus_2010\", \"B25063_024E\":\"Total_no_cash_2010\"})"
   ]
  },
  {
   "cell_type": "code",
   "execution_count": 1392,
   "id": "e3a9c346",
   "metadata": {},
   "outputs": [],
   "source": [
    "#rent_2010 = rent_2010.drop(columns=['B25063_001M', 'B25063_002M', 'B25063_003M', 'B25063_004M', 'B25063_005M',\n",
    " #                                   'B25063_006M', 'B25063_007M', 'B25063_008M','B25063_009M', 'B25063_010M', 'B25063_011M',\n",
    "  #                                  'B25063_012M', 'B25063_013M', 'B25063_014M', 'B25063_015M', 'B25063_016M', 'B25063_017M',\n",
    "   #                                 'B25063_018M', 'B25063_019M', 'B25063_020M', 'B25063_021M', 'B25063_022M', 'B25063_023M',\n",
    "    #                                'B25063_024M'])"
   ]
  },
  {
   "cell_type": "code",
   "execution_count": 1393,
   "id": "43f26f17",
   "metadata": {},
   "outputs": [],
   "source": [
    "#rent_2010['Total_2010'] = rent_2010.Total_2010.astype(float)\n",
    "#rent_2010['Total_cash_2010'] = rent_2010.Total_cash_2010.astype(float)\n",
    "#rent_2010['less_than_100_2010'] = rent_2010.less_than_100_2010.astype(float)\n",
    "#rent_2010['onehundred_149_2010'] = rent_2010.onehundred_149_2010.astype(float)\n",
    "#rent_2010['onefifty_199_2010'] = rent_2010.onefifty_199_2010.astype(float)\n",
    "#rent_2010['twohundred_249_2010'] = rent_2010.twohundred_249_2010.astype(float)\n",
    "#rent_2010['twofifty_299_2010'] = rent_2010.twofifty_299_2010.astype(float)\n",
    "#rent_2010['threehundred_349_2010'] = rent_2010.threehundred_349_2010.astype(float)\n",
    "#rent_2010['threefifty_399_2010'] = rent_2010.threefifty_399_2010.astype(float)\n",
    "#rent_2010['fourhundred_449_2010'] = rent_2010.fourhundred_449_2010.astype(float)\n",
    "#rent_2010['fourfifty_499_2010'] = rent_2010.fourfifty_499_2010.astype(float)\n",
    "#rent_2010['fivehundred_549_2010'] = rent_2010.fivehundred_549_2010.astype(float)\n",
    "#rent_2010['fivefifty_599_2010'] = rent_2010.fivefifty_599_2010.astype(float)\n",
    "#rent_2010['sixhundred_649_2010'] = rent_2010.sixhundred_649_2010.astype(float)\n",
    "#rent_2010['sixfifty_699_2010'] = rent_2010.sixfifty_699_2010.astype(float)\n",
    "#rent_2010['sevenhundred_749_2010'] = rent_2010.sevenhundred_749_2010.astype(float)\n",
    "#rent_2010['sevenfifty_799_2010'] = rent_2010.sevenfifty_799_2010.astype(float)\n",
    "#rent_2010['eighthundred_899_2010'] = rent_2010.eighthundred_899_2010.astype(float)\n",
    "#rent_2010['ninehundred_999_2010'] = rent_2010.ninehundred_999_2010.astype(float)\n",
    "#rent_2010['onethousand_1249_2010'] = rent_2010.onethousand_1249_2010.astype(float)\n",
    "#rent_2010['onethousandtwofifty_1499_2010'] = rent_2010.onethousandtwofifty_1499_2010.astype(float)\n",
    "#rent_2010['onethousandfive_1999_2010'] = rent_2010.onethousandfive_1999_2010.astype(float)\n",
    "#rent_2010['twothousandplus_2010'] = rent_2010.twothousandplus_2010.astype(float)\n",
    "#rent_2010['Total_no_cash_2010'] = rent_2010.Total_no_cash_2010.astype(float)"
   ]
  },
  {
   "cell_type": "code",
   "execution_count": 1394,
   "id": "cd0c0948",
   "metadata": {},
   "outputs": [],
   "source": [
    "#rent_2010"
   ]
  },
  {
   "cell_type": "code",
   "execution_count": 1395,
   "id": "354f4061",
   "metadata": {},
   "outputs": [],
   "source": [
    "#rent_2010['Total_cash_percent_2010'] = rent_2010['Total_cash_2010']/rent_2010['Total_2010']"
   ]
  },
  {
   "cell_type": "code",
   "execution_count": 1396,
   "id": "0426e5a3",
   "metadata": {},
   "outputs": [],
   "source": [
    "#rent_2010['less_than_100_percent_2010'] = rent_2010['less_than_100_2010']/rent_2010['Total_cash_2010']"
   ]
  },
  {
   "cell_type": "code",
   "execution_count": 1397,
   "id": "8e5169b4",
   "metadata": {},
   "outputs": [],
   "source": [
    "#rent_2010['onehundred_149_percent_2010'] = rent_2010['onehundred_149_2010']/rent_2010['Total_cash_2010']"
   ]
  },
  {
   "cell_type": "code",
   "execution_count": 1398,
   "id": "aa9177a9",
   "metadata": {},
   "outputs": [],
   "source": [
    "#rent_2010['onefifty_199_percent_2010'] = rent_2010['onefifty_199_2010']/rent_2010['Total_cash_2010']"
   ]
  },
  {
   "cell_type": "code",
   "execution_count": 1399,
   "id": "62cd9a74",
   "metadata": {},
   "outputs": [],
   "source": [
    "#rent_2010['twohundred_249_percent_2010'] = rent_2010['twohundred_249_2010']/rent_2010['Total_cash_2010']"
   ]
  },
  {
   "cell_type": "code",
   "execution_count": 1400,
   "id": "af5afc6f",
   "metadata": {},
   "outputs": [],
   "source": [
    "#rent_2010['twofifty_299_percent_2010'] = rent_2010['twofifty_299_2010']/rent_2010['Total_cash_2010']"
   ]
  },
  {
   "cell_type": "code",
   "execution_count": 1401,
   "id": "92350848",
   "metadata": {},
   "outputs": [],
   "source": [
    "#rent_2010['threehundred_349_percent_2010'] = rent_2010['threehundred_349_2010']/rent_2010['Total_cash_2010']"
   ]
  },
  {
   "cell_type": "code",
   "execution_count": 1402,
   "id": "4bda5b66",
   "metadata": {},
   "outputs": [],
   "source": [
    "#rent_2010['threefifty_399_percent_2010'] = rent_2010['threefifty_399_2010']/rent_2010['Total_cash_2010']"
   ]
  },
  {
   "cell_type": "code",
   "execution_count": 1403,
   "id": "41e588ae",
   "metadata": {},
   "outputs": [],
   "source": [
    "#rent_2010['fourhundred_449_percent_2010'] = rent_2010['fourhundred_449_2010']/rent_2010['Total_cash_2010']"
   ]
  },
  {
   "cell_type": "code",
   "execution_count": 1404,
   "id": "a1ee38e8",
   "metadata": {},
   "outputs": [],
   "source": [
    "#rent_2010['fourfifty_499_percent_2010'] = rent_2010['fourfifty_499_2010']/rent_2010['Total_cash_2010']"
   ]
  },
  {
   "cell_type": "code",
   "execution_count": 1405,
   "id": "34c74598",
   "metadata": {},
   "outputs": [],
   "source": [
    "#rent_2010['fivehundred_549_percent_2010'] = rent_2010['fivehundred_549_2010']/rent_2010['Total_cash_2010']"
   ]
  },
  {
   "cell_type": "code",
   "execution_count": 1406,
   "id": "c80d2b17",
   "metadata": {},
   "outputs": [],
   "source": [
    "#rent_2010['fivefifty_599_percent_2010'] = rent_2010['fivefifty_599_2010']/rent_2010['Total_cash_2010']"
   ]
  },
  {
   "cell_type": "code",
   "execution_count": 1407,
   "id": "f0d828df",
   "metadata": {},
   "outputs": [],
   "source": [
    "#rent_2010['sixhundred_649_percent_2010'] = rent_2010['sixhundred_649_2010']/rent_2010['Total_cash_2010']"
   ]
  },
  {
   "cell_type": "code",
   "execution_count": 1408,
   "id": "2a8b8099",
   "metadata": {},
   "outputs": [],
   "source": [
    "#rent_2010['sixfifty_699_percent_2010'] = rent_2010['sixfifty_699_2010']/rent_2010['Total_cash_2010']\n",
    "#rent_2010['sevenhundred_749_percent_2010'] = rent_2010['sevenhundred_749_2010']/rent_2010['Total_cash_2010']\n",
    "#rent_2010['sevenfifty_799_percent_2010'] = rent_2010['sevenfifty_799_2010']/rent_2010['Total_cash_2010']\n",
    "#rent_2010['eighthundred_899_percent_2010'] = rent_2010['eighthundred_899_2010']/rent_2010['Total_cash_2010']\n",
    "#rent_2010['ninehundred_999_percent_2010'] = rent_2010['ninehundred_999_2010']/rent_2010['Total_cash_2010']\n",
    "#rent_2010['onethousand_1249_percent_2010'] = rent_2010['onethousand_1249_2010']/rent_2010['Total_cash_2010']\n",
    "#rent_2010['onethousandtwofifty_1499_percent_2010'] = rent_2010['onethousandtwofifty_1499_2010']/rent_2010['Total_cash_2010']\n",
    "#rent_2010['onethousandfive_1999_percent_2010'] = rent_2010['onethousandfive_1999_2010']/rent_2010['Total_cash_2010']\n",
    "#rent_2010['twothousandplus_percent_2010'] = rent_2010['twothousandplus_2010']/rent_2010['Total_cash_2010']\n",
    "#rent_2010['Total_no_cash_percent_2010'] = rent_2010['Total_no_cash_2010']/rent_2010['Total_2010']"
   ]
  },
  {
   "cell_type": "code",
   "execution_count": 1409,
   "id": "a6d5b10c",
   "metadata": {},
   "outputs": [],
   "source": [
    "#rent_2010['avg_rent_2010'] = ((50*rent_2010['less_than_100_percent_2010'])+\n",
    " #                                       (124.5*rent_2010['onehundred_149_percent_2010'])+\n",
    "  #                                      (174.5*rent_2010['onefifty_199_percent_2010'])+\n",
    "   #                                     (224.5*rent_2010['twohundred_249_percent_2010'])+\n",
    "    #                                    (274.5*rent_2010['twofifty_299_percent_2010'])+\n",
    "     #                                   (324.5*rent_2010['threehundred_349_percent_2010'])+\n",
    "      #                                  (374.5*rent_2010['threefifty_399_percent_2010'])+\n",
    "       #                                 (424.5*rent_2010['fourhundred_449_percent_2010'])+\n",
    "        #                                (474.5*rent_2010['fourfifty_499_percent_2010'])+\n",
    "         #                               (524.5*rent_2010['fivehundred_549_percent_2010'])+\n",
    "          #                              (574.5*rent_2010['fivefifty_599_percent_2010'])+\n",
    "           #                             (624.5*rent_2010['sixhundred_649_percent_2010'])+\n",
    "            #                            (674.5*rent_2010['sixfifty_699_percent_2010'])+\n",
    "             #                           (724.5*rent_2010['sevenhundred_749_percent_2010'])+\n",
    "              #                          (774.5*rent_2010['sevenfifty_799_percent_2010'])+\n",
    "               #                         (849.5*rent_2010['eighthundred_899_percent_2010'])+\n",
    "                #                        (949.5*rent_2010['ninehundred_999_percent_2010'])+\n",
    "                 #                       (1124.5*rent_2010['onethousand_1249_percent_2010'])+\n",
    "                  #                      (1374.5*rent_2010['onethousandtwofifty_1499_percent_2010'])+\n",
    "                   #                     (1749.5*rent_2010['onethousandfive_1999_percent_2010'])+\n",
    "                    #                    (2249.5*rent_2010['twothousandplus_percent_2010']))"
   ]
  },
  {
   "cell_type": "code",
   "execution_count": 1410,
   "id": "35d08163",
   "metadata": {},
   "outputs": [],
   "source": [
    "#rent_2010"
   ]
  },
  {
   "cell_type": "code",
   "execution_count": 1411,
   "id": "877aa557",
   "metadata": {},
   "outputs": [],
   "source": [
    "#rent_2020['GEOID'] = rent_2020.GEO_ID.str.split('US0', 1, expand = True).get(1)\n",
    "#rent_2020['GEOID'] = rent_2020.GEOID.str.replace('NA','0').astype(float)"
   ]
  },
  {
   "cell_type": "code",
   "execution_count": 1412,
   "id": "f92a62fb",
   "metadata": {},
   "outputs": [],
   "source": [
    "#rent_2020"
   ]
  },
  {
   "cell_type": "code",
   "execution_count": 1413,
   "id": "cdd460e7",
   "metadata": {},
   "outputs": [],
   "source": [
    "#rent_2010['GEOID'] = rent_2010.GEO_ID.str.split('US0', 1, expand = True).get(1)\n",
    "#rent_2010['GEOID'] = rent_2010.GEOID.str.replace('NA','0').astype(float)"
   ]
  },
  {
   "cell_type": "code",
   "execution_count": 1414,
   "id": "088de604",
   "metadata": {},
   "outputs": [],
   "source": [
    "#rent_2010"
   ]
  },
  {
   "cell_type": "code",
   "execution_count": 1415,
   "id": "f9cbc955",
   "metadata": {},
   "outputs": [],
   "source": [
    "#census_neighborhoods_UDP = final_join_hh_size.merge(\n",
    " #   rent_2010, \n",
    "  #  on=[\"GEOID\"], \n",
    "   # how=\"left\",\n",
    "    #indicator=True,\n",
    "#)\n",
    "#census_neighborhoods_UDP"
   ]
  },
  {
   "cell_type": "code",
   "execution_count": 1416,
   "id": "2fb7ab27",
   "metadata": {},
   "outputs": [],
   "source": [
    "#census_neighborhoods_UDP.query(\"_merge1 != 'both'\")\n",
    "#census_neighborhoods_UDP = census_neighborhoods_UDP.rename(columns={\"_merge\": \"_merge1\"})"
   ]
  },
  {
   "cell_type": "code",
   "execution_count": 1417,
   "id": "f8fef7c0",
   "metadata": {},
   "outputs": [],
   "source": [
    "#census_neighborhoods_UDP = census_neighborhoods_UDP.merge(\n",
    " #   rent_2020, \n",
    "  #  on=[\"GEOID\"], \n",
    "   # how=\"left\",\n",
    "    #indicator=True,\n",
    "#)\n",
    "#census_neighborhoods_UDP"
   ]
  },
  {
   "cell_type": "code",
   "execution_count": 1418,
   "id": "a02acfc6",
   "metadata": {},
   "outputs": [],
   "source": [
    "#census_neighborhoods_UDP.query(\"_merge != 'both'\")"
   ]
  },
  {
   "cell_type": "code",
   "execution_count": 1419,
   "id": "dd8cb063",
   "metadata": {},
   "outputs": [],
   "source": [
    "#census_neighborhoods_UDP = census_neighborhoods_UDP.rename(columns={\"_merge\": \"_merge2\"})"
   ]
  },
  {
   "cell_type": "code",
   "execution_count": 1420,
   "id": "8b603422",
   "metadata": {},
   "outputs": [],
   "source": [
    "#census_neighborhoods_UDP.columns"
   ]
  },
  {
   "cell_type": "code",
   "execution_count": 1421,
   "id": "b554d914",
   "metadata": {},
   "outputs": [],
   "source": [
    "#list(census_neighborhoods_UDP.columns.values.tolist())"
   ]
  },
  {
   "cell_type": "code",
   "execution_count": 1422,
   "id": "a9c809f5",
   "metadata": {},
   "outputs": [],
   "source": [
    "#census_neighborhoods_UDP = census_neighborhoods_UDP.dropna(subset=['NAME_x', 'geoid_x', 'geoid_y', 'name_y', 'geometry_y', 'GEO_ID_x', 'NAME_y','GEO_ID_y'])"
   ]
  },
  {
   "cell_type": "code",
   "execution_count": 1423,
   "id": "7e5ebc96",
   "metadata": {},
   "outputs": [],
   "source": [
    "#census_neighborhoods_UDP = census_neighborhoods_UDP.rename(columns ={'name_x':'name', \n",
    " #                                                                    'geometry_x':'geometry',\n",
    "  #                                                                   'Total_2010_x':'Total_2010_hh', \n",
    "   #                                                                  'Total_x':'Total_hh', \n",
    "    ##                                                                'Total_y':'Total_rent'})"
   ]
  },
  {
   "cell_type": "code",
   "execution_count": 1424,
   "id": "5e57a580",
   "metadata": {},
   "outputs": [],
   "source": [
    "#census_neighborhoods_UDP = census_neighborhoods_UDP.dropna(subset=['avg_rent_2020_x'])"
   ]
  },
  {
   "cell_type": "code",
   "execution_count": 1425,
   "id": "22a24e44",
   "metadata": {},
   "outputs": [],
   "source": [
    "#census_neighborhoods_UDP['rent_percent_change'] = (census_neighborhoods_UDP['avg_rent_2020']-census_neighborhoods_UDP['avg_rent_2010'])/census_neighborhoods_UDP['avg_rent_2010']\n",
    "#census_neighborhoods_UDP['no_cash_rent_percent_change'] = (census_neighborhoods_UDP['Total_no_cash_2010']-census_neighborhoods_UDP['Total_no_cash'])/census_neighborhoods_UDP['Total_no_cash_2010']"
   ]
  },
  {
   "cell_type": "code",
   "execution_count": 1426,
   "id": "ce996d7d",
   "metadata": {},
   "outputs": [],
   "source": [
    "#census_neighborhoods_UDP.rent_percent_change"
   ]
  },
  {
   "cell_type": "code",
   "execution_count": 1427,
   "id": "e5c2dc59",
   "metadata": {},
   "outputs": [],
   "source": [
    "#census_neighborhoods_UDP['rent_percent_change'].mean()"
   ]
  },
  {
   "cell_type": "code",
   "execution_count": 1428,
   "id": "d6d24fa0",
   "metadata": {},
   "outputs": [],
   "source": [
    "#census_neighborhoods_UDP['rent_percent_change'].median()"
   ]
  },
  {
   "cell_type": "markdown",
   "id": "ec58cd36",
   "metadata": {},
   "source": [
    "## Census Data - Income"
   ]
  },
  {
   "cell_type": "markdown",
   "id": "7cd447e9",
   "metadata": {},
   "source": [
    "I read in and clean income data for 2020 and 2010."
   ]
  },
  {
   "cell_type": "code",
   "execution_count": 1429,
   "id": "1022fa32",
   "metadata": {},
   "outputs": [
    {
     "data": {
      "text/plain": [
       "Index(['GEO_ID', 'NAME', 'S1903_C01_001E', 'S1903_C01_001M', 'S1903_C01_002E',\n",
       "       'S1903_C01_002M', 'S1903_C01_003E', 'S1903_C01_003M', 'S1903_C01_004E',\n",
       "       'S1903_C01_004M',\n",
       "       ...\n",
       "       'S1903_C03_036E', 'S1903_C03_036M', 'S1903_C03_037E', 'S1903_C03_037M',\n",
       "       'S1903_C03_038E', 'S1903_C03_038M', 'S1903_C03_039E', 'S1903_C03_039M',\n",
       "       'S1903_C03_040E', 'S1903_C03_040M'],\n",
       "      dtype='object', length=242)"
      ]
     },
     "execution_count": 1429,
     "metadata": {},
     "output_type": "execute_result"
    }
   ],
   "source": [
    "income_2020 = pd.read_csv('Data/ACSST5Y2020.S1903_data_with_overlays_2022-04-27T190056.csv')\n",
    "income_2020.drop(index=income_2020.index[0], \n",
    "        axis=0, \n",
    "        inplace=True)\n",
    "income_2020.columns"
   ]
  },
  {
   "cell_type": "code",
   "execution_count": 1430,
   "id": "4f316031",
   "metadata": {},
   "outputs": [],
   "source": [
    "income_2020 = income_2020.rename(columns={'S1903_C03_034E':'median_income_nonfamily', \n",
    "                                          'S1903_C03_015E': 'median_income_family'})"
   ]
  },
  {
   "cell_type": "code",
   "execution_count": 1431,
   "id": "b57b937d",
   "metadata": {},
   "outputs": [],
   "source": [
    "income_2020 = income_2020[['GEO_ID','NAME','median_income_nonfamily', 'median_income_family']]"
   ]
  },
  {
   "cell_type": "code",
   "execution_count": 1432,
   "id": "0677e9ac",
   "metadata": {},
   "outputs": [
    {
     "data": {
      "text/html": [
       "<div>\n",
       "<style scoped>\n",
       "    .dataframe tbody tr th:only-of-type {\n",
       "        vertical-align: middle;\n",
       "    }\n",
       "\n",
       "    .dataframe tbody tr th {\n",
       "        vertical-align: top;\n",
       "    }\n",
       "\n",
       "    .dataframe thead th {\n",
       "        text-align: right;\n",
       "    }\n",
       "</style>\n",
       "<table border=\"1\" class=\"dataframe\">\n",
       "  <thead>\n",
       "    <tr style=\"text-align: right;\">\n",
       "      <th></th>\n",
       "      <th>GEO_ID</th>\n",
       "      <th>NAME</th>\n",
       "      <th>median_income_nonfamily</th>\n",
       "      <th>median_income_family</th>\n",
       "    </tr>\n",
       "  </thead>\n",
       "  <tbody>\n",
       "    <tr>\n",
       "      <th>775</th>\n",
       "      <td>1400000US06037226410</td>\n",
       "      <td>Census Tract 2264.10, Los Angeles County, Cali...</td>\n",
       "      <td>26875</td>\n",
       "      <td>35570</td>\n",
       "    </tr>\n",
       "    <tr>\n",
       "      <th>2220</th>\n",
       "      <td>1400000US06037670102</td>\n",
       "      <td>Census Tract 6701.02, Los Angeles County, Cali...</td>\n",
       "      <td>50644</td>\n",
       "      <td>80689</td>\n",
       "    </tr>\n",
       "    <tr>\n",
       "      <th>105</th>\n",
       "      <td>1400000US06037113239</td>\n",
       "      <td>Census Tract 1132.39, Los Angeles County, Cali...</td>\n",
       "      <td>31983</td>\n",
       "      <td>49526</td>\n",
       "    </tr>\n",
       "    <tr>\n",
       "      <th>1366</th>\n",
       "      <td>1400000US06037408626</td>\n",
       "      <td>Census Tract 4086.26, Los Angeles County, Cali...</td>\n",
       "      <td>31391</td>\n",
       "      <td>92580</td>\n",
       "    </tr>\n",
       "    <tr>\n",
       "      <th>2048</th>\n",
       "      <td>1400000US06037577400</td>\n",
       "      <td>Census Tract 5774, Los Angeles County, California</td>\n",
       "      <td>61875</td>\n",
       "      <td>129519</td>\n",
       "    </tr>\n",
       "    <tr>\n",
       "      <th>2081</th>\n",
       "      <td>1400000US06037601002</td>\n",
       "      <td>Census Tract 6010.02, Los Angeles County, Cali...</td>\n",
       "      <td>-</td>\n",
       "      <td>57132</td>\n",
       "    </tr>\n",
       "    <tr>\n",
       "      <th>1223</th>\n",
       "      <td>1400000US06037402405</td>\n",
       "      <td>Census Tract 4024.05, Los Angeles County, Cali...</td>\n",
       "      <td>50694</td>\n",
       "      <td>53304</td>\n",
       "    </tr>\n",
       "    <tr>\n",
       "      <th>1271</th>\n",
       "      <td>1400000US06037404000</td>\n",
       "      <td>Census Tract 4040, Los Angeles County, California</td>\n",
       "      <td>35250</td>\n",
       "      <td>95429</td>\n",
       "    </tr>\n",
       "    <tr>\n",
       "      <th>1986</th>\n",
       "      <td>1400000US06037573003</td>\n",
       "      <td>Census Tract 5730.03, Los Angeles County, Cali...</td>\n",
       "      <td>58750</td>\n",
       "      <td>79167</td>\n",
       "    </tr>\n",
       "    <tr>\n",
       "      <th>1760</th>\n",
       "      <td>1400000US06037535902</td>\n",
       "      <td>Census Tract 5359.02, Los Angeles County, Cali...</td>\n",
       "      <td>55063</td>\n",
       "      <td>72297</td>\n",
       "    </tr>\n",
       "  </tbody>\n",
       "</table>\n",
       "</div>"
      ],
      "text/plain": [
       "                    GEO_ID                                               NAME  \\\n",
       "775   1400000US06037226410  Census Tract 2264.10, Los Angeles County, Cali...   \n",
       "2220  1400000US06037670102  Census Tract 6701.02, Los Angeles County, Cali...   \n",
       "105   1400000US06037113239  Census Tract 1132.39, Los Angeles County, Cali...   \n",
       "1366  1400000US06037408626  Census Tract 4086.26, Los Angeles County, Cali...   \n",
       "2048  1400000US06037577400  Census Tract 5774, Los Angeles County, California   \n",
       "2081  1400000US06037601002  Census Tract 6010.02, Los Angeles County, Cali...   \n",
       "1223  1400000US06037402405  Census Tract 4024.05, Los Angeles County, Cali...   \n",
       "1271  1400000US06037404000  Census Tract 4040, Los Angeles County, California   \n",
       "1986  1400000US06037573003  Census Tract 5730.03, Los Angeles County, Cali...   \n",
       "1760  1400000US06037535902  Census Tract 5359.02, Los Angeles County, Cali...   \n",
       "\n",
       "     median_income_nonfamily median_income_family  \n",
       "775                    26875                35570  \n",
       "2220                   50644                80689  \n",
       "105                    31983                49526  \n",
       "1366                   31391                92580  \n",
       "2048                   61875               129519  \n",
       "2081                       -                57132  \n",
       "1223                   50694                53304  \n",
       "1271                   35250                95429  \n",
       "1986                   58750                79167  \n",
       "1760                   55063                72297  "
      ]
     },
     "execution_count": 1432,
     "metadata": {},
     "output_type": "execute_result"
    }
   ],
   "source": [
    "income_2020.sample(10)"
   ]
  },
  {
   "cell_type": "code",
   "execution_count": 1433,
   "id": "c1d819e4",
   "metadata": {},
   "outputs": [],
   "source": [
    "income_2020['GEOID'] = income_2020.GEO_ID.str.split('US0', 1, expand = True).get(1)\n",
    "income_2020['GEOID'] = income_2020.GEOID.str.replace('NA','0').astype(float)"
   ]
  },
  {
   "cell_type": "code",
   "execution_count": 1434,
   "id": "bd32f620",
   "metadata": {},
   "outputs": [
    {
     "data": {
      "text/plain": [
       "Index(['GEO_ID', 'S1903_C01_001E', 'S1903_C01_001M', 'S1903_C01_002E',\n",
       "       'S1903_C01_002M', 'S1903_C01_003E', 'S1903_C01_003M', 'S1903_C01_004E',\n",
       "       'S1903_C01_004M', 'S1903_C01_005E',\n",
       "       ...\n",
       "       'S1903_C02_027M', 'S1903_C02_028E', 'S1903_C02_028M', 'S1903_C02_029E',\n",
       "       'S1903_C02_029M', 'S1903_C02_030E', 'S1903_C02_030M', 'S1903_C02_031E',\n",
       "       'S1903_C02_031M', 'NAME'],\n",
       "      dtype='object', length=122)"
      ]
     },
     "execution_count": 1434,
     "metadata": {},
     "output_type": "execute_result"
    }
   ],
   "source": [
    "income_2010 = pd.read_csv('Data/ACSST5Y2010.S1903_data_with_overlays_2022-05-16T191049.csv')\n",
    "income_2010.drop(index=income_2010.index[0], \n",
    "        axis=0, \n",
    "        inplace=True)\n",
    "income_2010.columns"
   ]
  },
  {
   "cell_type": "code",
   "execution_count": 1435,
   "id": "a47448f4",
   "metadata": {},
   "outputs": [],
   "source": [
    "income_2010 = income_2010.rename(columns={'S1903_C02_022E':'median_income_nonfamily_2010', \n",
    "                                          'S1903_C02_016E': 'median_income_family_2010'})"
   ]
  },
  {
   "cell_type": "code",
   "execution_count": 1436,
   "id": "2212ecd9",
   "metadata": {},
   "outputs": [],
   "source": [
    "income_2010 = income_2010[['GEO_ID','NAME','median_income_nonfamily_2010', 'median_income_family_2010']]"
   ]
  },
  {
   "cell_type": "code",
   "execution_count": 1437,
   "id": "6937dc68",
   "metadata": {},
   "outputs": [],
   "source": [
    "income_2010['GEOID'] = income_2010.GEO_ID.str.split('US0', 1, expand = True).get(1)\n",
    "income_2010['GEOID'] = income_2010.GEOID.str.replace('NA','0').astype(float)"
   ]
  },
  {
   "cell_type": "markdown",
   "id": "7029fec6",
   "metadata": {},
   "source": [
    "I merge the 2010, and then the 2020, income data to my base dataset from above (which includes the census tracts, neighborhoods, typologies for our neighborhoods of interest, household size percent change, and gross rent percent change with and without inflation). I do some final cleanup on the 133 matched rows and then calculate percent change across the 2 years. "
   ]
  },
  {
   "cell_type": "code",
   "execution_count": 1438,
   "id": "0a3a7b5a",
   "metadata": {},
   "outputs": [],
   "source": [
    "census_neighborhoods_UDP = census_neighborhoods_UDP.merge(\n",
    "    income_2020, \n",
    "    on=[\"GEOID\"], \n",
    "    how=\"left\",\n",
    "    #indicator=True,\n",
    ")"
   ]
  },
  {
   "cell_type": "code",
   "execution_count": 1439,
   "id": "fa19db91",
   "metadata": {},
   "outputs": [
    {
     "data": {
      "text/html": [
       "<div>\n",
       "<style scoped>\n",
       "    .dataframe tbody tr th:only-of-type {\n",
       "        vertical-align: middle;\n",
       "    }\n",
       "\n",
       "    .dataframe tbody tr th {\n",
       "        vertical-align: top;\n",
       "    }\n",
       "\n",
       "    .dataframe thead th {\n",
       "        text-align: right;\n",
       "    }\n",
       "</style>\n",
       "<table border=\"1\" class=\"dataframe\">\n",
       "  <thead>\n",
       "    <tr style=\"text-align: right;\">\n",
       "      <th></th>\n",
       "      <th>OBJECTID</th>\n",
       "      <th>name</th>\n",
       "      <th>geometry</th>\n",
       "      <th>GEOID</th>\n",
       "      <th>Typology</th>\n",
       "      <th>GEO_ID_x</th>\n",
       "      <th>Total_hhsize_2010</th>\n",
       "      <th>owner_occupied_hh_2010</th>\n",
       "      <th>renter_occupied_hh_2010</th>\n",
       "      <th>_merge1</th>\n",
       "      <th>...</th>\n",
       "      <th>NAME_x</th>\n",
       "      <th>median_gross_rent_2010</th>\n",
       "      <th>rent_percent_change</th>\n",
       "      <th>median_gross_rent_2010_inflation</th>\n",
       "      <th>_merge</th>\n",
       "      <th>rent_percent_change_inflation</th>\n",
       "      <th>GEO_ID</th>\n",
       "      <th>NAME</th>\n",
       "      <th>median_income_nonfamily</th>\n",
       "      <th>median_income_family</th>\n",
       "    </tr>\n",
       "  </thead>\n",
       "  <tbody>\n",
       "  </tbody>\n",
       "</table>\n",
       "<p>0 rows × 28 columns</p>\n",
       "</div>"
      ],
      "text/plain": [
       "Empty GeoDataFrame\n",
       "Columns: [OBJECTID, name, geometry, GEOID, Typology, GEO_ID_x, Total_hhsize_2010, owner_occupied_hh_2010, renter_occupied_hh_2010, _merge1, Total_hhsize, owner_occupied_hh, renter_occupied_hh, GEO_ID_y, Total_hh_percent_change, owner_occupied_percent_change, renter_occupied_percent_change, median_gross_rent, NAME_x, median_gross_rent_2010, rent_percent_change, median_gross_rent_2010_inflation, _merge, rent_percent_change_inflation, GEO_ID, NAME, median_income_nonfamily, median_income_family]\n",
       "Index: []\n",
       "\n",
       "[0 rows x 28 columns]"
      ]
     },
     "execution_count": 1439,
     "metadata": {},
     "output_type": "execute_result"
    }
   ],
   "source": [
    "census_neighborhoods_UDP.query(\"_merge1 != 'both'\")"
   ]
  },
  {
   "cell_type": "code",
   "execution_count": 1440,
   "id": "09c988fd",
   "metadata": {},
   "outputs": [],
   "source": [
    "census_neighborhoods_UDP = census_neighborhoods_UDP.rename(columns={\"_merge\": \"_merge1\"})"
   ]
  },
  {
   "cell_type": "code",
   "execution_count": 1441,
   "id": "34a64d2f",
   "metadata": {},
   "outputs": [
    {
     "name": "stderr",
     "output_type": "stream",
     "text": [
      "/Users/micaobrien/opt/anaconda3/envs/uds/lib/python3.8/site-packages/geopandas/geodataframe.py:1378: FutureWarning: Passing 'suffixes' which cause duplicate columns {'NAME_x', 'GEO_ID_x'} in the result is deprecated and will raise a MergeError in a future version.\n",
      "  result = DataFrame.merge(self, *args, **kwargs)\n"
     ]
    },
    {
     "data": {
      "text/html": [
       "<div>\n",
       "<style scoped>\n",
       "    .dataframe tbody tr th:only-of-type {\n",
       "        vertical-align: middle;\n",
       "    }\n",
       "\n",
       "    .dataframe tbody tr th {\n",
       "        vertical-align: top;\n",
       "    }\n",
       "\n",
       "    .dataframe thead th {\n",
       "        text-align: right;\n",
       "    }\n",
       "</style>\n",
       "<table border=\"1\" class=\"dataframe\">\n",
       "  <thead>\n",
       "    <tr style=\"text-align: right;\">\n",
       "      <th></th>\n",
       "      <th>OBJECTID</th>\n",
       "      <th>name</th>\n",
       "      <th>geometry</th>\n",
       "      <th>GEOID</th>\n",
       "      <th>Typology</th>\n",
       "      <th>GEO_ID_x</th>\n",
       "      <th>Total_hhsize_2010</th>\n",
       "      <th>owner_occupied_hh_2010</th>\n",
       "      <th>renter_occupied_hh_2010</th>\n",
       "      <th>_merge1</th>\n",
       "      <th>...</th>\n",
       "      <th>rent_percent_change_inflation</th>\n",
       "      <th>GEO_ID_x</th>\n",
       "      <th>NAME_x</th>\n",
       "      <th>median_income_nonfamily</th>\n",
       "      <th>median_income_family</th>\n",
       "      <th>GEO_ID_y</th>\n",
       "      <th>NAME_y</th>\n",
       "      <th>median_income_nonfamily_2010</th>\n",
       "      <th>median_income_family_2010</th>\n",
       "      <th>_merge</th>\n",
       "    </tr>\n",
       "  </thead>\n",
       "  <tbody>\n",
       "    <tr>\n",
       "      <th>0</th>\n",
       "      <td>107</td>\n",
       "      <td>Westlake</td>\n",
       "      <td>POLYGON ((-118.25908 34.05389, -118.25984 34.0...</td>\n",
       "      <td>6.037210e+09</td>\n",
       "      <td>Advanced Gentrification</td>\n",
       "      <td>1400000US06037210010</td>\n",
       "      <td>2.99</td>\n",
       "      <td>3.20</td>\n",
       "      <td>2.97</td>\n",
       "      <td>both</td>\n",
       "      <td>...</td>\n",
       "      <td>0.120032</td>\n",
       "      <td>1400000US06037210010</td>\n",
       "      <td>Census Tract 2100.10, Los Angeles County, Cali...</td>\n",
       "      <td>25346</td>\n",
       "      <td>27219</td>\n",
       "      <td>1400000US06037210010</td>\n",
       "      <td>Census Tract 2100.10, Los Angeles County, Cali...</td>\n",
       "      <td>14800</td>\n",
       "      <td>25536</td>\n",
       "      <td>both</td>\n",
       "    </tr>\n",
       "    <tr>\n",
       "      <th>1</th>\n",
       "      <td>107</td>\n",
       "      <td>Westlake</td>\n",
       "      <td>POLYGON ((-118.25908 34.05389, -118.25984 34.0...</td>\n",
       "      <td>6.037209e+09</td>\n",
       "      <td>Early/Ongoing Gentrification</td>\n",
       "      <td>1400000US06037209300</td>\n",
       "      <td>2.73</td>\n",
       "      <td>4.47</td>\n",
       "      <td>2.68</td>\n",
       "      <td>both</td>\n",
       "      <td>...</td>\n",
       "      <td>-0.063634</td>\n",
       "      <td>1400000US06037209300</td>\n",
       "      <td>Census Tract 2093, Los Angeles County, California</td>\n",
       "      <td>24526</td>\n",
       "      <td>34388</td>\n",
       "      <td>1400000US06037209300</td>\n",
       "      <td>Census Tract 2093, Los Angeles County, California</td>\n",
       "      <td>24286</td>\n",
       "      <td>24982</td>\n",
       "      <td>both</td>\n",
       "    </tr>\n",
       "    <tr>\n",
       "      <th>2</th>\n",
       "      <td>107</td>\n",
       "      <td>Westlake</td>\n",
       "      <td>POLYGON ((-118.25908 34.05389, -118.25984 34.0...</td>\n",
       "      <td>6.037211e+09</td>\n",
       "      <td>Early/Ongoing Gentrification</td>\n",
       "      <td>1400000US06037211122</td>\n",
       "      <td>2.55</td>\n",
       "      <td>6.60</td>\n",
       "      <td>2.53</td>\n",
       "      <td>both</td>\n",
       "      <td>...</td>\n",
       "      <td>0.063966</td>\n",
       "      <td>1400000US06037211122</td>\n",
       "      <td>Census Tract 2111.22, Los Angeles County, Cali...</td>\n",
       "      <td>53219</td>\n",
       "      <td>37639</td>\n",
       "      <td>1400000US06037211122</td>\n",
       "      <td>Census Tract 2111.22, Los Angeles County, Cali...</td>\n",
       "      <td>40036</td>\n",
       "      <td>31622</td>\n",
       "      <td>both</td>\n",
       "    </tr>\n",
       "    <tr>\n",
       "      <th>3</th>\n",
       "      <td>107</td>\n",
       "      <td>Westlake</td>\n",
       "      <td>POLYGON ((-118.25908 34.05389, -118.25984 34.0...</td>\n",
       "      <td>6.037193e+09</td>\n",
       "      <td>Early/Ongoing Gentrification</td>\n",
       "      <td>1400000US06037192700</td>\n",
       "      <td>2.80</td>\n",
       "      <td>2.60</td>\n",
       "      <td>2.83</td>\n",
       "      <td>both</td>\n",
       "      <td>...</td>\n",
       "      <td>0.163751</td>\n",
       "      <td>1400000US06037192700</td>\n",
       "      <td>Census Tract 1927, Los Angeles County, California</td>\n",
       "      <td>48950</td>\n",
       "      <td>56129</td>\n",
       "      <td>1400000US06037192700</td>\n",
       "      <td>Census Tract 1927, Los Angeles County, California</td>\n",
       "      <td>20577</td>\n",
       "      <td>40548</td>\n",
       "      <td>both</td>\n",
       "    </tr>\n",
       "    <tr>\n",
       "      <th>4</th>\n",
       "      <td>107</td>\n",
       "      <td>Westlake</td>\n",
       "      <td>POLYGON ((-118.25908 34.05389, -118.25984 34.0...</td>\n",
       "      <td>6.037208e+09</td>\n",
       "      <td>At Risk of Gentrification</td>\n",
       "      <td>1400000US06037208302</td>\n",
       "      <td>2.90</td>\n",
       "      <td>4.32</td>\n",
       "      <td>2.77</td>\n",
       "      <td>both</td>\n",
       "      <td>...</td>\n",
       "      <td>0.003410</td>\n",
       "      <td>1400000US06037208302</td>\n",
       "      <td>Census Tract 2083.02, Los Angeles County, Cali...</td>\n",
       "      <td>50363</td>\n",
       "      <td>44358</td>\n",
       "      <td>1400000US06037208302</td>\n",
       "      <td>Census Tract 2083.02, Los Angeles County, Cali...</td>\n",
       "      <td>11818</td>\n",
       "      <td>26368</td>\n",
       "      <td>both</td>\n",
       "    </tr>\n",
       "    <tr>\n",
       "      <th>...</th>\n",
       "      <td>...</td>\n",
       "      <td>...</td>\n",
       "      <td>...</td>\n",
       "      <td>...</td>\n",
       "      <td>...</td>\n",
       "      <td>...</td>\n",
       "      <td>...</td>\n",
       "      <td>...</td>\n",
       "      <td>...</td>\n",
       "      <td>...</td>\n",
       "      <td>...</td>\n",
       "      <td>...</td>\n",
       "      <td>...</td>\n",
       "      <td>...</td>\n",
       "      <td>...</td>\n",
       "      <td>...</td>\n",
       "      <td>...</td>\n",
       "      <td>...</td>\n",
       "      <td>...</td>\n",
       "      <td>...</td>\n",
       "      <td>...</td>\n",
       "    </tr>\n",
       "    <tr>\n",
       "      <th>128</th>\n",
       "      <td>74</td>\n",
       "      <td>Pico-Union</td>\n",
       "      <td>POLYGON ((-118.28146 34.05250, -118.28094 34.0...</td>\n",
       "      <td>6.037221e+09</td>\n",
       "      <td>Low-Income/Susceptible to Displacement</td>\n",
       "      <td>1400000US06037221120</td>\n",
       "      <td>4.55</td>\n",
       "      <td>7.29</td>\n",
       "      <td>4.10</td>\n",
       "      <td>both</td>\n",
       "      <td>...</td>\n",
       "      <td>-0.122242</td>\n",
       "      <td>1400000US06037221120</td>\n",
       "      <td>Census Tract 2211.20, Los Angeles County, Cali...</td>\n",
       "      <td>47740</td>\n",
       "      <td>43074</td>\n",
       "      <td>1400000US06037221120</td>\n",
       "      <td>Census Tract 2211.20, Los Angeles County, Cali...</td>\n",
       "      <td>13333</td>\n",
       "      <td>29928</td>\n",
       "      <td>both</td>\n",
       "    </tr>\n",
       "    <tr>\n",
       "      <th>129</th>\n",
       "      <td>74</td>\n",
       "      <td>Pico-Union</td>\n",
       "      <td>POLYGON ((-118.28146 34.05250, -118.28094 34.0...</td>\n",
       "      <td>6.037221e+09</td>\n",
       "      <td>At Risk of Gentrification</td>\n",
       "      <td>1400000US06037221110</td>\n",
       "      <td>3.01</td>\n",
       "      <td>2.96</td>\n",
       "      <td>3.01</td>\n",
       "      <td>both</td>\n",
       "      <td>...</td>\n",
       "      <td>0.113036</td>\n",
       "      <td>1400000US06037221110</td>\n",
       "      <td>Census Tract 2211.10, Los Angeles County, Cali...</td>\n",
       "      <td>-</td>\n",
       "      <td>35208</td>\n",
       "      <td>1400000US06037221110</td>\n",
       "      <td>Census Tract 2211.10, Los Angeles County, Cali...</td>\n",
       "      <td>15750</td>\n",
       "      <td>23508</td>\n",
       "      <td>both</td>\n",
       "    </tr>\n",
       "    <tr>\n",
       "      <th>130</th>\n",
       "      <td>74</td>\n",
       "      <td>Pico-Union</td>\n",
       "      <td>POLYGON ((-118.28146 34.05250, -118.28094 34.0...</td>\n",
       "      <td>6.037210e+09</td>\n",
       "      <td>Advanced Gentrification</td>\n",
       "      <td>1400000US06037209820</td>\n",
       "      <td>4.06</td>\n",
       "      <td>5.26</td>\n",
       "      <td>3.78</td>\n",
       "      <td>both</td>\n",
       "      <td>...</td>\n",
       "      <td>-0.076647</td>\n",
       "      <td>1400000US06037209820</td>\n",
       "      <td>Census Tract 2098.20, Los Angeles County, Cali...</td>\n",
       "      <td>24412</td>\n",
       "      <td>43636</td>\n",
       "      <td>1400000US06037209820</td>\n",
       "      <td>Census Tract 2098.20, Los Angeles County, Cali...</td>\n",
       "      <td>25438</td>\n",
       "      <td>25841</td>\n",
       "      <td>both</td>\n",
       "    </tr>\n",
       "    <tr>\n",
       "      <th>131</th>\n",
       "      <td>74</td>\n",
       "      <td>Pico-Union</td>\n",
       "      <td>POLYGON ((-118.28146 34.05250, -118.28094 34.0...</td>\n",
       "      <td>6.037210e+09</td>\n",
       "      <td>At Risk of Gentrification</td>\n",
       "      <td>1400000US06037209810</td>\n",
       "      <td>2.53</td>\n",
       "      <td>2.09</td>\n",
       "      <td>2.54</td>\n",
       "      <td>both</td>\n",
       "      <td>...</td>\n",
       "      <td>0.074746</td>\n",
       "      <td>1400000US06037209810</td>\n",
       "      <td>Census Tract 2098.10, Los Angeles County, Cali...</td>\n",
       "      <td>33563</td>\n",
       "      <td>28618</td>\n",
       "      <td>1400000US06037209810</td>\n",
       "      <td>Census Tract 2098.10, Los Angeles County, Cali...</td>\n",
       "      <td>23750</td>\n",
       "      <td>24226</td>\n",
       "      <td>both</td>\n",
       "    </tr>\n",
       "    <tr>\n",
       "      <th>132</th>\n",
       "      <td>74</td>\n",
       "      <td>Pico-Union</td>\n",
       "      <td>POLYGON ((-118.28146 34.05250, -118.28094 34.0...</td>\n",
       "      <td>6.037210e+09</td>\n",
       "      <td>At Risk of Gentrification</td>\n",
       "      <td>1400000US06037209520</td>\n",
       "      <td>3.28</td>\n",
       "      <td>5.11</td>\n",
       "      <td>3.09</td>\n",
       "      <td>both</td>\n",
       "      <td>...</td>\n",
       "      <td>-0.038384</td>\n",
       "      <td>1400000US06037209520</td>\n",
       "      <td>Census Tract 2095.20, Los Angeles County, Cali...</td>\n",
       "      <td>33250</td>\n",
       "      <td>32155</td>\n",
       "      <td>1400000US06037209520</td>\n",
       "      <td>Census Tract 2095.20, Los Angeles County, Cali...</td>\n",
       "      <td>30179</td>\n",
       "      <td>31210</td>\n",
       "      <td>both</td>\n",
       "    </tr>\n",
       "  </tbody>\n",
       "</table>\n",
       "<p>133 rows × 33 columns</p>\n",
       "</div>"
      ],
      "text/plain": [
       "     OBJECTID        name                                           geometry  \\\n",
       "0         107    Westlake  POLYGON ((-118.25908 34.05389, -118.25984 34.0...   \n",
       "1         107    Westlake  POLYGON ((-118.25908 34.05389, -118.25984 34.0...   \n",
       "2         107    Westlake  POLYGON ((-118.25908 34.05389, -118.25984 34.0...   \n",
       "3         107    Westlake  POLYGON ((-118.25908 34.05389, -118.25984 34.0...   \n",
       "4         107    Westlake  POLYGON ((-118.25908 34.05389, -118.25984 34.0...   \n",
       "..        ...         ...                                                ...   \n",
       "128        74  Pico-Union  POLYGON ((-118.28146 34.05250, -118.28094 34.0...   \n",
       "129        74  Pico-Union  POLYGON ((-118.28146 34.05250, -118.28094 34.0...   \n",
       "130        74  Pico-Union  POLYGON ((-118.28146 34.05250, -118.28094 34.0...   \n",
       "131        74  Pico-Union  POLYGON ((-118.28146 34.05250, -118.28094 34.0...   \n",
       "132        74  Pico-Union  POLYGON ((-118.28146 34.05250, -118.28094 34.0...   \n",
       "\n",
       "            GEOID                                Typology  \\\n",
       "0    6.037210e+09                 Advanced Gentrification   \n",
       "1    6.037209e+09            Early/Ongoing Gentrification   \n",
       "2    6.037211e+09            Early/Ongoing Gentrification   \n",
       "3    6.037193e+09            Early/Ongoing Gentrification   \n",
       "4    6.037208e+09               At Risk of Gentrification   \n",
       "..            ...                                     ...   \n",
       "128  6.037221e+09  Low-Income/Susceptible to Displacement   \n",
       "129  6.037221e+09               At Risk of Gentrification   \n",
       "130  6.037210e+09                 Advanced Gentrification   \n",
       "131  6.037210e+09               At Risk of Gentrification   \n",
       "132  6.037210e+09               At Risk of Gentrification   \n",
       "\n",
       "                 GEO_ID_x  Total_hhsize_2010  owner_occupied_hh_2010  \\\n",
       "0    1400000US06037210010               2.99                    3.20   \n",
       "1    1400000US06037209300               2.73                    4.47   \n",
       "2    1400000US06037211122               2.55                    6.60   \n",
       "3    1400000US06037192700               2.80                    2.60   \n",
       "4    1400000US06037208302               2.90                    4.32   \n",
       "..                    ...                ...                     ...   \n",
       "128  1400000US06037221120               4.55                    7.29   \n",
       "129  1400000US06037221110               3.01                    2.96   \n",
       "130  1400000US06037209820               4.06                    5.26   \n",
       "131  1400000US06037209810               2.53                    2.09   \n",
       "132  1400000US06037209520               3.28                    5.11   \n",
       "\n",
       "     renter_occupied_hh_2010 _merge1  ...  rent_percent_change_inflation  \\\n",
       "0                       2.97    both  ...                       0.120032   \n",
       "1                       2.68    both  ...                      -0.063634   \n",
       "2                       2.53    both  ...                       0.063966   \n",
       "3                       2.83    both  ...                       0.163751   \n",
       "4                       2.77    both  ...                       0.003410   \n",
       "..                       ...     ...  ...                            ...   \n",
       "128                     4.10    both  ...                      -0.122242   \n",
       "129                     3.01    both  ...                       0.113036   \n",
       "130                     3.78    both  ...                      -0.076647   \n",
       "131                     2.54    both  ...                       0.074746   \n",
       "132                     3.09    both  ...                      -0.038384   \n",
       "\n",
       "                 GEO_ID_x                                             NAME_x  \\\n",
       "0    1400000US06037210010  Census Tract 2100.10, Los Angeles County, Cali...   \n",
       "1    1400000US06037209300  Census Tract 2093, Los Angeles County, California   \n",
       "2    1400000US06037211122  Census Tract 2111.22, Los Angeles County, Cali...   \n",
       "3    1400000US06037192700  Census Tract 1927, Los Angeles County, California   \n",
       "4    1400000US06037208302  Census Tract 2083.02, Los Angeles County, Cali...   \n",
       "..                    ...                                                ...   \n",
       "128  1400000US06037221120  Census Tract 2211.20, Los Angeles County, Cali...   \n",
       "129  1400000US06037221110  Census Tract 2211.10, Los Angeles County, Cali...   \n",
       "130  1400000US06037209820  Census Tract 2098.20, Los Angeles County, Cali...   \n",
       "131  1400000US06037209810  Census Tract 2098.10, Los Angeles County, Cali...   \n",
       "132  1400000US06037209520  Census Tract 2095.20, Los Angeles County, Cali...   \n",
       "\n",
       "    median_income_nonfamily  median_income_family              GEO_ID_y  \\\n",
       "0                     25346                 27219  1400000US06037210010   \n",
       "1                     24526                 34388  1400000US06037209300   \n",
       "2                     53219                 37639  1400000US06037211122   \n",
       "3                     48950                 56129  1400000US06037192700   \n",
       "4                     50363                 44358  1400000US06037208302   \n",
       "..                      ...                   ...                   ...   \n",
       "128                   47740                 43074  1400000US06037221120   \n",
       "129                       -                 35208  1400000US06037221110   \n",
       "130                   24412                 43636  1400000US06037209820   \n",
       "131                   33563                 28618  1400000US06037209810   \n",
       "132                   33250                 32155  1400000US06037209520   \n",
       "\n",
       "                                                NAME_y  \\\n",
       "0    Census Tract 2100.10, Los Angeles County, Cali...   \n",
       "1    Census Tract 2093, Los Angeles County, California   \n",
       "2    Census Tract 2111.22, Los Angeles County, Cali...   \n",
       "3    Census Tract 1927, Los Angeles County, California   \n",
       "4    Census Tract 2083.02, Los Angeles County, Cali...   \n",
       "..                                                 ...   \n",
       "128  Census Tract 2211.20, Los Angeles County, Cali...   \n",
       "129  Census Tract 2211.10, Los Angeles County, Cali...   \n",
       "130  Census Tract 2098.20, Los Angeles County, Cali...   \n",
       "131  Census Tract 2098.10, Los Angeles County, Cali...   \n",
       "132  Census Tract 2095.20, Los Angeles County, Cali...   \n",
       "\n",
       "     median_income_nonfamily_2010 median_income_family_2010  _merge  \n",
       "0                           14800                     25536    both  \n",
       "1                           24286                     24982    both  \n",
       "2                           40036                     31622    both  \n",
       "3                           20577                     40548    both  \n",
       "4                           11818                     26368    both  \n",
       "..                            ...                       ...     ...  \n",
       "128                         13333                     29928    both  \n",
       "129                         15750                     23508    both  \n",
       "130                         25438                     25841    both  \n",
       "131                         23750                     24226    both  \n",
       "132                         30179                     31210    both  \n",
       "\n",
       "[133 rows x 33 columns]"
      ]
     },
     "execution_count": 1441,
     "metadata": {},
     "output_type": "execute_result"
    }
   ],
   "source": [
    "census_neighborhoods_UDP = census_neighborhoods_UDP.merge(\n",
    "    income_2010, \n",
    "    on=[\"GEOID\"], \n",
    "    how=\"left\",\n",
    "    indicator=True,\n",
    ")\n",
    "census_neighborhoods_UDP"
   ]
  },
  {
   "cell_type": "code",
   "execution_count": 1442,
   "id": "87f6e6ae",
   "metadata": {},
   "outputs": [
    {
     "data": {
      "text/html": [
       "<div>\n",
       "<style scoped>\n",
       "    .dataframe tbody tr th:only-of-type {\n",
       "        vertical-align: middle;\n",
       "    }\n",
       "\n",
       "    .dataframe tbody tr th {\n",
       "        vertical-align: top;\n",
       "    }\n",
       "\n",
       "    .dataframe thead th {\n",
       "        text-align: right;\n",
       "    }\n",
       "</style>\n",
       "<table border=\"1\" class=\"dataframe\">\n",
       "  <thead>\n",
       "    <tr style=\"text-align: right;\">\n",
       "      <th></th>\n",
       "      <th>OBJECTID</th>\n",
       "      <th>name</th>\n",
       "      <th>geometry</th>\n",
       "      <th>GEOID</th>\n",
       "      <th>Typology</th>\n",
       "      <th>GEO_ID_x</th>\n",
       "      <th>Total_hhsize_2010</th>\n",
       "      <th>owner_occupied_hh_2010</th>\n",
       "      <th>renter_occupied_hh_2010</th>\n",
       "      <th>_merge1</th>\n",
       "      <th>...</th>\n",
       "      <th>rent_percent_change_inflation</th>\n",
       "      <th>GEO_ID_x</th>\n",
       "      <th>NAME_x</th>\n",
       "      <th>median_income_nonfamily</th>\n",
       "      <th>median_income_family</th>\n",
       "      <th>GEO_ID_y</th>\n",
       "      <th>NAME_y</th>\n",
       "      <th>median_income_nonfamily_2010</th>\n",
       "      <th>median_income_family_2010</th>\n",
       "      <th>_merge</th>\n",
       "    </tr>\n",
       "  </thead>\n",
       "  <tbody>\n",
       "  </tbody>\n",
       "</table>\n",
       "<p>0 rows × 33 columns</p>\n",
       "</div>"
      ],
      "text/plain": [
       "Empty GeoDataFrame\n",
       "Columns: [OBJECTID, name, geometry, GEOID, Typology, GEO_ID_x, Total_hhsize_2010, owner_occupied_hh_2010, renter_occupied_hh_2010, _merge1, Total_hhsize, owner_occupied_hh, renter_occupied_hh, GEO_ID_y, Total_hh_percent_change, owner_occupied_percent_change, renter_occupied_percent_change, median_gross_rent, NAME_x, median_gross_rent_2010, rent_percent_change, median_gross_rent_2010_inflation, _merge1, rent_percent_change_inflation, GEO_ID_x, NAME_x, median_income_nonfamily, median_income_family, GEO_ID_y, NAME_y, median_income_nonfamily_2010, median_income_family_2010, _merge]\n",
       "Index: []\n",
       "\n",
       "[0 rows x 33 columns]"
      ]
     },
     "execution_count": 1442,
     "metadata": {},
     "output_type": "execute_result"
    }
   ],
   "source": [
    "census_neighborhoods_UDP.query(\"_merge != 'both'\")"
   ]
  },
  {
   "cell_type": "code",
   "execution_count": 1443,
   "id": "d88988c4",
   "metadata": {},
   "outputs": [],
   "source": [
    "census_neighborhoods_UDP = census_neighborhoods_UDP.dropna(subset=['_merge1', '_merge'])"
   ]
  },
  {
   "cell_type": "code",
   "execution_count": 1444,
   "id": "ca517df7",
   "metadata": {},
   "outputs": [],
   "source": [
    "#census_neighborhoods_UDP.loc[census_neighborhoods_UDP['median_income_family'] != '-']"
   ]
  },
  {
   "cell_type": "code",
   "execution_count": 1445,
   "id": "990c3755",
   "metadata": {},
   "outputs": [],
   "source": [
    "census_neighborhoods_UDP['median_income_family'] = census_neighborhoods_UDP.median_income_family.str.replace('-','NaN').astype(float)\n",
    "census_neighborhoods_UDP['median_income_nonfamily'] = census_neighborhoods_UDP.median_income_nonfamily.str.replace('-','NaN').astype(float)\n",
    "census_neighborhoods_UDP['median_income_family_2010'] = census_neighborhoods_UDP.median_income_family_2010.str.replace('-','NaN').astype(float)\n",
    "census_neighborhoods_UDP['median_income_nonfamily_2010'] = census_neighborhoods_UDP.median_income_nonfamily_2010.str.replace('-','NaN').astype(float)"
   ]
  },
  {
   "cell_type": "code",
   "execution_count": 1446,
   "id": "56241e20",
   "metadata": {},
   "outputs": [],
   "source": [
    "census_neighborhoods_UDP['income_family_percent_change'] = (census_neighborhoods_UDP['median_income_family']-census_neighborhoods_UDP['median_income_family_2010'])/census_neighborhoods_UDP['median_income_family_2010']\n",
    "census_neighborhoods_UDP['income_nonfamily_percent_change'] = (census_neighborhoods_UDP['median_income_nonfamily']-census_neighborhoods_UDP['median_income_nonfamily_2010'])/census_neighborhoods_UDP['median_income_nonfamily_2010']"
   ]
  },
  {
   "cell_type": "markdown",
   "id": "14e15ac6",
   "metadata": {},
   "source": [
    "Without adjusting for inflation, there is a 50% average increase in family income and a 56% percent increae in nonfamily income. These numbers are suspicioulsy high. I will adjust for inflation in the next section and reassess. "
   ]
  },
  {
   "cell_type": "code",
   "execution_count": 1447,
   "id": "4545eae2",
   "metadata": {},
   "outputs": [
    {
     "data": {
      "text/plain": [
       "0.5051016453874271"
      ]
     },
     "execution_count": 1447,
     "metadata": {},
     "output_type": "execute_result"
    }
   ],
   "source": [
    "census_neighborhoods_UDP['income_family_percent_change'].mean()"
   ]
  },
  {
   "cell_type": "code",
   "execution_count": 1448,
   "id": "35bc8eb4",
   "metadata": {},
   "outputs": [
    {
     "data": {
      "text/plain": [
       "0.39313375532476913"
      ]
     },
     "execution_count": 1448,
     "metadata": {},
     "output_type": "execute_result"
    }
   ],
   "source": [
    "census_neighborhoods_UDP['income_family_percent_change'].median()"
   ]
  },
  {
   "cell_type": "code",
   "execution_count": 1449,
   "id": "31839b2e",
   "metadata": {},
   "outputs": [
    {
     "data": {
      "text/plain": [
       "0.5624159045010461"
      ]
     },
     "execution_count": 1449,
     "metadata": {},
     "output_type": "execute_result"
    }
   ],
   "source": [
    "census_neighborhoods_UDP['income_nonfamily_percent_change'].mean()"
   ]
  },
  {
   "cell_type": "code",
   "execution_count": 1450,
   "id": "5d8b3fdc",
   "metadata": {},
   "outputs": [
    {
     "data": {
      "text/plain": [
       "0.30349630464154265"
      ]
     },
     "execution_count": 1450,
     "metadata": {},
     "output_type": "execute_result"
    }
   ],
   "source": [
    "census_neighborhoods_UDP['income_nonfamily_percent_change'].median()"
   ]
  },
  {
   "cell_type": "markdown",
   "id": "5f609521",
   "metadata": {},
   "source": [
    "### Adjust for Inflation"
   ]
  },
  {
   "cell_type": "markdown",
   "id": "4184453f",
   "metadata": {},
   "source": [
    "To calculate inflation, I divide the median family and nonfamily income (2010) by the employment index for January 2010 and then multiply by the employment index for January 2020. I used the CPI for US City average from this website: https://fred.stlouisfed.org/release/tables?rid=11&eid=51576&od=2020-01-01#. I create new columns and recalculate percent change."
   ]
  },
  {
   "cell_type": "code",
   "execution_count": 1451,
   "id": "f9b7cb80",
   "metadata": {},
   "outputs": [],
   "source": [
    "census_neighborhoods_UDP['median_income_family_2010_inflation'] = (census_neighborhoods_UDP\n",
    "                                                                   ['median_income_family_2010']/111.8)*140.0"
   ]
  },
  {
   "cell_type": "code",
   "execution_count": 1452,
   "id": "4f041a55",
   "metadata": {},
   "outputs": [],
   "source": [
    "census_neighborhoods_UDP['median_income_nonfamily_2010_inflation'] = (census_neighborhoods_UDP\n",
    "                                                                      ['median_income_nonfamily_2010']/111.8)*140.0"
   ]
  },
  {
   "cell_type": "code",
   "execution_count": 1453,
   "id": "3e0b5f66",
   "metadata": {},
   "outputs": [],
   "source": [
    "census_neighborhoods_UDP['median_income_family_percent_change_inflation'] = (census_neighborhoods_UDP\n",
    "                                                                             ['median_income_family']-\n",
    "                                                                             census_neighborhoods_UDP\n",
    "                                                                             ['median_income_family_2010_inflation']\n",
    "                                                                            )/census_neighborhoods_UDP['median_income_family_2010_inflation']"
   ]
  },
  {
   "cell_type": "code",
   "execution_count": 1454,
   "id": "6bf6158e",
   "metadata": {},
   "outputs": [],
   "source": [
    "census_neighborhoods_UDP['median_income_nonfamily_percent_change_inflation'] = (census_neighborhoods_UDP\n",
    "                                                                                ['median_income_nonfamily']-\n",
    "                                                                                census_neighborhoods_UDP\n",
    "                                                                                ['median_income_nonfamily_2010_inflation']\n",
    "                                                                               )/census_neighborhoods_UDP['median_income_nonfamily_2010_inflation']"
   ]
  },
  {
   "cell_type": "markdown",
   "id": "bb65aae9",
   "metadata": {},
   "source": [
    "When I run summary statistics on the inflation-adjusted values, we see average percent change in family income increase by about 20% and nonfamily income by about 25%. These numbers make more sense than the ones above (that did not account for inflation). "
   ]
  },
  {
   "cell_type": "code",
   "execution_count": 1455,
   "id": "194e32ec",
   "metadata": {},
   "outputs": [
    {
     "data": {
      "text/plain": [
       "0.20193117110224534"
      ]
     },
     "execution_count": 1455,
     "metadata": {},
     "output_type": "execute_result"
    }
   ],
   "source": [
    "census_neighborhoods_UDP['median_income_family_percent_change_inflation'].mean()"
   ]
  },
  {
   "cell_type": "code",
   "execution_count": 1456,
   "id": "4facb3d5",
   "metadata": {},
   "outputs": [
    {
     "data": {
      "text/plain": [
       "0.11251681318078"
      ]
     },
     "execution_count": 1456,
     "metadata": {},
     "output_type": "execute_result"
    }
   ],
   "source": [
    "census_neighborhoods_UDP['median_income_family_percent_change_inflation'].median()"
   ]
  },
  {
   "cell_type": "code",
   "execution_count": 1457,
   "id": "2abcf379",
   "metadata": {},
   "outputs": [
    {
     "data": {
      "text/plain": [
       "0.24770070088012103"
      ]
     },
     "execution_count": 1457,
     "metadata": {},
     "output_type": "execute_result"
    }
   ],
   "source": [
    "census_neighborhoods_UDP['median_income_nonfamily_percent_change_inflation'].mean()"
   ]
  },
  {
   "cell_type": "code",
   "execution_count": 1458,
   "id": "ffc94252",
   "metadata": {},
   "outputs": [
    {
     "data": {
      "text/plain": [
       "0.04093490613517475"
      ]
     },
     "execution_count": 1458,
     "metadata": {},
     "output_type": "execute_result"
    }
   ],
   "source": [
    "census_neighborhoods_UDP['median_income_nonfamily_percent_change_inflation'].median()"
   ]
  },
  {
   "cell_type": "markdown",
   "id": "5711b5a1",
   "metadata": {},
   "source": [
    "## Census Data - Percentage White, Nonhispanic residents"
   ]
  },
  {
   "cell_type": "markdown",
   "id": "5b0c4240",
   "metadata": {},
   "source": [
    "I read in and clean racial demographic data for 2020 and 2010."
   ]
  },
  {
   "cell_type": "code",
   "execution_count": 1459,
   "id": "a54e8143",
   "metadata": {},
   "outputs": [
    {
     "data": {
      "text/plain": [
       "Index(['GEO_ID', 'NAME', 'P2_001N', 'P2_002N', 'P2_003N', 'P2_004N', 'P2_005N',\n",
       "       'P2_006N', 'P2_007N', 'P2_008N', 'P2_009N', 'P2_010N', 'P2_011N',\n",
       "       'P2_012N', 'P2_013N', 'P2_014N', 'P2_015N', 'P2_016N', 'P2_017N',\n",
       "       'P2_018N', 'P2_019N', 'P2_020N', 'P2_021N', 'P2_022N', 'P2_023N',\n",
       "       'P2_024N', 'P2_025N', 'P2_026N', 'P2_027N', 'P2_028N', 'P2_029N',\n",
       "       'P2_030N', 'P2_031N', 'P2_032N', 'P2_033N', 'P2_034N', 'P2_035N',\n",
       "       'P2_036N', 'P2_037N', 'P2_038N', 'P2_039N', 'P2_040N', 'P2_041N',\n",
       "       'P2_042N', 'P2_043N', 'P2_044N', 'P2_045N', 'P2_046N', 'P2_047N',\n",
       "       'P2_048N', 'P2_049N', 'P2_050N', 'P2_051N', 'P2_052N', 'P2_053N',\n",
       "       'P2_054N', 'P2_055N', 'P2_056N', 'P2_057N', 'P2_058N', 'P2_059N',\n",
       "       'P2_060N', 'P2_061N', 'P2_062N', 'P2_063N', 'P2_064N', 'P2_065N',\n",
       "       'P2_066N', 'P2_067N', 'P2_068N', 'P2_069N', 'P2_070N', 'P2_071N',\n",
       "       'P2_072N', 'P2_073N'],\n",
       "      dtype='object')"
      ]
     },
     "execution_count": 1459,
     "metadata": {},
     "output_type": "execute_result"
    }
   ],
   "source": [
    "white_pop_2020 = pd.read_csv('Data/DECENNIALPL2020.P2_data_with_overlays_2022-05-16T194527.csv')\n",
    "white_pop_2020.drop(index=white_pop_2020.index[0], \n",
    "        axis=0, \n",
    "        inplace=True)\n",
    "white_pop_2020.columns"
   ]
  },
  {
   "cell_type": "code",
   "execution_count": 1460,
   "id": "9f685cb2",
   "metadata": {},
   "outputs": [],
   "source": [
    "white_pop_2020 = white_pop_2020.rename(columns={'P2_001N':'total_race', \n",
    "                                          'P2_005N': 'nonhispanic_white'})"
   ]
  },
  {
   "cell_type": "code",
   "execution_count": 1461,
   "id": "a07ba24b",
   "metadata": {},
   "outputs": [],
   "source": [
    "white_pop_2020 = white_pop_2020[['GEO_ID','NAME','total_race', 'nonhispanic_white']]"
   ]
  },
  {
   "cell_type": "code",
   "execution_count": 1462,
   "id": "cc8c21c6",
   "metadata": {},
   "outputs": [],
   "source": [
    "white_pop_2020['total_race'] = white_pop_2020.total_race.astype(float)\n",
    "white_pop_2020['nonhispanic_white'] = white_pop_2020.nonhispanic_white.astype(float)"
   ]
  },
  {
   "cell_type": "code",
   "execution_count": 1463,
   "id": "acbcb2b8",
   "metadata": {},
   "outputs": [],
   "source": [
    "white_pop_2020['percent_white']= white_pop_2020['nonhispanic_white']/white_pop_2020['total_race']"
   ]
  },
  {
   "cell_type": "code",
   "execution_count": 1464,
   "id": "42516823",
   "metadata": {},
   "outputs": [],
   "source": [
    "white_pop_2020['GEOID'] = white_pop_2020.GEO_ID.str.split('US0', 1, expand = True).get(1)\n",
    "white_pop_2020['GEOID'] = white_pop_2020.GEOID.str.replace('NA','0').astype(float)"
   ]
  },
  {
   "cell_type": "code",
   "execution_count": 1465,
   "id": "985d4340",
   "metadata": {},
   "outputs": [
    {
     "data": {
      "text/plain": [
       "Index(['P002050', 'P002051', 'P002052', 'P002053', 'P002054', 'P002055',\n",
       "       'P002056', 'P002057', 'P002058', 'P002059', 'P002060', 'P002061',\n",
       "       'P002062', 'P002063', 'P002064', 'P002065', 'P002066', 'P002067',\n",
       "       'P002068', 'P002069', 'P002070', 'P002071', 'P002072', 'P002073',\n",
       "       'P002049', 'GEO_ID', 'P002001', 'P002002', 'P002003', 'P002004',\n",
       "       'P002005', 'P002006', 'P002007', 'P002008', 'P002009', 'P002010',\n",
       "       'P002011', 'P002012', 'P002013', 'P002014', 'P002015', 'P002016',\n",
       "       'P002017', 'P002018', 'P002019', 'P002020', 'P002021', 'P002022',\n",
       "       'P002023', 'P002024', 'P002025', 'P002026', 'P002027', 'P002028',\n",
       "       'P002029', 'P002030', 'P002031', 'P002032', 'P002033', 'P002034',\n",
       "       'P002035', 'P002036', 'P002037', 'P002038', 'P002039', 'P002040',\n",
       "       'P002041', 'P002042', 'P002043', 'P002044', 'P002045', 'P002046',\n",
       "       'P002047', 'P002048', 'NAME'],\n",
       "      dtype='object')"
      ]
     },
     "execution_count": 1465,
     "metadata": {},
     "output_type": "execute_result"
    }
   ],
   "source": [
    "white_pop_2010 = pd.read_csv('Data/DECENNIALPL2010.P2_data_with_overlays_2022-05-16T200232.csv')\n",
    "white_pop_2010.drop(index=white_pop_2010.index[0], \n",
    "        axis=0, \n",
    "        inplace=True)\n",
    "white_pop_2010.columns"
   ]
  },
  {
   "cell_type": "code",
   "execution_count": 1466,
   "id": "02154dee",
   "metadata": {},
   "outputs": [],
   "source": [
    "white_pop_2010 = white_pop_2010.rename(columns={'P002001':'total_race_2010', \n",
    "                                          'P002005': 'nonhispanic_white_2010'})"
   ]
  },
  {
   "cell_type": "code",
   "execution_count": 1467,
   "id": "5e099ea5",
   "metadata": {},
   "outputs": [
    {
     "data": {
      "text/html": [
       "<div>\n",
       "<style scoped>\n",
       "    .dataframe tbody tr th:only-of-type {\n",
       "        vertical-align: middle;\n",
       "    }\n",
       "\n",
       "    .dataframe tbody tr th {\n",
       "        vertical-align: top;\n",
       "    }\n",
       "\n",
       "    .dataframe thead th {\n",
       "        text-align: right;\n",
       "    }\n",
       "</style>\n",
       "<table border=\"1\" class=\"dataframe\">\n",
       "  <thead>\n",
       "    <tr style=\"text-align: right;\">\n",
       "      <th></th>\n",
       "      <th>GEO_ID</th>\n",
       "      <th>NAME</th>\n",
       "      <th>total_race_2010</th>\n",
       "      <th>nonhispanic_white_2010</th>\n",
       "    </tr>\n",
       "  </thead>\n",
       "  <tbody>\n",
       "    <tr>\n",
       "      <th>335</th>\n",
       "      <td>1400000US06037141303</td>\n",
       "      <td>Census Tract 1413.03, Los Angeles County, Cali...</td>\n",
       "      <td>3089</td>\n",
       "      <td>2161</td>\n",
       "    </tr>\n",
       "    <tr>\n",
       "      <th>1936</th>\n",
       "      <td>1400000US06037577602</td>\n",
       "      <td>Census Tract 5776.02, Los Angeles County, Cali...</td>\n",
       "      <td>3441</td>\n",
       "      <td>2497</td>\n",
       "    </tr>\n",
       "    <tr>\n",
       "      <th>1133</th>\n",
       "      <td>1400000US06037403322</td>\n",
       "      <td>Census Tract 4033.22, Los Angeles County, Cali...</td>\n",
       "      <td>3808</td>\n",
       "      <td>984</td>\n",
       "    </tr>\n",
       "    <tr>\n",
       "      <th>2296</th>\n",
       "      <td>1400000US06037920119</td>\n",
       "      <td>Census Tract 9201.19, Los Angeles County, Cali...</td>\n",
       "      <td>1896</td>\n",
       "      <td>1027</td>\n",
       "    </tr>\n",
       "    <tr>\n",
       "      <th>619</th>\n",
       "      <td>1400000US06037213320</td>\n",
       "      <td>Census Tract 2133.20, Los Angeles County, Cali...</td>\n",
       "      <td>2481</td>\n",
       "      <td>47</td>\n",
       "    </tr>\n",
       "    <tr>\n",
       "      <th>1224</th>\n",
       "      <td>1400000US06037407900</td>\n",
       "      <td>Census Tract 4079, Los Angeles County, California</td>\n",
       "      <td>6296</td>\n",
       "      <td>443</td>\n",
       "    </tr>\n",
       "    <tr>\n",
       "      <th>960</th>\n",
       "      <td>1400000US06037294610</td>\n",
       "      <td>Census Tract 2946.10, Los Angeles County, Cali...</td>\n",
       "      <td>4065</td>\n",
       "      <td>168</td>\n",
       "    </tr>\n",
       "    <tr>\n",
       "      <th>1314</th>\n",
       "      <td>1400000US06037432902</td>\n",
       "      <td>Census Tract 4329.02, Los Angeles County, Cali...</td>\n",
       "      <td>3482</td>\n",
       "      <td>258</td>\n",
       "    </tr>\n",
       "    <tr>\n",
       "      <th>2241</th>\n",
       "      <td>1400000US06037910713</td>\n",
       "      <td>Census Tract 9107.13, Los Angeles County, Cali...</td>\n",
       "      <td>5324</td>\n",
       "      <td>835</td>\n",
       "    </tr>\n",
       "    <tr>\n",
       "      <th>1173</th>\n",
       "      <td>1400000US06037404901</td>\n",
       "      <td>Census Tract 4049.01, Los Angeles County, Cali...</td>\n",
       "      <td>5658</td>\n",
       "      <td>173</td>\n",
       "    </tr>\n",
       "  </tbody>\n",
       "</table>\n",
       "</div>"
      ],
      "text/plain": [
       "                    GEO_ID                                               NAME  \\\n",
       "335   1400000US06037141303  Census Tract 1413.03, Los Angeles County, Cali...   \n",
       "1936  1400000US06037577602  Census Tract 5776.02, Los Angeles County, Cali...   \n",
       "1133  1400000US06037403322  Census Tract 4033.22, Los Angeles County, Cali...   \n",
       "2296  1400000US06037920119  Census Tract 9201.19, Los Angeles County, Cali...   \n",
       "619   1400000US06037213320  Census Tract 2133.20, Los Angeles County, Cali...   \n",
       "1224  1400000US06037407900  Census Tract 4079, Los Angeles County, California   \n",
       "960   1400000US06037294610  Census Tract 2946.10, Los Angeles County, Cali...   \n",
       "1314  1400000US06037432902  Census Tract 4329.02, Los Angeles County, Cali...   \n",
       "2241  1400000US06037910713  Census Tract 9107.13, Los Angeles County, Cali...   \n",
       "1173  1400000US06037404901  Census Tract 4049.01, Los Angeles County, Cali...   \n",
       "\n",
       "     total_race_2010 nonhispanic_white_2010  \n",
       "335             3089                   2161  \n",
       "1936            3441                   2497  \n",
       "1133            3808                    984  \n",
       "2296            1896                   1027  \n",
       "619             2481                     47  \n",
       "1224            6296                    443  \n",
       "960             4065                    168  \n",
       "1314            3482                    258  \n",
       "2241            5324                    835  \n",
       "1173            5658                    173  "
      ]
     },
     "execution_count": 1467,
     "metadata": {},
     "output_type": "execute_result"
    }
   ],
   "source": [
    "white_pop_2010 = white_pop_2010[['GEO_ID','NAME','total_race_2010', 'nonhispanic_white_2010']]\n",
    "white_pop_2010.sample(10)"
   ]
  },
  {
   "cell_type": "code",
   "execution_count": 1468,
   "id": "eeb0885a",
   "metadata": {},
   "outputs": [
    {
     "data": {
      "text/html": [
       "<div>\n",
       "<style scoped>\n",
       "    .dataframe tbody tr th:only-of-type {\n",
       "        vertical-align: middle;\n",
       "    }\n",
       "\n",
       "    .dataframe tbody tr th {\n",
       "        vertical-align: top;\n",
       "    }\n",
       "\n",
       "    .dataframe thead th {\n",
       "        text-align: right;\n",
       "    }\n",
       "</style>\n",
       "<table border=\"1\" class=\"dataframe\">\n",
       "  <thead>\n",
       "    <tr style=\"text-align: right;\">\n",
       "      <th></th>\n",
       "      <th>GEO_ID</th>\n",
       "      <th>NAME</th>\n",
       "      <th>total_race_2010</th>\n",
       "      <th>nonhispanic_white_2010</th>\n",
       "    </tr>\n",
       "  </thead>\n",
       "  <tbody>\n",
       "    <tr>\n",
       "      <th>1792</th>\n",
       "      <td>1400000US06037554406</td>\n",
       "      <td>Census Tract 5544.06, Los Angeles County, Cali...</td>\n",
       "      <td>4875(r39144)</td>\n",
       "      <td>1906</td>\n",
       "    </tr>\n",
       "  </tbody>\n",
       "</table>\n",
       "</div>"
      ],
      "text/plain": [
       "                    GEO_ID                                               NAME  \\\n",
       "1792  1400000US06037554406  Census Tract 5544.06, Los Angeles County, Cali...   \n",
       "\n",
       "     total_race_2010 nonhispanic_white_2010  \n",
       "1792    4875(r39144)                   1906  "
      ]
     },
     "execution_count": 1468,
     "metadata": {},
     "output_type": "execute_result"
    }
   ],
   "source": [
    "white_pop_2010.loc[white_pop_2010['total_race_2010'] == '4875(r39144)']"
   ]
  },
  {
   "cell_type": "code",
   "execution_count": 1469,
   "id": "f3be0ac6",
   "metadata": {},
   "outputs": [],
   "source": [
    "white_pop_2010 = white_pop_2010.replace({'4875(r39144)': '4875'})\n",
    "white_pop_2010 = white_pop_2010.replace({'3703(r39145)': '3703'})\n",
    "white_pop_2010 = white_pop_2010.replace({'3902(r39146)': '3902'})\n",
    "white_pop_2010 = white_pop_2010.replace({'4883(r39147)': '4883'})\n",
    "white_pop_2010 = white_pop_2010.replace({'3613(r39148)': '3613'})\n",
    "white_pop_2010 = white_pop_2010.replace({'5752(r39149)': '5752'})\n",
    "white_pop_2010 = white_pop_2010.replace({'4787(r39150)': '4787'})"
   ]
  },
  {
   "cell_type": "code",
   "execution_count": 1470,
   "id": "d9542481",
   "metadata": {},
   "outputs": [],
   "source": [
    "white_pop_2010['total_race_2010'] = white_pop_2010.total_race_2010.astype(float)\n",
    "white_pop_2010['nonhispanic_white_2010'] = white_pop_2010.nonhispanic_white_2010.astype(float)"
   ]
  },
  {
   "cell_type": "code",
   "execution_count": 1471,
   "id": "352347f0",
   "metadata": {},
   "outputs": [],
   "source": [
    "white_pop_2010['percent_white_2010']= white_pop_2010['nonhispanic_white_2010']/white_pop_2010['total_race_2010']"
   ]
  },
  {
   "cell_type": "code",
   "execution_count": 1472,
   "id": "b1c8ab7e",
   "metadata": {},
   "outputs": [],
   "source": [
    "white_pop_2010['GEOID'] = white_pop_2010.GEO_ID.str.split('US0', 1, expand = True).get(1)\n",
    "white_pop_2010['GEOID'] = white_pop_2010.GEOID.str.replace('NA','0').astype(float)"
   ]
  },
  {
   "cell_type": "code",
   "execution_count": 1473,
   "id": "9917e48d",
   "metadata": {},
   "outputs": [],
   "source": [
    "white_pop_2020 = white_pop_2020.rename(columns={'GEO_ID':'GEO_ID_white_pop', \n",
    "                                          'NAME': 'NAME_white_pop'})"
   ]
  },
  {
   "cell_type": "markdown",
   "id": "8e976528",
   "metadata": {},
   "source": [
    "I merge the 2020, and then the 2010, percent white population data to my base dataset from above (which includes the census tracts, neighborhoods, typologies for our neighborhoods of interest, household size percent change, gross rent percent change (with and without inflation), and median income percent change(with and without inflation)). I do some final cleanup on the 133 matched rows and then calculate percent change across the 2 years. "
   ]
  },
  {
   "cell_type": "code",
   "execution_count": 1474,
   "id": "f4adad81",
   "metadata": {},
   "outputs": [],
   "source": [
    "census_neighborhoods_UDP = census_neighborhoods_UDP.merge(\n",
    "    white_pop_2020, \n",
    "    on=[\"GEOID\"], \n",
    "    how=\"left\",\n",
    "    #indicator=True,\n",
    ")"
   ]
  },
  {
   "cell_type": "code",
   "execution_count": 1475,
   "id": "f410cfd9",
   "metadata": {},
   "outputs": [],
   "source": [
    "census_neighborhoods_UDP = census_neighborhoods_UDP.dropna(subset=['GEO_ID_white_pop', 'NAME_white_pop'])"
   ]
  },
  {
   "cell_type": "code",
   "execution_count": 1476,
   "id": "5e49a7db",
   "metadata": {},
   "outputs": [
    {
     "data": {
      "text/html": [
       "<div>\n",
       "<style scoped>\n",
       "    .dataframe tbody tr th:only-of-type {\n",
       "        vertical-align: middle;\n",
       "    }\n",
       "\n",
       "    .dataframe tbody tr th {\n",
       "        vertical-align: top;\n",
       "    }\n",
       "\n",
       "    .dataframe thead th {\n",
       "        text-align: right;\n",
       "    }\n",
       "</style>\n",
       "<table border=\"1\" class=\"dataframe\">\n",
       "  <thead>\n",
       "    <tr style=\"text-align: right;\">\n",
       "      <th></th>\n",
       "      <th>OBJECTID</th>\n",
       "      <th>name</th>\n",
       "      <th>geometry</th>\n",
       "      <th>GEOID</th>\n",
       "      <th>Typology</th>\n",
       "      <th>GEO_ID_x</th>\n",
       "      <th>Total_hhsize_2010</th>\n",
       "      <th>owner_occupied_hh_2010</th>\n",
       "      <th>renter_occupied_hh_2010</th>\n",
       "      <th>_merge1</th>\n",
       "      <th>...</th>\n",
       "      <th>GEO_ID_white_pop</th>\n",
       "      <th>NAME_white_pop</th>\n",
       "      <th>total_race</th>\n",
       "      <th>nonhispanic_white</th>\n",
       "      <th>percent_white</th>\n",
       "      <th>GEO_ID</th>\n",
       "      <th>NAME</th>\n",
       "      <th>total_race_2010</th>\n",
       "      <th>nonhispanic_white_2010</th>\n",
       "      <th>percent_white_2010</th>\n",
       "    </tr>\n",
       "  </thead>\n",
       "  <tbody>\n",
       "    <tr>\n",
       "      <th>0</th>\n",
       "      <td>107</td>\n",
       "      <td>Westlake</td>\n",
       "      <td>POLYGON ((-118.25908 34.05389, -118.25984 34.0...</td>\n",
       "      <td>6.037210e+09</td>\n",
       "      <td>Advanced Gentrification</td>\n",
       "      <td>1400000US06037210010</td>\n",
       "      <td>2.99</td>\n",
       "      <td>3.20</td>\n",
       "      <td>2.97</td>\n",
       "      <td>both</td>\n",
       "      <td>...</td>\n",
       "      <td>1400000US06037210010</td>\n",
       "      <td>Census Tract 2100.10, Los Angeles County, Cali...</td>\n",
       "      <td>3190.0</td>\n",
       "      <td>130.0</td>\n",
       "      <td>0.040752</td>\n",
       "      <td>1400000US06037210010</td>\n",
       "      <td>Census Tract 2100.10, Los Angeles County, Cali...</td>\n",
       "      <td>3520.0</td>\n",
       "      <td>87.0</td>\n",
       "      <td>0.024716</td>\n",
       "    </tr>\n",
       "    <tr>\n",
       "      <th>1</th>\n",
       "      <td>107</td>\n",
       "      <td>Westlake</td>\n",
       "      <td>POLYGON ((-118.25908 34.05389, -118.25984 34.0...</td>\n",
       "      <td>6.037209e+09</td>\n",
       "      <td>Early/Ongoing Gentrification</td>\n",
       "      <td>1400000US06037209300</td>\n",
       "      <td>2.73</td>\n",
       "      <td>4.47</td>\n",
       "      <td>2.68</td>\n",
       "      <td>both</td>\n",
       "      <td>...</td>\n",
       "      <td>1400000US06037209300</td>\n",
       "      <td>Census Tract 2093, Los Angeles County, California</td>\n",
       "      <td>4712.0</td>\n",
       "      <td>582.0</td>\n",
       "      <td>0.123514</td>\n",
       "      <td>1400000US06037209300</td>\n",
       "      <td>Census Tract 2093, Los Angeles County, California</td>\n",
       "      <td>5021.0</td>\n",
       "      <td>710.0</td>\n",
       "      <td>0.141406</td>\n",
       "    </tr>\n",
       "    <tr>\n",
       "      <th>2</th>\n",
       "      <td>107</td>\n",
       "      <td>Westlake</td>\n",
       "      <td>POLYGON ((-118.25908 34.05389, -118.25984 34.0...</td>\n",
       "      <td>6.037211e+09</td>\n",
       "      <td>Early/Ongoing Gentrification</td>\n",
       "      <td>1400000US06037211122</td>\n",
       "      <td>2.55</td>\n",
       "      <td>6.60</td>\n",
       "      <td>2.53</td>\n",
       "      <td>both</td>\n",
       "      <td>...</td>\n",
       "      <td>1400000US06037211122</td>\n",
       "      <td>Census Tract 2111.22, Los Angeles County, Cali...</td>\n",
       "      <td>2877.0</td>\n",
       "      <td>551.0</td>\n",
       "      <td>0.191519</td>\n",
       "      <td>1400000US06037211122</td>\n",
       "      <td>Census Tract 2111.22, Los Angeles County, Cali...</td>\n",
       "      <td>3075.0</td>\n",
       "      <td>310.0</td>\n",
       "      <td>0.100813</td>\n",
       "    </tr>\n",
       "    <tr>\n",
       "      <th>3</th>\n",
       "      <td>107</td>\n",
       "      <td>Westlake</td>\n",
       "      <td>POLYGON ((-118.25908 34.05389, -118.25984 34.0...</td>\n",
       "      <td>6.037193e+09</td>\n",
       "      <td>Early/Ongoing Gentrification</td>\n",
       "      <td>1400000US06037192700</td>\n",
       "      <td>2.80</td>\n",
       "      <td>2.60</td>\n",
       "      <td>2.83</td>\n",
       "      <td>both</td>\n",
       "      <td>...</td>\n",
       "      <td>1400000US06037192700</td>\n",
       "      <td>Census Tract 1927, Los Angeles County, California</td>\n",
       "      <td>3550.0</td>\n",
       "      <td>545.0</td>\n",
       "      <td>0.153521</td>\n",
       "      <td>1400000US06037192700</td>\n",
       "      <td>Census Tract 1927, Los Angeles County, California</td>\n",
       "      <td>3513.0</td>\n",
       "      <td>349.0</td>\n",
       "      <td>0.099345</td>\n",
       "    </tr>\n",
       "    <tr>\n",
       "      <th>4</th>\n",
       "      <td>107</td>\n",
       "      <td>Westlake</td>\n",
       "      <td>POLYGON ((-118.25908 34.05389, -118.25984 34.0...</td>\n",
       "      <td>6.037208e+09</td>\n",
       "      <td>At Risk of Gentrification</td>\n",
       "      <td>1400000US06037208302</td>\n",
       "      <td>2.90</td>\n",
       "      <td>4.32</td>\n",
       "      <td>2.77</td>\n",
       "      <td>both</td>\n",
       "      <td>...</td>\n",
       "      <td>1400000US06037208302</td>\n",
       "      <td>Census Tract 2083.02, Los Angeles County, Cali...</td>\n",
       "      <td>4560.0</td>\n",
       "      <td>374.0</td>\n",
       "      <td>0.082018</td>\n",
       "      <td>1400000US06037208302</td>\n",
       "      <td>Census Tract 2083.02, Los Angeles County, Cali...</td>\n",
       "      <td>4360.0</td>\n",
       "      <td>181.0</td>\n",
       "      <td>0.041514</td>\n",
       "    </tr>\n",
       "    <tr>\n",
       "      <th>...</th>\n",
       "      <td>...</td>\n",
       "      <td>...</td>\n",
       "      <td>...</td>\n",
       "      <td>...</td>\n",
       "      <td>...</td>\n",
       "      <td>...</td>\n",
       "      <td>...</td>\n",
       "      <td>...</td>\n",
       "      <td>...</td>\n",
       "      <td>...</td>\n",
       "      <td>...</td>\n",
       "      <td>...</td>\n",
       "      <td>...</td>\n",
       "      <td>...</td>\n",
       "      <td>...</td>\n",
       "      <td>...</td>\n",
       "      <td>...</td>\n",
       "      <td>...</td>\n",
       "      <td>...</td>\n",
       "      <td>...</td>\n",
       "      <td>...</td>\n",
       "    </tr>\n",
       "    <tr>\n",
       "      <th>128</th>\n",
       "      <td>74</td>\n",
       "      <td>Pico-Union</td>\n",
       "      <td>POLYGON ((-118.28146 34.05250, -118.28094 34.0...</td>\n",
       "      <td>6.037221e+09</td>\n",
       "      <td>Low-Income/Susceptible to Displacement</td>\n",
       "      <td>1400000US06037221120</td>\n",
       "      <td>4.55</td>\n",
       "      <td>7.29</td>\n",
       "      <td>4.10</td>\n",
       "      <td>both</td>\n",
       "      <td>...</td>\n",
       "      <td>1400000US06037221120</td>\n",
       "      <td>Census Tract 2211.20, Los Angeles County, Cali...</td>\n",
       "      <td>3030.0</td>\n",
       "      <td>37.0</td>\n",
       "      <td>0.012211</td>\n",
       "      <td>1400000US06037221120</td>\n",
       "      <td>Census Tract 2211.20, Los Angeles County, Cali...</td>\n",
       "      <td>3373.0</td>\n",
       "      <td>70.0</td>\n",
       "      <td>0.020753</td>\n",
       "    </tr>\n",
       "    <tr>\n",
       "      <th>129</th>\n",
       "      <td>74</td>\n",
       "      <td>Pico-Union</td>\n",
       "      <td>POLYGON ((-118.28146 34.05250, -118.28094 34.0...</td>\n",
       "      <td>6.037221e+09</td>\n",
       "      <td>At Risk of Gentrification</td>\n",
       "      <td>1400000US06037221110</td>\n",
       "      <td>3.01</td>\n",
       "      <td>2.96</td>\n",
       "      <td>3.01</td>\n",
       "      <td>both</td>\n",
       "      <td>...</td>\n",
       "      <td>1400000US06037221110</td>\n",
       "      <td>Census Tract 2211.10, Los Angeles County, Cali...</td>\n",
       "      <td>3289.0</td>\n",
       "      <td>102.0</td>\n",
       "      <td>0.031012</td>\n",
       "      <td>1400000US06037221110</td>\n",
       "      <td>Census Tract 2211.10, Los Angeles County, Cali...</td>\n",
       "      <td>3565.0</td>\n",
       "      <td>87.0</td>\n",
       "      <td>0.024404</td>\n",
       "    </tr>\n",
       "    <tr>\n",
       "      <th>130</th>\n",
       "      <td>74</td>\n",
       "      <td>Pico-Union</td>\n",
       "      <td>POLYGON ((-118.28146 34.05250, -118.28094 34.0...</td>\n",
       "      <td>6.037210e+09</td>\n",
       "      <td>Advanced Gentrification</td>\n",
       "      <td>1400000US06037209820</td>\n",
       "      <td>4.06</td>\n",
       "      <td>5.26</td>\n",
       "      <td>3.78</td>\n",
       "      <td>both</td>\n",
       "      <td>...</td>\n",
       "      <td>1400000US06037209820</td>\n",
       "      <td>Census Tract 2098.20, Los Angeles County, Cali...</td>\n",
       "      <td>2732.0</td>\n",
       "      <td>109.0</td>\n",
       "      <td>0.039898</td>\n",
       "      <td>1400000US06037209820</td>\n",
       "      <td>Census Tract 2098.20, Los Angeles County, Cali...</td>\n",
       "      <td>2968.0</td>\n",
       "      <td>59.0</td>\n",
       "      <td>0.019879</td>\n",
       "    </tr>\n",
       "    <tr>\n",
       "      <th>131</th>\n",
       "      <td>74</td>\n",
       "      <td>Pico-Union</td>\n",
       "      <td>POLYGON ((-118.28146 34.05250, -118.28094 34.0...</td>\n",
       "      <td>6.037210e+09</td>\n",
       "      <td>At Risk of Gentrification</td>\n",
       "      <td>1400000US06037209810</td>\n",
       "      <td>2.53</td>\n",
       "      <td>2.09</td>\n",
       "      <td>2.54</td>\n",
       "      <td>both</td>\n",
       "      <td>...</td>\n",
       "      <td>1400000US06037209810</td>\n",
       "      <td>Census Tract 2098.10, Los Angeles County, Cali...</td>\n",
       "      <td>2385.0</td>\n",
       "      <td>217.0</td>\n",
       "      <td>0.090985</td>\n",
       "      <td>1400000US06037209810</td>\n",
       "      <td>Census Tract 2098.10, Los Angeles County, Cali...</td>\n",
       "      <td>2472.0</td>\n",
       "      <td>183.0</td>\n",
       "      <td>0.074029</td>\n",
       "    </tr>\n",
       "    <tr>\n",
       "      <th>132</th>\n",
       "      <td>74</td>\n",
       "      <td>Pico-Union</td>\n",
       "      <td>POLYGON ((-118.28146 34.05250, -118.28094 34.0...</td>\n",
       "      <td>6.037210e+09</td>\n",
       "      <td>At Risk of Gentrification</td>\n",
       "      <td>1400000US06037209520</td>\n",
       "      <td>3.28</td>\n",
       "      <td>5.11</td>\n",
       "      <td>3.09</td>\n",
       "      <td>both</td>\n",
       "      <td>...</td>\n",
       "      <td>1400000US06037209520</td>\n",
       "      <td>Census Tract 2095.20, Los Angeles County, Cali...</td>\n",
       "      <td>2648.0</td>\n",
       "      <td>121.0</td>\n",
       "      <td>0.045695</td>\n",
       "      <td>1400000US06037209520</td>\n",
       "      <td>Census Tract 2095.20, Los Angeles County, Cali...</td>\n",
       "      <td>2791.0</td>\n",
       "      <td>48.0</td>\n",
       "      <td>0.017198</td>\n",
       "    </tr>\n",
       "  </tbody>\n",
       "</table>\n",
       "<p>133 rows × 49 columns</p>\n",
       "</div>"
      ],
      "text/plain": [
       "     OBJECTID        name                                           geometry  \\\n",
       "0         107    Westlake  POLYGON ((-118.25908 34.05389, -118.25984 34.0...   \n",
       "1         107    Westlake  POLYGON ((-118.25908 34.05389, -118.25984 34.0...   \n",
       "2         107    Westlake  POLYGON ((-118.25908 34.05389, -118.25984 34.0...   \n",
       "3         107    Westlake  POLYGON ((-118.25908 34.05389, -118.25984 34.0...   \n",
       "4         107    Westlake  POLYGON ((-118.25908 34.05389, -118.25984 34.0...   \n",
       "..        ...         ...                                                ...   \n",
       "128        74  Pico-Union  POLYGON ((-118.28146 34.05250, -118.28094 34.0...   \n",
       "129        74  Pico-Union  POLYGON ((-118.28146 34.05250, -118.28094 34.0...   \n",
       "130        74  Pico-Union  POLYGON ((-118.28146 34.05250, -118.28094 34.0...   \n",
       "131        74  Pico-Union  POLYGON ((-118.28146 34.05250, -118.28094 34.0...   \n",
       "132        74  Pico-Union  POLYGON ((-118.28146 34.05250, -118.28094 34.0...   \n",
       "\n",
       "            GEOID                                Typology  \\\n",
       "0    6.037210e+09                 Advanced Gentrification   \n",
       "1    6.037209e+09            Early/Ongoing Gentrification   \n",
       "2    6.037211e+09            Early/Ongoing Gentrification   \n",
       "3    6.037193e+09            Early/Ongoing Gentrification   \n",
       "4    6.037208e+09               At Risk of Gentrification   \n",
       "..            ...                                     ...   \n",
       "128  6.037221e+09  Low-Income/Susceptible to Displacement   \n",
       "129  6.037221e+09               At Risk of Gentrification   \n",
       "130  6.037210e+09                 Advanced Gentrification   \n",
       "131  6.037210e+09               At Risk of Gentrification   \n",
       "132  6.037210e+09               At Risk of Gentrification   \n",
       "\n",
       "                 GEO_ID_x  Total_hhsize_2010  owner_occupied_hh_2010  \\\n",
       "0    1400000US06037210010               2.99                    3.20   \n",
       "1    1400000US06037209300               2.73                    4.47   \n",
       "2    1400000US06037211122               2.55                    6.60   \n",
       "3    1400000US06037192700               2.80                    2.60   \n",
       "4    1400000US06037208302               2.90                    4.32   \n",
       "..                    ...                ...                     ...   \n",
       "128  1400000US06037221120               4.55                    7.29   \n",
       "129  1400000US06037221110               3.01                    2.96   \n",
       "130  1400000US06037209820               4.06                    5.26   \n",
       "131  1400000US06037209810               2.53                    2.09   \n",
       "132  1400000US06037209520               3.28                    5.11   \n",
       "\n",
       "     renter_occupied_hh_2010 _merge1  ...      GEO_ID_white_pop  \\\n",
       "0                       2.97    both  ...  1400000US06037210010   \n",
       "1                       2.68    both  ...  1400000US06037209300   \n",
       "2                       2.53    both  ...  1400000US06037211122   \n",
       "3                       2.83    both  ...  1400000US06037192700   \n",
       "4                       2.77    both  ...  1400000US06037208302   \n",
       "..                       ...     ...  ...                   ...   \n",
       "128                     4.10    both  ...  1400000US06037221120   \n",
       "129                     3.01    both  ...  1400000US06037221110   \n",
       "130                     3.78    both  ...  1400000US06037209820   \n",
       "131                     2.54    both  ...  1400000US06037209810   \n",
       "132                     3.09    both  ...  1400000US06037209520   \n",
       "\n",
       "                                        NAME_white_pop  total_race  \\\n",
       "0    Census Tract 2100.10, Los Angeles County, Cali...      3190.0   \n",
       "1    Census Tract 2093, Los Angeles County, California      4712.0   \n",
       "2    Census Tract 2111.22, Los Angeles County, Cali...      2877.0   \n",
       "3    Census Tract 1927, Los Angeles County, California      3550.0   \n",
       "4    Census Tract 2083.02, Los Angeles County, Cali...      4560.0   \n",
       "..                                                 ...         ...   \n",
       "128  Census Tract 2211.20, Los Angeles County, Cali...      3030.0   \n",
       "129  Census Tract 2211.10, Los Angeles County, Cali...      3289.0   \n",
       "130  Census Tract 2098.20, Los Angeles County, Cali...      2732.0   \n",
       "131  Census Tract 2098.10, Los Angeles County, Cali...      2385.0   \n",
       "132  Census Tract 2095.20, Los Angeles County, Cali...      2648.0   \n",
       "\n",
       "    nonhispanic_white  percent_white                GEO_ID  \\\n",
       "0               130.0       0.040752  1400000US06037210010   \n",
       "1               582.0       0.123514  1400000US06037209300   \n",
       "2               551.0       0.191519  1400000US06037211122   \n",
       "3               545.0       0.153521  1400000US06037192700   \n",
       "4               374.0       0.082018  1400000US06037208302   \n",
       "..                ...            ...                   ...   \n",
       "128              37.0       0.012211  1400000US06037221120   \n",
       "129             102.0       0.031012  1400000US06037221110   \n",
       "130             109.0       0.039898  1400000US06037209820   \n",
       "131             217.0       0.090985  1400000US06037209810   \n",
       "132             121.0       0.045695  1400000US06037209520   \n",
       "\n",
       "                                                  NAME  total_race_2010  \\\n",
       "0    Census Tract 2100.10, Los Angeles County, Cali...           3520.0   \n",
       "1    Census Tract 2093, Los Angeles County, California           5021.0   \n",
       "2    Census Tract 2111.22, Los Angeles County, Cali...           3075.0   \n",
       "3    Census Tract 1927, Los Angeles County, California           3513.0   \n",
       "4    Census Tract 2083.02, Los Angeles County, Cali...           4360.0   \n",
       "..                                                 ...              ...   \n",
       "128  Census Tract 2211.20, Los Angeles County, Cali...           3373.0   \n",
       "129  Census Tract 2211.10, Los Angeles County, Cali...           3565.0   \n",
       "130  Census Tract 2098.20, Los Angeles County, Cali...           2968.0   \n",
       "131  Census Tract 2098.10, Los Angeles County, Cali...           2472.0   \n",
       "132  Census Tract 2095.20, Los Angeles County, Cali...           2791.0   \n",
       "\n",
       "    nonhispanic_white_2010  percent_white_2010  \n",
       "0                     87.0            0.024716  \n",
       "1                    710.0            0.141406  \n",
       "2                    310.0            0.100813  \n",
       "3                    349.0            0.099345  \n",
       "4                    181.0            0.041514  \n",
       "..                     ...                 ...  \n",
       "128                   70.0            0.020753  \n",
       "129                   87.0            0.024404  \n",
       "130                   59.0            0.019879  \n",
       "131                  183.0            0.074029  \n",
       "132                   48.0            0.017198  \n",
       "\n",
       "[133 rows x 49 columns]"
      ]
     },
     "execution_count": 1476,
     "metadata": {},
     "output_type": "execute_result"
    }
   ],
   "source": [
    "census_neighborhoods_UDP = census_neighborhoods_UDP.merge(\n",
    "    white_pop_2010, \n",
    "    on=[\"GEOID\"], \n",
    "    how=\"left\",\n",
    "    #indicator=True,\n",
    ")\n",
    "census_neighborhoods_UDP"
   ]
  },
  {
   "cell_type": "code",
   "execution_count": 1477,
   "id": "b293cb1f",
   "metadata": {},
   "outputs": [],
   "source": [
    "census_neighborhoods_UDP = census_neighborhoods_UDP.dropna(subset=['GEO_ID', 'NAME'])"
   ]
  },
  {
   "cell_type": "code",
   "execution_count": 1478,
   "id": "171180ac",
   "metadata": {},
   "outputs": [],
   "source": [
    "census_neighborhoods_UDP['white_pop_percent_change'] = (census_neighborhoods_UDP['percent_white']-\n",
    "                                                            census_neighborhoods_UDP['percent_white_2010']\n",
    "                                                       )/census_neighborhoods_UDP['percent_white_2010']"
   ]
  },
  {
   "cell_type": "code",
   "execution_count": 1479,
   "id": "2ecfe5ed",
   "metadata": {},
   "outputs": [
    {
     "data": {
      "text/plain": [
       "0      0.648831\n",
       "1     -0.126527\n",
       "2      0.899744\n",
       "3      0.545329\n",
       "4      0.975671\n",
       "         ...   \n",
       "128   -0.411594\n",
       "129    0.270798\n",
       "130    1.007048\n",
       "131    0.229048\n",
       "132    1.656966\n",
       "Name: white_pop_percent_change, Length: 133, dtype: float64"
      ]
     },
     "execution_count": 1479,
     "metadata": {},
     "output_type": "execute_result"
    }
   ],
   "source": [
    "census_neighborhoods_UDP.white_pop_percent_change"
   ]
  },
  {
   "cell_type": "markdown",
   "id": "db22154c",
   "metadata": {},
   "source": [
    "I run summary statistics and find a 66% average increase in the percent of white people living in our neighborhoods of intererst. I found this to be the most interesting outcome so far and could be a sign of advanced gentrification. Then again, when we consider that many of these neighborhoods had very small white populations in 2010, any small increase could result in a large percent change. This is something to explore with future research. "
   ]
  },
  {
   "cell_type": "code",
   "execution_count": 1480,
   "id": "685fbc7d",
   "metadata": {},
   "outputs": [
    {
     "data": {
      "text/plain": [
       "0.6610114361481213"
      ]
     },
     "execution_count": 1480,
     "metadata": {},
     "output_type": "execute_result"
    }
   ],
   "source": [
    "census_neighborhoods_UDP['white_pop_percent_change'].mean()"
   ]
  },
  {
   "cell_type": "code",
   "execution_count": 1481,
   "id": "14c7d86e",
   "metadata": {},
   "outputs": [
    {
     "data": {
      "text/plain": [
       "0.4927357775055168"
      ]
     },
     "execution_count": 1481,
     "metadata": {},
     "output_type": "execute_result"
    }
   ],
   "source": [
    "census_neighborhoods_UDP['white_pop_percent_change'].median()"
   ]
  },
  {
   "cell_type": "markdown",
   "id": "4a8d08da",
   "metadata": {},
   "source": [
    "## Census Data - Percent of residents 25 and older with Bachelors Degree or higher"
   ]
  },
  {
   "cell_type": "markdown",
   "id": "9c1e43b0",
   "metadata": {},
   "source": [
    "Lastly, I read in and clean educational attainment data for 2020 and 2010."
   ]
  },
  {
   "cell_type": "code",
   "execution_count": 1482,
   "id": "d8cd3efa",
   "metadata": {},
   "outputs": [
    {
     "name": "stderr",
     "output_type": "stream",
     "text": [
      "/var/folders/bs/d9h__8tn0rb0h3qzd8bn64380000gn/T/ipykernel_16310/168846350.py:1: DtypeWarning: Columns (2,3,4,5,6,7,8,9,10,11,12,13,14,15,16,17,18,19,20,21,22,23,24,25,26,27,28,29,30,31,32,33,34,35,36,37,38,39,40,41,42,43,44,45,46,47,48,49,50,51,52,53,54,55,56,57,58,59,60,61,62,63,64,65,66,67,68,69,70,71,72,73,74,75,76,77,78,79,80,81,82,83,84,85,86,87,88,89,90,91,92,93,94,95,96,97,98,99,100,101,102,103,104,105,106,107,108,109,142,143,144,145,146,147,148,149,150,151,152,153,154,155,156,157,158,159,162,163,164,165,174,175,176,177,186,187,188,189,234,235,236,237,240,241,244,245,258,259,260,261,262,263,264,265,266,267,268,269,270,271,272,273,274,275,276,277,278,279,280,281,282,283,284,285,286,287,288,289,290,291,292,293,294,295,296,297,298,299,300,301,302,303,304,305,306,307,308,309,310,311,312,313,314,315,316,317,318,319,320,321,322,323,324,325,326,327,328,329,330,331,332,333,334,335,336,337,338,339,340,341,342,343,344,345,346,347,348,349,350,351,352,353,354,355,356,357,358,359,360,361,362,363,364,365,398,399,400,401,402,403,404,405,406,407,408,409,410,411,412,413,414,415,418,419,420,421,430,431,432,433,442,443,444,445,496,497,514,515,516,517,518,519,520,521,522,523,524,525,526,527,528,529,530,531,532,533,534,535,536,537,538,539,540,541,542,543,544,545,546,547,548,549,550,551,552,553,554,555,556,557,558,559,560,561,562,563,564,565,566,567,568,569,570,571,572,573,574,575,576,577,578,579,580,581,582,583,584,585,586,587,588,589,590,591,592,593,594,595,596,597,598,599,600,601,602,603,604,605,606,607,608,609,610,611,612,613,614,615,616,617,618,619,620,621,654,655,656,657,658,659,660,661,662,663,664,665,666,667,668,669,670,671,698,699,700,701) have mixed types. Specify dtype option on import or set low_memory=False.\n",
      "  ed_level_2020 = pd.read_csv('Data/ACSST5Y2020.S1501_data_with_overlays_2022-05-17T211357.csv')\n"
     ]
    },
    {
     "data": {
      "text/plain": [
       "Index(['GEO_ID', 'NAME', 'S1501_C01_001E', 'S1501_C01_001M', 'S1501_C01_002E',\n",
       "       'S1501_C01_002M', 'S1501_C01_003E', 'S1501_C01_003M', 'S1501_C01_004E',\n",
       "       'S1501_C01_004M',\n",
       "       ...\n",
       "       'S1501_C06_060E', 'S1501_C06_060M', 'S1501_C06_061E', 'S1501_C06_061M',\n",
       "       'S1501_C06_062E', 'S1501_C06_062M', 'S1501_C06_063E', 'S1501_C06_063M',\n",
       "       'S1501_C06_064E', 'S1501_C06_064M'],\n",
       "      dtype='object', length=770)"
      ]
     },
     "execution_count": 1482,
     "metadata": {},
     "output_type": "execute_result"
    }
   ],
   "source": [
    "ed_level_2020 = pd.read_csv('Data/ACSST5Y2020.S1501_data_with_overlays_2022-05-17T211357.csv')\n",
    "ed_level_2020.drop(index=ed_level_2020.index[0], \n",
    "        axis=0, \n",
    "        inplace=True)\n",
    "ed_level_2020.columns"
   ]
  },
  {
   "cell_type": "code",
   "execution_count": 1483,
   "id": "99bb236c",
   "metadata": {},
   "outputs": [],
   "source": [
    "ed_level_2020 = ed_level_2020[['S1501_C01_015E','NAME','GEO_ID', 'S1501_C01_006E']]"
   ]
  },
  {
   "cell_type": "code",
   "execution_count": 1484,
   "id": "fe6975a5",
   "metadata": {},
   "outputs": [],
   "source": [
    "ed_level_2020 = ed_level_2020.rename(columns={'S1501_C01_015E':'twentyfive_over_with_bachelorsplus', \n",
    "                                          'S1501_C01_006E': 'total_pop_25_over'})"
   ]
  },
  {
   "cell_type": "code",
   "execution_count": 1485,
   "id": "f723e4ac",
   "metadata": {},
   "outputs": [],
   "source": [
    "ed_level_2020['twentyfive_over_with_bachelorsplus'] = ed_level_2020.twentyfive_over_with_bachelorsplus.astype(float)\n",
    "ed_level_2020['total_pop_25_over'] = ed_level_2020.total_pop_25_over.astype(float)"
   ]
  },
  {
   "cell_type": "code",
   "execution_count": 1486,
   "id": "c5ef12a4",
   "metadata": {},
   "outputs": [],
   "source": [
    "ed_level_2020['percent_with_bachelorsplus'] = ed_level_2020['twentyfive_over_with_bachelorsplus']/ed_level_2020['total_pop_25_over']"
   ]
  },
  {
   "cell_type": "code",
   "execution_count": 1487,
   "id": "b85554bf",
   "metadata": {},
   "outputs": [],
   "source": [
    "ed_level_2020['GEOID'] = ed_level_2020.GEO_ID.str.split('US0', 1, expand = True).get(1)\n",
    "ed_level_2020['GEOID'] = ed_level_2020.GEOID.str.replace('NA','0').astype(float)"
   ]
  },
  {
   "cell_type": "code",
   "execution_count": 1488,
   "id": "342f8d07",
   "metadata": {},
   "outputs": [
    {
     "data": {
      "text/plain": [
       "Index(['GEO_ID', 'S1501_C01_001E', 'S1501_C01_001M', 'S1501_C01_002E',\n",
       "       'S1501_C01_002M', 'S1501_C01_003E', 'S1501_C01_003M', 'S1501_C01_004E',\n",
       "       'S1501_C01_004M', 'S1501_C01_005E',\n",
       "       ...\n",
       "       'S1501_C03_034M', 'S1501_C03_035E', 'S1501_C03_035M', 'S1501_C03_036E',\n",
       "       'S1501_C03_036M', 'S1501_C03_037E', 'S1501_C03_037M', 'S1501_C03_038E',\n",
       "       'S1501_C03_038M', 'NAME'],\n",
       "      dtype='object', length=230)"
      ]
     },
     "execution_count": 1488,
     "metadata": {},
     "output_type": "execute_result"
    }
   ],
   "source": [
    "ed_level_2010 = pd.read_csv('Data/ACSST5Y2010.S1501_data_with_overlays_2022-05-17T213422.csv')\n",
    "ed_level_2010.drop(index=ed_level_2020.index[0], \n",
    "        axis=0, \n",
    "        inplace=True)\n",
    "ed_level_2010.columns"
   ]
  },
  {
   "cell_type": "code",
   "execution_count": 1489,
   "id": "c60dfcbd",
   "metadata": {},
   "outputs": [],
   "source": [
    "ed_level_2010 = ed_level_2010[['S1501_C01_015E','NAME','GEO_ID', 'S1501_C01_006E']]"
   ]
  },
  {
   "cell_type": "code",
   "execution_count": 1490,
   "id": "f8d20b51",
   "metadata": {},
   "outputs": [],
   "source": [
    "ed_level_2010 = ed_level_2010.rename(columns={'S1501_C01_015E':'percent_with_bachelorsplus_2010', \n",
    "                                          'S1501_C01_006E': 'total_pop_25_over_2010'})"
   ]
  },
  {
   "cell_type": "code",
   "execution_count": 1491,
   "id": "2a4459e7",
   "metadata": {},
   "outputs": [
    {
     "data": {
      "text/html": [
       "<div>\n",
       "<style scoped>\n",
       "    .dataframe tbody tr th:only-of-type {\n",
       "        vertical-align: middle;\n",
       "    }\n",
       "\n",
       "    .dataframe tbody tr th {\n",
       "        vertical-align: top;\n",
       "    }\n",
       "\n",
       "    .dataframe thead th {\n",
       "        text-align: right;\n",
       "    }\n",
       "</style>\n",
       "<table border=\"1\" class=\"dataframe\">\n",
       "  <thead>\n",
       "    <tr style=\"text-align: right;\">\n",
       "      <th></th>\n",
       "      <th>percent_with_bachelorsplus_2010</th>\n",
       "      <th>NAME</th>\n",
       "      <th>GEO_ID</th>\n",
       "      <th>total_pop_25_over_2010</th>\n",
       "    </tr>\n",
       "  </thead>\n",
       "  <tbody>\n",
       "    <tr>\n",
       "      <th>2</th>\n",
       "      <td>35.7</td>\n",
       "      <td>Census Tract 1011.22, Los Angeles County, Cali...</td>\n",
       "      <td>1400000US06037101122</td>\n",
       "      <td>2651</td>\n",
       "    </tr>\n",
       "    <tr>\n",
       "      <th>3</th>\n",
       "      <td>13.6</td>\n",
       "      <td>Census Tract 1012.10, Los Angeles County, Cali...</td>\n",
       "      <td>1400000US06037101210</td>\n",
       "      <td>4572</td>\n",
       "    </tr>\n",
       "    <tr>\n",
       "      <th>4</th>\n",
       "      <td>17.0</td>\n",
       "      <td>Census Tract 1012.20, Los Angeles County, Cali...</td>\n",
       "      <td>1400000US06037101220</td>\n",
       "      <td>2244</td>\n",
       "    </tr>\n",
       "    <tr>\n",
       "      <th>5</th>\n",
       "      <td>33.6</td>\n",
       "      <td>Census Tract 1013, Los Angeles County, California</td>\n",
       "      <td>1400000US06037101300</td>\n",
       "      <td>2730</td>\n",
       "    </tr>\n",
       "    <tr>\n",
       "      <th>6</th>\n",
       "      <td>36.6</td>\n",
       "      <td>Census Tract 1014, Los Angeles County, California</td>\n",
       "      <td>1400000US06037101400</td>\n",
       "      <td>2817</td>\n",
       "    </tr>\n",
       "    <tr>\n",
       "      <th>...</th>\n",
       "      <td>...</td>\n",
       "      <td>...</td>\n",
       "      <td>...</td>\n",
       "      <td>...</td>\n",
       "    </tr>\n",
       "    <tr>\n",
       "      <th>2343</th>\n",
       "      <td>-</td>\n",
       "      <td>Census Tract 9800.33, Los Angeles County, Cali...</td>\n",
       "      <td>1400000US06037980033</td>\n",
       "      <td>0</td>\n",
       "    </tr>\n",
       "    <tr>\n",
       "      <th>2344</th>\n",
       "      <td>-</td>\n",
       "      <td>Census Tract 9901, Los Angeles County, California</td>\n",
       "      <td>1400000US06037990100</td>\n",
       "      <td>0</td>\n",
       "    </tr>\n",
       "    <tr>\n",
       "      <th>2345</th>\n",
       "      <td>-</td>\n",
       "      <td>Census Tract 9902, Los Angeles County, California</td>\n",
       "      <td>1400000US06037990200</td>\n",
       "      <td>0</td>\n",
       "    </tr>\n",
       "    <tr>\n",
       "      <th>2346</th>\n",
       "      <td>-</td>\n",
       "      <td>Census Tract 9903, Los Angeles County, California</td>\n",
       "      <td>1400000US06037990300</td>\n",
       "      <td>0</td>\n",
       "    </tr>\n",
       "    <tr>\n",
       "      <th>2347</th>\n",
       "      <td>41.5</td>\n",
       "      <td>Bachelor township, Greenwood County, Kansas</td>\n",
       "      <td>0600000US2007303625</td>\n",
       "      <td>65</td>\n",
       "    </tr>\n",
       "  </tbody>\n",
       "</table>\n",
       "<p>2346 rows × 4 columns</p>\n",
       "</div>"
      ],
      "text/plain": [
       "     percent_with_bachelorsplus_2010  \\\n",
       "2                               35.7   \n",
       "3                               13.6   \n",
       "4                               17.0   \n",
       "5                               33.6   \n",
       "6                               36.6   \n",
       "...                              ...   \n",
       "2343                               -   \n",
       "2344                               -   \n",
       "2345                               -   \n",
       "2346                               -   \n",
       "2347                            41.5   \n",
       "\n",
       "                                                   NAME                GEO_ID  \\\n",
       "2     Census Tract 1011.22, Los Angeles County, Cali...  1400000US06037101122   \n",
       "3     Census Tract 1012.10, Los Angeles County, Cali...  1400000US06037101210   \n",
       "4     Census Tract 1012.20, Los Angeles County, Cali...  1400000US06037101220   \n",
       "5     Census Tract 1013, Los Angeles County, California  1400000US06037101300   \n",
       "6     Census Tract 1014, Los Angeles County, California  1400000US06037101400   \n",
       "...                                                 ...                   ...   \n",
       "2343  Census Tract 9800.33, Los Angeles County, Cali...  1400000US06037980033   \n",
       "2344  Census Tract 9901, Los Angeles County, California  1400000US06037990100   \n",
       "2345  Census Tract 9902, Los Angeles County, California  1400000US06037990200   \n",
       "2346  Census Tract 9903, Los Angeles County, California  1400000US06037990300   \n",
       "2347        Bachelor township, Greenwood County, Kansas   0600000US2007303625   \n",
       "\n",
       "     total_pop_25_over_2010  \n",
       "2                      2651  \n",
       "3                      4572  \n",
       "4                      2244  \n",
       "5                      2730  \n",
       "6                      2817  \n",
       "...                     ...  \n",
       "2343                      0  \n",
       "2344                      0  \n",
       "2345                      0  \n",
       "2346                      0  \n",
       "2347                     65  \n",
       "\n",
       "[2346 rows x 4 columns]"
      ]
     },
     "execution_count": 1491,
     "metadata": {},
     "output_type": "execute_result"
    }
   ],
   "source": [
    "ed_level_2010 = ed_level_2010.iloc[1: , :]\n",
    "ed_level_2010"
   ]
  },
  {
   "cell_type": "code",
   "execution_count": 1492,
   "id": "b7d8018b",
   "metadata": {},
   "outputs": [],
   "source": [
    "ed_level_2010 = ed_level_2010.iloc[:-1 , :]"
   ]
  },
  {
   "cell_type": "code",
   "execution_count": 1493,
   "id": "a478cb0b",
   "metadata": {},
   "outputs": [
    {
     "name": "stderr",
     "output_type": "stream",
     "text": [
      "/var/folders/bs/d9h__8tn0rb0h3qzd8bn64380000gn/T/ipykernel_16310/1719286478.py:1: SettingWithCopyWarning: \n",
      "A value is trying to be set on a copy of a slice from a DataFrame.\n",
      "Try using .loc[row_indexer,col_indexer] = value instead\n",
      "\n",
      "See the caveats in the documentation: https://pandas.pydata.org/pandas-docs/stable/user_guide/indexing.html#returning-a-view-versus-a-copy\n",
      "  ed_level_2010['percent_with_bachelorsplus_2010'] = ed_level_2010.percent_with_bachelorsplus_2010.str.replace('-','NaN').astype(float)\n",
      "/var/folders/bs/d9h__8tn0rb0h3qzd8bn64380000gn/T/ipykernel_16310/1719286478.py:2: SettingWithCopyWarning: \n",
      "A value is trying to be set on a copy of a slice from a DataFrame.\n",
      "Try using .loc[row_indexer,col_indexer] = value instead\n",
      "\n",
      "See the caveats in the documentation: https://pandas.pydata.org/pandas-docs/stable/user_guide/indexing.html#returning-a-view-versus-a-copy\n",
      "  ed_level_2010['total_pop_25_over_2010'] = ed_level_2010.total_pop_25_over_2010.astype(float)\n"
     ]
    }
   ],
   "source": [
    "ed_level_2010['percent_with_bachelorsplus_2010'] = ed_level_2010.percent_with_bachelorsplus_2010.str.replace('-','NaN').astype(float)\n",
    "ed_level_2010['total_pop_25_over_2010'] = ed_level_2010.total_pop_25_over_2010.astype(float)"
   ]
  },
  {
   "cell_type": "code",
   "execution_count": 1494,
   "id": "7068681b",
   "metadata": {},
   "outputs": [
    {
     "name": "stderr",
     "output_type": "stream",
     "text": [
      "/var/folders/bs/d9h__8tn0rb0h3qzd8bn64380000gn/T/ipykernel_16310/1626662653.py:1: SettingWithCopyWarning: \n",
      "A value is trying to be set on a copy of a slice from a DataFrame.\n",
      "Try using .loc[row_indexer,col_indexer] = value instead\n",
      "\n",
      "See the caveats in the documentation: https://pandas.pydata.org/pandas-docs/stable/user_guide/indexing.html#returning-a-view-versus-a-copy\n",
      "  ed_level_2010['GEOID'] = ed_level_2010.GEO_ID.str.split('US0', 1, expand = True).get(1)\n",
      "/var/folders/bs/d9h__8tn0rb0h3qzd8bn64380000gn/T/ipykernel_16310/1626662653.py:2: SettingWithCopyWarning: \n",
      "A value is trying to be set on a copy of a slice from a DataFrame.\n",
      "Try using .loc[row_indexer,col_indexer] = value instead\n",
      "\n",
      "See the caveats in the documentation: https://pandas.pydata.org/pandas-docs/stable/user_guide/indexing.html#returning-a-view-versus-a-copy\n",
      "  ed_level_2010['GEOID'] = ed_level_2010.GEOID.str.replace('NA','0').astype(float)\n"
     ]
    }
   ],
   "source": [
    "ed_level_2010['GEOID'] = ed_level_2010.GEO_ID.str.split('US0', 1, expand = True).get(1)\n",
    "ed_level_2010['GEOID'] = ed_level_2010.GEOID.str.replace('NA','0').astype(float)"
   ]
  },
  {
   "cell_type": "markdown",
   "id": "b6a041d8",
   "metadata": {},
   "source": [
    "I merge the 2020, and then the 2010, percent with bachelors+ data to my base dataset from above (which includes the census tracts, neighborhoods, typologies for our neighborhoods of interest, household size percent change, gross rent percent change (with and without inflation), median income percent change(with and without inflation), and white population percent change). I do some final cleanup on the 133 matched rows and then calculate percent change across the 2 years. "
   ]
  },
  {
   "cell_type": "code",
   "execution_count": 1495,
   "id": "fbaf1b31",
   "metadata": {},
   "outputs": [
    {
     "name": "stderr",
     "output_type": "stream",
     "text": [
      "/Users/micaobrien/opt/anaconda3/envs/uds/lib/python3.8/site-packages/geopandas/geodataframe.py:1378: FutureWarning: Passing 'suffixes' which cause duplicate columns {'NAME_x', 'GEO_ID_x'} in the result is deprecated and will raise a MergeError in a future version.\n",
      "  result = DataFrame.merge(self, *args, **kwargs)\n"
     ]
    }
   ],
   "source": [
    "census_neighborhoods_UDP = census_neighborhoods_UDP.merge(\n",
    "    ed_level_2020, \n",
    "    on=[\"GEOID\"], \n",
    "    how=\"left\",\n",
    "    #indicator=True,\n",
    ")"
   ]
  },
  {
   "cell_type": "code",
   "execution_count": 1496,
   "id": "03408e29",
   "metadata": {},
   "outputs": [],
   "source": [
    "census_neighborhoods_UDP = census_neighborhoods_UDP.drop(columns=['GEO_ID_y', 'NAME_y'])"
   ]
  },
  {
   "cell_type": "code",
   "execution_count": 1497,
   "id": "4d7acdbf",
   "metadata": {},
   "outputs": [
    {
     "data": {
      "text/html": [
       "<div>\n",
       "<style scoped>\n",
       "    .dataframe tbody tr th:only-of-type {\n",
       "        vertical-align: middle;\n",
       "    }\n",
       "\n",
       "    .dataframe tbody tr th {\n",
       "        vertical-align: top;\n",
       "    }\n",
       "\n",
       "    .dataframe thead th {\n",
       "        text-align: right;\n",
       "    }\n",
       "</style>\n",
       "<table border=\"1\" class=\"dataframe\">\n",
       "  <thead>\n",
       "    <tr style=\"text-align: right;\">\n",
       "      <th></th>\n",
       "      <th>OBJECTID</th>\n",
       "      <th>name</th>\n",
       "      <th>geometry</th>\n",
       "      <th>GEOID</th>\n",
       "      <th>Typology</th>\n",
       "      <th>GEO_ID_x</th>\n",
       "      <th>Total_hhsize_2010</th>\n",
       "      <th>owner_occupied_hh_2010</th>\n",
       "      <th>renter_occupied_hh_2010</th>\n",
       "      <th>_merge1</th>\n",
       "      <th>...</th>\n",
       "      <th>nonhispanic_white_2010</th>\n",
       "      <th>percent_white_2010</th>\n",
       "      <th>white_pop_percent_change</th>\n",
       "      <th>twentyfive_over_with_bachelorsplus</th>\n",
       "      <th>total_pop_25_over</th>\n",
       "      <th>percent_with_bachelorsplus</th>\n",
       "      <th>percent_with_bachelorsplus_2010</th>\n",
       "      <th>NAME</th>\n",
       "      <th>GEO_ID</th>\n",
       "      <th>total_pop_25_over_2010</th>\n",
       "    </tr>\n",
       "  </thead>\n",
       "  <tbody>\n",
       "    <tr>\n",
       "      <th>0</th>\n",
       "      <td>107</td>\n",
       "      <td>Westlake</td>\n",
       "      <td>POLYGON ((-118.25908 34.05389, -118.25984 34.0...</td>\n",
       "      <td>6.037210e+09</td>\n",
       "      <td>Advanced Gentrification</td>\n",
       "      <td>1400000US06037210010</td>\n",
       "      <td>2.99</td>\n",
       "      <td>3.20</td>\n",
       "      <td>2.97</td>\n",
       "      <td>both</td>\n",
       "      <td>...</td>\n",
       "      <td>87.0</td>\n",
       "      <td>0.024716</td>\n",
       "      <td>0.648831</td>\n",
       "      <td>406.0</td>\n",
       "      <td>2254.0</td>\n",
       "      <td>0.180124</td>\n",
       "      <td>9.4</td>\n",
       "      <td>Census Tract 2100.10, Los Angeles County, Cali...</td>\n",
       "      <td>1400000US06037210010</td>\n",
       "      <td>1981.0</td>\n",
       "    </tr>\n",
       "    <tr>\n",
       "      <th>1</th>\n",
       "      <td>107</td>\n",
       "      <td>Westlake</td>\n",
       "      <td>POLYGON ((-118.25908 34.05389, -118.25984 34.0...</td>\n",
       "      <td>6.037209e+09</td>\n",
       "      <td>Early/Ongoing Gentrification</td>\n",
       "      <td>1400000US06037209300</td>\n",
       "      <td>2.73</td>\n",
       "      <td>4.47</td>\n",
       "      <td>2.68</td>\n",
       "      <td>both</td>\n",
       "      <td>...</td>\n",
       "      <td>710.0</td>\n",
       "      <td>0.141406</td>\n",
       "      <td>-0.126527</td>\n",
       "      <td>692.0</td>\n",
       "      <td>3387.0</td>\n",
       "      <td>0.204311</td>\n",
       "      <td>20.2</td>\n",
       "      <td>Census Tract 2093, Los Angeles County, California</td>\n",
       "      <td>1400000US06037209300</td>\n",
       "      <td>2588.0</td>\n",
       "    </tr>\n",
       "    <tr>\n",
       "      <th>2</th>\n",
       "      <td>107</td>\n",
       "      <td>Westlake</td>\n",
       "      <td>POLYGON ((-118.25908 34.05389, -118.25984 34.0...</td>\n",
       "      <td>6.037211e+09</td>\n",
       "      <td>Early/Ongoing Gentrification</td>\n",
       "      <td>1400000US06037211122</td>\n",
       "      <td>2.55</td>\n",
       "      <td>6.60</td>\n",
       "      <td>2.53</td>\n",
       "      <td>both</td>\n",
       "      <td>...</td>\n",
       "      <td>310.0</td>\n",
       "      <td>0.100813</td>\n",
       "      <td>0.899744</td>\n",
       "      <td>800.0</td>\n",
       "      <td>2178.0</td>\n",
       "      <td>0.367309</td>\n",
       "      <td>33.0</td>\n",
       "      <td>Census Tract 2111.22, Los Angeles County, Cali...</td>\n",
       "      <td>1400000US06037211122</td>\n",
       "      <td>1981.0</td>\n",
       "    </tr>\n",
       "    <tr>\n",
       "      <th>3</th>\n",
       "      <td>107</td>\n",
       "      <td>Westlake</td>\n",
       "      <td>POLYGON ((-118.25908 34.05389, -118.25984 34.0...</td>\n",
       "      <td>6.037193e+09</td>\n",
       "      <td>Early/Ongoing Gentrification</td>\n",
       "      <td>1400000US06037192700</td>\n",
       "      <td>2.80</td>\n",
       "      <td>2.60</td>\n",
       "      <td>2.83</td>\n",
       "      <td>both</td>\n",
       "      <td>...</td>\n",
       "      <td>349.0</td>\n",
       "      <td>0.099345</td>\n",
       "      <td>0.545329</td>\n",
       "      <td>639.0</td>\n",
       "      <td>2665.0</td>\n",
       "      <td>0.239775</td>\n",
       "      <td>15.2</td>\n",
       "      <td>Census Tract 1927, Los Angeles County, California</td>\n",
       "      <td>1400000US06037192700</td>\n",
       "      <td>2257.0</td>\n",
       "    </tr>\n",
       "    <tr>\n",
       "      <th>4</th>\n",
       "      <td>107</td>\n",
       "      <td>Westlake</td>\n",
       "      <td>POLYGON ((-118.25908 34.05389, -118.25984 34.0...</td>\n",
       "      <td>6.037208e+09</td>\n",
       "      <td>At Risk of Gentrification</td>\n",
       "      <td>1400000US06037208302</td>\n",
       "      <td>2.90</td>\n",
       "      <td>4.32</td>\n",
       "      <td>2.77</td>\n",
       "      <td>both</td>\n",
       "      <td>...</td>\n",
       "      <td>181.0</td>\n",
       "      <td>0.041514</td>\n",
       "      <td>0.975671</td>\n",
       "      <td>790.0</td>\n",
       "      <td>3503.0</td>\n",
       "      <td>0.225521</td>\n",
       "      <td>13.0</td>\n",
       "      <td>Census Tract 2083.02, Los Angeles County, Cali...</td>\n",
       "      <td>1400000US06037208302</td>\n",
       "      <td>2523.0</td>\n",
       "    </tr>\n",
       "    <tr>\n",
       "      <th>...</th>\n",
       "      <td>...</td>\n",
       "      <td>...</td>\n",
       "      <td>...</td>\n",
       "      <td>...</td>\n",
       "      <td>...</td>\n",
       "      <td>...</td>\n",
       "      <td>...</td>\n",
       "      <td>...</td>\n",
       "      <td>...</td>\n",
       "      <td>...</td>\n",
       "      <td>...</td>\n",
       "      <td>...</td>\n",
       "      <td>...</td>\n",
       "      <td>...</td>\n",
       "      <td>...</td>\n",
       "      <td>...</td>\n",
       "      <td>...</td>\n",
       "      <td>...</td>\n",
       "      <td>...</td>\n",
       "      <td>...</td>\n",
       "      <td>...</td>\n",
       "    </tr>\n",
       "    <tr>\n",
       "      <th>128</th>\n",
       "      <td>74</td>\n",
       "      <td>Pico-Union</td>\n",
       "      <td>POLYGON ((-118.28146 34.05250, -118.28094 34.0...</td>\n",
       "      <td>6.037221e+09</td>\n",
       "      <td>Low-Income/Susceptible to Displacement</td>\n",
       "      <td>1400000US06037221120</td>\n",
       "      <td>4.55</td>\n",
       "      <td>7.29</td>\n",
       "      <td>4.10</td>\n",
       "      <td>both</td>\n",
       "      <td>...</td>\n",
       "      <td>70.0</td>\n",
       "      <td>0.020753</td>\n",
       "      <td>-0.411594</td>\n",
       "      <td>122.0</td>\n",
       "      <td>1858.0</td>\n",
       "      <td>0.065662</td>\n",
       "      <td>4.2</td>\n",
       "      <td>Census Tract 2211.20, Los Angeles County, Cali...</td>\n",
       "      <td>1400000US06037221120</td>\n",
       "      <td>2039.0</td>\n",
       "    </tr>\n",
       "    <tr>\n",
       "      <th>129</th>\n",
       "      <td>74</td>\n",
       "      <td>Pico-Union</td>\n",
       "      <td>POLYGON ((-118.28146 34.05250, -118.28094 34.0...</td>\n",
       "      <td>6.037221e+09</td>\n",
       "      <td>At Risk of Gentrification</td>\n",
       "      <td>1400000US06037221110</td>\n",
       "      <td>3.01</td>\n",
       "      <td>2.96</td>\n",
       "      <td>3.01</td>\n",
       "      <td>both</td>\n",
       "      <td>...</td>\n",
       "      <td>87.0</td>\n",
       "      <td>0.024404</td>\n",
       "      <td>0.270798</td>\n",
       "      <td>192.0</td>\n",
       "      <td>2482.0</td>\n",
       "      <td>0.077357</td>\n",
       "      <td>4.7</td>\n",
       "      <td>Census Tract 2211.10, Los Angeles County, Cali...</td>\n",
       "      <td>1400000US06037221110</td>\n",
       "      <td>2162.0</td>\n",
       "    </tr>\n",
       "    <tr>\n",
       "      <th>130</th>\n",
       "      <td>74</td>\n",
       "      <td>Pico-Union</td>\n",
       "      <td>POLYGON ((-118.28146 34.05250, -118.28094 34.0...</td>\n",
       "      <td>6.037210e+09</td>\n",
       "      <td>Advanced Gentrification</td>\n",
       "      <td>1400000US06037209820</td>\n",
       "      <td>4.06</td>\n",
       "      <td>5.26</td>\n",
       "      <td>3.78</td>\n",
       "      <td>both</td>\n",
       "      <td>...</td>\n",
       "      <td>59.0</td>\n",
       "      <td>0.019879</td>\n",
       "      <td>1.007048</td>\n",
       "      <td>164.0</td>\n",
       "      <td>1758.0</td>\n",
       "      <td>0.093288</td>\n",
       "      <td>4.9</td>\n",
       "      <td>Census Tract 2098.20, Los Angeles County, Cali...</td>\n",
       "      <td>1400000US06037209820</td>\n",
       "      <td>1779.0</td>\n",
       "    </tr>\n",
       "    <tr>\n",
       "      <th>131</th>\n",
       "      <td>74</td>\n",
       "      <td>Pico-Union</td>\n",
       "      <td>POLYGON ((-118.28146 34.05250, -118.28094 34.0...</td>\n",
       "      <td>6.037210e+09</td>\n",
       "      <td>At Risk of Gentrification</td>\n",
       "      <td>1400000US06037209810</td>\n",
       "      <td>2.53</td>\n",
       "      <td>2.09</td>\n",
       "      <td>2.54</td>\n",
       "      <td>both</td>\n",
       "      <td>...</td>\n",
       "      <td>183.0</td>\n",
       "      <td>0.074029</td>\n",
       "      <td>0.229048</td>\n",
       "      <td>229.0</td>\n",
       "      <td>1955.0</td>\n",
       "      <td>0.117136</td>\n",
       "      <td>11.3</td>\n",
       "      <td>Census Tract 2098.10, Los Angeles County, Cali...</td>\n",
       "      <td>1400000US06037209810</td>\n",
       "      <td>2277.0</td>\n",
       "    </tr>\n",
       "    <tr>\n",
       "      <th>132</th>\n",
       "      <td>74</td>\n",
       "      <td>Pico-Union</td>\n",
       "      <td>POLYGON ((-118.28146 34.05250, -118.28094 34.0...</td>\n",
       "      <td>6.037210e+09</td>\n",
       "      <td>At Risk of Gentrification</td>\n",
       "      <td>1400000US06037209520</td>\n",
       "      <td>3.28</td>\n",
       "      <td>5.11</td>\n",
       "      <td>3.09</td>\n",
       "      <td>both</td>\n",
       "      <td>...</td>\n",
       "      <td>48.0</td>\n",
       "      <td>0.017198</td>\n",
       "      <td>1.656966</td>\n",
       "      <td>195.0</td>\n",
       "      <td>1741.0</td>\n",
       "      <td>0.112005</td>\n",
       "      <td>5.3</td>\n",
       "      <td>Census Tract 2095.20, Los Angeles County, Cali...</td>\n",
       "      <td>1400000US06037209520</td>\n",
       "      <td>1665.0</td>\n",
       "    </tr>\n",
       "  </tbody>\n",
       "</table>\n",
       "<p>133 rows × 54 columns</p>\n",
       "</div>"
      ],
      "text/plain": [
       "     OBJECTID        name                                           geometry  \\\n",
       "0         107    Westlake  POLYGON ((-118.25908 34.05389, -118.25984 34.0...   \n",
       "1         107    Westlake  POLYGON ((-118.25908 34.05389, -118.25984 34.0...   \n",
       "2         107    Westlake  POLYGON ((-118.25908 34.05389, -118.25984 34.0...   \n",
       "3         107    Westlake  POLYGON ((-118.25908 34.05389, -118.25984 34.0...   \n",
       "4         107    Westlake  POLYGON ((-118.25908 34.05389, -118.25984 34.0...   \n",
       "..        ...         ...                                                ...   \n",
       "128        74  Pico-Union  POLYGON ((-118.28146 34.05250, -118.28094 34.0...   \n",
       "129        74  Pico-Union  POLYGON ((-118.28146 34.05250, -118.28094 34.0...   \n",
       "130        74  Pico-Union  POLYGON ((-118.28146 34.05250, -118.28094 34.0...   \n",
       "131        74  Pico-Union  POLYGON ((-118.28146 34.05250, -118.28094 34.0...   \n",
       "132        74  Pico-Union  POLYGON ((-118.28146 34.05250, -118.28094 34.0...   \n",
       "\n",
       "            GEOID                                Typology  \\\n",
       "0    6.037210e+09                 Advanced Gentrification   \n",
       "1    6.037209e+09            Early/Ongoing Gentrification   \n",
       "2    6.037211e+09            Early/Ongoing Gentrification   \n",
       "3    6.037193e+09            Early/Ongoing Gentrification   \n",
       "4    6.037208e+09               At Risk of Gentrification   \n",
       "..            ...                                     ...   \n",
       "128  6.037221e+09  Low-Income/Susceptible to Displacement   \n",
       "129  6.037221e+09               At Risk of Gentrification   \n",
       "130  6.037210e+09                 Advanced Gentrification   \n",
       "131  6.037210e+09               At Risk of Gentrification   \n",
       "132  6.037210e+09               At Risk of Gentrification   \n",
       "\n",
       "                 GEO_ID_x  Total_hhsize_2010  owner_occupied_hh_2010  \\\n",
       "0    1400000US06037210010               2.99                    3.20   \n",
       "1    1400000US06037209300               2.73                    4.47   \n",
       "2    1400000US06037211122               2.55                    6.60   \n",
       "3    1400000US06037192700               2.80                    2.60   \n",
       "4    1400000US06037208302               2.90                    4.32   \n",
       "..                    ...                ...                     ...   \n",
       "128  1400000US06037221120               4.55                    7.29   \n",
       "129  1400000US06037221110               3.01                    2.96   \n",
       "130  1400000US06037209820               4.06                    5.26   \n",
       "131  1400000US06037209810               2.53                    2.09   \n",
       "132  1400000US06037209520               3.28                    5.11   \n",
       "\n",
       "     renter_occupied_hh_2010 _merge1  ...  nonhispanic_white_2010  \\\n",
       "0                       2.97    both  ...                    87.0   \n",
       "1                       2.68    both  ...                   710.0   \n",
       "2                       2.53    both  ...                   310.0   \n",
       "3                       2.83    both  ...                   349.0   \n",
       "4                       2.77    both  ...                   181.0   \n",
       "..                       ...     ...  ...                     ...   \n",
       "128                     4.10    both  ...                    70.0   \n",
       "129                     3.01    both  ...                    87.0   \n",
       "130                     3.78    both  ...                    59.0   \n",
       "131                     2.54    both  ...                   183.0   \n",
       "132                     3.09    both  ...                    48.0   \n",
       "\n",
       "     percent_white_2010  white_pop_percent_change  \\\n",
       "0              0.024716                  0.648831   \n",
       "1              0.141406                 -0.126527   \n",
       "2              0.100813                  0.899744   \n",
       "3              0.099345                  0.545329   \n",
       "4              0.041514                  0.975671   \n",
       "..                  ...                       ...   \n",
       "128            0.020753                 -0.411594   \n",
       "129            0.024404                  0.270798   \n",
       "130            0.019879                  1.007048   \n",
       "131            0.074029                  0.229048   \n",
       "132            0.017198                  1.656966   \n",
       "\n",
       "     twentyfive_over_with_bachelorsplus  total_pop_25_over  \\\n",
       "0                                 406.0             2254.0   \n",
       "1                                 692.0             3387.0   \n",
       "2                                 800.0             2178.0   \n",
       "3                                 639.0             2665.0   \n",
       "4                                 790.0             3503.0   \n",
       "..                                  ...                ...   \n",
       "128                               122.0             1858.0   \n",
       "129                               192.0             2482.0   \n",
       "130                               164.0             1758.0   \n",
       "131                               229.0             1955.0   \n",
       "132                               195.0             1741.0   \n",
       "\n",
       "     percent_with_bachelorsplus  percent_with_bachelorsplus_2010  \\\n",
       "0                      0.180124                              9.4   \n",
       "1                      0.204311                             20.2   \n",
       "2                      0.367309                             33.0   \n",
       "3                      0.239775                             15.2   \n",
       "4                      0.225521                             13.0   \n",
       "..                          ...                              ...   \n",
       "128                    0.065662                              4.2   \n",
       "129                    0.077357                              4.7   \n",
       "130                    0.093288                              4.9   \n",
       "131                    0.117136                             11.3   \n",
       "132                    0.112005                              5.3   \n",
       "\n",
       "                                                  NAME                GEO_ID  \\\n",
       "0    Census Tract 2100.10, Los Angeles County, Cali...  1400000US06037210010   \n",
       "1    Census Tract 2093, Los Angeles County, California  1400000US06037209300   \n",
       "2    Census Tract 2111.22, Los Angeles County, Cali...  1400000US06037211122   \n",
       "3    Census Tract 1927, Los Angeles County, California  1400000US06037192700   \n",
       "4    Census Tract 2083.02, Los Angeles County, Cali...  1400000US06037208302   \n",
       "..                                                 ...                   ...   \n",
       "128  Census Tract 2211.20, Los Angeles County, Cali...  1400000US06037221120   \n",
       "129  Census Tract 2211.10, Los Angeles County, Cali...  1400000US06037221110   \n",
       "130  Census Tract 2098.20, Los Angeles County, Cali...  1400000US06037209820   \n",
       "131  Census Tract 2098.10, Los Angeles County, Cali...  1400000US06037209810   \n",
       "132  Census Tract 2095.20, Los Angeles County, Cali...  1400000US06037209520   \n",
       "\n",
       "     total_pop_25_over_2010  \n",
       "0                    1981.0  \n",
       "1                    2588.0  \n",
       "2                    1981.0  \n",
       "3                    2257.0  \n",
       "4                    2523.0  \n",
       "..                      ...  \n",
       "128                  2039.0  \n",
       "129                  2162.0  \n",
       "130                  1779.0  \n",
       "131                  2277.0  \n",
       "132                  1665.0  \n",
       "\n",
       "[133 rows x 54 columns]"
      ]
     },
     "execution_count": 1497,
     "metadata": {},
     "output_type": "execute_result"
    }
   ],
   "source": [
    "census_neighborhoods_UDP = census_neighborhoods_UDP.merge(\n",
    "    ed_level_2010, \n",
    "    on=[\"GEOID\"], \n",
    "    how=\"left\",\n",
    "    #indicator=True,\n",
    ")\n",
    "census_neighborhoods_UDP"
   ]
  },
  {
   "cell_type": "code",
   "execution_count": 1498,
   "id": "df292890",
   "metadata": {},
   "outputs": [],
   "source": [
    "census_neighborhoods_UDP = census_neighborhoods_UDP.drop(columns=['GEO_ID', 'NAME'])"
   ]
  },
  {
   "cell_type": "code",
   "execution_count": 1499,
   "id": "7e3a959f",
   "metadata": {},
   "outputs": [],
   "source": [
    "census_neighborhoods_UDP['percent_with_bachelorsplus_2010'] = census_neighborhoods_UDP['percent_with_bachelorsplus_2010']/100"
   ]
  },
  {
   "cell_type": "code",
   "execution_count": 1500,
   "id": "63d6a176",
   "metadata": {},
   "outputs": [],
   "source": [
    "census_neighborhoods_UDP['bachelorsplus_percent_change'] = (census_neighborhoods_UDP['percent_with_bachelorsplus']-\n",
    "                                                            census_neighborhoods_UDP['percent_with_bachelorsplus_2010']\n",
    "                                                           )/census_neighborhoods_UDP['percent_with_bachelorsplus_2010']"
   ]
  },
  {
   "cell_type": "code",
   "execution_count": 1501,
   "id": "3cc62325",
   "metadata": {},
   "outputs": [
    {
     "data": {
      "text/plain": [
       "0      0.916215\n",
       "1      0.011439\n",
       "2      0.113059\n",
       "3      0.577466\n",
       "4      0.734777\n",
       "         ...   \n",
       "128    0.563381\n",
       "129    0.645893\n",
       "130    0.903833\n",
       "131    0.036598\n",
       "132    1.113294\n",
       "Name: bachelorsplus_percent_change, Length: 133, dtype: float64"
      ]
     },
     "execution_count": 1501,
     "metadata": {},
     "output_type": "execute_result"
    }
   ],
   "source": [
    "census_neighborhoods_UDP.bachelorsplus_percent_change"
   ]
  },
  {
   "cell_type": "markdown",
   "id": "e6cd2b22",
   "metadata": {},
   "source": [
    "I calculate summary statistics and see that, like with percent change in white population, the increase in percent of the population with a bachelor's degree and above increases dramatically. We see a 58% average increase in percent of the population with an advanced degree. "
   ]
  },
  {
   "cell_type": "code",
   "execution_count": 1502,
   "id": "e1010726",
   "metadata": {},
   "outputs": [
    {
     "data": {
      "text/plain": [
       "0.5752759248103542"
      ]
     },
     "execution_count": 1502,
     "metadata": {},
     "output_type": "execute_result"
    }
   ],
   "source": [
    "census_neighborhoods_UDP['bachelorsplus_percent_change'].mean()"
   ]
  },
  {
   "cell_type": "code",
   "execution_count": 1503,
   "id": "8ca71318",
   "metadata": {},
   "outputs": [
    {
     "data": {
      "text/plain": [
       "0.4118908614321459"
      ]
     },
     "execution_count": 1503,
     "metadata": {},
     "output_type": "execute_result"
    }
   ],
   "source": [
    "census_neighborhoods_UDP['bachelorsplus_percent_change'].median()"
   ]
  },
  {
   "cell_type": "markdown",
   "id": "e0780956",
   "metadata": {},
   "source": [
    "## Cleaning final dataset"
   ]
  },
  {
   "cell_type": "markdown",
   "id": "da6171ad",
   "metadata": {},
   "source": [
    "I end by deleting extraneous columns and saving two versions of the final dataset as csv files. I save one version with all of the census variables I uses and a second with just the most important variables for clustering.  "
   ]
  },
  {
   "cell_type": "code",
   "execution_count": 1504,
   "id": "a7e3c113",
   "metadata": {},
   "outputs": [
    {
     "name": "stdout",
     "output_type": "stream",
     "text": [
      "['OBJECTID', 'name', 'geometry', 'GEOID', 'Typology', 'GEO_ID_x', 'Total_hhsize_2010', 'owner_occupied_hh_2010', 'renter_occupied_hh_2010', '_merge1', 'Total_hhsize', 'owner_occupied_hh', 'renter_occupied_hh', 'Total_hh_percent_change', 'owner_occupied_percent_change', 'renter_occupied_percent_change', 'median_gross_rent', 'NAME_x', 'median_gross_rent_2010', 'rent_percent_change', 'median_gross_rent_2010_inflation', '_merge1', 'rent_percent_change_inflation', 'GEO_ID_x', 'NAME_x', 'median_income_nonfamily', 'median_income_family', 'median_income_nonfamily_2010', 'median_income_family_2010', '_merge', 'income_family_percent_change', 'income_nonfamily_percent_change', 'median_income_family_2010_inflation', 'median_income_nonfamily_2010_inflation', 'median_income_family_percent_change_inflation', 'median_income_nonfamily_percent_change_inflation', 'GEO_ID_white_pop', 'NAME_white_pop', 'total_race', 'nonhispanic_white', 'percent_white', 'GEO_ID_x', 'NAME_x', 'total_race_2010', 'nonhispanic_white_2010', 'percent_white_2010', 'white_pop_percent_change', 'twentyfive_over_with_bachelorsplus', 'total_pop_25_over', 'percent_with_bachelorsplus', 'percent_with_bachelorsplus_2010', 'total_pop_25_over_2010', 'bachelorsplus_percent_change']\n"
     ]
    }
   ],
   "source": [
    "print(census_neighborhoods_UDP.columns.tolist())"
   ]
  },
  {
   "cell_type": "code",
   "execution_count": 1505,
   "id": "8c8d2a97",
   "metadata": {},
   "outputs": [],
   "source": [
    "census_neighborhoods_UDP = census_neighborhoods_UDP.drop(columns=['GEO_ID_x'])"
   ]
  },
  {
   "cell_type": "code",
   "execution_count": 1506,
   "id": "00d6be14",
   "metadata": {},
   "outputs": [],
   "source": [
    "census_neighborhoods_UDP = census_neighborhoods_UDP.drop(columns=['_merge1'])"
   ]
  },
  {
   "cell_type": "code",
   "execution_count": 1507,
   "id": "85df0b08",
   "metadata": {},
   "outputs": [],
   "source": [
    "census_neighborhoods_UDP = census_neighborhoods_UDP.drop(columns=['NAME_x'])"
   ]
  },
  {
   "cell_type": "code",
   "execution_count": 1508,
   "id": "8fdd1bd6",
   "metadata": {},
   "outputs": [],
   "source": [
    "census_neighborhoods_UDP = census_neighborhoods_UDP.drop(columns=['_merge'])"
   ]
  },
  {
   "cell_type": "code",
   "execution_count": 1509,
   "id": "dd5e3c29",
   "metadata": {},
   "outputs": [],
   "source": [
    "census_neighborhoods_UDP = census_neighborhoods_UDP.drop(columns=['GEO_ID_white_pop'])"
   ]
  },
  {
   "cell_type": "code",
   "execution_count": 1510,
   "id": "b6a20440",
   "metadata": {},
   "outputs": [],
   "source": [
    "census_neighborhoods_UDP = census_neighborhoods_UDP.drop(columns=['NAME_white_pop'])"
   ]
  },
  {
   "cell_type": "code",
   "execution_count": 1511,
   "id": "699a4bed",
   "metadata": {},
   "outputs": [
    {
     "name": "stdout",
     "output_type": "stream",
     "text": [
      "['OBJECTID', 'name', 'geometry', 'GEOID', 'Typology', 'Total_hhsize_2010', 'owner_occupied_hh_2010', 'renter_occupied_hh_2010', 'Total_hhsize', 'owner_occupied_hh', 'renter_occupied_hh', 'Total_hh_percent_change', 'owner_occupied_percent_change', 'renter_occupied_percent_change', 'median_gross_rent', 'median_gross_rent_2010', 'rent_percent_change', 'median_gross_rent_2010_inflation', 'rent_percent_change_inflation', 'median_income_nonfamily', 'median_income_family', 'median_income_nonfamily_2010', 'median_income_family_2010', 'income_family_percent_change', 'income_nonfamily_percent_change', 'median_income_family_2010_inflation', 'median_income_nonfamily_2010_inflation', 'median_income_family_percent_change_inflation', 'median_income_nonfamily_percent_change_inflation', 'total_race', 'nonhispanic_white', 'percent_white', 'total_race_2010', 'nonhispanic_white_2010', 'percent_white_2010', 'white_pop_percent_change', 'twentyfive_over_with_bachelorsplus', 'total_pop_25_over', 'percent_with_bachelorsplus', 'percent_with_bachelorsplus_2010', 'total_pop_25_over_2010', 'bachelorsplus_percent_change']\n"
     ]
    }
   ],
   "source": [
    "print(census_neighborhoods_UDP.columns.tolist())"
   ]
  },
  {
   "cell_type": "code",
   "execution_count": 1512,
   "id": "1126877d",
   "metadata": {},
   "outputs": [],
   "source": [
    "#census_neighborhoods_UDP = census_neighborhoods_UDP.rename(columns={\"name_x\":\"name\", 'geometry_x':'geometry'})"
   ]
  },
  {
   "cell_type": "code",
   "execution_count": 1513,
   "id": "d2c84ab7",
   "metadata": {},
   "outputs": [],
   "source": [
    "census_neighborhoods_UDP.to_csv('Census_neighborhoods_UDP_full.csv')"
   ]
  },
  {
   "cell_type": "code",
   "execution_count": 1514,
   "id": "9ec9f282",
   "metadata": {},
   "outputs": [],
   "source": [
    "census_neighborhoods_UDP_condensed = census_neighborhoods_UDP[['name', 'geometry', 'GEOID', 'Typology', \n",
    "                                                               'Total_hh_percent_change',\n",
    "                                                              'rent_percent_change', 'rent_percent_change_inflation',\n",
    "                                                              'income_family_percent_change', 'income_nonfamily_percent_change',\n",
    "                                                              'median_income_family_percent_change_inflation',\n",
    "                                                               'median_income_nonfamily_percent_change_inflation', 'white_pop_percent_change',\n",
    "                                                              'bachelorsplus_percent_change']]"
   ]
  },
  {
   "cell_type": "code",
   "execution_count": 1515,
   "id": "22d3be6d",
   "metadata": {},
   "outputs": [],
   "source": [
    "census_neighborhoods_UDP_condensed.to_csv('Census_neighborhoods_UDP_condensed.csv')"
   ]
  },
  {
   "cell_type": "code",
   "execution_count": null,
   "id": "4efb7fdc",
   "metadata": {},
   "outputs": [],
   "source": []
  }
 ],
 "metadata": {
  "kernelspec": {
   "display_name": "Python 3 (ipykernel)",
   "language": "python",
   "name": "python3"
  },
  "language_info": {
   "codemirror_mode": {
    "name": "ipython",
    "version": 3
   },
   "file_extension": ".py",
   "mimetype": "text/x-python",
   "name": "python",
   "nbconvert_exporter": "python",
   "pygments_lexer": "ipython3",
   "version": "3.8.13"
  }
 },
 "nbformat": 4,
 "nbformat_minor": 5
}
