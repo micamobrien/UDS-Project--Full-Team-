{
 "cells": [
  {
   "cell_type": "markdown",
   "id": "73e7e57b",
   "metadata": {},
   "source": [
    "**Land value notebook**"
   ]
  },
  {
   "cell_type": "code",
   "execution_count": null,
   "id": "352258dc",
   "metadata": {},
   "outputs": [],
   "source": [
    "import requests\n",
    "import json\n",
    "import pandas as pd\n",
    "import geopandas as gpd\n",
    "\n",
    "requestString = 'https://data.lacounty.gov/resource/4bch-gpkr.json?City=LOS ANGELES CA&$limit=1000000'\n",
    "r = requests.get(requestString)\n",
    "d = json.loads(r.text)\n",
    "df_2010 = pd.DataFrame(d)\n",
    "df_2010"
   ]
  },
  {
   "cell_type": "code",
   "execution_count": null,
   "id": "8acac1c0",
   "metadata": {},
   "outputs": [],
   "source": [
    "df_2010.info()"
   ]
  },
  {
   "cell_type": "code",
   "execution_count": null,
   "id": "6ecb214f",
   "metadata": {},
   "outputs": [],
   "source": [
    "#keep the desired columns\n",
    "columns = ['ain','situszip','center_lat','center_lon','rollyear','roll_landvalue','sqftmain','roll_impbaseyear','roll_landbaseyear','propertylocation','usecodedescchar1','effectiveyearbuilt','parcelboundarydescription','roll_landbaseyear','location_1']\n",
    "df_2010_n = pd.DataFrame(df_2010, columns=columns)\n",
    "df_2010_n"
   ]
  },
  {
   "cell_type": "code",
   "execution_count": null,
   "id": "3e887dcd",
   "metadata": {
    "scrolled": true
   },
   "outputs": [],
   "source": [
    "gdf_2010 = gpd.GeoDataFrame(\n",
    "    df_2010_n, geometry=gpd.points_from_xy(df_2010_n.center_lon, df_2010_n.center_lat, \n",
    "                                          crs='EPSG:4326'))\n",
    "gdf_2010.head()"
   ]
  },
  {
   "cell_type": "code",
   "execution_count": null,
   "id": "31a39e23",
   "metadata": {},
   "outputs": [],
   "source": [
    "#import neighborhood boundary data\n",
    "nb= gpd.read_file('/Users/jinglanlin/Desktop/School/01 UCLA/04 Spring 2022/UP 229 DS/Github/UDS-Project--Full-Team-/Data/LA_Times_Neighborhood_Boundaries (1)-Copy1.geojson')\n",
    "nb.head()"
   ]
  },
  {
   "cell_type": "code",
   "execution_count": null,
   "id": "47a42992",
   "metadata": {},
   "outputs": [],
   "source": [
    "#join neighborhood boundary with land value data\n",
    "gdf_2010_sjoin = gpd.sjoin(gdf_2010,nb.to_crs('EPSG:4326'),how=\"left\", predicate='intersects')\n",
    "gdf_2010_sjoin.head()"
   ]
  },
  {
   "cell_type": "code",
   "execution_count": null,
   "id": "5e5f32a6",
   "metadata": {},
   "outputs": [],
   "source": [
    "#keep data with the following neighborhood: Koreatown, Westlake, Silver Lake, Echo Park, Downtown, Pico Union\n",
    "Westlake = gdf_2010_sjoin.loc[gdf_2010_sjoin['name'] == 'Westlake']\n",
    "Westlake = Westlake.drop(['index_right'], axis=1)\n",
    "Westlake"
   ]
  },
  {
   "cell_type": "code",
   "execution_count": null,
   "id": "e84b923a",
   "metadata": {},
   "outputs": [],
   "source": [
    "Koreatown = gdf_2010_sjoin.loc[gdf_2010_sjoin['name'] == 'Koreatown']\n",
    "Koreatown = Koreatown.drop(['index_right'], axis=1)\n",
    "Koreatown"
   ]
  },
  {
   "cell_type": "code",
   "execution_count": null,
   "id": "0d7e6303",
   "metadata": {},
   "outputs": [],
   "source": [
    "Pico_Union = gdf_2010_sjoin.loc[gdf_2010_sjoin['name'] == 'Pico-Union']\n",
    "Pico_Union = Pico_Union.drop(['index_right'], axis=1)\n",
    "Pico_Union"
   ]
  },
  {
   "cell_type": "code",
   "execution_count": null,
   "id": "60126c55",
   "metadata": {},
   "outputs": [],
   "source": [
    "Downtown = gdf_2010_sjoin.loc[gdf_2010_sjoin['name'] == 'Downtown']\n",
    "Downtown = Downtown.drop(['index_right'], axis=1)\n",
    "Downtown"
   ]
  },
  {
   "cell_type": "code",
   "execution_count": null,
   "id": "9471e0d4",
   "metadata": {},
   "outputs": [],
   "source": [
    "Silver_Lake = gdf_2010_sjoin.loc[gdf_2010_sjoin['name'] == 'Silver Lake']\n",
    "Silver_Lake = Silver_Lake.drop(['index_right'], axis=1)\n",
    "Silver_Lake"
   ]
  },
  {
   "cell_type": "code",
   "execution_count": null,
   "id": "bc6e4c85",
   "metadata": {},
   "outputs": [],
   "source": [
    "Echo_Park = gdf_2010_sjoin.loc[gdf_2010_sjoin['name'] == 'Echo Park']\n",
    "Echo_Park = Echo_Park.drop(['index_right'], axis=1)\n",
    "Echo_Park"
   ]
  },
  {
   "cell_type": "code",
   "execution_count": null,
   "id": "fa56f3a4",
   "metadata": {},
   "outputs": [],
   "source": [
    "join1 = pd.concat([Westlake, Koreatown], axis=0).reset_index(drop=True)\n",
    "join1"
   ]
  },
  {
   "cell_type": "code",
   "execution_count": null,
   "id": "52fd3106",
   "metadata": {},
   "outputs": [],
   "source": [
    "join2 = pd.concat([join1,Pico_Union], axis=0).reset_index(drop=True)\n",
    "join2"
   ]
  },
  {
   "cell_type": "code",
   "execution_count": null,
   "id": "17349c47",
   "metadata": {},
   "outputs": [],
   "source": [
    "join3 = pd.concat([join2,Downtown], axis=0).reset_index(drop=True)\n",
    "join3"
   ]
  },
  {
   "cell_type": "code",
   "execution_count": null,
   "id": "a0267e7b",
   "metadata": {},
   "outputs": [],
   "source": [
    "join4 = pd.concat([join3,Silver_Lake], axis=0).reset_index(drop=True)\n",
    "join4"
   ]
  },
  {
   "cell_type": "code",
   "execution_count": null,
   "id": "7b1bcf14",
   "metadata": {},
   "outputs": [],
   "source": [
    "#join all the neighborhoods \n",
    "finaljoin = pd.concat([join4,Echo_Park], axis=0).reset_index(drop=True)\n",
    "finaljoin "
   ]
  },
  {
   "cell_type": "code",
   "execution_count": null,
   "id": "6b28a797",
   "metadata": {},
   "outputs": [],
   "source": [
    "#import census tracts file\n",
    "tract = gpd.read_file('/Users/jinglanlin/Desktop/School/01 UCLA/04 Spring 2022/UP 229 DS/Github/UDS-Project--Full-Team-/Data/Census_Tracts_2020.geojson')\n",
    "tract.head()"
   ]
  },
  {
   "cell_type": "code",
   "execution_count": null,
   "id": "46809f7f",
   "metadata": {},
   "outputs": [],
   "source": [
    "#join census tract with land value data with neighborhood"
   ]
  },
  {
   "cell_type": "code",
   "execution_count": null,
   "id": "0084413d",
   "metadata": {},
   "outputs": [],
   "source": [
    "gdf_2010_sjoin = gpd.sjoin(finaljoin,tract.to_crs('EPSG:4326'),how=\"left\", predicate='intersects')\n",
    "gdf_2010_sjoin =gdf_2010_sjoin.rename(columns={'name': 'neighborhood'})\n",
    "gdf_2010_sjoin"
   ]
  },
  {
   "cell_type": "code",
   "execution_count": null,
   "id": "6d720247",
   "metadata": {},
   "outputs": [],
   "source": [
    "#save the file to github"
   ]
  },
  {
   "cell_type": "code",
   "execution_count": null,
   "id": "d2568217",
   "metadata": {},
   "outputs": [],
   "source": [
    "gdf_2010_sjoin.to_file('landvalue_2010_new.geojson', driver='GeoJSON') "
   ]
  },
  {
   "cell_type": "code",
   "execution_count": null,
   "id": "4bf4d9b3",
   "metadata": {},
   "outputs": [],
   "source": []
  }
 ],
 "metadata": {
  "kernelspec": {
   "display_name": "Python 3 (ipykernel)",
   "language": "python",
   "name": "python3"
  },
  "language_info": {
   "codemirror_mode": {
    "name": "ipython",
    "version": 3
   },
   "file_extension": ".py",
   "mimetype": "text/x-python",
   "name": "python",
   "nbconvert_exporter": "python",
   "pygments_lexer": "ipython3",
   "version": "3.8.13"
  }
 },
 "nbformat": 4,
 "nbformat_minor": 5
}
