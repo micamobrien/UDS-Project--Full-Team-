{
 "cells": [
  {
   "cell_type": "code",
   "execution_count": 1,
   "id": "fdf4f53d",
   "metadata": {},
   "outputs": [
    {
     "ename": "DriverError",
     "evalue": "/Users/pearlliu100/Documents/GitHub/UDS-Project--Full-Team-/landvalue_2010_new.geojson: No such file or directory",
     "output_type": "error",
     "traceback": [
      "\u001b[0;31m---------------------------------------------------------------------------\u001b[0m",
      "\u001b[0;31mCPLE_OpenFailedError\u001b[0m                      Traceback (most recent call last)",
      "File \u001b[0;32mfiona/_shim.pyx:83\u001b[0m, in \u001b[0;36mfiona._shim.gdal_open_vector\u001b[0;34m()\u001b[0m\n",
      "File \u001b[0;32mfiona/_err.pyx:291\u001b[0m, in \u001b[0;36mfiona._err.exc_wrap_pointer\u001b[0;34m()\u001b[0m\n",
      "\u001b[0;31mCPLE_OpenFailedError\u001b[0m: /Users/pearlliu100/Documents/GitHub/UDS-Project--Full-Team-/landvalue_2010_new.geojson: No such file or directory",
      "\nDuring handling of the above exception, another exception occurred:\n",
      "\u001b[0;31mDriverError\u001b[0m                               Traceback (most recent call last)",
      "Input \u001b[0;32mIn [1]\u001b[0m, in \u001b[0;36m<cell line: 5>\u001b[0;34m()\u001b[0m\n\u001b[1;32m      2\u001b[0m \u001b[38;5;28;01mimport\u001b[39;00m \u001b[38;5;21;01mpandas\u001b[39;00m \u001b[38;5;28;01mas\u001b[39;00m \u001b[38;5;21;01mpd\u001b[39;00m\n\u001b[1;32m      3\u001b[0m \u001b[38;5;28;01mimport\u001b[39;00m \u001b[38;5;21;01mgeopandas\u001b[39;00m \u001b[38;5;28;01mas\u001b[39;00m \u001b[38;5;21;01mgpd\u001b[39;00m\n\u001b[0;32m----> 5\u001b[0m gdf_2010 \u001b[38;5;241m=\u001b[39m \u001b[43mgpd\u001b[49m\u001b[38;5;241;43m.\u001b[39;49m\u001b[43mread_file\u001b[49m\u001b[43m(\u001b[49m\u001b[38;5;124;43m'\u001b[39;49m\u001b[38;5;124;43m/Users/pearlliu100/Documents/GitHub/UDS-Project--Full-Team-/landvalue_2010_new.geojson\u001b[39;49m\u001b[38;5;124;43m'\u001b[39;49m\u001b[43m)\u001b[49m\n\u001b[1;32m      6\u001b[0m \u001b[38;5;66;03m#gdf_2010 = gdf_2010.rename(columns={'roll_totalvalue': 'roll_totalvalue_2010'})\u001b[39;00m\n\u001b[1;32m      7\u001b[0m \u001b[38;5;66;03m#gdf_2010.set_index('ain',inplace=True)\u001b[39;00m\n\u001b[1;32m      8\u001b[0m gdf_2010\n",
      "File \u001b[0;32m~/opt/anaconda3/envs/uds/lib/python3.8/site-packages/geopandas/io/file.py:201\u001b[0m, in \u001b[0;36m_read_file\u001b[0;34m(filename, bbox, mask, rows, **kwargs)\u001b[0m\n\u001b[1;32m    198\u001b[0m     reader \u001b[38;5;241m=\u001b[39m fiona\u001b[38;5;241m.\u001b[39mopen\n\u001b[1;32m    200\u001b[0m \u001b[38;5;28;01mwith\u001b[39;00m fiona_env():\n\u001b[0;32m--> 201\u001b[0m     \u001b[38;5;28;01mwith\u001b[39;00m \u001b[43mreader\u001b[49m\u001b[43m(\u001b[49m\u001b[43mpath_or_bytes\u001b[49m\u001b[43m,\u001b[49m\u001b[43m \u001b[49m\u001b[38;5;241;43m*\u001b[39;49m\u001b[38;5;241;43m*\u001b[39;49m\u001b[43mkwargs\u001b[49m\u001b[43m)\u001b[49m \u001b[38;5;28;01mas\u001b[39;00m features:\n\u001b[1;32m    202\u001b[0m \n\u001b[1;32m    203\u001b[0m         \u001b[38;5;66;03m# In a future Fiona release the crs attribute of features will\u001b[39;00m\n\u001b[1;32m    204\u001b[0m         \u001b[38;5;66;03m# no longer be a dict, but will behave like a dict. So this should\u001b[39;00m\n\u001b[1;32m    205\u001b[0m         \u001b[38;5;66;03m# be forwards compatible\u001b[39;00m\n\u001b[1;32m    206\u001b[0m         crs \u001b[38;5;241m=\u001b[39m (\n\u001b[1;32m    207\u001b[0m             features\u001b[38;5;241m.\u001b[39mcrs[\u001b[38;5;124m\"\u001b[39m\u001b[38;5;124minit\u001b[39m\u001b[38;5;124m\"\u001b[39m]\n\u001b[1;32m    208\u001b[0m             \u001b[38;5;28;01mif\u001b[39;00m features\u001b[38;5;241m.\u001b[39mcrs \u001b[38;5;129;01mand\u001b[39;00m \u001b[38;5;124m\"\u001b[39m\u001b[38;5;124minit\u001b[39m\u001b[38;5;124m\"\u001b[39m \u001b[38;5;129;01min\u001b[39;00m features\u001b[38;5;241m.\u001b[39mcrs\n\u001b[1;32m    209\u001b[0m             \u001b[38;5;28;01melse\u001b[39;00m features\u001b[38;5;241m.\u001b[39mcrs_wkt\n\u001b[1;32m    210\u001b[0m         )\n\u001b[1;32m    212\u001b[0m         \u001b[38;5;66;03m# handle loading the bounding box\u001b[39;00m\n",
      "File \u001b[0;32m~/opt/anaconda3/envs/uds/lib/python3.8/site-packages/fiona/env.py:408\u001b[0m, in \u001b[0;36mensure_env_with_credentials.<locals>.wrapper\u001b[0;34m(*args, **kwargs)\u001b[0m\n\u001b[1;32m    405\u001b[0m \u001b[38;5;129m@wraps\u001b[39m(f)\n\u001b[1;32m    406\u001b[0m \u001b[38;5;28;01mdef\u001b[39;00m \u001b[38;5;21mwrapper\u001b[39m(\u001b[38;5;241m*\u001b[39margs, \u001b[38;5;241m*\u001b[39m\u001b[38;5;241m*\u001b[39mkwargs):\n\u001b[1;32m    407\u001b[0m     \u001b[38;5;28;01mif\u001b[39;00m local\u001b[38;5;241m.\u001b[39m_env:\n\u001b[0;32m--> 408\u001b[0m         \u001b[38;5;28;01mreturn\u001b[39;00m \u001b[43mf\u001b[49m\u001b[43m(\u001b[49m\u001b[38;5;241;43m*\u001b[39;49m\u001b[43margs\u001b[49m\u001b[43m,\u001b[49m\u001b[43m \u001b[49m\u001b[38;5;241;43m*\u001b[39;49m\u001b[38;5;241;43m*\u001b[39;49m\u001b[43mkwargs\u001b[49m\u001b[43m)\u001b[49m\n\u001b[1;32m    409\u001b[0m     \u001b[38;5;28;01melse\u001b[39;00m:\n\u001b[1;32m    410\u001b[0m         \u001b[38;5;28;01mif\u001b[39;00m \u001b[38;5;28misinstance\u001b[39m(args[\u001b[38;5;241m0\u001b[39m], \u001b[38;5;28mstr\u001b[39m):\n",
      "File \u001b[0;32m~/opt/anaconda3/envs/uds/lib/python3.8/site-packages/fiona/__init__.py:264\u001b[0m, in \u001b[0;36mopen\u001b[0;34m(fp, mode, driver, schema, crs, encoding, layer, vfs, enabled_drivers, crs_wkt, **kwargs)\u001b[0m\n\u001b[1;32m    261\u001b[0m     path \u001b[38;5;241m=\u001b[39m parse_path(fp)\n\u001b[1;32m    263\u001b[0m \u001b[38;5;28;01mif\u001b[39;00m mode \u001b[38;5;129;01min\u001b[39;00m (\u001b[38;5;124m'\u001b[39m\u001b[38;5;124ma\u001b[39m\u001b[38;5;124m'\u001b[39m, \u001b[38;5;124m'\u001b[39m\u001b[38;5;124mr\u001b[39m\u001b[38;5;124m'\u001b[39m):\n\u001b[0;32m--> 264\u001b[0m     c \u001b[38;5;241m=\u001b[39m \u001b[43mCollection\u001b[49m\u001b[43m(\u001b[49m\u001b[43mpath\u001b[49m\u001b[43m,\u001b[49m\u001b[43m \u001b[49m\u001b[43mmode\u001b[49m\u001b[43m,\u001b[49m\u001b[43m \u001b[49m\u001b[43mdriver\u001b[49m\u001b[38;5;241;43m=\u001b[39;49m\u001b[43mdriver\u001b[49m\u001b[43m,\u001b[49m\u001b[43m \u001b[49m\u001b[43mencoding\u001b[49m\u001b[38;5;241;43m=\u001b[39;49m\u001b[43mencoding\u001b[49m\u001b[43m,\u001b[49m\n\u001b[1;32m    265\u001b[0m \u001b[43m                   \u001b[49m\u001b[43mlayer\u001b[49m\u001b[38;5;241;43m=\u001b[39;49m\u001b[43mlayer\u001b[49m\u001b[43m,\u001b[49m\u001b[43m \u001b[49m\u001b[43menabled_drivers\u001b[49m\u001b[38;5;241;43m=\u001b[39;49m\u001b[43menabled_drivers\u001b[49m\u001b[43m,\u001b[49m\u001b[43m \u001b[49m\u001b[38;5;241;43m*\u001b[39;49m\u001b[38;5;241;43m*\u001b[39;49m\u001b[43mkwargs\u001b[49m\u001b[43m)\u001b[49m\n\u001b[1;32m    266\u001b[0m \u001b[38;5;28;01melif\u001b[39;00m mode \u001b[38;5;241m==\u001b[39m \u001b[38;5;124m'\u001b[39m\u001b[38;5;124mw\u001b[39m\u001b[38;5;124m'\u001b[39m:\n\u001b[1;32m    267\u001b[0m     \u001b[38;5;28;01mif\u001b[39;00m schema:\n\u001b[1;32m    268\u001b[0m         \u001b[38;5;66;03m# Make an ordered dict of schema properties.\u001b[39;00m\n",
      "File \u001b[0;32m~/opt/anaconda3/envs/uds/lib/python3.8/site-packages/fiona/collection.py:162\u001b[0m, in \u001b[0;36mCollection.__init__\u001b[0;34m(self, path, mode, driver, schema, crs, encoding, layer, vsi, archive, enabled_drivers, crs_wkt, ignore_fields, ignore_geometry, **kwargs)\u001b[0m\n\u001b[1;32m    160\u001b[0m \u001b[38;5;28;01mif\u001b[39;00m \u001b[38;5;28mself\u001b[39m\u001b[38;5;241m.\u001b[39mmode \u001b[38;5;241m==\u001b[39m \u001b[38;5;124m'\u001b[39m\u001b[38;5;124mr\u001b[39m\u001b[38;5;124m'\u001b[39m:\n\u001b[1;32m    161\u001b[0m     \u001b[38;5;28mself\u001b[39m\u001b[38;5;241m.\u001b[39msession \u001b[38;5;241m=\u001b[39m Session()\n\u001b[0;32m--> 162\u001b[0m     \u001b[38;5;28;43mself\u001b[39;49m\u001b[38;5;241;43m.\u001b[39;49m\u001b[43msession\u001b[49m\u001b[38;5;241;43m.\u001b[39;49m\u001b[43mstart\u001b[49m\u001b[43m(\u001b[49m\u001b[38;5;28;43mself\u001b[39;49m\u001b[43m,\u001b[49m\u001b[43m \u001b[49m\u001b[38;5;241;43m*\u001b[39;49m\u001b[38;5;241;43m*\u001b[39;49m\u001b[43mkwargs\u001b[49m\u001b[43m)\u001b[49m\n\u001b[1;32m    163\u001b[0m \u001b[38;5;28;01melif\u001b[39;00m \u001b[38;5;28mself\u001b[39m\u001b[38;5;241m.\u001b[39mmode \u001b[38;5;129;01min\u001b[39;00m (\u001b[38;5;124m'\u001b[39m\u001b[38;5;124ma\u001b[39m\u001b[38;5;124m'\u001b[39m, \u001b[38;5;124m'\u001b[39m\u001b[38;5;124mw\u001b[39m\u001b[38;5;124m'\u001b[39m):\n\u001b[1;32m    164\u001b[0m     \u001b[38;5;28mself\u001b[39m\u001b[38;5;241m.\u001b[39msession \u001b[38;5;241m=\u001b[39m WritingSession()\n",
      "File \u001b[0;32mfiona/ogrext.pyx:540\u001b[0m, in \u001b[0;36mfiona.ogrext.Session.start\u001b[0;34m()\u001b[0m\n",
      "File \u001b[0;32mfiona/_shim.pyx:90\u001b[0m, in \u001b[0;36mfiona._shim.gdal_open_vector\u001b[0;34m()\u001b[0m\n",
      "\u001b[0;31mDriverError\u001b[0m: /Users/pearlliu100/Documents/GitHub/UDS-Project--Full-Team-/landvalue_2010_new.geojson: No such file or directory"
     ]
    }
   ],
   "source": [
    "import json\n",
    "import pandas as pd\n",
    "import geopandas as gpd\n",
    "\n",
    "gdf_2010 = gpd.read_file('/Users/pearlliu100/Documents/GitHub/UDS-Project--Full-Team-/landvalue_2010_new.geojson')\n",
    "#gdf_2010 = gdf_2010.rename(columns={'roll_totalvalue': 'roll_totalvalue_2010'})\n",
    "#gdf_2010.set_index('ain',inplace=True)\n",
    "gdf_2010"
   ]
  },
  {
   "cell_type": "code",
   "execution_count": null,
   "id": "0f0d9b73",
   "metadata": {},
   "outputs": [],
   "source": [
    "n_name = gdf_2010[gdf_2010['CT20'] == 224320]\n",
    "n_name"
   ]
  },
  {
   "cell_type": "code",
   "execution_count": null,
   "id": "d707899c",
   "metadata": {},
   "outputs": [],
   "source": [
    "gdf_2010.info()"
   ]
  },
  {
   "cell_type": "code",
   "execution_count": null,
   "id": "c08ab9ba",
   "metadata": {},
   "outputs": [],
   "source": [
    "\n",
    "gdf_2010.query('roll_landbaseyear == \"2010\"').roll_landbaseyear.count()"
   ]
  },
  {
   "cell_type": "code",
   "execution_count": null,
   "id": "85f93d1f",
   "metadata": {},
   "outputs": [],
   "source": [
    "gdf_2010_sold = gdf_2010[gdf_2010[\"roll_landbaseyear\"] == '2010']\n",
    "gdf_2010_sold"
   ]
  },
  {
   "cell_type": "code",
   "execution_count": null,
   "id": "2a38d70e",
   "metadata": {},
   "outputs": [],
   "source": [
    "min_number = min(gdf_2010_sold.ain)\n",
    "print(min_number)\n",
    "max_number = max(gdf_2010_sold.ain)\n",
    "print(max_number)"
   ]
  },
  {
   "cell_type": "code",
   "execution_count": null,
   "id": "ec67e99f",
   "metadata": {},
   "outputs": [],
   "source": [
    "#import parcel data\n",
    "import requests\n",
    "import json\n",
    "\n",
    "\n",
    "url = 'https://data.lacounty.gov/resource/rjze-ndj2.json?$where=within_box(the_geom, 34.1164, -118.3217, 34.01333, -118.2675)&$limit=100000' # copied and pasted from the webpage\n",
    "r = requests.get(url)\n",
    "parcel = pd.DataFrame(json.loads(r.text))\n",
    "parcel\n",
    "\n",
    "#south:34.013339055368384, -118.23277272855023\n",
    "#north: 34.11633386937314, -118.2674474941663\n",
    "#eaast:34.01604254848126, -118.2217864006906\n",
    "#west: 34.05453104173829, -118.32179797239648\n",
    "#https://data.cityofchicago.org/resource/yama-9had.json?$where=within_polygon(the_geom, 'MULTIPOLYGON (((34.1037 -118.2484, 34.0054 -118.2455, 34.0545 -118.2062, 34.0633 -118.3351)))')\n",
    "#within_polygon(location, 'MULTIPOLYGON (((34.10378510012116, -118.24846458486526, 34.00549184389096, -118.24552614565691, 34.05450056185422, -118.20622452124513, 34.06332521000708, -118.33514854151177)))')\n",
    "#$where=ain>5056000000.0&$limit=2500000\n",
    "#requestString = 'https://data.lacounty.gov/resource/rjze-ndj2.json&$limit=2100000'\n",
    "#r = requests.get(requestString)\n",
    "#d = json.loads(r.text)\n",
    "#parcel = pd.DataFrame(d)\n",
    "#parcel"
   ]
  },
  {
   "cell_type": "code",
   "execution_count": null,
   "id": "f1722866",
   "metadata": {},
   "outputs": [],
   "source": [
    "parcel.info()"
   ]
  },
  {
   "cell_type": "code",
   "execution_count": null,
   "id": "b7d69e68",
   "metadata": {},
   "outputs": [],
   "source": [
    "parcelgdf = gpd.GeoDataFrame(\n",
    "    parcel, geometry=gpd.points_from_xy(parcel.lon_coord, parcel.lat_coord, \n",
    "                                          crs='EPSG:4326'))\n",
    "parcelgdf"
   ]
  },
  {
   "cell_type": "code",
   "execution_count": null,
   "id": "837ccacf",
   "metadata": {},
   "outputs": [],
   "source": [
    "parcelgdf.info()"
   ]
  },
  {
   "cell_type": "code",
   "execution_count": null,
   "id": "201d2eca",
   "metadata": {},
   "outputs": [],
   "source": [
    "gdf_2010_sold.info()"
   ]
  },
  {
   "cell_type": "code",
   "execution_count": null,
   "id": "7f339a46",
   "metadata": {},
   "outputs": [],
   "source": [
    "gdf_2010_sold = gdf_2010_sold.drop(columns=['index_right'])\n",
    "gdf_2010_sold"
   ]
  },
  {
   "cell_type": "code",
   "execution_count": null,
   "id": "1ee04f11",
   "metadata": {},
   "outputs": [],
   "source": [
    "joinedgdf2010=gpd.sjoin(gdf_2010_sold.to_crs('EPSG:4326'),parcelgdf.to_crs('EPSG:4326'),how='left')\n",
    "joinedgdf2010"
   ]
  },
  {
   "cell_type": "code",
   "execution_count": null,
   "id": "6f3f0fa0",
   "metadata": {},
   "outputs": [],
   "source": [
    "gdf_2010_sold.head()"
   ]
  },
  {
   "cell_type": "code",
   "execution_count": null,
   "id": "e67f48e7",
   "metadata": {},
   "outputs": [],
   "source": [
    "join2010 = gdf_2010_sold.merge(parcelgdf, how='left',on='ain')\n",
    "join2010 = join2010.dropna()\n",
    "join2010"
   ]
  },
  {
   "cell_type": "code",
   "execution_count": null,
   "id": "ae20962a",
   "metadata": {},
   "outputs": [],
   "source": [
    "join2010.query('neighborhood == \"Westlake\"').neighborhood.count()"
   ]
  },
  {
   "cell_type": "code",
   "execution_count": null,
   "id": "b8275f1a",
   "metadata": {},
   "outputs": [],
   "source": [
    "join2010.info()"
   ]
  },
  {
   "cell_type": "code",
   "execution_count": null,
   "id": "d07610a1",
   "metadata": {},
   "outputs": [],
   "source": [
    "#join2010['roll_landvalue'].astype(float)\n",
    "#join2010['shape_area'].astype(float)\n",
    "join2010['shape_area'] = pd.to_numeric(join2010['shape_area'])\n",
    "join2010['roll_landvalue'] = pd.to_numeric(join2010['roll_landvalue'])"
   ]
  },
  {
   "cell_type": "code",
   "execution_count": null,
   "id": "aee9cc5a",
   "metadata": {},
   "outputs": [],
   "source": [
    "join2010.info()"
   ]
  },
  {
   "cell_type": "code",
   "execution_count": null,
   "id": "a7ac46ef",
   "metadata": {},
   "outputs": [],
   "source": [
    "join2010['landvalue_sqft']=join2010['roll_landvalue']/join2010['shape_area']\n",
    "join2010"
   ]
  },
  {
   "cell_type": "code",
   "execution_count": null,
   "id": "b5a3064d",
   "metadata": {},
   "outputs": [],
   "source": [
    "pd.set_option('display.max_columns', None)\n",
    "pd.set_option('display.max_rows', None)\n",
    "join2010"
   ]
  },
  {
   "cell_type": "code",
   "execution_count": null,
   "id": "9a3f5652",
   "metadata": {},
   "outputs": [],
   "source": [
    "\n",
    "censusjoin2010 = join2010.groupby('CT20').ain.count()\n",
    "censusjoin2010"
   ]
  },
  {
   "cell_type": "code",
   "execution_count": null,
   "id": "18eac8fd",
   "metadata": {},
   "outputs": [],
   "source": [
    "df_census_n = pd.DataFrame(censusjoin2010)\n",
    "df_census_n =df_census_n.rename(columns={'ain': 'n_parcel'})\n",
    "df_census_n"
   ]
  },
  {
   "cell_type": "code",
   "execution_count": null,
   "id": "0db943ca",
   "metadata": {},
   "outputs": [],
   "source": [
    "censuslvsfjoin2010 = join2010.groupby('CT20').landvalue_sqft.sum()\n",
    "censuslvsfjoin2010"
   ]
  },
  {
   "cell_type": "code",
   "execution_count": null,
   "id": "24a239e0",
   "metadata": {},
   "outputs": [],
   "source": [
    "df_lvsf = pd.DataFrame(censuslvsfjoin2010)\n",
    "df_lvsf"
   ]
  },
  {
   "cell_type": "code",
   "execution_count": null,
   "id": "3beb83e1",
   "metadata": {},
   "outputs": [],
   "source": [
    "df_lvsf.info()"
   ]
  },
  {
   "cell_type": "code",
   "execution_count": null,
   "id": "c894fad5",
   "metadata": {},
   "outputs": [],
   "source": [
    "df_census_n.info()"
   ]
  },
  {
   "cell_type": "code",
   "execution_count": null,
   "id": "821ae30a",
   "metadata": {},
   "outputs": [],
   "source": [
    "newjoin = df_lvsf.merge(df_census_n, how='left',on='CT20')\n",
    "newjoin"
   ]
  },
  {
   "cell_type": "code",
   "execution_count": null,
   "id": "474b2c0c",
   "metadata": {},
   "outputs": [],
   "source": [
    "newjoin['avgprice_tract']=newjoin['landvalue_sqft']/newjoin['n_parcel']\n",
    "newjoin"
   ]
  },
  {
   "cell_type": "code",
   "execution_count": null,
   "id": "b67d306b",
   "metadata": {},
   "outputs": [],
   "source": [
    "#percent change with and without inflation"
   ]
  },
  {
   "cell_type": "code",
   "execution_count": null,
   "id": "97ef4776",
   "metadata": {},
   "outputs": [],
   "source": [
    "avgprice_tract_2020 = pd.read_csv('/Users/pearlliu100/Documents/GitHub/UDS-Project--Full-Team-/avgprice_tract_2020.csv')"
   ]
  },
  {
   "cell_type": "code",
   "execution_count": null,
   "id": "273e0af4",
   "metadata": {},
   "outputs": [],
   "source": [
    "avgprice_tract_2020.set_index('CT20')"
   ]
  },
  {
   "cell_type": "code",
   "execution_count": null,
   "id": "4baee1d7",
   "metadata": {},
   "outputs": [],
   "source": [
    "#rename columns\n",
    "avgprice_tract_2020 = avgprice_tract_2020.rename(columns={'landvalue_sqft': 'landvalue_sqft_2020',\n",
    "                                                         'n_parcel': 'n_parcel_2020',\n",
    "                                                         'avgprice_tract':'avgprice_tract_2020'})\n",
    "avgprice_tract_2020"
   ]
  },
  {
   "cell_type": "code",
   "execution_count": null,
   "id": "1564cf78",
   "metadata": {},
   "outputs": [],
   "source": [
    "#rename columns\n",
    "avgprice_tract_2010 = newjoin.rename(columns={'landvalue_sqft': 'landvalue_sqft_2010',\n",
    "                                                         'n_parcel': 'n_parcel_2010',\n",
    "                                                         'avgprice_tract':'avgprice_tract_2010'})\n",
    "avgprice_tract_2010"
   ]
  },
  {
   "cell_type": "code",
   "execution_count": null,
   "id": "7927703a",
   "metadata": {},
   "outputs": [],
   "source": [
    "avgprice_tract_2010['2010avgprice_adjust_to_2020']=avgprice_tract_2010['avgprice_tract_2010']*1.19\n",
    "avgprice_tract_2010"
   ]
  },
  {
   "cell_type": "code",
   "execution_count": null,
   "id": "6f92d66c",
   "metadata": {},
   "outputs": [],
   "source": [
    "avgprice_tract_2010.reset_index(inplace=True)\n",
    "avgprice_tract_2010.info()"
   ]
  },
  {
   "cell_type": "code",
   "execution_count": null,
   "id": "4dc593c3",
   "metadata": {},
   "outputs": [],
   "source": [
    "avgprice_tract_2020.info()"
   ]
  },
  {
   "cell_type": "code",
   "execution_count": null,
   "id": "a3ef2e1d",
   "metadata": {},
   "outputs": [],
   "source": [
    "#2010 to float\n",
    "avgprice_tract_2010['CT20'] = avgprice_tract_2010.CT20.astype(int)\n",
    "avgprice_tract_2010['n_parcel_2010'] = avgprice_tract_2010.n_parcel_2010.astype(float)\n",
    "avgprice_tract_2010.info()"
   ]
  },
  {
   "cell_type": "code",
   "execution_count": null,
   "id": "87a9b49e",
   "metadata": {},
   "outputs": [],
   "source": [
    "#2020 to float\n",
    "avgprice_tract_2020['CT20'] = avgprice_tract_2020.CT20.astype(int)\n",
    "avgprice_tract_2020['n_parcel_2020'] = avgprice_tract_2020.n_parcel_2020.astype(float)\n",
    "avgprice_tract_2020.info()"
   ]
  },
  {
   "cell_type": "code",
   "execution_count": null,
   "id": "773c47dc",
   "metadata": {},
   "outputs": [],
   "source": [
    "#join\n",
    "finaljoin=avgprice_tract_2010.merge(avgprice_tract_2020, how='left',on='CT20')\n",
    "finaljoin=finaljoin.dropna()\n",
    "finaljoin"
   ]
  },
  {
   "cell_type": "code",
   "execution_count": null,
   "id": "424cabdb",
   "metadata": {},
   "outputs": [],
   "source": [
    "finaljoin['pct_change_wo_inflation'] = (finaljoin.loc[1:80,'avgprice_tract_2020'] - finaljoin.loc[1:80,'avgprice_tract_2010'])/finaljoin.loc[1:80,'avgprice_tract_2010']\n",
    "#pct_change_wo_inflation\n",
    "finaljoin['pct_change_w_inflation']=(finaljoin.loc[1:80,'avgprice_tract_2020'] - finaljoin.loc[1:80,'2010avgprice_adjust_to_2020'])/finaljoin.loc[1:80,'2010avgprice_adjust_to_2020']\n",
    "#pct_change_w_inflation\n",
    "finaljoin"
   ]
  },
  {
   "cell_type": "code",
   "execution_count": null,
   "id": "3d0ec1d0",
   "metadata": {},
   "outputs": [],
   "source": [
    "#finaljoin['CT20']=finaljoin.CT20.astype(int)\n",
    "#gdf_2010['CT20']=gdf_2010.CT20.astype(int)\n",
    "#finaljoin.info()"
   ]
  },
  {
   "cell_type": "code",
   "execution_count": null,
   "id": "95ea4d82",
   "metadata": {},
   "outputs": [],
   "source": [
    "#gdf_2010.set_index('CT20',inplace=True)\n",
    "#finaljoin.set_index('CT20',inplace=True)"
   ]
  },
  {
   "cell_type": "code",
   "execution_count": null,
   "id": "ce2014d8",
   "metadata": {},
   "outputs": [],
   "source": [
    "#finaljoin2=finaljoin.join(gdf_2010.drop(columns='CT20'))\n",
    "#pd.set_option('display.max_columns', None)\n",
    "#pd.set_option('display.max_rows', None)\n",
    "#finaljoin2"
   ]
  },
  {
   "cell_type": "code",
   "execution_count": null,
   "id": "d87e9292",
   "metadata": {},
   "outputs": [],
   "source": [
    "census = gpd.read_file('/Users/pearlliu100/Documents/GitHub/UDS-Project--Full-Team-/Data/Census_Tracts_2020.geojson')\n",
    "census.head()"
   ]
  },
  {
   "cell_type": "code",
   "execution_count": null,
   "id": "a199bc9c",
   "metadata": {},
   "outputs": [],
   "source": [
    "gdf_2010.info()"
   ]
  },
  {
   "cell_type": "code",
   "execution_count": null,
   "id": "d5fc2bd3",
   "metadata": {},
   "outputs": [],
   "source": [
    "census.info()"
   ]
  },
  {
   "cell_type": "code",
   "execution_count": null,
   "id": "d53e5bda",
   "metadata": {},
   "outputs": [],
   "source": [
    "census['CT20']=census.CT20.astype(int)"
   ]
  },
  {
   "cell_type": "code",
   "execution_count": null,
   "id": "ee953833",
   "metadata": {},
   "outputs": [],
   "source": [
    "#use this for mapping\n",
    "census_finaljoin=finaljoin.merge(census, on='CT20',how='left')\n",
    "census_finaljoin\n"
   ]
  },
  {
   "cell_type": "code",
   "execution_count": null,
   "id": "8e221169",
   "metadata": {},
   "outputs": [],
   "source": [
    "#neighborhood boundary\n",
    "nb= gpd.read_file('/Users/pearlliu100/Documents/GitHub/UDS-Project--Full-Team-/Data/LA_Times_Neighborhood_Boundaries (1)-Copy1.geojson')\n",
    "#nb.name\n",
    "wl=nb[nb.name=='Westlake']\n",
    "kt=nb[nb.name=='Koreatown']\n",
    "pu=nb[nb.name=='Pico-Union']\n",
    "sl=nb[nb.name=='Silver Lake']\n",
    "dt=nb[nb.name=='Downtown']\n",
    "ep=nb[nb.name=='Echo Park']\n",
    "join1 = pd.concat([wl, kt], axis=0).reset_index(drop=True)\n",
    "join2 = pd.concat([join1, pu], axis=0).reset_index(drop=True)\n",
    "join3 = pd.concat([join2, sl], axis=0).reset_index(drop=True)\n",
    "join4 = pd.concat([join3, dt], axis=0).reset_index(drop=True)\n",
    "nb = pd.concat([join4, ep], axis=0).reset_index(drop=True)\n",
    "nb\n",
    "\n"
   ]
  },
  {
   "cell_type": "code",
   "execution_count": null,
   "id": "d133cee6",
   "metadata": {},
   "outputs": [],
   "source": [
    "census_finaljoin.info()"
   ]
  },
  {
   "cell_type": "code",
   "execution_count": null,
   "id": "883a39fd",
   "metadata": {},
   "outputs": [],
   "source": [
    "#change to geodataframe\n",
    "import geopandas as gpd\n",
    "gdf=gpd.GeoDataFrame(census_finaljoin,geometry='geometry')"
   ]
  },
  {
   "cell_type": "code",
   "execution_count": null,
   "id": "2341723b",
   "metadata": {},
   "outputs": [],
   "source": [
    "#map\n",
    "import contextily as ctx\n",
    "import matplotlib.pyplot as plt\n",
    "fig, ax = plt.subplots(figsize=(10,10))\n",
    "gdf.to_crs('EPSG:3857').plot('pct_change_wo_inflation',\n",
    "                             markersize=0.001, \n",
    "                             ax=ax, legend=True)\n",
    "#ax.set_ylim([3.98e6,4.14e6])\n",
    "ctx.add_basemap(ax=ax)    \n",
    "#ax.set_xticks([])\n",
    "#ax.set_yticks([])\n",
    "ax.set_title('land value pct_change_without_inflation', fontsize=20 )"
   ]
  },
  {
   "cell_type": "code",
   "execution_count": null,
   "id": "ddaa0b18",
   "metadata": {},
   "outputs": [],
   "source": [
    "#map\n",
    "import contextily as ctx\n",
    "import matplotlib.pyplot as plt\n",
    "fig, ax = plt.subplots(figsize=(10,10))\n",
    "gdf.to_crs('EPSG:3857').plot('pct_change_w_inflation',\n",
    "                             markersize=0.001, \n",
    "                             ax=ax, legend=True)\n",
    "#ax.set_ylim([3.98e6,4.14e6])\n",
    "ctx.add_basemap(ax=ax)    \n",
    "#ax.set_xticks([])\n",
    "#ax.set_yticks([])\n",
    "ax.set_title('land value pct_change_with_inflation', fontsize=20 )"
   ]
  },
  {
   "cell_type": "code",
   "execution_count": null,
   "id": "4688ca64",
   "metadata": {},
   "outputs": [],
   "source": [
    "fig, ax = plt.subplots(figsize=(10,10))\n",
    "gdf_2010.to_crs('EPSG:3857').plot('neighborhood',\n",
    "                             markersize=1, \n",
    "                             ax=ax, legend=True)\n",
    "#ax.set_ylim([3.98e6,4.14e6])\n",
    "ctx.add_basemap(ax=ax)    \n",
    "#ax.set_xticks([])\n",
    "#ax.set_yticks([])\n",
    "ax.set_title('Neighborhood by Ain', fontsize=20 )\n"
   ]
  },
  {
   "cell_type": "code",
   "execution_count": null,
   "id": "a5e151c9",
   "metadata": {},
   "outputs": [],
   "source": [
    "#map\n",
    "import contextily as ctx\n",
    "import matplotlib.pyplot as plt\n",
    "fig, ax = plt.subplots(figsize=(20,20))\n",
    "nb.to_crs('EPSG:3857').plot('name',\n",
    "                             markersize=0.001, \n",
    "                             ax=ax, legend=True)\n",
    "#ax.set_ylim([3.98e6,4.14e6])\n",
    "ctx.add_basemap(ax=ax)    \n",
    "#ax.set_xticks([])\n",
    "#ax.set_yticks([])\n",
    "ax.set_title('nb', fontsize=40 )\n"
   ]
  },
  {
   "cell_type": "code",
   "execution_count": null,
   "id": "94fb2b34",
   "metadata": {},
   "outputs": [],
   "source": [
    "#census_finaljoin.to_file('census_finaljoin_landvalue.geojson', driver='GeoJSON')"
   ]
  },
  {
   "cell_type": "code",
   "execution_count": null,
   "id": "8e7ae2f5",
   "metadata": {},
   "outputs": [],
   "source": [
    "#census_finaljoin.to_file('landvalue_2010_new.geojson', driver='GeoJSON')"
   ]
  },
  {
   "cell_type": "code",
   "execution_count": null,
   "id": "ced2c8f4",
   "metadata": {},
   "outputs": [],
   "source": []
  }
 ],
 "metadata": {
  "kernelspec": {
   "display_name": "Python 3 (ipykernel)",
   "language": "python",
   "name": "python3"
  },
  "language_info": {
   "codemirror_mode": {
    "name": "ipython",
    "version": 3
   },
   "file_extension": ".py",
   "mimetype": "text/x-python",
   "name": "python",
   "nbconvert_exporter": "python",
   "pygments_lexer": "ipython3",
   "version": "3.8.13"
  }
 },
 "nbformat": 4,
 "nbformat_minor": 5
}
