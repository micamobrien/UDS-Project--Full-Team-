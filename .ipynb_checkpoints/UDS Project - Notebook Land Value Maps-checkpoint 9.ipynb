{
 "cells": [
  {
   "cell_type": "code",
   "execution_count": 1,
   "id": "fdf4f53d",
   "metadata": {},
   "outputs": [
    {
     "ename": "DriverError",
     "evalue": "/Users/pearlliu100/Documents/GitHub/UDS-Project--Full-Team-/landvalue_2010_new.geojson: No such file or directory",
     "output_type": "error",
     "traceback": [
      "\u001b[0;31m---------------------------------------------------------------------------\u001b[0m",
      "\u001b[0;31mCPLE_OpenFailedError\u001b[0m                      Traceback (most recent call last)",
      "File \u001b[0;32mfiona/_shim.pyx:83\u001b[0m, in \u001b[0;36mfiona._shim.gdal_open_vector\u001b[0;34m()\u001b[0m\n",
      "File \u001b[0;32mfiona/_err.pyx:291\u001b[0m, in \u001b[0;36mfiona._err.exc_wrap_pointer\u001b[0;34m()\u001b[0m\n",
      "\u001b[0;31mCPLE_OpenFailedError\u001b[0m: /Users/pearlliu100/Documents/GitHub/UDS-Project--Full-Team-/landvalue_2010_new.geojson: No such file or directory",
      "\nDuring handling of the above exception, another exception occurred:\n",
      "\u001b[0;31mDriverError\u001b[0m                               Traceback (most recent call last)",
      "Input \u001b[0;32mIn [1]\u001b[0m, in \u001b[0;36m<cell line: 5>\u001b[0;34m()\u001b[0m\n\u001b[1;32m      2\u001b[0m \u001b[38;5;28;01mimport\u001b[39;00m \u001b[38;5;21;01mpandas\u001b[39;00m \u001b[38;5;28;01mas\u001b[39;00m \u001b[38;5;21;01mpd\u001b[39;00m\n\u001b[1;32m      3\u001b[0m \u001b[38;5;28;01mimport\u001b[39;00m \u001b[38;5;21;01mgeopandas\u001b[39;00m \u001b[38;5;28;01mas\u001b[39;00m \u001b[38;5;21;01mgpd\u001b[39;00m\n\u001b[0;32m----> 5\u001b[0m gdf_2010 \u001b[38;5;241m=\u001b[39m \u001b[43mgpd\u001b[49m\u001b[38;5;241;43m.\u001b[39;49m\u001b[43mread_file\u001b[49m\u001b[43m(\u001b[49m\u001b[38;5;124;43m'\u001b[39;49m\u001b[38;5;124;43m/Users/pearlliu100/Documents/GitHub/UDS-Project--Full-Team-/landvalue_2010_new.geojson\u001b[39;49m\u001b[38;5;124;43m'\u001b[39;49m\u001b[43m)\u001b[49m\n\u001b[1;32m      6\u001b[0m \u001b[38;5;66;03m#gdf_2010 = gdf_2010.rename(columns={'roll_totalvalue': 'roll_totalvalue_2010'})\u001b[39;00m\n\u001b[1;32m      7\u001b[0m \u001b[38;5;66;03m#gdf_2010.set_index('ain',inplace=True)\u001b[39;00m\n\u001b[1;32m      8\u001b[0m gdf_2010\n",
      "File \u001b[0;32m~/opt/anaconda3/envs/uds/lib/python3.8/site-packages/geopandas/io/file.py:201\u001b[0m, in \u001b[0;36m_read_file\u001b[0;34m(filename, bbox, mask, rows, **kwargs)\u001b[0m\n\u001b[1;32m    198\u001b[0m     reader \u001b[38;5;241m=\u001b[39m fiona\u001b[38;5;241m.\u001b[39mopen\n\u001b[1;32m    200\u001b[0m \u001b[38;5;28;01mwith\u001b[39;00m fiona_env():\n\u001b[0;32m--> 201\u001b[0m     \u001b[38;5;28;01mwith\u001b[39;00m \u001b[43mreader\u001b[49m\u001b[43m(\u001b[49m\u001b[43mpath_or_bytes\u001b[49m\u001b[43m,\u001b[49m\u001b[43m \u001b[49m\u001b[38;5;241;43m*\u001b[39;49m\u001b[38;5;241;43m*\u001b[39;49m\u001b[43mkwargs\u001b[49m\u001b[43m)\u001b[49m \u001b[38;5;28;01mas\u001b[39;00m features:\n\u001b[1;32m    202\u001b[0m \n\u001b[1;32m    203\u001b[0m         \u001b[38;5;66;03m# In a future Fiona release the crs attribute of features will\u001b[39;00m\n\u001b[1;32m    204\u001b[0m         \u001b[38;5;66;03m# no longer be a dict, but will behave like a dict. So this should\u001b[39;00m\n\u001b[1;32m    205\u001b[0m         \u001b[38;5;66;03m# be forwards compatible\u001b[39;00m\n\u001b[1;32m    206\u001b[0m         crs \u001b[38;5;241m=\u001b[39m (\n\u001b[1;32m    207\u001b[0m             features\u001b[38;5;241m.\u001b[39mcrs[\u001b[38;5;124m\"\u001b[39m\u001b[38;5;124minit\u001b[39m\u001b[38;5;124m\"\u001b[39m]\n\u001b[1;32m    208\u001b[0m             \u001b[38;5;28;01mif\u001b[39;00m features\u001b[38;5;241m.\u001b[39mcrs \u001b[38;5;129;01mand\u001b[39;00m \u001b[38;5;124m\"\u001b[39m\u001b[38;5;124minit\u001b[39m\u001b[38;5;124m\"\u001b[39m \u001b[38;5;129;01min\u001b[39;00m features\u001b[38;5;241m.\u001b[39mcrs\n\u001b[1;32m    209\u001b[0m             \u001b[38;5;28;01melse\u001b[39;00m features\u001b[38;5;241m.\u001b[39mcrs_wkt\n\u001b[1;32m    210\u001b[0m         )\n\u001b[1;32m    212\u001b[0m         \u001b[38;5;66;03m# handle loading the bounding box\u001b[39;00m\n",
      "File \u001b[0;32m~/opt/anaconda3/envs/uds/lib/python3.8/site-packages/fiona/env.py:408\u001b[0m, in \u001b[0;36mensure_env_with_credentials.<locals>.wrapper\u001b[0;34m(*args, **kwargs)\u001b[0m\n\u001b[1;32m    405\u001b[0m \u001b[38;5;129m@wraps\u001b[39m(f)\n\u001b[1;32m    406\u001b[0m \u001b[38;5;28;01mdef\u001b[39;00m \u001b[38;5;21mwrapper\u001b[39m(\u001b[38;5;241m*\u001b[39margs, \u001b[38;5;241m*\u001b[39m\u001b[38;5;241m*\u001b[39mkwargs):\n\u001b[1;32m    407\u001b[0m     \u001b[38;5;28;01mif\u001b[39;00m local\u001b[38;5;241m.\u001b[39m_env:\n\u001b[0;32m--> 408\u001b[0m         \u001b[38;5;28;01mreturn\u001b[39;00m \u001b[43mf\u001b[49m\u001b[43m(\u001b[49m\u001b[38;5;241;43m*\u001b[39;49m\u001b[43margs\u001b[49m\u001b[43m,\u001b[49m\u001b[43m \u001b[49m\u001b[38;5;241;43m*\u001b[39;49m\u001b[38;5;241;43m*\u001b[39;49m\u001b[43mkwargs\u001b[49m\u001b[43m)\u001b[49m\n\u001b[1;32m    409\u001b[0m     \u001b[38;5;28;01melse\u001b[39;00m:\n\u001b[1;32m    410\u001b[0m         \u001b[38;5;28;01mif\u001b[39;00m \u001b[38;5;28misinstance\u001b[39m(args[\u001b[38;5;241m0\u001b[39m], \u001b[38;5;28mstr\u001b[39m):\n",
      "File \u001b[0;32m~/opt/anaconda3/envs/uds/lib/python3.8/site-packages/fiona/__init__.py:264\u001b[0m, in \u001b[0;36mopen\u001b[0;34m(fp, mode, driver, schema, crs, encoding, layer, vfs, enabled_drivers, crs_wkt, **kwargs)\u001b[0m\n\u001b[1;32m    261\u001b[0m     path \u001b[38;5;241m=\u001b[39m parse_path(fp)\n\u001b[1;32m    263\u001b[0m \u001b[38;5;28;01mif\u001b[39;00m mode \u001b[38;5;129;01min\u001b[39;00m (\u001b[38;5;124m'\u001b[39m\u001b[38;5;124ma\u001b[39m\u001b[38;5;124m'\u001b[39m, \u001b[38;5;124m'\u001b[39m\u001b[38;5;124mr\u001b[39m\u001b[38;5;124m'\u001b[39m):\n\u001b[0;32m--> 264\u001b[0m     c \u001b[38;5;241m=\u001b[39m \u001b[43mCollection\u001b[49m\u001b[43m(\u001b[49m\u001b[43mpath\u001b[49m\u001b[43m,\u001b[49m\u001b[43m \u001b[49m\u001b[43mmode\u001b[49m\u001b[43m,\u001b[49m\u001b[43m \u001b[49m\u001b[43mdriver\u001b[49m\u001b[38;5;241;43m=\u001b[39;49m\u001b[43mdriver\u001b[49m\u001b[43m,\u001b[49m\u001b[43m \u001b[49m\u001b[43mencoding\u001b[49m\u001b[38;5;241;43m=\u001b[39;49m\u001b[43mencoding\u001b[49m\u001b[43m,\u001b[49m\n\u001b[1;32m    265\u001b[0m \u001b[43m                   \u001b[49m\u001b[43mlayer\u001b[49m\u001b[38;5;241;43m=\u001b[39;49m\u001b[43mlayer\u001b[49m\u001b[43m,\u001b[49m\u001b[43m \u001b[49m\u001b[43menabled_drivers\u001b[49m\u001b[38;5;241;43m=\u001b[39;49m\u001b[43menabled_drivers\u001b[49m\u001b[43m,\u001b[49m\u001b[43m \u001b[49m\u001b[38;5;241;43m*\u001b[39;49m\u001b[38;5;241;43m*\u001b[39;49m\u001b[43mkwargs\u001b[49m\u001b[43m)\u001b[49m\n\u001b[1;32m    266\u001b[0m \u001b[38;5;28;01melif\u001b[39;00m mode \u001b[38;5;241m==\u001b[39m \u001b[38;5;124m'\u001b[39m\u001b[38;5;124mw\u001b[39m\u001b[38;5;124m'\u001b[39m:\n\u001b[1;32m    267\u001b[0m     \u001b[38;5;28;01mif\u001b[39;00m schema:\n\u001b[1;32m    268\u001b[0m         \u001b[38;5;66;03m# Make an ordered dict of schema properties.\u001b[39;00m\n",
      "File \u001b[0;32m~/opt/anaconda3/envs/uds/lib/python3.8/site-packages/fiona/collection.py:162\u001b[0m, in \u001b[0;36mCollection.__init__\u001b[0;34m(self, path, mode, driver, schema, crs, encoding, layer, vsi, archive, enabled_drivers, crs_wkt, ignore_fields, ignore_geometry, **kwargs)\u001b[0m\n\u001b[1;32m    160\u001b[0m \u001b[38;5;28;01mif\u001b[39;00m \u001b[38;5;28mself\u001b[39m\u001b[38;5;241m.\u001b[39mmode \u001b[38;5;241m==\u001b[39m \u001b[38;5;124m'\u001b[39m\u001b[38;5;124mr\u001b[39m\u001b[38;5;124m'\u001b[39m:\n\u001b[1;32m    161\u001b[0m     \u001b[38;5;28mself\u001b[39m\u001b[38;5;241m.\u001b[39msession \u001b[38;5;241m=\u001b[39m Session()\n\u001b[0;32m--> 162\u001b[0m     \u001b[38;5;28;43mself\u001b[39;49m\u001b[38;5;241;43m.\u001b[39;49m\u001b[43msession\u001b[49m\u001b[38;5;241;43m.\u001b[39;49m\u001b[43mstart\u001b[49m\u001b[43m(\u001b[49m\u001b[38;5;28;43mself\u001b[39;49m\u001b[43m,\u001b[49m\u001b[43m \u001b[49m\u001b[38;5;241;43m*\u001b[39;49m\u001b[38;5;241;43m*\u001b[39;49m\u001b[43mkwargs\u001b[49m\u001b[43m)\u001b[49m\n\u001b[1;32m    163\u001b[0m \u001b[38;5;28;01melif\u001b[39;00m \u001b[38;5;28mself\u001b[39m\u001b[38;5;241m.\u001b[39mmode \u001b[38;5;129;01min\u001b[39;00m (\u001b[38;5;124m'\u001b[39m\u001b[38;5;124ma\u001b[39m\u001b[38;5;124m'\u001b[39m, \u001b[38;5;124m'\u001b[39m\u001b[38;5;124mw\u001b[39m\u001b[38;5;124m'\u001b[39m):\n\u001b[1;32m    164\u001b[0m     \u001b[38;5;28mself\u001b[39m\u001b[38;5;241m.\u001b[39msession \u001b[38;5;241m=\u001b[39m WritingSession()\n",
      "File \u001b[0;32mfiona/ogrext.pyx:540\u001b[0m, in \u001b[0;36mfiona.ogrext.Session.start\u001b[0;34m()\u001b[0m\n",
      "File \u001b[0;32mfiona/_shim.pyx:90\u001b[0m, in \u001b[0;36mfiona._shim.gdal_open_vector\u001b[0;34m()\u001b[0m\n",
      "\u001b[0;31mDriverError\u001b[0m: /Users/pearlliu100/Documents/GitHub/UDS-Project--Full-Team-/landvalue_2010_new.geojson: No such file or directory"
     ]
    }
   ],
   "source": [
    "import json\n",
    "import pandas as pd\n",
    "import geopandas as gpd\n",
    "\n",
    "gdf_2010 = gpd.read_file('/Users/pearlliu100/Documents/GitHub/UDS-Project--Full-Team-/landvalue_2010_new.geojson')\n",
    "#gdf_2010 = gdf_2010.rename(columns={'roll_totalvalue': 'roll_totalvalue_2010'})\n",
    "#gdf_2010.set_index('ain',inplace=True)\n",
    "gdf_2010"
   ]
  },
  {
   "cell_type": "code",
   "execution_count": null,
   "id": "8a5b41c6",
   "metadata": {},
   "outputs": [],
   "source": [
    "n_name = gdf_2010[gdf_2010['CT20'] == 224320]\n",
    "n_name"
   ]
  },
  {
   "cell_type": "code",
   "execution_count": null,
   "id": "d707899c",
   "metadata": {},
   "outputs": [],
   "source": [
    "gdf_2010.info()"
   ]
  },
  {
   "cell_type": "code",
   "execution_count": null,
   "id": "c08ab9ba",
   "metadata": {},
   "outputs": [],
   "source": [
    "\n",
    "gdf_2010.query('roll_landbaseyear == \"2010\"').roll_landbaseyear.count()"
   ]
  },
  {
   "cell_type": "code",
   "execution_count": null,
   "id": "85f93d1f",
   "metadata": {},
   "outputs": [],
   "source": [
    "gdf_2010_sold = gdf_2010[gdf_2010[\"roll_landbaseyear\"] == '2010']\n",
    "gdf_2010_sold"
   ]
  },
  {
   "cell_type": "code",
   "execution_count": null,
   "id": "2a38d70e",
   "metadata": {},
   "outputs": [],
   "source": [
    "min_number = min(gdf_2010_sold.ain)\n",
    "print(min_number)\n",
    "max_number = max(gdf_2010_sold.ain)\n",
    "print(max_number)"
   ]
  },
  {
   "cell_type": "code",
   "execution_count": null,
   "id": "ec67e99f",
   "metadata": {},
   "outputs": [],
   "source": [
    "#import parcel data\n",
    "import requests\n",
    "import json\n",
    "\n",
    "\n",
    "url = 'https://data.lacounty.gov/resource/rjze-ndj2.json?$where=within_box(the_geom, 34.1164, -118.3217, 34.01333, -118.2675)&$limit=100000' # copied and pasted from the webpage\n",
    "r = requests.get(url)\n",
    "parcel = pd.DataFrame(json.loads(r.text))\n",
    "parcel\n",
    "\n",
    "#south:34.013339055368384, -118.23277272855023\n",
    "#north: 34.11633386937314, -118.2674474941663\n",
    "#eaast:34.01604254848126, -118.2217864006906\n",
    "#west: 34.05453104173829, -118.32179797239648\n",
    "#https://data.cityofchicago.org/resource/yama-9had.json?$where=within_polygon(the_geom, 'MULTIPOLYGON (((34.1037 -118.2484, 34.0054 -118.2455, 34.0545 -118.2062, 34.0633 -118.3351)))')\n",
    "#within_polygon(location, 'MULTIPOLYGON (((34.10378510012116, -118.24846458486526, 34.00549184389096, -118.24552614565691, 34.05450056185422, -118.20622452124513, 34.06332521000708, -118.33514854151177)))')\n",
    "#$where=ain>5056000000.0&$limit=2500000\n",
    "#requestString = 'https://data.lacounty.gov/resource/rjze-ndj2.json&$limit=2100000'\n",
    "#r = requests.get(requestString)\n",
    "#d = json.loads(r.text)\n",
    "#parcel = pd.DataFrame(d)\n",
    "#parcel"
   ]
  },
  {
   "cell_type": "code",
   "execution_count": null,
   "id": "f1722866",
   "metadata": {},
   "outputs": [],
   "source": [
    "parcel.info()"
   ]
  },
  {
   "cell_type": "code",
   "execution_count": null,
   "id": "b7d69e68",
   "metadata": {},
   "outputs": [],
   "source": [
    "parcelgdf = gpd.GeoDataFrame(\n",
    "    parcel, geometry=gpd.points_from_xy(parcel.lon_coord, parcel.lat_coord, \n",
    "                                          crs='EPSG:4326'))\n",
    "parcelgdf"
   ]
  },
  {
   "cell_type": "code",
   "execution_count": null,
   "id": "837ccacf",
   "metadata": {},
   "outputs": [],
   "source": [
    "parcelgdf.info()"
   ]
  },
  {
   "cell_type": "code",
   "execution_count": null,
   "id": "201d2eca",
   "metadata": {},
   "outputs": [],
   "source": [
    "gdf_2010_sold.info()"
   ]
  },
  {
   "cell_type": "code",
   "execution_count": null,
   "id": "7f339a46",
   "metadata": {},
   "outputs": [],
   "source": [
    "gdf_2010_sold = gdf_2010_sold.drop(columns=['index_right'])\n",
    "gdf_2010_sold"
   ]
  },
  {
   "cell_type": "code",
   "execution_count": null,
   "id": "1ee04f11",
   "metadata": {},
   "outputs": [],
   "source": [
    "joinedgdf2010=gpd.sjoin(gdf_2010_sold.to_crs('EPSG:4326'),parcelgdf.to_crs('EPSG:4326'),how='left')\n",
    "joinedgdf2010"
   ]
  },
  {
   "cell_type": "code",
   "execution_count": null,
   "id": "6f3f0fa0",
   "metadata": {},
   "outputs": [],
   "source": [
    "gdf_2010_sold.head()"
   ]
  },
  {
   "cell_type": "code",
   "execution_count": null,
   "id": "e67f48e7",
   "metadata": {},
   "outputs": [],
   "source": [
    "join2010 = gdf_2010_sold.merge(parcelgdf, how='left',on='ain')\n",
    "join2010 = join2010.dropna()\n",
    "join2010"
   ]
  },
  {
   "cell_type": "code",
   "execution_count": null,
   "id": "ae20962a",
   "metadata": {},
   "outputs": [],
   "source": [
    "join2010.query('neighborhood == \"Westlake\"').neighborhood.count()"
   ]
  },
  {
   "cell_type": "code",
   "execution_count": null,
   "id": "b8275f1a",
   "metadata": {},
   "outputs": [],
   "source": [
    "join2010.info()"
   ]
  },
  {
   "cell_type": "code",
   "execution_count": null,
   "id": "d07610a1",
   "metadata": {},
   "outputs": [],
   "source": [
    "#join2010['roll_landvalue'].astype(float)\n",
    "#join2010['shape_area'].astype(float)\n",
    "join2010['shape_area'] = pd.to_numeric(join2010['shape_area'])\n",
    "join2010['roll_landvalue'] = pd.to_numeric(join2010['roll_landvalue'])"
   ]
  },
  {
   "cell_type": "code",
   "execution_count": null,
   "id": "aee9cc5a",
   "metadata": {},
   "outputs": [],
   "source": [
    "join2010.info()"
   ]
  },
  {
   "cell_type": "code",
   "execution_count": null,
   "id": "a7ac46ef",
   "metadata": {},
   "outputs": [],
   "source": [
    "join2010['landvalue_sqft']=join2010['roll_landvalue']/join2010['shape_area']\n",
    "join2010"
   ]
  },
  {
   "cell_type": "code",
   "execution_count": null,
   "id": "18a0c104",
   "metadata": {},
   "outputs": [],
   "source": [
    "pd.set_option('display.max_columns', None)\n",
    "pd.set_option('display.max_rows', None)\n",
    "join2010"
   ]
  },
  {
   "cell_type": "code",
   "execution_count": null,
   "id": "9a3f5652",
   "metadata": {},
   "outputs": [],
   "source": [
    "\n",
    "censusjoin2010 = join2010.groupby('CT20').ain.count()\n",
    "censusjoin2010"
   ]
  },
  {
   "cell_type": "code",
   "execution_count": null,
   "id": "18eac8fd",
   "metadata": {},
   "outputs": [],
   "source": [
    "df_census_n = pd.DataFrame(censusjoin2010)\n",
    "df_census_n =df_census_n.rename(columns={'ain': 'n_parcel'})\n",
    "df_census_n"
   ]
  },
  {
   "cell_type": "code",
   "execution_count": null,
   "id": "0db943ca",
   "metadata": {},
   "outputs": [],
   "source": [
    "censuslvsfjoin2010 = join2010.groupby('CT20').landvalue_sqft.sum()\n",
    "censuslvsfjoin2010"
   ]
  },
  {
   "cell_type": "code",
   "execution_count": null,
   "id": "24a239e0",
   "metadata": {},
   "outputs": [],
   "source": [
    "df_lvsf = pd.DataFrame(censuslvsfjoin2010)\n",
    "df_lvsf"
   ]
  },
  {
   "cell_type": "code",
   "execution_count": null,
   "id": "3beb83e1",
   "metadata": {},
   "outputs": [],
   "source": [
    "df_lvsf.info()"
   ]
  },
  {
   "cell_type": "code",
   "execution_count": null,
   "id": "c894fad5",
   "metadata": {},
   "outputs": [],
   "source": [
    "df_census_n.info()"
   ]
  },
  {
   "cell_type": "code",
   "execution_count": null,
   "id": "821ae30a",
   "metadata": {},
   "outputs": [],
   "source": [
    "newjoin = df_lvsf.merge(df_census_n, how='left',on='CT20')\n",
    "newjoin"
   ]
  },
  {
   "cell_type": "code",
   "execution_count": null,
   "id": "474b2c0c",
   "metadata": {},
   "outputs": [],
   "source": [
    "newjoin['avgprice_tract']=newjoin['landvalue_sqft']/newjoin['n_parcel']\n",
    "newjoin"
   ]
  },
  {
   "cell_type": "code",
   "execution_count": null,
   "id": "b67d306b",
   "metadata": {},
   "outputs": [],
   "source": [
    "#percent change with and without inflation"
   ]
  },
  {
   "cell_type": "code",
   "execution_count": null,
   "id": "97ef4776",
   "metadata": {},
   "outputs": [],
   "source": [
    "avgprice_tract_2020 = pd.read_csv('/Users/pearlliu100/Documents/GitHub/UDS-Project--Full-Team-/avgprice_tract_2020.csv')"
   ]
  },
  {
   "cell_type": "code",
   "execution_count": null,
   "id": "273e0af4",
   "metadata": {},
   "outputs": [],
   "source": [
    "avgprice_tract_2020.set_index('CT20')"
   ]
  },
  {
   "cell_type": "code",
   "execution_count": null,
   "id": "4baee1d7",
   "metadata": {},
   "outputs": [],
   "source": [
    "#rename columns\n",
    "avgprice_tract_2020 = avgprice_tract_2020.rename(columns={'landvalue_sqft': 'landvalue_sqft_2020',\n",
    "                                                         'n_parcel': 'n_parcel_2020',\n",
    "                                                         'avgprice_tract':'avgprice_tract_2020'})\n",
    "avgprice_tract_2020"
   ]
  },
  {
   "cell_type": "code",
   "execution_count": null,
   "id": "1564cf78",
   "metadata": {},
   "outputs": [],
   "source": [
    "#rename columns\n",
    "avgprice_tract_2010 = newjoin.rename(columns={'landvalue_sqft': 'landvalue_sqft_2010',\n",
    "                                                         'n_parcel': 'n_parcel_2010',\n",
    "                                                         'avgprice_tract':'avgprice_tract_2010'})\n",
    "avgprice_tract_2010"
   ]
  },
  {
   "cell_type": "code",
   "execution_count": null,
   "id": "7927703a",
   "metadata": {},
   "outputs": [],
   "source": [
    "avgprice_tract_2010['2010avgprice_adjust_to_2020']=avgprice_tract_2010['avgprice_tract_2010']*1.19\n",
    "avgprice_tract_2010"
   ]
  },
  {
   "cell_type": "code",
   "execution_count": null,
   "id": "6f92d66c",
   "metadata": {},
   "outputs": [],
   "source": [
    "avgprice_tract_2010.reset_index(inplace=True)\n",
    "avgprice_tract_2010.info()"
   ]
  },
  {
   "cell_type": "code",
   "execution_count": null,
   "id": "4dc593c3",
   "metadata": {},
   "outputs": [],
   "source": [
    "avgprice_tract_2020.info()"
   ]
  },
  {
   "cell_type": "code",
   "execution_count": null,
   "id": "a3ef2e1d",
   "metadata": {},
   "outputs": [],
   "source": [
    "#2010 to float\n",
    "avgprice_tract_2010['CT20'] = avgprice_tract_2010.CT20.astype(int)\n",
    "avgprice_tract_2010['n_parcel_2010'] = avgprice_tract_2010.n_parcel_2010.astype(float)\n",
    "avgprice_tract_2010.info()"
   ]
  },
  {
   "cell_type": "code",
   "execution_count": null,
   "id": "87a9b49e",
   "metadata": {},
   "outputs": [],
   "source": [
    "#2020 to float\n",
    "avgprice_tract_2020['CT20'] = avgprice_tract_2020.CT20.astype(int)\n",
    "avgprice_tract_2020['n_parcel_2020'] = avgprice_tract_2020.n_parcel_2020.astype(float)\n",
    "avgprice_tract_2020.info()"
   ]
  },
  {
   "cell_type": "code",
   "execution_count": null,
   "id": "773c47dc",
   "metadata": {},
   "outputs": [],
   "source": [
    "#join\n",
    "finaljoin=avgprice_tract_2010.merge(avgprice_tract_2020, how='left',on='CT20')\n",
    "finaljoin=finaljoin.dropna()\n",
    "finaljoin"
   ]
  },
  {
   "cell_type": "code",
   "execution_count": null,
   "id": "424cabdb",
   "metadata": {},
   "outputs": [],
   "source": [
    "finaljoin['pct_change_wo_inflation'] = (finaljoin.loc[1:80,'avgprice_tract_2020'] - finaljoin.loc[1:80,'avgprice_tract_2010'])/finaljoin.loc[1:80,'avgprice_tract_2010']\n",
    "#pct_change_wo_inflation\n",
    "finaljoin['pct_change_w_inflation']=(finaljoin.loc[1:80,'avgprice_tract_2020'] - finaljoin.loc[1:80,'2010avgprice_adjust_to_2020'])/finaljoin.loc[1:80,'2010avgprice_adjust_to_2020']\n",
    "#pct_change_w_inflation\n",
    "finaljoin"
   ]
  },
  {
   "cell_type": "code",
   "execution_count": null,
   "id": "3d0ec1d0",
   "metadata": {},
   "outputs": [],
   "source": [
    "#finaljoin['CT20']=finaljoin.CT20.astype(int)\n",
    "#gdf_2010['CT20']=gdf_2010.CT20.astype(int)\n",
    "#finaljoin.info()"
   ]
  },
  {
   "cell_type": "code",
   "execution_count": null,
   "id": "95ea4d82",
   "metadata": {},
   "outputs": [],
   "source": [
    "#gdf_2010.set_index('CT20',inplace=True)\n",
    "#finaljoin.set_index('CT20',inplace=True)"
   ]
  },
  {
   "cell_type": "code",
   "execution_count": null,
   "id": "ce2014d8",
   "metadata": {},
   "outputs": [],
   "source": [
    "#finaljoin2=finaljoin.join(gdf_2010.drop(columns='CT20'))\n",
    "#pd.set_option('display.max_columns', None)\n",
    "#pd.set_option('display.max_rows', None)\n",
    "#finaljoin2"
   ]
  },
  {
   "cell_type": "code",
   "execution_count": null,
   "id": "84cdfb7e",
   "metadata": {},
   "outputs": [],
   "source": [
    "census = gpd.read_file('/Users/pearlliu100/Documents/GitHub/UDS-Project--Full-Team-/Data/Census_Tracts_2020.geojson')\n",
    "census.head()"
   ]
  },
  {
   "cell_type": "code",
   "execution_count": null,
   "id": "bd4f1649",
   "metadata": {},
   "outputs": [],
   "source": [
    "gdf_2010.info()"
   ]
  },
  {
   "cell_type": "code",
   "execution_count": null,
   "id": "f0a362d9",
   "metadata": {},
   "outputs": [],
   "source": [
    "census.info()"
   ]
  },
  {
   "cell_type": "code",
   "execution_count": null,
   "id": "8fc0721d",
   "metadata": {},
   "outputs": [],
   "source": [
    "census['CT20']=census.CT20.astype(int)"
   ]
  },
  {
   "cell_type": "code",
   "execution_count": null,
   "id": "9d0366e1",
   "metadata": {},
   "outputs": [],
   "source": [
    "#use this for mapping\n",
    "census_finaljoin=finaljoin.merge(census, on='CT20',how='left')\n",
    "census_finaljoin\n"
   ]
  },
  {
   "cell_type": "code",
   "execution_count": null,
   "id": "db57845e",
   "metadata": {},
   "outputs": [],
   "source": [
    "#neighborhood boundary\n",
    "nb= gpd.read_file('/Users/pearlliu100/Documents/GitHub/UDS-Project--Full-Team-/Data/LA_Times_Neighborhood_Boundaries (1)-Copy1.geojson')\n",
    "#nb.name\n",
    "wl=nb[nb.name=='Westlake']\n",
    "kt=nb[nb.name=='Koreatown']\n",
    "pu=nb[nb.name=='Pico-Union']\n",
    "sl=nb[nb.name=='Silver Lake']\n",
    "dt=nb[nb.name=='Downtown']\n",
    "ep=nb[nb.name=='Echo Park']\n",
    "join1 = pd.concat([wl, kt], axis=0).reset_index(drop=True)\n",
    "join2 = pd.concat([join1, pu], axis=0).reset_index(drop=True)\n",
    "join3 = pd.concat([join2, sl], axis=0).reset_index(drop=True)\n",
    "join4 = pd.concat([join3, dt], axis=0).reset_index(drop=True)\n",
    "nb = pd.concat([join4, ep], axis=0).reset_index(drop=True)\n",
    "nb\n",
    "\n"
   ]
  },
  {
   "cell_type": "code",
   "execution_count": null,
   "id": "651f0751",
   "metadata": {},
   "outputs": [],
   "source": [
    "census_finaljoin.CT20=census_finaljoin.CT20.astype(object)"
   ]
  },
  {
   "cell_type": "code",
   "execution_count": null,
   "id": "07169d21",
   "metadata": {},
   "outputs": [],
   "source": [
    "#merge census final join with nb\n",
    "#no good\n",
    "mergetest=census_finaljoin.merge(gdf_2010, on='CT20')\n",
    "mergetest"
   ]
  },
  {
   "cell_type": "code",
   "execution_count": null,
   "id": "fd46b405",
   "metadata": {},
   "outputs": [],
   "source": [
    "import geopandas as gpd\n",
    "gdf=gpd.GeoDataFrame(census_finaljoin,geometry='geometry')"
   ]
  },
  {
   "cell_type": "code",
   "execution_count": null,
   "id": "b253d335",
   "metadata": {},
   "outputs": [],
   "source": [
    "gdf_2010.info()"
   ]
  },
  {
   "cell_type": "code",
   "execution_count": null,
   "id": "b5b61528",
   "metadata": {},
   "outputs": [],
   "source": [
    "gdf_2010= gdf_2010.drop(columns=['index_right'])\n",
    "gdf_2010"
   ]
  },
  {
   "cell_type": "code",
   "execution_count": null,
   "id": "5d65455c",
   "metadata": {},
   "outputs": [],
   "source": [
    "mergetest2=gpd.sjoin(gdf.to_crs('EPSG:4326'),gdf_2010.to_crs('EPSG:4326'),how='left')\n",
    "mergetest2"
   ]
  },
  {
   "cell_type": "code",
   "execution_count": null,
   "id": "5d23c8cc",
   "metadata": {},
   "outputs": [],
   "source": [
    "census_finaljoin.info()"
   ]
  },
  {
   "cell_type": "code",
   "execution_count": null,
   "id": "e59bcf21",
   "metadata": {},
   "outputs": [],
   "source": [
    "gdf.columns"
   ]
  },
  {
   "cell_type": "code",
   "execution_count": null,
   "id": "3fdf59b6",
   "metadata": {},
   "outputs": [],
   "source": [
    "#change to geodataframe\n",
    "import geopandas as gpd\n",
    "gdf=gpd.GeoDataFrame(census_finaljoin,geometry='geometry')"
   ]
  },
  {
   "cell_type": "code",
   "execution_count": null,
   "id": "f68c06f6",
   "metadata": {},
   "outputs": [],
   "source": [
    "#map\n",
    "import contextily as ctx\n",
    "import matplotlib.pyplot as plt\n",
    "fig, ax = plt.subplots(figsize=(10,10))\n",
    "gdf.to_crs('EPSG:3857').plot('pct_change_wo_inflation',\n",
    "                             markersize=0.001, \n",
    "                             ax=ax, legend=True)\n",
    "#ax.set_ylim([3.98e6,4.14e6])\n",
    "ctx.add_basemap(ax=ax)    \n",
    "#ax.set_xticks([])\n",
    "#ax.set_yticks([])\n",
    "ax.set_title('land value pct_change_without_inflation', fontsize=20 )"
   ]
  },
  {
   "cell_type": "code",
   "execution_count": null,
   "id": "bf346295",
   "metadata": {},
   "outputs": [],
   "source": [
    "gdf.pct_change_w_inflation.max()"
   ]
  },
  {
   "cell_type": "code",
   "execution_count": null,
   "id": "67ed7f9e",
   "metadata": {},
   "outputs": [],
   "source": [
    "gdf.pct_change_w_inflation.min()"
   ]
  },
  {
   "cell_type": "code",
   "execution_count": null,
   "id": "1c9b9c82",
   "metadata": {},
   "outputs": [],
   "source": [
    "gdf.pct_change_w_inflation.median()"
   ]
  },
  {
   "cell_type": "code",
   "execution_count": null,
   "id": "ab0c324e",
   "metadata": {},
   "outputs": [],
   "source": [
    "#map\n",
    "#natural break\n",
    "import contextily as ctx\n",
    "import matplotlib.pyplot as plt\n",
    "fig, ax = plt.subplots(figsize=(10,10))\n",
    "#gdf.to_crs('EPSG:3857').plot('pct_change_w_inflation',\n",
    "                             #markersize=0.001, \n",
    "                             #ax=ax, legend=True)\n",
    "        \n",
    "gdf.to_crs('EPSG:3857').plot(figsize=(12,12),\n",
    "            column='pct_change_w_inflation', \n",
    "            cmap='RdYlGn_r', \n",
    "            scheme='NaturalBreaks', # to use custom breaks\n",
    "            #classification_kwds={'bins':[-1,50,]}, # define the breaks here\n",
    "            edgecolor='white', \n",
    "            linewidth=0.1, \n",
    "            legend=True,\n",
    "            ax=ax\n",
    "           )\n",
    "\n",
    "#ax.set_ylim([3.98e6,4.14e6])\n",
    "ctx.add_basemap(ax=ax)    \n",
    "#ax.set_xticks([])\n",
    "#ax.set_yticks([])\n",
    "ax.set_title('land value pct_change_with_inflation', fontsize=20 )"
   ]
  },
  {
   "cell_type": "code",
   "execution_count": null,
   "id": "97bc3c85",
   "metadata": {},
   "outputs": [],
   "source": [
    "#equal interval\n",
    "import contextily as ctx\n",
    "import matplotlib.pyplot as plt\n",
    "fig, ax = plt.subplots(figsize=(10,10))\n",
    "#gdf.to_crs('EPSG:3857').plot('pct_change_w_inflation',\n",
    "                             #markersize=0.001, \n",
    "                             #ax=ax, legend=True)\n",
    "        \n",
    "gdf.to_crs('EPSG:3857').plot(figsize=(12,12),\n",
    "            column='pct_change_w_inflation', \n",
    "            cmap='RdYlGn_r', \n",
    "            scheme='equal_interval', # to use custom breaks\n",
    "            #classification_kwds={'bins':[-1,50,]}, # define the breaks here\n",
    "            edgecolor='white', \n",
    "            linewidth=0.1, \n",
    "            legend=True,\n",
    "            ax=ax\n",
    "           )\n",
    "\n",
    "#ax.set_ylim([3.98e6,4.14e6])\n",
    "ctx.add_basemap(ax=ax)    \n",
    "#ax.set_xticks([])\n",
    "#ax.set_yticks([])\n",
    "ax.set_title('land value pct_change_with_inflation', fontsize=20 )"
   ]
  },
  {
   "cell_type": "code",
   "execution_count": null,
   "id": "376949df",
   "metadata": {},
   "outputs": [],
   "source": [
    "#quantiles\n",
    "import contextily as ctx\n",
    "import matplotlib.pyplot as plt\n",
    "fig, ax = plt.subplots(figsize=(10,10))\n",
    "#gdf.to_crs('EPSG:3857').plot('pct_change_w_inflation',\n",
    "                             #markersize=0.001, \n",
    "                             #ax=ax, legend=True)\n",
    "        \n",
    "gdf.to_crs('EPSG:3857').plot(figsize=(12,12),\n",
    "            column='pct_change_w_inflation', \n",
    "            cmap='RdYlGn_r', \n",
    "            scheme='quantiles', # to use custom breaks\n",
    "            #classification_kwds={'bins':[-1,50,]}, # define the breaks here\n",
    "            edgecolor='white', \n",
    "            linewidth=0.1, \n",
    "            legend=True,\n",
    "            ax=ax\n",
    "           )\n",
    "\n",
    "#ax.set_ylim([3.98e6,4.14e6])\n",
    "ctx.add_basemap(ax=ax)    \n",
    "#ax.set_xticks([])\n",
    "#ax.set_yticks([])\n",
    "ax.set_title('land value pct_change_with_inflation', fontsize=20 )"
   ]
  },
  {
   "cell_type": "code",
   "execution_count": null,
   "id": "6faf4ec8",
   "metadata": {
    "scrolled": false
   },
   "outputs": [],
   "source": [
    "#map\n",
    "#natural break\n",
    "import contextily as ctx\n",
    "import matplotlib.pyplot as plt\n",
    "fig, ax = plt.subplots(figsize=(10,10))\n",
    "#gdf.to_crs('EPSG:3857').plot('pct_change_w_inflation',\n",
    "                             #markersize=0.001, \n",
    "                             #ax=ax, legend=True)\n",
    "        \n",
    "gdf.to_crs('EPSG:3857').plot(figsize=(12,12),\n",
    "            column='pct_change_w_inflation', \n",
    "            cmap='RdYlGn_r', \n",
    "            scheme='user_defined', # to use custom breaks\n",
    "            classification_kwds={'bins':[-1,-0.5,0,0.5,1,2,5,10,20,30,40,50]}, # define the breaks here\n",
    "            edgecolor='white', \n",
    "            linewidth=0.1, \n",
    "            legend=True,\n",
    "            ax=ax\n",
    "           )\n",
    "\n",
    "#ax.set_ylim([3.98e6,4.14e6])\n",
    "ctx.add_basemap(ax=ax)    \n",
    "#ax.set_xticks([])\n",
    "#ax.set_yticks([])\n",
    "ax.set_title('land value pct_change_with_inflation', fontsize=20 )"
   ]
  },
  {
   "cell_type": "code",
   "execution_count": null,
   "id": "ae32ec67",
   "metadata": {
    "scrolled": true
   },
   "outputs": [],
   "source": [
    "from matplotlib import pyplot as plt\n",
    "import numpy as np\n",
    "\n",
    "xa = np.linspace(0, 5, 20)\n",
    "\n",
    "fig, ax = plt.subplots(figsize=(10,10))\n",
    "#gdf.to_crs('EPSG:3857').plot('pct_change_w_inflation',\n",
    "                             #markersize=0.001, \n",
    "                             #ax=ax, legend=True)\n",
    "        \n",
    "gdf.to_crs('EPSG:3857').plot(figsize=(12,12),\n",
    "            column='pct_change_w_inflation', \n",
    "            cmap='RdYlGn_r', \n",
    "            scheme='NaturalBreaks', # to use custom breaks\n",
    "            #classification_kwds={'bins':[-1,50,]}, # define the breaks here\n",
    "            edgecolor='white', \n",
    "            linewidth=0.1, \n",
    "            legend=True,\n",
    "            ax=ax\n",
    "           )\n",
    "nb=xa**2\n",
    "nb.to_crs('EPSG:3857').plot('name',\n",
    "                           color='lightcoral', linewidth=4, linestyle=':', \n",
    "                            ax=ax)\n",
    "\n",
    "#ax.set_ylim([3.98e6,4.14e6])\n",
    "ctx.add_basemap(ax=ax)    \n",
    "#ax.set_xticks([])\n",
    "#ax.set_yticks([])\n",
    "ax.set_title('land value pct_change_with_inflation', fontsize=20 )"
   ]
  },
  {
   "cell_type": "code",
   "execution_count": null,
   "id": "3ccd1ea8",
   "metadata": {
    "scrolled": false
   },
   "outputs": [],
   "source": [
    "m = folium.Map(zoom_start=10,\n",
    "              location=[34.052235, -118.243683])\n",
    "folium.Choropleth(\n",
    "    geo_data='/Users/pearlliu100/Documents/GitHub/UDS-Project--Full-Team-/landvalue_pctchange.geojson',\n",
    "    name='pct_change_w_inflation',\n",
    "    data=gdf,\n",
    "    popup=gdf.pct_change_w_inflation,\n",
    "    columns=['CT20', 'pct_change_w_inflation'],\n",
    "    fill_color='YlGn',\n",
    "    key_on='feature.properties.CT20',\n",
    "    fill_opacity=0.7,\n",
    "    line_opacity=0.2,\n",
    "    legend_name='pct_change_w_inflation'\n",
    ").add_to(m)\n",
    "\n",
    "m"
   ]
  },
  {
   "cell_type": "code",
   "execution_count": null,
   "id": "1adaa6b5",
   "metadata": {},
   "outputs": [],
   "source": [
    "for index, row in nb.iterrows():\n",
    "    # add folium marker code\n",
    "    folium.Marker([row.LAT, row.LONG], popup=row.name, tooltip=row.STATION).add_to(m)\n",
    "m"
   ]
  },
  {
   "cell_type": "code",
   "execution_count": null,
   "id": "a1de95eb",
   "metadata": {},
   "outputs": [],
   "source": [
    "folium.Choropleth(\n",
    "    geo_data=gdf,\n",
    "    name='pct_change_w_inflation',\n",
    "    data=gdf,\n",
    "    popup=gdf.pct_change_w_inflation,\n",
    "    columns=['CT20', 'pct_change_w_inflation'],\n",
    "    fill_color='YlGn',\n",
    "    key_on='feature.properties.CT20',\n",
    "    fill_opacity=0.7,\n",
    "    line_opacity=0.2,\n",
    "    legend_name='pct_change_w_inflation'\n",
    ").add_to(m)\n",
    "\n",
    "# show the map\n",
    "m"
   ]
  },
  {
   "cell_type": "code",
   "execution_count": null,
   "id": "06902192",
   "metadata": {
    "scrolled": true
   },
   "outputs": [],
   "source": [
    "m =folium.Map(location=[34.051850, -118.243322], tiles=None) #Center map on LA County\n",
    "\n",
    "#Adding basemap\n",
    "folium.raster_layers.TileLayer(\n",
    "    location=[34.051850, -118.243322],\n",
    "    tiles='https://api.mapbox.com/styles/v1/jinglan9803/ckvb8q3fa8ocm15s2h2chib9k/tiles/256/{z}/{x}/{y}@2x?access_token=pk.eyJ1IjoiamluZ2xhbjk4MDMiLCJhIjoiY2wzd2w2eGRhMGhkZjNpcnF5ZWtocHZrciJ9.iJrdUieRYeaerd-cqJLNzw',\n",
    "    attr='Mapbox',\n",
    "    API_key='pk.eyJ1IjoiamluZ2xhbjk4MDMiLCJhIjoiY2wzd2wyeDZyMTR2ZDNpcDQ1a3RvN2FnaCJ9.HaceX4lYSqLYsUpUQE9X_Q',\n",
    "    name='Monochrome',\n",
    "    zoom_start=9  # Limited levels of zoom for free Mapbox tiles.\n",
    ").add_to(m)\n",
    "\n",
    "#Chloropleth\n",
    "folium.Choropleth(\n",
    "    geo_data=gdf,\n",
    "    name='pct_change_w_inflation',\n",
    "    data=gdf,\n",
    "    popup=gdf.pct_change_w_inflation,\n",
    "    columns=['CT20', 'pct_change_w_inflation'],\n",
    "    fill_color='YlGn',\n",
    "    key_on='feature.properties.CT20',\n",
    "    fill_opacity=0.7,\n",
    "    line_opacity=0.2,\n",
    "    legend_name='pct_change_w_inflation'\n",
    ").add_to(m)\n",
    "\n",
    "#second layer to add to map\n",
    "f2=folium.FeatureGroup(name='nb').add_to(m)\n",
    "\n",
    "\n",
    "\n",
    "#m.save('schoolsandstores.html')\n",
    "\n",
    "m"
   ]
  },
  {
   "cell_type": "code",
   "execution_count": null,
   "id": "a6269eb5",
   "metadata": {},
   "outputs": [],
   "source": [
    "import pandas as pd\n",
    "us_cities = pd.read_csv(\"https://raw.githubusercontent.com/plotly/datasets/master/us-cities-top-1k.csv\")\n",
    "\n",
    "import plotly.express as px\n",
    "\n",
    "fig = px.scatter_mapbox(us_cities, lat=\"lat\", lon=\"lon\", hover_name=\"City\", hover_data=[\"State\", \"Population\"],\n",
    "                        color_discrete_sequence=[\"fuchsia\"], zoom=3, height=300)\n",
    "fig.update_layout(mapbox_style=\"open-street-map\")\n",
    "fig.update_layout(margin={\"r\":0,\"t\":0,\"l\":0,\"b\":0})\n",
    "fig.show()"
   ]
  },
  {
   "cell_type": "code",
   "execution_count": null,
   "id": "084f9835",
   "metadata": {},
   "outputs": [],
   "source": [
    "#markers\n",
    "#for index, row in gdf_trimmed.iterrows():\n",
    "    #folium.Circle([row.latitude, row.longitude], popup=row.Name, tooltip=row.Name, color=\"purple\").add_to(f2)\n",
    "\n",
    "#f3=folium.FeatureGroup(name='Trader Joes Stores').add_to(m)\n",
    "\n",
    "for index, row in tj_trimmed.iterrows():\n",
    "    folium.Circle([row.Latitude, row.Longitude], popup=row.Store_Chain, tooltip=row.Store_Chain,color=\"blue\").add_to(f3)\n",
    "\n",
    "f4=folium.FeatureGroup(name='Whole Foods Stores').add_to(m)\n",
    "\n",
    "for index, row in wf_trimmed.iterrows():\n",
    "    folium.Circle([row.Latitude, row.Longitude], popup=row.Store_Chain, tooltip=row.Store_Chain,color=\"green\").add_to(f4)\n",
    "\n",
    "f5=folium.FeatureGroup(name='Vons Stores').add_to(m)\n",
    "\n",
    "for index, row in vns_trimmed.iterrows():\n",
    "    folium.Circle([row.Latitude, row.Longitude], popup=row.Store_Chain, tooltip=row.Store_Chain,color=\"crimson\").add_to(f5)\n",
    "\n",
    "    \n",
    "folium.LayerControl(position='topright', collapsed=True, autoZIndex=True).add_to(m)"
   ]
  },
  {
   "cell_type": "code",
   "execution_count": null,
   "id": "65345ef1",
   "metadata": {},
   "outputs": [],
   "source": [
    "\n",
    "fig, ax = plt.subplots(figsize=(10,10))\n",
    "gdf_2010.to_crs('EPSG:3857').plot('neighborhood',\n",
    "                             #markersize=1, \n",
    "                             #ax=ax, legend=True)\n",
    "#ax.set_ylim([3.98e6,4.14e6])\n",
    "ctx.add_basemap(ax=ax)    \n",
    "#ax.set_xticks([])\n",
    "#ax.set_yticks([])\n",
    "\n",
    "nb.to_crs('EPSG:3857').plot('name',\n",
    "                           markersize=1, \n",
    "                            ax=ax, legend=True)\n",
    "\n",
    "ax.set_title('Neighborhood by Ain', fontsize=20 )\n"
   ]
  },
  {
   "cell_type": "code",
   "execution_count": null,
   "id": "ae5141ac",
   "metadata": {},
   "outputs": [],
   "source": []
  },
  {
   "cell_type": "code",
   "execution_count": null,
   "id": "5d2f7c5c",
   "metadata": {},
   "outputs": [],
   "source": [
    "#map\n",
    "import contextily as ctx\n",
    "import matplotlib.pyplot as plt\n",
    "fig, ax = plt.subplots(figsize=(20,20))\n",
    "nb.to_crs('EPSG:3857').plot('name',\n",
    "                             markersize=0.001, \n",
    "                             ax=ax, legend=True)\n",
    "#ax.set_ylim([3.98e6,4.14e6])\n",
    "ctx.add_basemap(ax=ax)    \n",
    "#ax.set_xticks([])\n",
    "#ax.set_yticks([])\n",
    "ax.set_title('nb', fontsize=40 )\n"
   ]
  },
  {
   "cell_type": "code",
   "execution_count": null,
   "id": "64e60c23",
   "metadata": {},
   "outputs": [],
   "source": []
  },
  {
   "cell_type": "code",
   "execution_count": null,
   "id": "2af1994b",
   "metadata": {},
   "outputs": [],
   "source": [
    "gdf_2010_sjoin.to_file('landvalue_2010_new.geojson', driver='GeoJSON')"
   ]
  }
 ],
 "metadata": {
  "kernelspec": {
   "display_name": "Python 3 (ipykernel)",
   "language": "python",
   "name": "python3"
  },
  "language_info": {
   "codemirror_mode": {
    "name": "ipython",
    "version": 3
   },
   "file_extension": ".py",
   "mimetype": "text/x-python",
   "name": "python",
   "nbconvert_exporter": "python",
   "pygments_lexer": "ipython3",
   "version": "3.8.13"
  }
 },
 "nbformat": 4,
 "nbformat_minor": 5
}
