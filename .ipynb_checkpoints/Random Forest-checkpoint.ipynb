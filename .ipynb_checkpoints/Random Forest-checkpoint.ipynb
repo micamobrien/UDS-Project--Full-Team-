{
 "cells": [
  {
   "cell_type": "code",
   "execution_count": null,
   "id": "f7e8a68f",
   "metadata": {},
   "outputs": [],
   "source": [
    "import pandas as pd\n",
    "import geopandas as gpd"
   ]
  },
  {
   "cell_type": "code",
   "execution_count": null,
   "id": "d07cd967",
   "metadata": {},
   "outputs": [],
   "source": [
    "#import landvalue dataset\n",
    "gdf_landvalue = gpd.read_file('/Users/jinglanlin/Desktop/School/01 UCLA/04 Spring 2022/UP 229 DS/Github/UDS-Project--Full-Team-/landvalue_pctchange.geojson')\n",
    "gdf_landvalue"
   ]
  },
  {
   "cell_type": "code",
   "execution_count": null,
   "id": "8c3d36bb",
   "metadata": {},
   "outputs": [],
   "source": [
    "#import other gentrification variables data\n",
    "gdf_variables = gpd.read_file('/Users/jinglanlin/Desktop/School/01 UCLA/04 Spring 2022/UP 229 DS/Github/UDS-Project--Full-Team-/Full_variable_list_5.30.22.geojson')\n",
    "gdf_variables"
   ]
  },
  {
   "cell_type": "code",
   "execution_count": null,
   "id": "fad97262",
   "metadata": {},
   "outputs": [],
   "source": [
    "gdf_variables = gdf_variables.drop(['Westlake'], axis=1)\n",
    "gdf_variables = gdf_variables.drop(['Pico-Union'], axis=1)\n",
    "gdf_variables = gdf_variables.drop(['Echo Park'], axis=1)\n",
    "gdf_variables = gdf_variables.drop(['Downtown'], axis=1)\n",
    "gdf_variables = gdf_variables.drop(['Silver Lake'], axis=1)\n",
    "gdf_variables = gdf_variables.drop(['Koreatown'], axis=1)\n",
    "gdf_variables"
   ]
  },
  {
   "cell_type": "code",
   "execution_count": null,
   "id": "cf1b8005",
   "metadata": {},
   "outputs": [],
   "source": [
    "joingdf=gpd.sjoin(gdf_landvalue.to_crs('EPSG:4326'),gdf_variables.to_crs('EPSG:4326'),how='left',predicate='intersects')\n",
    "joingdf"
   ]
  },
  {
   "cell_type": "code",
   "execution_count": null,
   "id": "57cfae1e",
   "metadata": {},
   "outputs": [],
   "source": []
  },
  {
   "cell_type": "code",
   "execution_count": null,
   "id": "322a1fa0",
   "metadata": {},
   "outputs": [],
   "source": []
  },
  {
   "cell_type": "code",
   "execution_count": null,
   "id": "d36ad828",
   "metadata": {},
   "outputs": [],
   "source": []
  },
  {
   "cell_type": "code",
   "execution_count": null,
   "id": "2e4ec66b",
   "metadata": {},
   "outputs": [],
   "source": []
  }
 ],
 "metadata": {
  "kernelspec": {
   "display_name": "Python 3 (ipykernel)",
   "language": "python",
   "name": "python3"
  },
  "language_info": {
   "codemirror_mode": {
    "name": "ipython",
    "version": 3
   },
   "file_extension": ".py",
   "mimetype": "text/x-python",
   "name": "python",
   "nbconvert_exporter": "python",
   "pygments_lexer": "ipython3",
   "version": "3.8.13"
  }
 },
 "nbformat": 4,
 "nbformat_minor": 5
}
