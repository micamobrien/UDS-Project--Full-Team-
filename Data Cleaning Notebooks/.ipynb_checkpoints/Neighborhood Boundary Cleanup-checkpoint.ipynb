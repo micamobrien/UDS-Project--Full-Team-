{
 "cells": [
  {
   "cell_type": "markdown",
   "id": "dbf20096",
   "metadata": {},
   "source": [
    "In this notebook, we are tying to cleanup the Los Angeles neighborhood boundary data to the five neighborhoods that we want: Westlake, Koreatown,Pico Union, Echo Park, Silver Lake\n",
    "We hope to use this map to overlay with the other cleaned up dataset."
   ]
  },
  {
   "cell_type": "code",
   "execution_count": 2,
   "id": "24d5bd63",
   "metadata": {},
   "outputs": [],
   "source": [
    "import json\n",
    "import pandas as pd\n",
    "import geopandas as gpd"
   ]
  },
  {
   "cell_type": "code",
   "execution_count": 3,
   "id": "f1d2a3f6",
   "metadata": {},
   "outputs": [
    {
     "data": {
      "text/html": [
       "<div>\n",
       "<style scoped>\n",
       "    .dataframe tbody tr th:only-of-type {\n",
       "        vertical-align: middle;\n",
       "    }\n",
       "\n",
       "    .dataframe tbody tr th {\n",
       "        vertical-align: top;\n",
       "    }\n",
       "\n",
       "    .dataframe thead th {\n",
       "        text-align: right;\n",
       "    }\n",
       "</style>\n",
       "<table border=\"1\" class=\"dataframe\">\n",
       "  <thead>\n",
       "    <tr style=\"text-align: right;\">\n",
       "      <th></th>\n",
       "      <th>OBJECTID</th>\n",
       "      <th>name</th>\n",
       "      <th>geometry</th>\n",
       "    </tr>\n",
       "  </thead>\n",
       "  <tbody>\n",
       "    <tr>\n",
       "      <th>0</th>\n",
       "      <td>1</td>\n",
       "      <td>Adams-Normandie</td>\n",
       "      <td>POLYGON ((-118.30069 34.03731, -118.30388 34.0...</td>\n",
       "    </tr>\n",
       "    <tr>\n",
       "      <th>1</th>\n",
       "      <td>2</td>\n",
       "      <td>Arleta</td>\n",
       "      <td>POLYGON ((-118.44255 34.26412, -118.44240 34.2...</td>\n",
       "    </tr>\n",
       "    <tr>\n",
       "      <th>2</th>\n",
       "      <td>3</td>\n",
       "      <td>Arlington Heights</td>\n",
       "      <td>POLYGON ((-118.31862 34.05306, -118.31673 34.0...</td>\n",
       "    </tr>\n",
       "    <tr>\n",
       "      <th>3</th>\n",
       "      <td>4</td>\n",
       "      <td>Atwater Village</td>\n",
       "      <td>MULTIPOLYGON (((-118.27886 34.15321, -118.2788...</td>\n",
       "    </tr>\n",
       "    <tr>\n",
       "      <th>4</th>\n",
       "      <td>5</td>\n",
       "      <td>Baldwin Hills/Crenshaw</td>\n",
       "      <td>POLYGON ((-118.36102 34.02532, -118.36026 34.0...</td>\n",
       "    </tr>\n",
       "  </tbody>\n",
       "</table>\n",
       "</div>"
      ],
      "text/plain": [
       "   OBJECTID                    name  \\\n",
       "0         1         Adams-Normandie   \n",
       "1         2                  Arleta   \n",
       "2         3       Arlington Heights   \n",
       "3         4         Atwater Village   \n",
       "4         5  Baldwin Hills/Crenshaw   \n",
       "\n",
       "                                            geometry  \n",
       "0  POLYGON ((-118.30069 34.03731, -118.30388 34.0...  \n",
       "1  POLYGON ((-118.44255 34.26412, -118.44240 34.2...  \n",
       "2  POLYGON ((-118.31862 34.05306, -118.31673 34.0...  \n",
       "3  MULTIPOLYGON (((-118.27886 34.15321, -118.2788...  \n",
       "4  POLYGON ((-118.36102 34.02532, -118.36026 34.0...  "
      ]
     },
     "execution_count": 3,
     "metadata": {},
     "output_type": "execute_result"
    }
   ],
   "source": [
    "nb = gpd.read_file('/Users/pearlliu100/Documents/GitHub/UDS-Project--Full-Team-/Data/LA_Times_Neighborhood_Boundaries (1)-Copy1.geojson')\n",
    "nb.head()"
   ]
  },
  {
   "cell_type": "code",
   "execution_count": 4,
   "id": "9267e0c0",
   "metadata": {},
   "outputs": [],
   "source": [
    "#subset to the neighborhoods we wan\n",
    "wl=nb[nb['name']=='Westlake']\n",
    "kt=nb[nb['name']=='Koreatown']\n",
    "pu=nb[nb['name']=='Pico-Union']\n",
    "sl=nb[nb['name']=='Silver Lake']\n",
    "ep=nb[nb['name']=='Echo Park']"
   ]
  },
  {
   "cell_type": "code",
   "execution_count": 5,
   "id": "1d0e6c88",
   "metadata": {},
   "outputs": [
    {
     "data": {
      "text/html": [
       "<div>\n",
       "<style scoped>\n",
       "    .dataframe tbody tr th:only-of-type {\n",
       "        vertical-align: middle;\n",
       "    }\n",
       "\n",
       "    .dataframe tbody tr th {\n",
       "        vertical-align: top;\n",
       "    }\n",
       "\n",
       "    .dataframe thead th {\n",
       "        text-align: right;\n",
       "    }\n",
       "</style>\n",
       "<table border=\"1\" class=\"dataframe\">\n",
       "  <thead>\n",
       "    <tr style=\"text-align: right;\">\n",
       "      <th></th>\n",
       "      <th>OBJECTID</th>\n",
       "      <th>name</th>\n",
       "      <th>geometry</th>\n",
       "    </tr>\n",
       "  </thead>\n",
       "  <tbody>\n",
       "    <tr>\n",
       "      <th>0</th>\n",
       "      <td>107</td>\n",
       "      <td>Westlake</td>\n",
       "      <td>POLYGON ((-118.25908 34.05389, -118.25984 34.0...</td>\n",
       "    </tr>\n",
       "    <tr>\n",
       "      <th>1</th>\n",
       "      <td>53</td>\n",
       "      <td>Koreatown</td>\n",
       "      <td>POLYGON ((-118.28785 34.06182, -118.28783 34.0...</td>\n",
       "    </tr>\n",
       "    <tr>\n",
       "      <th>2</th>\n",
       "      <td>74</td>\n",
       "      <td>Pico-Union</td>\n",
       "      <td>POLYGON ((-118.28146 34.05250, -118.28094 34.0...</td>\n",
       "    </tr>\n",
       "    <tr>\n",
       "      <th>3</th>\n",
       "      <td>85</td>\n",
       "      <td>Silver Lake</td>\n",
       "      <td>POLYGON ((-118.26484 34.11282, -118.26354 34.1...</td>\n",
       "    </tr>\n",
       "    <tr>\n",
       "      <th>4</th>\n",
       "      <td>27</td>\n",
       "      <td>Echo Park</td>\n",
       "      <td>POLYGON ((-118.24487 34.09569, -118.24454 34.0...</td>\n",
       "    </tr>\n",
       "  </tbody>\n",
       "</table>\n",
       "</div>"
      ],
      "text/plain": [
       "   OBJECTID         name                                           geometry\n",
       "0       107     Westlake  POLYGON ((-118.25908 34.05389, -118.25984 34.0...\n",
       "1        53    Koreatown  POLYGON ((-118.28785 34.06182, -118.28783 34.0...\n",
       "2        74   Pico-Union  POLYGON ((-118.28146 34.05250, -118.28094 34.0...\n",
       "3        85  Silver Lake  POLYGON ((-118.26484 34.11282, -118.26354 34.1...\n",
       "4        27    Echo Park  POLYGON ((-118.24487 34.09569, -118.24454 34.0..."
      ]
     },
     "execution_count": 5,
     "metadata": {},
     "output_type": "execute_result"
    }
   ],
   "source": [
    "#create a geodataframe with only the five neighborhoods\n",
    "join1 = pd.concat([wl, kt], axis=0).reset_index(drop=True)\n",
    "join2= pd.concat([join1, pu], axis=0).reset_index(drop=True)\n",
    "join3= pd.concat([join2, sl], axis=0).reset_index(drop=True)\n",
    "neighborhood_keep= pd.concat([join3, ep], axis=0).reset_index(drop=True)\n",
    "neighborhood_keep"
   ]
  },
  {
   "cell_type": "code",
   "execution_count": 6,
   "id": "6e8a3390",
   "metadata": {},
   "outputs": [
    {
     "name": "stdout",
     "output_type": "stream",
     "text": [
      "<class 'geopandas.geodataframe.GeoDataFrame'>\n",
      "RangeIndex: 5 entries, 0 to 4\n",
      "Data columns (total 3 columns):\n",
      " #   Column    Non-Null Count  Dtype   \n",
      "---  ------    --------------  -----   \n",
      " 0   OBJECTID  5 non-null      int64   \n",
      " 1   name      5 non-null      object  \n",
      " 2   geometry  5 non-null      geometry\n",
      "dtypes: geometry(1), int64(1), object(1)\n",
      "memory usage: 248.0+ bytes\n"
     ]
    }
   ],
   "source": [
    "neighborhood_keep.info()"
   ]
  },
  {
   "cell_type": "code",
   "execution_count": 7,
   "id": "9e41e62f",
   "metadata": {},
   "outputs": [
    {
     "name": "stderr",
     "output_type": "stream",
     "text": [
      "/Users/pearlliu100/opt/anaconda3/envs/uds/lib/python3.8/site-packages/geopandas/io/file.py:362: FutureWarning: pandas.Int64Index is deprecated and will be removed from pandas in a future version. Use pandas.Index with the appropriate dtype instead.\n",
      "  pd.Int64Index,\n"
     ]
    }
   ],
   "source": [
    "#save the dataframe to github as \"five_neighborhood.geojson\"\n",
    "neighborhood_keep.to_file('five_neighborhood.geojson', driver='GeoJSON')\n",
    "\n"
   ]
  },
  {
   "cell_type": "code",
   "execution_count": null,
   "id": "d8229599",
   "metadata": {},
   "outputs": [],
   "source": []
  }
 ],
 "metadata": {
  "kernelspec": {
   "display_name": "Python 3 (ipykernel)",
   "language": "python",
   "name": "python3"
  },
  "language_info": {
   "codemirror_mode": {
    "name": "ipython",
    "version": 3
   },
   "file_extension": ".py",
   "mimetype": "text/x-python",
   "name": "python",
   "nbconvert_exporter": "python",
   "pygments_lexer": "ipython3",
   "version": "3.8.13"
  }
 },
 "nbformat": 4,
 "nbformat_minor": 5
}
