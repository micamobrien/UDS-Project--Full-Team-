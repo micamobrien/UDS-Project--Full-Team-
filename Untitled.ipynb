{
 "cells": [
  {
   "cell_type": "code",
   "execution_count": 12,
   "id": "937a1eeb",
   "metadata": {},
   "outputs": [],
   "source": [
    "import requests\n",
    "import json\n",
    "import geopandas as gpd\n",
    "import pandas as pd"
   ]
  },
  {
   "cell_type": "code",
   "execution_count": 14,
   "id": "44daefb6",
   "metadata": {},
   "outputs": [
    {
     "ename": "SyntaxError",
     "evalue": "invalid syntax (1025108005.py, line 2)",
     "output_type": "error",
     "traceback": [
      "\u001b[0;36m  Input \u001b[0;32mIn [14]\u001b[0;36m\u001b[0m\n\u001b[0;31m    url = 'https://data.lacounty.gov/resource/rjze-ndj2.json?$where=within_circle(location, 'MULTIPOLYGON (((-118.2484 34.1037,-118.2455 34.0054,-118.2062 34.0545,-188.3351 34.0633)))'\u001b[0m\n\u001b[0m                                                                                             ^\u001b[0m\n\u001b[0;31mSyntaxError\u001b[0m\u001b[0;31m:\u001b[0m invalid syntax\n"
     ]
    }
   ],
   "source": [
    "#MULTIPOLYGON ((34.1037 -118.2484, 34.0054 -118.2455, 34.0545 -118.2062, 34.0633 -188.3351))\n",
    "url = 'https://data.lacounty.gov/resource/rjze-ndj2.json?$where=within_circle(location, 'MULTIPOLYGON (((-118.2484 34.1037,-118.2455 34.0054,-118.2062 34.0545,-188.3351 34.0633)))'\n",
    "r = requests.get(url)\n",
    "parcel = pd.DataFrame(json.loads(r.text))\n",
    "parcel"
   ]
  },
  {
   "cell_type": "code",
   "execution_count": null,
   "id": "15d42153",
   "metadata": {},
   "outputs": [],
   "source": [
    "WHERE (salary > 10000) AND (salary <= 20000) ORDER BY age DESC, name ASC"
   ]
  },
  {
   "cell_type": "code",
   "execution_count": 38,
   "id": "0e3ade93",
   "metadata": {},
   "outputs": [
    {
     "data": {
      "text/html": [
       "<div>\n",
       "<style scoped>\n",
       "    .dataframe tbody tr th:only-of-type {\n",
       "        vertical-align: middle;\n",
       "    }\n",
       "\n",
       "    .dataframe tbody tr th {\n",
       "        vertical-align: top;\n",
       "    }\n",
       "\n",
       "    .dataframe thead th {\n",
       "        text-align: right;\n",
       "    }\n",
       "</style>\n",
       "<table border=\"1\" class=\"dataframe\">\n",
       "  <thead>\n",
       "    <tr style=\"text-align: right;\">\n",
       "      <th></th>\n",
       "      <th>message</th>\n",
       "      <th>errorCode</th>\n",
       "      <th>data</th>\n",
       "    </tr>\n",
       "  </thead>\n",
       "  <tbody>\n",
       "    <tr>\n",
       "      <th>source</th>\n",
       "      <td>Query coordinator error: 400; ERROR: invalid i...</td>\n",
       "      <td>400</td>\n",
       "      <td>soql-server</td>\n",
       "    </tr>\n",
       "  </tbody>\n",
       "</table>\n",
       "</div>"
      ],
      "text/plain": [
       "                                                  message errorCode  \\\n",
       "source  Query coordinator error: 400; ERROR: invalid i...       400   \n",
       "\n",
       "               data  \n",
       "source  soql-server  "
      ]
     },
     "execution_count": 38,
     "metadata": {},
     "output_type": "execute_result"
    }
   ],
   "source": [
    "url = 'https://data.lacounty.gov/resource/rjze-ndj2.json?$where=ain::number > 3080028029&$limit=10000'\n",
    "r = requests.get(url)\n",
    "parcel = pd.DataFrame(json.loads(r.text))\n",
    "parcel"
   ]
  },
  {
   "cell_type": "code",
   "execution_count": null,
   "id": "d7d1bc7b",
   "metadata": {},
   "outputs": [],
   "source": []
  }
 ],
 "metadata": {
  "kernelspec": {
   "display_name": "Python 3 (ipykernel)",
   "language": "python",
   "name": "python3"
  },
  "language_info": {
   "codemirror_mode": {
    "name": "ipython",
    "version": 3
   },
   "file_extension": ".py",
   "mimetype": "text/x-python",
   "name": "python",
   "nbconvert_exporter": "python",
   "pygments_lexer": "ipython3",
   "version": "3.8.13"
  }
 },
 "nbformat": 4,
 "nbformat_minor": 5
}
